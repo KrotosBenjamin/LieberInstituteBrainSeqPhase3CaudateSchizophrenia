{
 "cells": [
  {
   "cell_type": "markdown",
   "metadata": {},
   "source": [
    "# Analyze the effect of antipsychotics on gene expression"
   ]
  },
  {
   "cell_type": "code",
   "execution_count": null,
   "metadata": {},
   "outputs": [],
   "source": [
    "library(tidyverse)\n",
    "library(ggpubr)"
   ]
  },
  {
   "cell_type": "markdown",
   "metadata": {},
   "source": [
    "## Functions"
   ]
  },
  {
   "cell_type": "code",
   "execution_count": null,
   "metadata": {},
   "outputs": [],
   "source": [
    "save_img <- function(image, fn, w, h){\n",
    "    for(ext in c(\".svg\", \".pdf\", \".png\")){\n",
    "        ggsave(file=paste0(fn, ext), plot=image, width=w, height=h)\n",
    "    }\n",
    "}\n",
    "\n",
    "get_pheno <- function(){\n",
    "    phenotypes <- data.table::fread(paste0(\"/ceph/projects/v4_phase3_paper/inputs/\",\n",
    "                                           \"phenotypes/_m/merged_phenotypes.csv\")) %>% \n",
    "        mutate_if(is.character, as.factor)\n",
    "    return(phenotypes)\n",
    "}\n",
    "\n",
    "memPHENO <- memoise::memoise(get_pheno)"
   ]
  },
  {
   "cell_type": "code",
   "execution_count": null,
   "metadata": {},
   "outputs": [],
   "source": [
    "pca_select <- function(norm_df){\n",
    "    ### Dimensional reduction (PCA)\n",
    "    log2cpm = norm_df %>% column_to_rownames(\"V1\") %>% t\n",
    "    pca_df = prcomp(log2cpm, center=TRUE)$x\n",
    "    dt = pca_df %>% as.data.frame %>% rownames_to_column() %>% \n",
    "        pivot_longer(-rowname, names_to=\"PC\", values_to=\"PC_values\")\n",
    "    return(dt)\n",
    "}\n",
    "\n",
    "memPCA <- memoise::memoise(pca_select)"
   ]
  },
  {
   "cell_type": "markdown",
   "metadata": {},
   "source": [
    "## Normalized expression"
   ]
  },
  {
   "cell_type": "code",
   "execution_count": null,
   "metadata": {},
   "outputs": [],
   "source": [
    "memPHENO() %>% filter(Dx %in% c(\"CTL\", \"SZ\"), Age > 13, \n",
    "                      Region == \"Caudate\") %>% \n",
    "    group_by(Dx, antipsychotics) %>% summarize(N=n())"
   ]
  },
  {
   "cell_type": "code",
   "execution_count": null,
   "metadata": {},
   "outputs": [],
   "source": [
    "norm_df <- data.table::fread(\"../../main_plots/_m/caudate/normalized_expression.tsv\")\n",
    "norm_df[1:2, 1:5]"
   ]
  },
  {
   "cell_type": "code",
   "execution_count": null,
   "metadata": {},
   "outputs": [],
   "source": [
    "dt = memPCA(norm_df) %>% mutate_if(is.character, as.factor)\n",
    "dt %>% dim\n",
    "dt %>% head(2)"
   ]
  },
  {
   "cell_type": "code",
   "execution_count": null,
   "metadata": {},
   "outputs": [],
   "source": [
    "set.seed(20210723)\n",
    "bxp = dt %>% filter(PC %in% c(\"PC1\", \"PC2\", \"PC3\", \"PC4\", \"PC5\")) %>%\n",
    "    inner_join(memPHENO(), by=c(\"rowname\"=\"RNum\")) %>% drop_na() %>%\n",
    "    ggboxplot(x='antipsychotics', y=\"PC_values\", fill='antipsychotics', add='jitter', \n",
    "              palette=\"npg\", facet.by=\"PC\", legend='bottom', add.params=list(alpha=0.75),\n",
    "              panel.labs.font=list(face='bold'), ncol=5, ylim=c(-130, 130), \n",
    "              ggtheme=theme_pubr(base_size=20)) + \n",
    "        stat_compare_means(comparisons=list(c(\"TRUE\", \"FALSE\")), aes(label=..p.signif..), \n",
    "                           method=\"wilcox.test\") +\n",
    "        font(\"title\", color=\"black\", face=\"bold\") + font(\"xy.title\", face=\"bold\") + \n",
    "        font(\"legend.title\", face=\"bold\")\n",
    "save_img(bxp, paste0(\"boxplot_antipsychotics_normalized\"), w=12, h=4)\n",
    "print(bxp)"
   ]
  },
  {
   "cell_type": "code",
   "execution_count": null,
   "metadata": {},
   "outputs": [],
   "source": [
    "set.seed(20210723)\n",
    "bxp = dt %>% filter(PC %in% c(\"PC1\", \"PC2\", \"PC3\", \"PC4\", \"PC5\")) %>%\n",
    "    inner_join(memPHENO(), by=c(\"rowname\"=\"RNum\")) %>% drop_na() %>%\n",
    "    filter(Dx == \"SZ\") %>%\n",
    "    ggboxplot(x='antipsychotics', y=\"PC_values\", fill='antipsychotics', add='jitter', \n",
    "              palette=\"npg\", facet.by=\"PC\", legend='bottom', add.params=list(alpha=0.75),\n",
    "              panel.labs.font=list(face='bold'), ncol=5, ylim=c(-130, 130), \n",
    "              ggtheme=theme_pubr(base_size=20)) + \n",
    "    stat_compare_means(comparisons=list(c(\"TRUE\", \"FALSE\")), aes(label=..p.signif..), \n",
    "                       method=\"wilcox.test\") +\n",
    "    font(\"title\", color=\"black\", face=\"bold\") + font(\"xy.title\", face=\"bold\") + \n",
    "    font(\"legend.title\", face=\"bold\")\n",
    "save_img(bxp, paste0(\"boxplot_antipsychotics_normalized_szOnly\"), w=12, h=4)\n",
    "print(bxp)"
   ]
  },
  {
   "cell_type": "code",
   "execution_count": null,
   "metadata": {},
   "outputs": [],
   "source": [
    "set.seed(20210723)\n",
    "bxp = dt %>% filter(PC %in% c(\"PC1\", \"PC2\", \"PC3\", \"PC4\", \"PC5\")) %>%\n",
    "    inner_join(memPHENO(), by=c(\"rowname\"=\"RNum\")) %>% drop_na() %>%\n",
    "    ggboxplot(x='Dx', y=\"PC_values\", fill='Dx', add='jitter', \n",
    "              palette=\"npg\", facet.by=\"PC\", legend='bottom', add.params=list(alpha=0.75),\n",
    "              panel.labs.font=list(face='bold'), ncol=5, ylim=c(-130, 130), \n",
    "              ggtheme=theme_pubr(base_size=20)) + \n",
    "    stat_compare_means(comparisons=list(c(\"CTL\", \"SZ\")), aes(label=..p.signif..), \n",
    "                       method=\"wilcox.test\") +\n",
    "    font(\"title\", color=\"black\", face=\"bold\") + font(\"xy.title\", face=\"bold\") + \n",
    "    font(\"legend.title\", face=\"bold\")\n",
    "save_img(bxp, paste0(\"boxplot_dx_normalized\"), w=12, h=4)\n",
    "print(bxp)"
   ]
  },
  {
   "cell_type": "markdown",
   "metadata": {},
   "source": [
    "### Statistical test for all significant PCs for antipsychotics"
   ]
  },
  {
   "cell_type": "code",
   "execution_count": null,
   "metadata": {},
   "outputs": [],
   "source": [
    "antipsychotics = dt %>% inner_join(memPHENO(), by=c(\"rowname\"=\"RNum\")) %>% drop_na()\n",
    "pcs = c()\n",
    "pvals = c()\n",
    "for(pc in unique(antipsychotics$PC)){\n",
    "    flush.console()\n",
    "    dx = antipsychotics %>% filter(PC == pc)\n",
    "    res = wilcox.test(filter(dx, antipsychotics==\"TRUE\")$PC_values,\n",
    "                      filter(dx, antipsychotics==\"FALSE\")$PC_values)\n",
    "    if(res$p.value < 0.05){\n",
    "        pcs = c(pcs, pc)\n",
    "        pvals = c(pvals, res$p.value)\n",
    "    }\n",
    "}"
   ]
  },
  {
   "cell_type": "code",
   "execution_count": null,
   "metadata": {},
   "outputs": [],
   "source": [
    "pcs"
   ]
  },
  {
   "cell_type": "markdown",
   "metadata": {},
   "source": [
    "## Residualized"
   ]
  },
  {
   "cell_type": "code",
   "execution_count": null,
   "metadata": {},
   "outputs": [],
   "source": [
    "res_df <- data.table::fread(\"../../main_plots/_m/caudate/residualized_expression.tsv\")\n",
    "res_df[1:2, 1:5]"
   ]
  },
  {
   "cell_type": "code",
   "execution_count": null,
   "metadata": {},
   "outputs": [],
   "source": [
    "dt = memPCA(res_df) %>% mutate_if(is.character, as.factor)\n",
    "dt %>% dim\n",
    "dt %>% head(2)"
   ]
  },
  {
   "cell_type": "code",
   "execution_count": null,
   "metadata": {},
   "outputs": [],
   "source": [
    "set.seed(20210723)\n",
    "bxp = dt %>% filter(PC %in% c(\"PC1\", \"PC2\", \"PC3\", \"PC4\", \"PC5\")) %>%\n",
    "    inner_join(memPHENO(), by=c(\"rowname\"=\"RNum\")) %>% drop_na() %>%\n",
    "    ggboxplot(x='antipsychotics', y=\"PC_values\", fill='antipsychotics', add='jitter', \n",
    "              palette=\"npg\", facet.by=\"PC\", legend='bottom', add.params=list(alpha=0.75),\n",
    "              panel.labs.font=list(face='bold'), ncol=5, ylim=c(-130, 130), \n",
    "              ggtheme=theme_pubr(base_size=20)) + \n",
    "    stat_compare_means(comparisons=list(c(\"TRUE\", \"FALSE\")), aes(label=..p.signif..), \n",
    "                       method=\"wilcox.test\") +\n",
    "    font(\"title\", color=\"black\", face=\"bold\") + font(\"xy.title\", face=\"bold\") + \n",
    "    font(\"legend.title\", face=\"bold\")\n",
    "save_img(bxp, paste0(\"boxplot_antipsychotics_residualized\"), w=12, h=4)\n",
    "print(bxp)"
   ]
  },
  {
   "cell_type": "code",
   "execution_count": null,
   "metadata": {},
   "outputs": [],
   "source": [
    "set.seed(20210723)\n",
    "bxp = dt %>% filter(PC %in% c(\"PC1\", \"PC2\", \"PC3\", \"PC4\", \"PC5\")) %>%\n",
    "    inner_join(memPHENO(), by=c(\"rowname\"=\"RNum\")) %>% drop_na() %>%\n",
    "    filter(Dx == \"SZ\") %>%\n",
    "    ggboxplot(x='antipsychotics', y=\"PC_values\", fill='antipsychotics', add='jitter', \n",
    "              palette=\"npg\", facet.by=\"PC\", legend='bottom', add.params=list(alpha=0.75),\n",
    "              panel.labs.font=list(face='bold'), ncol=5, ylim=c(-130, 130), \n",
    "              ggtheme=theme_pubr(base_size=20)) + \n",
    "    stat_compare_means(comparisons=list(c(\"TRUE\", \"FALSE\")), aes(label=..p.signif..), \n",
    "                       method=\"wilcox.test\") +\n",
    "    font(\"title\", color=\"black\", face=\"bold\") + font(\"xy.title\", face=\"bold\") + \n",
    "    font(\"legend.title\", face=\"bold\")\n",
    "save_img(bxp, paste0(\"boxplot_antipsychotics_residualized_szOnly\"), w=12, h=4)\n",
    "print(bxp)"
   ]
  },
  {
   "cell_type": "code",
   "execution_count": null,
   "metadata": {},
   "outputs": [],
   "source": [
    "set.seed(20210723)\n",
    "bxp = dt %>% filter(PC %in% c(\"PC1\", \"PC2\", \"PC3\", \"PC4\", \"PC5\")) %>%\n",
    "    inner_join(memPHENO(), by=c(\"rowname\"=\"RNum\")) %>% drop_na() %>%\n",
    "    ggboxplot(x='Dx', y=\"PC_values\", fill='Dx', add='jitter', \n",
    "              palette=\"npg\", facet.by=\"PC\", legend='bottom', add.params=list(alpha=0.75),\n",
    "              panel.labs.font=list(face='bold'), ncol=5, ylim=c(-130, 130), \n",
    "              ggtheme=theme_pubr(base_size=20)) + \n",
    "    stat_compare_means(comparisons=list(c(\"CTL\", \"SZ\")), aes(label=..p.signif..), \n",
    "                       method=\"wilcox.test\") +\n",
    "    font(\"title\", color=\"black\", face=\"bold\") + font(\"xy.title\", face=\"bold\") + \n",
    "    font(\"legend.title\", face=\"bold\")\n",
    "save_img(bxp, paste0(\"boxplot_dx_residualized\"), w=12, h=4)\n",
    "print(bxp)"
   ]
  },
  {
   "cell_type": "markdown",
   "metadata": {},
   "source": [
    "### Statistical test for all significant PCs for antipsychotics"
   ]
  },
  {
   "cell_type": "code",
   "execution_count": null,
   "metadata": {},
   "outputs": [],
   "source": [
    "antipsychotics = dt %>% inner_join(memPHENO(), by=c(\"rowname\"=\"RNum\")) %>% drop_na()\n",
    "pcs2 = c()\n",
    "pvals2 = c()\n",
    "for(pc in unique(antipsychotics$PC)){\n",
    "    flush.console()\n",
    "    dx = antipsychotics %>% filter(PC == pc)\n",
    "    res = wilcox.test(filter(dx, antipsychotics==\"TRUE\")$PC_values,\n",
    "                      filter(dx, antipsychotics==\"FALSE\")$PC_values)\n",
    "    if(res$p.value < 0.05){\n",
    "        pcs2 = c(pcs2, pc)\n",
    "        pvals2 = c(pvals2, res$p.value)\n",
    "    }\n",
    "}\n",
    "\n",
    "pcs2"
   ]
  },
  {
   "cell_type": "markdown",
   "metadata": {},
   "source": [
    "## Reproducibility Information"
   ]
  },
  {
   "cell_type": "code",
   "execution_count": null,
   "metadata": {},
   "outputs": [],
   "source": [
    "Sys.time()\n",
    "proc.time()\n",
    "options(width = 120)\n",
    "sessioninfo::session_info()"
   ]
  }
 ],
 "metadata": {
  "kernelspec": {
   "display_name": "R",
   "language": "R",
   "name": "ir"
  },
  "language_info": {
   "codemirror_mode": "r",
   "file_extension": ".r",
   "mimetype": "text/x-r-source",
   "name": "R",
   "pygments_lexer": "r",
   "version": "4.0.3"
  }
 },
 "nbformat": 4,
 "nbformat_minor": 4
}
