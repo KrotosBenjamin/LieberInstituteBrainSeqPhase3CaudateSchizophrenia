{
 "cells": [
  {
   "cell_type": "markdown",
   "metadata": {},
   "source": [
    "# Quality Control for the Caudate Nucleus"
   ]
  },
  {
   "cell_type": "code",
   "execution_count": null,
   "metadata": {},
   "outputs": [],
   "source": [
    "suppressMessages({library(repr)\n",
    "                  library(ggpubr)\n",
    "                  library(tidyverse)\n",
    "                  library(moderndive)})"
   ]
  },
  {
   "cell_type": "markdown",
   "metadata": {},
   "source": [
    "## Functions"
   ]
  },
  {
   "cell_type": "code",
   "execution_count": null,
   "metadata": {},
   "outputs": [],
   "source": [
    "save_img <- function(image, fn, w, h){\n",
    "    for(ext in c(\".svg\", \".pdf\", \".png\")){\n",
    "        ggsave(file=paste0(fn, ext), plot=image, width=w, height=h)\n",
    "    }\n",
    "}\n",
    "\n",
    "get_pheno <- function(){\n",
    "    phenotypes <- data.table::fread(paste0(\"/ceph/projects/v4_phase3_paper/inputs/\",\n",
    "                                           \"phenotypes/_m/merged_phenotypes.csv\")) %>% \n",
    "        mutate_if(is.character, as.factor)\n",
    "    return(phenotypes)\n",
    "}\n",
    "\n",
    "memPHENO <- memoise::memoise(get_pheno)"
   ]
  },
  {
   "cell_type": "markdown",
   "metadata": {},
   "source": [
    "## Covariates exmination"
   ]
  },
  {
   "cell_type": "markdown",
   "metadata": {},
   "source": [
    "### Examine if there are significant differences between diagnosis in continous covariates"
   ]
  },
  {
   "cell_type": "code",
   "execution_count": null,
   "metadata": {},
   "outputs": [],
   "source": [
    "covarsCont = memPHENO() %>%\n",
    "    select(-c('RNum', \"Race\", 'Sex', \"Dx\", 'Region', 'BrNum', \n",
    "              \"antipsychotics\", \"lifetime_antipsych\", \"Protocol\")) %>% colnames\n",
    "options(repr.plot.width=12, repr.plot.height=6)\n",
    "dir.create(\"covariate_plots\")\n",
    "for(covar in covarsCont){\n",
    "    flush.console()\n",
    "    bxp = memPHENO() %>% \n",
    "        filter(Age > 17, Race %in% c(\"AA\", \"EA\"), Dx %in% c(\"CTL\", \"SZ\")) %>%\n",
    "        ggboxplot(x='Dx', y=covar, fill='Dx', add='jitter', palette=\"npg\", \n",
    "                  facet.by=\"Region\", legend='bottom', \n",
    "                  panel.labs.font=list(face='bold', size=14),\n",
    "                  add.params=list(alpha=0.75)) + \n",
    "        stat_compare_means(comparisons=list(c(\"CTL\", \"SZ\")), \n",
    "                           aes(label=..p.signif..), method=\"wilcox.test\") +\n",
    "        font(\"title\", size=18, color=\"black\", face=\"bold\") + \n",
    "        font(\"xy.title\", size=16, face=\"bold\") + font(\"xy.text\", size=14) + \n",
    "        font(\"legend.text\", size=14) + font(\"legend.title\", size=16, face=\"bold\")\n",
    "    save_img(bxp, paste0(\"covariate_plots/boxplot_dx_filtered_\",covar), w=12, h=4)\n",
    "    print(bxp)\n",
    "    bxp = memPHENO() %>% \n",
    "        filter(Age > 17, Race %in% c(\"AA\", \"EA\"), Dx %in% c(\"CTL\", \"SZ\")) %>%\n",
    "        ggboxplot(x='antipsychotics', y=covar, color='Dx', add='jitter', \n",
    "                    palette=\"npg\", facet.by=\"Region\", legend='bottom') + \n",
    "        stat_compare_means(comparisons=list(c(\"TRUE\", \"FALSE\")), \n",
    "                           aes(label=..p.signif..), method=\"wilcox.test\") +\n",
    "        font(\"title\", size=18, color=\"black\", face=\"bold\") + \n",
    "        font(\"xy.title\", size=16, face=\"bold\") + font(\"xy.text\", size=14) + \n",
    "        font(\"legend.text\", size=14) + font(\"legend.title\", size=16, face=\"bold\")\n",
    "    save_img(bxp, paste0(\"covariate_plots/boxplot_dxBYantipsychotics_filtered_\",covar), \n",
    "             w=12, h=4)\n",
    "    print(bxp)\n",
    "    bxp = memPHENO() %>% \n",
    "        ggboxplot(x='Dx', y=covar, fill='Dx', add='jitter', palette=\"npg\", \n",
    "                  facet.by=\"Region\", legend='bottom', \n",
    "                  panel.labs.font=list(face='bold', size=14),\n",
    "                  add.params=list(alpha=0.75)) + \n",
    "        stat_compare_means(comparisons=list(c(\"CTL\", \"SZ\")), \n",
    "                           aes(label=..p.signif..), method=\"wilcox.test\") +\n",
    "        font(\"title\", size=18, color=\"black\", face=\"bold\") + \n",
    "        font(\"xy.title\", size=16, face=\"bold\") + font(\"xy.text\", size=14) + \n",
    "        font(\"legend.text\", size=14) + font(\"legend.title\", size=16, face=\"bold\")\n",
    "    print(bxp)\n",
    "    save_img(bxp, paste0(\"covariate_plots/boxplot_dx_all_\",covar), w=12, h=4)\n",
    "}"
   ]
  },
  {
   "cell_type": "markdown",
   "metadata": {},
   "source": [
    "## Examine gene expression relating to covariates"
   ]
  },
  {
   "cell_type": "markdown",
   "metadata": {},
   "source": [
    "### Load TPM (log2)"
   ]
  },
  {
   "cell_type": "code",
   "execution_count": null,
   "metadata": {},
   "outputs": [],
   "source": [
    "caudate = data.table::fread(\"/ceph/projects/v4_phase3_paper/inputs/counts/text_files_counts/tpm/_m/caudate/gene/log2tpm.csv\") %>% \n",
    "    column_to_rownames(var=\"names\") %>% t %>% as.data.frame \n",
    "dlpfc = data.table::fread(\"/ceph/projects/v4_phase3_paper/inputs/counts/text_files_counts/tpm/_m/dlpfc/gene/log2tpm.csv\") %>% \n",
    "    column_to_rownames(var=\"names\") %>% t %>% as.data.frame \n",
    "hippo = data.table::fread(\"/ceph/projects/v4_phase3_paper/inputs/counts/text_files_counts/tpm/_m/hippocampus/gene/log2tpm.csv\") %>% \n",
    "    column_to_rownames(var=\"names\") %>% t %>% as.data.frame "
   ]
  },
  {
   "cell_type": "markdown",
   "metadata": {},
   "source": [
    "### Dimensional reduction"
   ]
  },
  {
   "cell_type": "code",
   "execution_count": null,
   "metadata": {},
   "outputs": [],
   "source": [
    "pca_cc = prcomp(caudate, center = TRUE)$x\n",
    "pca_dd = prcomp(dlpfc, center = TRUE)$x\n",
    "pca_hh = prcomp(hippo, center = TRUE)$x"
   ]
  },
  {
   "cell_type": "markdown",
   "metadata": {},
   "source": [
    "### Merge tissues"
   ]
  },
  {
   "cell_type": "code",
   "execution_count": null,
   "metadata": {},
   "outputs": [],
   "source": [
    "dtc = pca_cc %>% as.data.frame %>% rownames_to_column() %>% \n",
    "    select(c(rowname, PC1, PC2, PC3, PC4, PC5)) %>% \n",
    "    pivot_longer(-rowname, names_to=\"PC\", values_to=\"PC_values\") %>% \n",
    "    mutate(tissue=\"Caudate\")\n",
    "dtd = pca_dd %>% as.data.frame %>% rownames_to_column() %>% \n",
    "    select(c(rowname, PC1, PC2, PC3, PC4, PC5)) %>% \n",
    "    pivot_longer(-rowname, names_to=\"PC\", values_to=\"PC_values\") %>% \n",
    "    mutate(tissue=\"DLPFC\")\n",
    "dth = pca_hh %>% as.data.frame %>% rownames_to_column() %>% \n",
    "    select(c(rowname, PC1, PC2, PC3, PC4, PC5)) %>% \n",
    "    pivot_longer(-rowname, names_to=\"PC\", values_to=\"PC_values\") %>% \n",
    "    mutate(tissue=\"Hippocampus\")\n",
    "dt = bind_rows(dtc, dtd, dth)"
   ]
  },
  {
   "cell_type": "markdown",
   "metadata": {},
   "source": [
    "### Plot scatters and correlations with covariates"
   ]
  },
  {
   "cell_type": "code",
   "execution_count": null,
   "metadata": {},
   "outputs": [],
   "source": [
    "colors = get_palette(palette = \"npg\", 3)\n",
    "colors"
   ]
  },
  {
   "cell_type": "code",
   "execution_count": null,
   "metadata": {},
   "outputs": [],
   "source": [
    "options(repr.plot.width=18, repr.plot.height=9)\n",
    "dir.create(\"pca_scatter\")\n",
    "for(covar in covarsCont){\n",
    "    flush.console()\n",
    "    sca1 = dt %>% inner_join(memPHENO(), by=c(\"rowname\"=\"RNum\")) %>% \n",
    "        ggscatter(y=\"PC_values\", x=covar, color=\"Dx\", palette=\"npg\",\n",
    "                  facet.by=c('tissue', 'PC'), ncol=5,\n",
    "                  add='reg.line', conf.int=TRUE, cor.coef=TRUE,\n",
    "                  add.params=list(color=\"blue\", fill=\"lightgray\"))\n",
    "    save_img(sca1, paste0(\"pca_scatter/scatter_log2tpm_dx_5pcs_\",covar), w=18, h=9)\n",
    "    print(sca1)\n",
    "    sca2 = dt %>% inner_join(memPHENO(), by=c(\"rowname\"=\"RNum\")) %>% \n",
    "        filter(antipsychotics == \"TRUE\", Dx == \"SZ\") %>%\n",
    "        ggscatter(y=\"PC_values\", x=covar, color=colors[2], facet.by=c('tissue', 'PC'), \n",
    "                  ncol=5, add='reg.line', conf.int=TRUE, cor.coef=TRUE,\n",
    "                  palette=\"npg\", add.params=list(color=\"blue\", fill=\"lightgray\"))\n",
    "    save_img(sca2, paste0(\"pca_scatter/scatter_log2tpm_AP_5pcs_\",covar), w=18, h=9)\n",
    "    print(sca2)\n",
    "    sca3 = dt %>% inner_join(memPHENO(), by=c(\"rowname\"=\"RNum\")) %>% \n",
    "        filter(antipsychotics == \"FALSE\", Dx == \"SZ\") %>%\n",
    "        ggscatter(y=\"PC_values\", x=covar, color=colors[1], facet.by=c('tissue', 'PC'), \n",
    "                  ncol=5, add='reg.line', conf.int=TRUE, cor.coef=TRUE,\n",
    "                  palette=\"npg\", add.params=list(color=\"blue\", fill=\"lightgray\"))\n",
    "    save_img(sca3, paste0(\"pca_scatter/scatter_log2tpm_noAP_5pcs_\",covar), w=18, h=9)\n",
    "    print(sca3)\n",
    "}"
   ]
  },
  {
   "cell_type": "code",
   "execution_count": null,
   "metadata": {},
   "outputs": [],
   "source": [
    "rm(caudate, dlpfc, dtc, dtd, dth, hippo)"
   ]
  },
  {
   "cell_type": "markdown",
   "metadata": {},
   "source": [
    "## Test covariates with Caudate"
   ]
  },
  {
   "cell_type": "code",
   "execution_count": null,
   "metadata": {},
   "outputs": [],
   "source": [
    "suppressMessages({library(SummarizedExperiment)\n",
    "                  library(limma)\n",
    "                  library(edgeR)\n",
    "                  library(sva)})\n",
    "\n",
    "# Function from jaffelab github\n",
    "merge_rse_metrics <- function(rse) {\n",
    "    stopifnot(is(rse, 'RangedSummarizedExperiment'))\n",
    "    stopifnot(\n",
    "        c('concordMapRate', 'overallMapRate', 'mitoRate', 'rRNA_rate',\n",
    "          'totalAssignedGene', 'numMapped', 'numReads', 'numUnmapped',\n",
    "          'mitoMapped', 'totalMapped') %in%\n",
    "            colnames(SummarizedExperiment::colData(rse))\n",
    "    )\n",
    "\n",
    "    stopifnot(all(sapply(c(\n",
    "        'concordMapRate', 'overallMapRate', 'mitoRate', 'rRNA_rate',\n",
    "        'totalAssignedGene', 'numMapped', 'numReads', 'numUnmapped',\n",
    "        'mitoMapped', 'totalMapped'), function(var) {\n",
    "            is(colData(rse)[, var], 'List')\n",
    "        })\n",
    "    ))\n",
    "\n",
    "    rse$concordMapRate = mapply(function(r, n) {\n",
    "        sum(r*n)/sum(n)\n",
    "    }, rse$concordMapRate, rse$numReads)\n",
    "    rse$overallMapRate = mapply(function(r, n) {\n",
    "        sum(r*n)/sum(n)\n",
    "    }, rse$overallMapRate, rse$numReads)\n",
    "    rse$mitoRate = mapply(function(r, n) {\n",
    "        sum(r*n)/sum(n)\n",
    "    }, rse$mitoRate, rse$numMapped)\n",
    "    rse$rRNA_rate = mapply(function(r, n) {\n",
    "        sum(r*n)/sum(n)\n",
    "    }, rse$rRNA_rate, rse$numMapped)\n",
    "    rse$totalAssignedGene = mapply(function(r, n) {\n",
    "        sum(r*n)/sum(n)\n",
    "    }, rse$totalAssignedGene, rse$numMapped)\n",
    "\n",
    "    rse$numMapped = sapply(rse$numMapped, sum)\n",
    "    rse$numReads = sapply(rse$numReads, sum)\n",
    "    rse$numUnmapped = sapply(rse$numUnmapped, sum)\n",
    "    rse$mitoMapped = sapply(rse$mitoMapped, sum)\n",
    "    rse$totalMapped = sapply(rse$totalMapped, sum)\n",
    "    return(rse)\n",
    "}"
   ]
  },
  {
   "cell_type": "code",
   "execution_count": null,
   "metadata": {},
   "outputs": [],
   "source": [
    "library(memoise)\n",
    "prep_data <- function(count_fn){\n",
    "    mds_file = \"/ceph/projects/v4_phase3_paper/inputs/genotypes/mds/_m/LIBD_Brain_TopMed.mds\"\n",
    "    mds = data.table::fread(mds_file) %>% \n",
    "        rename(\"C1\"=\"snpPC1\", \"C2\"=\"snpPC2\", \"C3\"=\"snpPC3\", \n",
    "               \"C4\"=\"snpPC4\", \"C5\"=\"snpPC5\") %>%\n",
    "        mutate_if(is.character, as.factor)\n",
    "    load(count_fn)\n",
    "    keepIndex = which((rse_gene$Dx %in% c(\"Control\", \"Schizo\")) & \n",
    "                      rse_gene$Age > 17 & rse_gene$Race %in% c(\"AA\", \"CAUC\"))\n",
    "    rse_gene = rse_gene[, keepIndex]\n",
    "    rse_gene$Dx = factor(rse_gene$Dx, levels = c(\"Control\", \"Schizo\"))\n",
    "    rse_gene$Sex <- factor(rse_gene$Sex)\n",
    "    rse_gene <- merge_rse_metrics(rse_gene)\n",
    "    rse_gene$ERCCsumLogErr <- mapply(function(r, n) {\n",
    "        sum(r * n)/sum(n)\n",
    "    }, rse_gene$ERCCsumLogErr, rse_gene$numReads)\n",
    "    colData(rse_gene)$RIN = sapply(colData(rse_gene)$RIN,\"[\",1)\n",
    "    pheno = colData(rse_gene) %>% as.data.frame %>% \n",
    "        inner_join(mds, by=c(\"BrNum\"=\"FID\")) %>% \n",
    "        distinct(RNum, .keep_all = TRUE) \n",
    "    # Generate DGE list\n",
    "    x <- DGEList(counts=assays(rse_gene)$counts[,pheno$RNum], \n",
    "                 genes=rowData(rse_gene), samples=pheno)\n",
    "    # Filter by expression\n",
    "    design0 <- model.matrix(~Dx, data=x$samples)\n",
    "    keep.x <- filterByExpr(x, design=design0)\n",
    "    x <- x[keep.x, , keep.lib.sizes=FALSE]\n",
    "    print(paste('There are:', sum(keep.x), 'features left!', sep=' '))\n",
    "    # Normalize library size\n",
    "    x <- calcNormFactors(x, method=\"TMM\")\n",
    "    return(x)\n",
    "}\n",
    "\n",
    "memo_prepData <- memoise(prep_data)\n",
    "\n",
    "qsv_model <- function(count_fn, qsv_file){\n",
    "    x <- memo_prepData(count_fn)\n",
    "    # Design matrix\n",
    "    mod = model.matrix(~Dx + Age + Sex + mitoRate + rRNA_rate + \n",
    "                       totalAssignedGene + RIN + overallMapRate + \n",
    "                       snpPC1 + snpPC2 + snpPC3, data = x$samples)\n",
    "    colnames(mod) <- gsub(\"Dx\", \"\", colnames(mod))\n",
    "    colnames(mod) <- gsub(\"SexM\", \"Male\", colnames(mod))\n",
    "    colnames(mod) <- gsub(\"\\\\(Intercept\\\\)\", \"Intercept\", colnames(mod))\n",
    "    # qSV\n",
    "    modQsva <- mod %>% as.data.frame %>% rownames_to_column() %>%\n",
    "        inner_join(data.table::fread(qsv_file), by=c(\"rowname\"=\"V1\")) %>% \n",
    "        rename_all(list(~str_replace_all(., 'PC', 'qPC'))) %>% \n",
    "        column_to_rownames(\"rowname\") %>% as.matrix\n",
    "    return(modQsva)\n",
    "}\n",
    "\n",
    "memo_qsvModel <- memoise(qsv_model)\n",
    "\n",
    "pca_select <- function(count_fn){\n",
    "    ### Dimensional reduction (PCA)\n",
    "    x <- memo_prepData(count_fn)\n",
    "    log2cpm = cpm(x, log=TRUE) %>% t\n",
    "    pca_df = prcomp(log2cpm, center=TRUE)$x\n",
    "    dt = pca_df %>% as.data.frame %>% rownames_to_column() %>% \n",
    "        select(c(rowname, PC1, PC2, PC3, PC4, PC5)) %>% \n",
    "        pivot_longer(-rowname, names_to=\"PC\", values_to=\"PC_values\")\n",
    "    return(dt)\n",
    "}\n",
    "\n",
    "memo_pcaSelect <- memoise(pca_select)\n",
    "\n",
    "save_norm <- function(count_fn){\n",
    "    x <- memo_prepData(count_fn)\n",
    "    return(cpm(x, log=TRUE))\n",
    "}\n",
    "\n",
    "memNORM <- memoise(save_norm)\n",
    "\n",
    "get_voom <- function(count_fn, qsv_file){\n",
    "    ### Preform voom\n",
    "    x <- memo_prepData(count_fn)\n",
    "    modQsva <- memo_qsvModel(count_fn, qsv_file)\n",
    "    v <- voom(x, modQsva, plot=FALSE)\n",
    "    return(v)\n",
    "}\n",
    "\n",
    "memo_voom <- memoise(get_voom)\n",
    "\n",
    "cal_res <- function(count_fn, qsv_file){\n",
    "    ### Calculate residuals\n",
    "    v <- memo_voom(count_fn, qsv_file)\n",
    "    null_model <- v$design %>% as.data.frame %>% select(-c(\"Schizo\")) %>% as.matrix\n",
    "    fit_res <- lmFit(v, design=null_model)\n",
    "    res = v$E - ( fit_res$coefficients %*% t(null_model) )\n",
    "    res_sd = apply(res, 1, sd)\n",
    "    res_mean = apply(res, 1, mean)\n",
    "    res_norm = (res - res_mean) / res_sd\n",
    "    return(res_norm)\n",
    "}\n",
    "\n",
    "memo_res <- memoise(cal_res)\n",
    "\n",
    "## Normalize residuals\n",
    "pca_res <- function(count_fn, qsv_file){\n",
    "    res_df = memo_res(count_fn, qsv_file) %>% t\n",
    "    pca_df = prcomp(res_df, center=TRUE)$x\n",
    "    dt = pca_df %>% as.data.frame %>% rownames_to_column %>%\n",
    "        select(c(rowname, PC1, PC2, PC3, PC4, PC5)) %>% \n",
    "        pivot_longer(-rowname, names_to=\"PC\", values_to=\"PC_values\")\n",
    "    return(dt)\n",
    "}\n",
    "\n",
    "memo_pcaRES <- memoise(pca_res)"
   ]
  },
  {
   "cell_type": "markdown",
   "metadata": {},
   "source": [
    "## Differential Expression Analysis"
   ]
  },
  {
   "cell_type": "code",
   "execution_count": null,
   "metadata": {},
   "outputs": [],
   "source": [
    "counts_lt = list(\"Caudate\"=paste0(\"/ceph/projects/v3_phase3_paper/inputs/phase3/_m/count_data/\", \n",
    "                                  \"caudate_brainseq_phase3_hg38_rseGene_merged_n464.rda\"), \n",
    "                 \"DLPFC\"=paste0(\"/ceph/projects/v3_phase3_paper/inputs/phase2/_m/count_data/\", \n",
    "                                \"dlpfc_ribozero_brainseq_phase2_hg38_rseGene_merged_n453.rda\"), \n",
    "                 \"HIPPO\"=paste0(\"/ceph/projects/v3_phase3_paper/inputs/phase2/_m/count_data/\", \n",
    "                                \"hippo_brainseq_phase2_hg38_rseGene_merged_n447.rda\"))\n",
    "qsv_lt = list(\"Caudate\"=\"/ceph/projects/v4_phase3_paper/inputs/counts/text_files_counts/_m/caudate/qSV_caudate.csv\", \n",
    "              \"DLPFC\"=\"/ceph/projects/v4_phase3_paper/inputs/counts/text_files_counts/_m/dlpfc/qSV_dlpfc.csv\", \n",
    "              \"HIPPO\"=\"/ceph/projects/v4_phase3_paper/inputs/counts/text_files_counts/_m/hippocampus/qSV_hippo.csv\")"
   ]
  },
  {
   "cell_type": "markdown",
   "metadata": {},
   "source": [
    "### Plot scatters and correlations with covariates"
   ]
  },
  {
   "cell_type": "code",
   "execution_count": null,
   "metadata": {},
   "outputs": [],
   "source": [
    "for(tissue in c('Caudate', 'DLPFC', 'HIPPO')){\n",
    "    flush.console()\n",
    "    lotissue = paste0(tolower(tissue), \"/\")\n",
    "    dir.create(lotissue)\n",
    "    options(repr.plot.width=18, repr.plot.height=6)\n",
    "    modQsva <- memo_qsvModel(counts_lt[[tissue]], qsv_lt[[tissue]])\n",
    "    dt <- memo_pcaSelect(counts_lt[[tissue]])\n",
    "    covar_model = modQsva %>% as.data.frame %>% rownames_to_column \n",
    "    cols = modQsva %>% as.data.frame %>% \n",
    "        select(-c(Intercept, Male, Schizo)) %>% colnames\n",
    "    for(covar in cols){\n",
    "        flush.console()\n",
    "        sca = dt %>% inner_join(covar_model, by=\"rowname\") %>% \n",
    "            inner_join(memPHENO()[, c(\"RNum\", \"Sex\", \"Dx\")], by=c(\"rowname\"=\"RNum\")) %>%\n",
    "            ggscatter(y=\"PC_values\", x=covar, color=\"Dx\", facet.by=c('PC'), ncol=5, \n",
    "                      add='reg.line', conf.int=TRUE, cor.coef=TRUE, palette=\"npg\",\n",
    "                      add.params=list(color=\"blue\", fill=\"lightgray\"))\n",
    "        save_img(sca, paste0(lotissue,\"scatter_log2cpm_dx_5pcs_\",covar), w=18, h=6)\n",
    "        print(sca)\n",
    "    }\n",
    "    cols = modQsva %>% as.data.frame %>% \n",
    "        select(-c(Intercept, Male, Schizo)) %>% colnames\n",
    "    memNORM(counts_lt[[tissue]]) %>% as.data.frame %>%\n",
    "        data.table::fwrite(paste0(lotissue, \"normalized_expression.tsv\"), \n",
    "                                  sep='\\t', row.names=TRUE)\n",
    "    memo_res(counts_lt[[tissue]], qsv_lt[[tissue]]) %>% as.data.frame %>% \n",
    "        data.table::fwrite(paste0(lotissue, \"residualized_expression.tsv\"), \n",
    "                           sep='\\t', row.names=TRUE)\n",
    "    dt <- memo_pcaRES(counts_lt[[tissue]], qsv_lt[[tissue]])\n",
    "    for(covar in cols){\n",
    "        flush.console()\n",
    "        sca = dt %>% inner_join(covar_model, by=\"rowname\") %>% \n",
    "            inner_join(memPHENO()[, c(\"RNum\", \"Sex\", \"Dx\")], by=c(\"rowname\"=\"RNum\")) %>%\n",
    "            ggscatter(y=\"PC_values\", x=covar, color=\"Dx\", facet.by=c('PC'), ncol=5, \n",
    "                      add='reg.line', conf.int=TRUE, cor.coef=TRUE, palette=\"npg\",\n",
    "                      add.params=list(color=\"blue\", fill=\"lightgray\"))\n",
    "        save_img(sca, paste0(lotissue, \"scatter_normres_dx_5pcs_\",covar), w=18, h=6)\n",
    "        print(sca)\n",
    "    }\n",
    "}"
   ]
  },
  {
   "cell_type": "markdown",
   "metadata": {},
   "source": [
    "## Reproducibility Information"
   ]
  },
  {
   "cell_type": "code",
   "execution_count": null,
   "metadata": {},
   "outputs": [],
   "source": [
    "Sys.time()\n",
    "proc.time()\n",
    "options(width = 120)\n",
    "sessioninfo::session_info()"
   ]
  }
 ],
 "metadata": {
  "kernelspec": {
   "display_name": "R",
   "language": "R",
   "name": "ir"
  },
  "language_info": {
   "codemirror_mode": "r",
   "file_extension": ".r",
   "mimetype": "text/x-r-source",
   "name": "R",
   "pygments_lexer": "r",
   "version": "4.0.3"
  }
 },
 "nbformat": 4,
 "nbformat_minor": 4
}
