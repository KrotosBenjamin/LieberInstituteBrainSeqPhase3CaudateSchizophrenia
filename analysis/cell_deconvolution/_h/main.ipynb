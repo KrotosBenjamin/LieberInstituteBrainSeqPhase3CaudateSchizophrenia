{
 "cells": [
  {
   "cell_type": "markdown",
   "metadata": {},
   "source": [
    "# Cell deconvolution comparison and quality control\n",
    "**Performed by Louise Huuki**"
   ]
  },
  {
   "cell_type": "code",
   "execution_count": null,
   "metadata": {},
   "outputs": [],
   "source": [
    "library(tidyverse)\n",
    "library(ggpubr)"
   ]
  },
  {
   "cell_type": "markdown",
   "metadata": {},
   "source": [
    "## Functions"
   ]
  },
  {
   "cell_type": "code",
   "execution_count": null,
   "metadata": {},
   "outputs": [],
   "source": [
    "get_pheno <- function(){\n",
    "    df = data.table::fread(\"/ceph/projects/v4_phase3_paper/inputs/phenotypes/_m/merged_phenotypes.csv\") %>%\n",
    "        filter(Dx %in% c(\"SZ\", \"CTL\"), Age > 17)\n",
    "    return(df)\n",
    "}\n",
    "\n",
    "memPHENO <- memoise::memoise(get_pheno)\n",
    "\n",
    "save_img <- function(image, fn, w, h){\n",
    "    for(ext in c(\".svg\", \".pdf\", \".png\")){\n",
    "        ggsave(file=paste0(fn, ext), plot=image, width=w, height=h)\n",
    "    }\n",
    "}"
   ]
  },
  {
   "cell_type": "markdown",
   "metadata": {},
   "source": [
    "## Prepare data"
   ]
  },
  {
   "cell_type": "code",
   "execution_count": null,
   "metadata": {},
   "outputs": [],
   "source": [
    "load(\"../_h/est_prop_Bisque.Rdata\")"
   ]
  },
  {
   "cell_type": "code",
   "execution_count": null,
   "metadata": {},
   "outputs": [],
   "source": [
    "df = est_prop_bisque$caudate$Est.prop.long %>% \n",
    "    inner_join(memPHENO(), by=c(\"sample\"=\"RNum\")) %>%\n",
    "    mutate_if(is.character, as.factor) %>%\n",
    "    rename(\"Proportion\"=\"prop\")\n",
    "df[1:2, 1:10]"
   ]
  },
  {
   "cell_type": "markdown",
   "metadata": {},
   "source": [
    "## Cell type proportion plots"
   ]
  },
  {
   "cell_type": "code",
   "execution_count": null,
   "metadata": {},
   "outputs": [],
   "source": [
    "bxp = df %>% ggboxplot(x=\"cell_type\", y=\"Proportion\", color=\"Dx\", #facet.by=\"Cell_Type\",\n",
    "                 panel.labs.font=list(face='bold', size = 14), palette=\"npg\", \n",
    "                 outlier.shape=NA, ylab='Cell Type Proportion', add='jitter', \n",
    "                 add.params=list(alpha=0.5), ylim=c(0, 1), xlab=\"Cell Types\", \n",
    "                       legend=\"bottom\") +\n",
    "    font(\"xy.text\", size=12) + font(\"xy.title\", size=16, face=\"bold\") + \n",
    "    rotate_x_text(45)\n",
    "print(bxp)\n",
    "save_img(bxp, paste0(\"boxplot_celltypes_dx\"), w=7, h=6)"
   ]
  },
  {
   "cell_type": "code",
   "execution_count": null,
   "metadata": {},
   "outputs": [],
   "source": [
    "bxp = df %>% ggboxplot(x=\"Dx\", y=\"Proportion\", color=\"Dx\", facet.by=\"cell_type\",\n",
    "                 panel.labs.font=list(face='bold', size = 14), palette=\"npg\", \n",
    "                 outlier.shape=NA, ylab='Cell Type Proportion', add='jitter', \n",
    "                 add.params=list(alpha=0.5), ylim=c(0, 1.2), ncol=3, \n",
    "                       xlab=\"Diagnosis\", legend=\"None\") +\n",
    "    stat_compare_means(comparisons=list(c(\"CTL\", \"SZ\")), aes(label=..p.signif..), \n",
    "                       method=\"wilcox.test\") +\n",
    "    font(\"xy.text\", size=12) + font(\"xy.title\", size=16, face=\"bold\")\n",
    "print(bxp)\n",
    "save_img(bxp, paste0(\"boxplot_dxBYcelltype\"), w=7, h=6)"
   ]
  },
  {
   "cell_type": "markdown",
   "metadata": {},
   "source": [
    "## Quality control"
   ]
  },
  {
   "cell_type": "code",
   "execution_count": null,
   "metadata": {},
   "outputs": [],
   "source": [
    "celltypes = unique(est_prop_bisque$caudate$Est.prop.long$cell_type)"
   ]
  },
  {
   "cell_type": "markdown",
   "metadata": {},
   "source": [
    "### Normalized data"
   ]
  },
  {
   "cell_type": "code",
   "execution_count": null,
   "metadata": {},
   "outputs": [],
   "source": [
    "load(\"/ceph/projects/v4_phase3_paper/analysis/differential_expression/_m/genes/voomSVA.RData\")\n",
    "norm_df = v$E %>% t\n",
    "pca_df1 = prcomp(norm_df, center=TRUE)$x\n",
    "\n",
    "norm_dt = pca_df1 %>% as.data.frame %>% rownames_to_column(\"sample\") %>% \n",
    "    select(c(sample, PC1, PC2, PC3, PC4, PC5)) %>% \n",
    "    pivot_longer(-sample, names_to=\"PC\", values_to=\"PC_values\") %>%\n",
    "    mutate_if(is.character, as.factor)\n",
    "norm_dt %>% head(2)"
   ]
  },
  {
   "cell_type": "markdown",
   "metadata": {},
   "source": [
    "### Residualized data"
   ]
  },
  {
   "cell_type": "code",
   "execution_count": null,
   "metadata": {},
   "outputs": [],
   "source": [
    "res_df = data.table::fread(paste0(\"/ceph/projects/v4_phase3_paper/analysis/\",\n",
    "                                  \"differential_expression/_m/genes/residualized_expression.tsv\")) %>%\n",
    "    column_to_rownames(\"V1\") %>% t\n",
    "pca_df2 = prcomp(res_df, center=TRUE)$x\n",
    "\n",
    "res_dt = pca_df2 %>% as.data.frame %>% rownames_to_column(\"sample\") %>% \n",
    "    select(c(sample, PC1, PC2, PC3, PC4, PC5)) %>% \n",
    "    pivot_longer(-sample, names_to=\"PC\", values_to=\"PC_values\") %>%\n",
    "    mutate_if(is.character, as.factor)\n",
    "res_dt %>% head(2)"
   ]
  },
  {
   "cell_type": "markdown",
   "metadata": {},
   "source": [
    "### Plot scatter for cell types"
   ]
  },
  {
   "cell_type": "code",
   "execution_count": null,
   "metadata": {},
   "outputs": [],
   "source": [
    "dir.create(\"quality_control\")"
   ]
  },
  {
   "cell_type": "code",
   "execution_count": null,
   "metadata": {},
   "outputs": [],
   "source": [
    "options(repr.plot.width=18, repr.plot.height=6)\n",
    "for(ct in celltypes){\n",
    "    flush.console()\n",
    "    print(ct)\n",
    "    ## Normalized\n",
    "    sca = norm_dt %>% inner_join(df, by=\"sample\") %>% filter(cell_type == ct) %>%\n",
    "        ggscatter(y=\"PC_values\", x=\"Proportion\", color=\"Dx\", facet.by=c('PC'), ncol=5, \n",
    "                  add='reg.line', conf.int=TRUE, cor.coef=TRUE, palette=\"npg\",\n",
    "                  xlab=paste(ct, \"Proportion\"), ylab=\"Normalized Expression\",\n",
    "                  panel.labs.font=list(face='bold', size = 14),\n",
    "                  add.params=list(color=\"blue\", fill=\"lightgray\")) +\n",
    "        font(\"xy.text\", size=12) + font(\"xy.title\", size=16, face=\"bold\")\n",
    "    save_img(sca, paste0(\"quality_control/scatter_log2cpm_dx_5pcs_\",ct), w=18, h=6)\n",
    "    print(sca)\n",
    "    ## Residualized\n",
    "    sca = res_dt %>% inner_join(df, by=\"sample\") %>% filter(cell_type == ct) %>%\n",
    "        ggscatter(y=\"PC_values\", x=\"Proportion\", color=\"Dx\", facet.by=c('PC'), ncol=5, \n",
    "                  add='reg.line', conf.int=TRUE, cor.coef=TRUE, palette=\"npg\",\n",
    "                  xlab=paste(ct, \"Proportion\"), ylab=\"Residualized Expression\",\n",
    "                  panel.labs.font=list(face='bold', size = 14),\n",
    "                  add.params=list(color=\"blue\", fill=\"lightgray\")) +\n",
    "        font(\"xy.text\", size=12) + font(\"xy.title\", size=16, face=\"bold\")\n",
    "    save_img(sca, paste0(\"quality_control/scatter_resdf_dx_5pcs_\",ct), w=18, h=6)\n",
    "    print(sca)\n",
    "}"
   ]
  },
  {
   "cell_type": "code",
   "execution_count": null,
   "metadata": {},
   "outputs": [],
   "source": [
    "options(repr.plot.width=18, repr.plot.height=6)\n",
    "for(ct in celltypes){\n",
    "    flush.console()\n",
    "    print(ct)\n",
    "    ## Normalized\n",
    "    sca = norm_dt %>% inner_join(df, by=\"sample\") %>% filter(cell_type == ct) %>%\n",
    "        ggscatter(y=\"PC_values\", x=\"Proportion\", facet.by=c('PC'), ncol=5, \n",
    "                  add='reg.line', conf.int=TRUE, cor.coef=TRUE, palette=\"npg\",\n",
    "                  xlab=paste(ct, \"Proportion\"), ylab=\"Normalized Expression\",\n",
    "                  panel.labs.font=list(face='bold', size = 14),\n",
    "                  add.params=list(color=\"blue\", fill=\"lightgray\")) +\n",
    "        font(\"xy.text\", size=12) + font(\"xy.title\", size=16, face=\"bold\")\n",
    "    save_img(sca, paste0(\"quality_control/scatter_log2cpm_5pcs_\",ct), w=18, h=6)\n",
    "    print(sca)\n",
    "    ## Residualized\n",
    "    sca = res_dt %>% inner_join(df, by=\"sample\") %>% filter(cell_type == ct) %>%\n",
    "        ggscatter(y=\"PC_values\", x=\"Proportion\", facet.by=c('PC'), ncol=5, \n",
    "                  add='reg.line', conf.int=TRUE, cor.coef=TRUE, palette=\"npg\",\n",
    "                  xlab=paste(ct, \"Proportion\"), ylab=\"Residualized Expression\",\n",
    "                  panel.labs.font=list(face='bold', size = 14),\n",
    "                  add.params=list(color=\"blue\", fill=\"lightgray\")) +\n",
    "        font(\"xy.text\", size=12) + font(\"xy.title\", size=16, face=\"bold\")\n",
    "    save_img(sca, paste0(\"quality_control/scatter_resdf_5pcs_\",ct), w=18, h=6)\n",
    "    print(sca)\n",
    "}"
   ]
  },
  {
   "cell_type": "markdown",
   "metadata": {},
   "source": [
    "## Reproducibility Information"
   ]
  },
  {
   "cell_type": "code",
   "execution_count": null,
   "metadata": {},
   "outputs": [],
   "source": [
    "Sys.time()\n",
    "proc.time()\n",
    "options(width = 120)\n",
    "sessioninfo::session_info()"
   ]
  }
 ],
 "metadata": {
  "kernelspec": {
   "display_name": "R",
   "language": "R",
   "name": "ir"
  },
  "language_info": {
   "codemirror_mode": "r",
   "file_extension": ".r",
   "mimetype": "text/x-r-source",
   "name": "R",
   "pygments_lexer": "r",
   "version": "4.0.3"
  }
 },
 "nbformat": 4,
 "nbformat_minor": 4
}
