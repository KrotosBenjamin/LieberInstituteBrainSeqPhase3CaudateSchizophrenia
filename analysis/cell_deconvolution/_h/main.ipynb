{
 "cells": [
  {
   "cell_type": "markdown",
   "metadata": {},
   "source": [
    "# Cell deconvolution comparison and quality control\n",
    "**Performed by Louise Huuki**"
   ]
  },
  {
   "cell_type": "code",
   "execution_count": 2,
   "metadata": {},
   "outputs": [],
   "source": [
    "library(tidyverse)\n",
    "library(ggpubr)"
   ]
  },
  {
   "cell_type": "markdown",
   "metadata": {},
   "source": [
    "## Functions"
   ]
  },
  {
   "cell_type": "code",
   "execution_count": 3,
   "metadata": {},
   "outputs": [],
   "source": [
    "get_pheno <- function(){\n",
    "    df = data.table::fread(\"/ceph/projects/v4_phase3_paper/inputs/phenotypes/_m/merged_phenotypes.csv\") %>%\n",
    "        filter(Dx %in% c(\"SZ\", \"CTL\"), Age > 17)\n",
    "    return(df)\n",
    "}\n",
    "\n",
    "memPHENO <- memoise::memoise(get_pheno)\n",
    "\n",
    "save_img <- function(image, fn, w, h){\n",
    "    for(ext in c(\".svg\", \".pdf\", \".png\")){\n",
    "        ggsave(file=paste0(fn, ext), plot=image, width=w, height=h)\n",
    "    }\n",
    "}"
   ]
  },
  {
   "cell_type": "markdown",
   "metadata": {},
   "source": [
    "## Prepare data"
   ]
  },
  {
   "cell_type": "code",
   "execution_count": 4,
   "metadata": {},
   "outputs": [],
   "source": [
    "load(\"../_h/est_prop_Bisque.Rdata\")"
   ]
  },
  {
   "cell_type": "code",
   "execution_count": 5,
   "metadata": {},
   "outputs": [
    {
     "data": {
      "text/html": [
       "<table class=\"dataframe\">\n",
       "<caption>A data.frame: 2 × 10</caption>\n",
       "<thead>\n",
       "\t<tr><th></th><th scope=col>sample</th><th scope=col>cell_type</th><th scope=col>Proportion</th><th scope=col>Sex</th><th scope=col>Race</th><th scope=col>Dx</th><th scope=col>Age</th><th scope=col>mitoRate</th><th scope=col>rRNA_rate</th><th scope=col>totalAssignedGene</th></tr>\n",
       "\t<tr><th></th><th scope=col>&lt;fct&gt;</th><th scope=col>&lt;fct&gt;</th><th scope=col>&lt;dbl&gt;</th><th scope=col>&lt;fct&gt;</th><th scope=col>&lt;fct&gt;</th><th scope=col>&lt;fct&gt;</th><th scope=col>&lt;dbl&gt;</th><th scope=col>&lt;dbl&gt;</th><th scope=col>&lt;dbl&gt;</th><th scope=col>&lt;dbl&gt;</th></tr>\n",
       "</thead>\n",
       "<tbody>\n",
       "\t<tr><th scope=row>1</th><td>R12864</td><td>Astro</td><td>0.07995174</td><td>Female</td><td>AA</td><td>SZ</td><td>42.98</td><td>0.03265387</td><td>8.675159e-05</td><td>0.5148545</td></tr>\n",
       "\t<tr><th scope=row>2</th><td>R12865</td><td>Astro</td><td>0.03964055</td><td>Male  </td><td>AA</td><td>SZ</td><td>53.12</td><td>0.01978740</td><td>6.976684e-05</td><td>0.5207789</td></tr>\n",
       "</tbody>\n",
       "</table>\n"
      ],
      "text/latex": [
       "A data.frame: 2 × 10\n",
       "\\begin{tabular}{r|llllllllll}\n",
       "  & sample & cell\\_type & Proportion & Sex & Race & Dx & Age & mitoRate & rRNA\\_rate & totalAssignedGene\\\\\n",
       "  & <fct> & <fct> & <dbl> & <fct> & <fct> & <fct> & <dbl> & <dbl> & <dbl> & <dbl>\\\\\n",
       "\\hline\n",
       "\t1 & R12864 & Astro & 0.07995174 & Female & AA & SZ & 42.98 & 0.03265387 & 8.675159e-05 & 0.5148545\\\\\n",
       "\t2 & R12865 & Astro & 0.03964055 & Male   & AA & SZ & 53.12 & 0.01978740 & 6.976684e-05 & 0.5207789\\\\\n",
       "\\end{tabular}\n"
      ],
      "text/markdown": [
       "\n",
       "A data.frame: 2 × 10\n",
       "\n",
       "| <!--/--> | sample &lt;fct&gt; | cell_type &lt;fct&gt; | Proportion &lt;dbl&gt; | Sex &lt;fct&gt; | Race &lt;fct&gt; | Dx &lt;fct&gt; | Age &lt;dbl&gt; | mitoRate &lt;dbl&gt; | rRNA_rate &lt;dbl&gt; | totalAssignedGene &lt;dbl&gt; |\n",
       "|---|---|---|---|---|---|---|---|---|---|---|\n",
       "| 1 | R12864 | Astro | 0.07995174 | Female | AA | SZ | 42.98 | 0.03265387 | 8.675159e-05 | 0.5148545 |\n",
       "| 2 | R12865 | Astro | 0.03964055 | Male   | AA | SZ | 53.12 | 0.01978740 | 6.976684e-05 | 0.5207789 |\n",
       "\n"
      ],
      "text/plain": [
       "  sample cell_type Proportion Sex    Race Dx Age   mitoRate   rRNA_rate   \n",
       "1 R12864 Astro     0.07995174 Female AA   SZ 42.98 0.03265387 8.675159e-05\n",
       "2 R12865 Astro     0.03964055 Male   AA   SZ 53.12 0.01978740 6.976684e-05\n",
       "  totalAssignedGene\n",
       "1 0.5148545        \n",
       "2 0.5207789        "
      ]
     },
     "metadata": {},
     "output_type": "display_data"
    }
   ],
   "source": [
    "df = est_prop_bisque$caudate$Est.prop.long %>% \n",
    "    inner_join(memPHENO(), by=c(\"sample\"=\"RNum\")) %>%\n",
    "    mutate_if(is.character, as.factor) %>%\n",
    "    rename(\"Proportion\"=\"prop\")\n",
    "df[1:2, 1:10]"
   ]
  },
  {
   "cell_type": "markdown",
   "metadata": {},
   "source": [
    "## Cell type proportion plots"
   ]
  },
  {
   "cell_type": "code",
   "execution_count": null,
   "metadata": {},
   "outputs": [],
   "source": [
    "bxp = df %>% ggboxplot(x=\"cell_type\", y=\"Proportion\", color=\"Dx\", #facet.by=\"Cell_Type\",\n",
    "                       panel.labs.font=list(face='bold'), palette=\"npg\", ylim=c(0, 1),\n",
    "                       outlier.shape=NA, ylab='Cell Type Proportion', add='jitter', \n",
    "                       add.params=list(alpha=0.5),  xlab=\"Cell Types\", legend=\"bottom\", \n",
    "                       ggtheme=theme_pubr(base_size=15)) +\n",
    "    font(\"xy.title\", face=\"bold\") + rotate_x_text(45)\n",
    "print(bxp)\n",
    "save_img(bxp, paste0(\"boxplot_celltypes_dx\"), w=7, h=6)"
   ]
  },
  {
   "cell_type": "code",
   "execution_count": null,
   "metadata": {},
   "outputs": [],
   "source": [
    "bxp = df %>% ggboxplot(x=\"Dx\", y=\"Proportion\", color=\"Dx\", facet.by=\"cell_type\",\n",
    "                       panel.labs.font=list(face='bold'), palette=\"npg\", ylim=c(0, 1.2),\n",
    "                       outlier.shape=NA, ylab='Cell Type Proportion', add='jitter', \n",
    "                       add.params=list(alpha=0.5),  ncol=3, xlab=\"Diagnosis\", \n",
    "                       legend=\"None\", ggtheme=theme_pubr(base_size=15)) +\n",
    "    stat_compare_means(comparisons=list(c(\"CTL\", \"SZ\")), aes(label=..p.signif..), \n",
    "                       method=\"wilcox.test\") +\n",
    "    font(\"xy.title\", face=\"bold\")\n",
    "print(bxp)\n",
    "save_img(bxp, paste0(\"boxplot_dxBYcelltype\"), w=7, h=6)"
   ]
  },
  {
   "cell_type": "markdown",
   "metadata": {},
   "source": [
    "## Quality control"
   ]
  },
  {
   "cell_type": "code",
   "execution_count": null,
   "metadata": {},
   "outputs": [],
   "source": [
    "celltypes = unique(est_prop_bisque$caudate$Est.prop.long$cell_type)"
   ]
  },
  {
   "cell_type": "markdown",
   "metadata": {},
   "source": [
    "### Normalized data"
   ]
  },
  {
   "cell_type": "code",
   "execution_count": null,
   "metadata": {},
   "outputs": [],
   "source": [
    "load(\"/ceph/projects/v4_phase3_paper/analysis/differential_expression/_m/genes/voomSVA.RData\")\n",
    "norm_df = v$E %>% t\n",
    "pca_df1 = prcomp(norm_df, center=TRUE)$x\n",
    "\n",
    "norm_dt = pca_df1 %>% as.data.frame %>% rownames_to_column(\"sample\") %>% \n",
    "    select(c(sample, PC1, PC2, PC3, PC4, PC5)) %>% \n",
    "    pivot_longer(-sample, names_to=\"PC\", values_to=\"PC_values\") %>%\n",
    "    mutate_if(is.character, as.factor)\n",
    "norm_dt %>% head(2)"
   ]
  },
  {
   "cell_type": "markdown",
   "metadata": {},
   "source": [
    "### Residualized data"
   ]
  },
  {
   "cell_type": "code",
   "execution_count": null,
   "metadata": {},
   "outputs": [],
   "source": [
    "res_df = data.table::fread(paste0(\"/ceph/projects/v4_phase3_paper/analysis/\",\n",
    "                                  \"differential_expression/_m/genes/residualized_expression.tsv\")) %>%\n",
    "    column_to_rownames(\"V1\") %>% t\n",
    "pca_df2 = prcomp(res_df, center=TRUE)$x\n",
    "\n",
    "res_dt = pca_df2 %>% as.data.frame %>% rownames_to_column(\"sample\") %>% \n",
    "    select(c(sample, PC1, PC2, PC3, PC4, PC5)) %>% \n",
    "    pivot_longer(-sample, names_to=\"PC\", values_to=\"PC_values\") %>%\n",
    "    mutate_if(is.character, as.factor)\n",
    "res_dt %>% head(2)"
   ]
  },
  {
   "cell_type": "markdown",
   "metadata": {},
   "source": [
    "### Plot scatter for cell types"
   ]
  },
  {
   "cell_type": "code",
   "execution_count": null,
   "metadata": {},
   "outputs": [],
   "source": [
    "dir.create(\"quality_control\")"
   ]
  },
  {
   "cell_type": "code",
   "execution_count": null,
   "metadata": {},
   "outputs": [],
   "source": [
    "options(repr.plot.width=18, repr.plot.height=6)\n",
    "for(ct in celltypes){\n",
    "    flush.console()\n",
    "    print(ct)\n",
    "    ## Normalized\n",
    "    sca = norm_dt %>% inner_join(df, by=\"sample\") %>% filter(cell_type == ct) %>%\n",
    "        ggscatter(y=\"PC_values\", x=\"Proportion\", color=\"Dx\", facet.by=c('PC'), ncol=5, \n",
    "                  add='reg.line', conf.int=TRUE, cor.coef=TRUE, palette=\"npg\",\n",
    "                  xlab=paste(ct, \"Proportion\"), ylab=\"Normalized Expression\",\n",
    "                  panel.labs.font=list(face='bold', size = 14),\n",
    "                  add.params=list(color=\"blue\", fill=\"lightgray\")) +\n",
    "        font(\"xy.text\", size=12) + font(\"xy.title\", size=16, face=\"bold\")\n",
    "    save_img(sca, paste0(\"quality_control/scatter_log2cpm_dx_5pcs_\",ct), w=18, h=6)\n",
    "    print(sca)\n",
    "    ## Residualized\n",
    "    sca = res_dt %>% inner_join(df, by=\"sample\") %>% filter(cell_type == ct) %>%\n",
    "        ggscatter(y=\"PC_values\", x=\"Proportion\", color=\"Dx\", facet.by=c('PC'), ncol=5, \n",
    "                  add='reg.line', conf.int=TRUE, cor.coef=TRUE, palette=\"npg\",\n",
    "                  xlab=paste(ct, \"Proportion\"), ylab=\"Residualized Expression\",\n",
    "                  panel.labs.font=list(face='bold', size = 14),\n",
    "                  add.params=list(color=\"blue\", fill=\"lightgray\")) +\n",
    "        font(\"xy.text\", size=12) + font(\"xy.title\", size=16, face=\"bold\")\n",
    "    save_img(sca, paste0(\"quality_control/scatter_resdf_dx_5pcs_\",ct), w=18, h=6)\n",
    "    print(sca)\n",
    "}"
   ]
  },
  {
   "cell_type": "code",
   "execution_count": null,
   "metadata": {},
   "outputs": [],
   "source": [
    "options(repr.plot.width=18, repr.plot.height=6)\n",
    "for(ct in celltypes){\n",
    "    flush.console()\n",
    "    print(ct)\n",
    "    ## Normalized\n",
    "    sca = norm_dt %>% inner_join(df, by=\"sample\") %>% filter(cell_type == ct) %>%\n",
    "        ggscatter(y=\"PC_values\", x=\"Proportion\", facet.by=c('PC'), ncol=5, \n",
    "                  add='reg.line', conf.int=TRUE, cor.coef=TRUE, palette=\"npg\",\n",
    "                  xlab=paste(ct, \"Proportion\"), ylab=\"Normalized Expression\",\n",
    "                  panel.labs.font=list(face='bold', size = 14),\n",
    "                  add.params=list(color=\"blue\", fill=\"lightgray\")) +\n",
    "        font(\"xy.text\", size=12) + font(\"xy.title\", size=16, face=\"bold\")\n",
    "    save_img(sca, paste0(\"quality_control/scatter_log2cpm_5pcs_\",ct), w=18, h=6)\n",
    "    print(sca)\n",
    "    ## Residualized\n",
    "    sca = res_dt %>% inner_join(df, by=\"sample\") %>% filter(cell_type == ct) %>%\n",
    "        ggscatter(y=\"PC_values\", x=\"Proportion\", facet.by=c('PC'), ncol=5, \n",
    "                  add='reg.line', conf.int=TRUE, cor.coef=TRUE, palette=\"npg\",\n",
    "                  xlab=paste(ct, \"Proportion\"), ylab=\"Residualized Expression\",\n",
    "                  panel.labs.font=list(face='bold', size = 14),\n",
    "                  add.params=list(color=\"blue\", fill=\"lightgray\")) +\n",
    "        font(\"xy.text\", size=12) + font(\"xy.title\", size=16, face=\"bold\")\n",
    "    save_img(sca, paste0(\"quality_control/scatter_resdf_5pcs_\",ct), w=18, h=6)\n",
    "    print(sca)\n",
    "}"
   ]
  },
  {
   "cell_type": "markdown",
   "metadata": {},
   "source": [
    "## Reproducibility Information"
   ]
  },
  {
   "cell_type": "code",
   "execution_count": null,
   "metadata": {},
   "outputs": [],
   "source": [
    "Sys.time()\n",
    "proc.time()\n",
    "options(width = 120)\n",
    "sessioninfo::session_info()"
   ]
  }
 ],
 "metadata": {
  "kernelspec": {
   "display_name": "R",
   "language": "R",
   "name": "ir"
  },
  "language_info": {
   "codemirror_mode": "r",
   "file_extension": ".r",
   "mimetype": "text/x-r-source",
   "name": "R",
   "pygments_lexer": "r",
   "version": "4.0.3"
  }
 },
 "nbformat": 4,
 "nbformat_minor": 4
}
