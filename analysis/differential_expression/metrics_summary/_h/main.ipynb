{
 "cells": [
  {
   "cell_type": "markdown",
   "metadata": {},
   "source": [
    "# Feature summary analysis of schizophrenia differential expression for the caudate nucleus"
   ]
  },
  {
   "cell_type": "code",
   "execution_count": 1,
   "metadata": {},
   "outputs": [],
   "source": [
    "import numpy as np\n",
    "import pandas as pd"
   ]
  },
  {
   "cell_type": "markdown",
   "metadata": {},
   "source": [
    "## Summary plots"
   ]
  },
  {
   "cell_type": "markdown",
   "metadata": {},
   "source": [
    "### Genes"
   ]
  },
  {
   "cell_type": "code",
   "execution_count": 2,
   "metadata": {},
   "outputs": [
    {
     "data": {
      "text/html": [
       "<div>\n",
       "<style scoped>\n",
       "    .dataframe tbody tr th:only-of-type {\n",
       "        vertical-align: middle;\n",
       "    }\n",
       "\n",
       "    .dataframe tbody tr th {\n",
       "        vertical-align: top;\n",
       "    }\n",
       "\n",
       "    .dataframe thead th {\n",
       "        text-align: right;\n",
       "    }\n",
       "</style>\n",
       "<table border=\"1\" class=\"dataframe\">\n",
       "  <thead>\n",
       "    <tr style=\"text-align: right;\">\n",
       "      <th></th>\n",
       "      <th>Feature</th>\n",
       "      <th>gencodeID</th>\n",
       "      <th>ensemblID</th>\n",
       "      <th>Symbol</th>\n",
       "      <th>logFC</th>\n",
       "      <th>AveExpr</th>\n",
       "      <th>t</th>\n",
       "      <th>P.Value</th>\n",
       "      <th>adj.P.Val</th>\n",
       "      <th>B</th>\n",
       "      <th>Type</th>\n",
       "    </tr>\n",
       "  </thead>\n",
       "  <tbody>\n",
       "    <tr>\n",
       "      <th>ENSG00000248587.7</th>\n",
       "      <td>ENSG00000248587.7</td>\n",
       "      <td>ENSG00000248587.7</td>\n",
       "      <td>ENSG00000248587</td>\n",
       "      <td>GDNF-AS1</td>\n",
       "      <td>0.801502</td>\n",
       "      <td>1.657783</td>\n",
       "      <td>12.696887</td>\n",
       "      <td>6.044699e-31</td>\n",
       "      <td>1.387742e-26</td>\n",
       "      <td>58.250922</td>\n",
       "      <td>Gene</td>\n",
       "    </tr>\n",
       "    <tr>\n",
       "      <th>ENSG00000138944.7</th>\n",
       "      <td>ENSG00000138944.7</td>\n",
       "      <td>ENSG00000138944.7</td>\n",
       "      <td>ENSG00000138944</td>\n",
       "      <td>KIAA1644</td>\n",
       "      <td>0.563733</td>\n",
       "      <td>4.807890</td>\n",
       "      <td>12.073351</td>\n",
       "      <td>1.487513e-28</td>\n",
       "      <td>1.707516e-24</td>\n",
       "      <td>54.072890</td>\n",
       "      <td>Gene</td>\n",
       "    </tr>\n",
       "  </tbody>\n",
       "</table>\n",
       "</div>"
      ],
      "text/plain": [
       "                             Feature          gencodeID        ensemblID  \\\n",
       "ENSG00000248587.7  ENSG00000248587.7  ENSG00000248587.7  ENSG00000248587   \n",
       "ENSG00000138944.7  ENSG00000138944.7  ENSG00000138944.7  ENSG00000138944   \n",
       "\n",
       "                     Symbol     logFC   AveExpr          t       P.Value  \\\n",
       "ENSG00000248587.7  GDNF-AS1  0.801502  1.657783  12.696887  6.044699e-31   \n",
       "ENSG00000138944.7  KIAA1644  0.563733  4.807890  12.073351  1.487513e-28   \n",
       "\n",
       "                      adj.P.Val          B  Type  \n",
       "ENSG00000248587.7  1.387742e-26  58.250922  Gene  \n",
       "ENSG00000138944.7  1.707516e-24  54.072890  Gene  "
      ]
     },
     "execution_count": 2,
     "metadata": {},
     "output_type": "execute_result"
    }
   ],
   "source": [
    "genes0 = pd.read_csv('../../_m/genes/diffExpr_szVctl_full.txt', \n",
    "                    sep='\\t', index_col=0)\n",
    "genes0['Feature'] = genes0.index\n",
    "genes0 = genes0[['Feature', 'gencodeID', 'ensemblID', 'Symbol', 'logFC', \n",
    "                 'AveExpr', 't', 'P.Value', 'adj.P.Val', 'B']]\n",
    "genes0['Type'] = 'Gene'\n",
    "genes = genes0[(genes0['adj.P.Val'] < 0.05)].sort_values('adj.P.Val')\n",
    "genes.head(2)"
   ]
  },
  {
   "cell_type": "markdown",
   "metadata": {},
   "source": [
    "### Transcripts"
   ]
  },
  {
   "cell_type": "code",
   "execution_count": 3,
   "metadata": {},
   "outputs": [
    {
     "data": {
      "text/html": [
       "<div>\n",
       "<style scoped>\n",
       "    .dataframe tbody tr th:only-of-type {\n",
       "        vertical-align: middle;\n",
       "    }\n",
       "\n",
       "    .dataframe tbody tr th {\n",
       "        vertical-align: top;\n",
       "    }\n",
       "\n",
       "    .dataframe thead th {\n",
       "        text-align: right;\n",
       "    }\n",
       "</style>\n",
       "<table border=\"1\" class=\"dataframe\">\n",
       "  <thead>\n",
       "    <tr style=\"text-align: right;\">\n",
       "      <th></th>\n",
       "      <th>Feature</th>\n",
       "      <th>gencodeID</th>\n",
       "      <th>ensemblID</th>\n",
       "      <th>Symbol</th>\n",
       "      <th>logFC</th>\n",
       "      <th>AveExpr</th>\n",
       "      <th>t</th>\n",
       "      <th>P.Value</th>\n",
       "      <th>adj.P.Val</th>\n",
       "      <th>B</th>\n",
       "      <th>Type</th>\n",
       "    </tr>\n",
       "  </thead>\n",
       "  <tbody>\n",
       "    <tr>\n",
       "      <th>ENST00000381176.4</th>\n",
       "      <td>ENST00000381176.4</td>\n",
       "      <td>ENSG00000138944.7</td>\n",
       "      <td>ENSG00000138944</td>\n",
       "      <td>KIAA1644</td>\n",
       "      <td>0.540563</td>\n",
       "      <td>4.639461</td>\n",
       "      <td>12.232444</td>\n",
       "      <td>3.872832e-29</td>\n",
       "      <td>3.957686e-24</td>\n",
       "      <td>55.307961</td>\n",
       "      <td>Transcript</td>\n",
       "    </tr>\n",
       "    <tr>\n",
       "      <th>ENST00000637926.1</th>\n",
       "      <td>ENST00000637926.1</td>\n",
       "      <td>ENSG00000248587.7</td>\n",
       "      <td>ENSG00000248587</td>\n",
       "      <td>GDNF-AS1</td>\n",
       "      <td>0.936477</td>\n",
       "      <td>-0.650623</td>\n",
       "      <td>11.723729</td>\n",
       "      <td>3.229728e-27</td>\n",
       "      <td>1.650246e-22</td>\n",
       "      <td>47.309512</td>\n",
       "      <td>Transcript</td>\n",
       "    </tr>\n",
       "  </tbody>\n",
       "</table>\n",
       "</div>"
      ],
      "text/plain": [
       "                             Feature          gencodeID        ensemblID  \\\n",
       "ENST00000381176.4  ENST00000381176.4  ENSG00000138944.7  ENSG00000138944   \n",
       "ENST00000637926.1  ENST00000637926.1  ENSG00000248587.7  ENSG00000248587   \n",
       "\n",
       "                     Symbol     logFC   AveExpr          t       P.Value  \\\n",
       "ENST00000381176.4  KIAA1644  0.540563  4.639461  12.232444  3.872832e-29   \n",
       "ENST00000637926.1  GDNF-AS1  0.936477 -0.650623  11.723729  3.229728e-27   \n",
       "\n",
       "                      adj.P.Val          B        Type  \n",
       "ENST00000381176.4  3.957686e-24  55.307961  Transcript  \n",
       "ENST00000637926.1  1.650246e-22  47.309512  Transcript  "
      ]
     },
     "execution_count": 3,
     "metadata": {},
     "output_type": "execute_result"
    }
   ],
   "source": [
    "trans0 = pd.read_csv('../../_m/transcripts/diffExpr_szVctl_full.txt', \n",
    "                     sep='\\t', index_col=0)\n",
    "trans0['Feature'] = trans0.index\n",
    "trans0['ensemblID'] = trans0.gene_id.str.replace('\\\\.\\d+', '', regex=True)\n",
    "trans0 = trans0[['Feature', 'gene_id', 'ensemblID', 'gene_name', 'logFC', \n",
    "                 'AveExpr', 't', 'P.Value', 'adj.P.Val', 'B']]\n",
    "trans0['Type'] = 'Transcript'\n",
    "trans0.rename(columns={'gene_id': 'gencodeID', 'gene_name': 'Symbol'}, inplace=True)\n",
    "trans = trans0[(trans0['adj.P.Val'] < 0.05)].sort_values('adj.P.Val')\n",
    "trans.head(2)"
   ]
  },
  {
   "cell_type": "markdown",
   "metadata": {},
   "source": [
    "### Exons"
   ]
  },
  {
   "cell_type": "code",
   "execution_count": 4,
   "metadata": {},
   "outputs": [
    {
     "data": {
      "text/html": [
       "<div>\n",
       "<style scoped>\n",
       "    .dataframe tbody tr th:only-of-type {\n",
       "        vertical-align: middle;\n",
       "    }\n",
       "\n",
       "    .dataframe tbody tr th {\n",
       "        vertical-align: top;\n",
       "    }\n",
       "\n",
       "    .dataframe thead th {\n",
       "        text-align: right;\n",
       "    }\n",
       "</style>\n",
       "<table border=\"1\" class=\"dataframe\">\n",
       "  <thead>\n",
       "    <tr style=\"text-align: right;\">\n",
       "      <th></th>\n",
       "      <th>Feature</th>\n",
       "      <th>gencodeID</th>\n",
       "      <th>ensemblID</th>\n",
       "      <th>Symbol</th>\n",
       "      <th>logFC</th>\n",
       "      <th>AveExpr</th>\n",
       "      <th>t</th>\n",
       "      <th>P.Value</th>\n",
       "      <th>adj.P.Val</th>\n",
       "      <th>B</th>\n",
       "      <th>Type</th>\n",
       "    </tr>\n",
       "  </thead>\n",
       "  <tbody>\n",
       "    <tr>\n",
       "      <th>e1138732</th>\n",
       "      <td>e1138732</td>\n",
       "      <td>ENSG00000138944.7</td>\n",
       "      <td>ENSG00000138944</td>\n",
       "      <td>KIAA1644</td>\n",
       "      <td>0.572350</td>\n",
       "      <td>3.242573</td>\n",
       "      <td>12.041351</td>\n",
       "      <td>1.715280e-28</td>\n",
       "      <td>6.079621e-23</td>\n",
       "      <td>53.731706</td>\n",
       "      <td>Exon</td>\n",
       "    </tr>\n",
       "    <tr>\n",
       "      <th>e326758</th>\n",
       "      <td>e326758</td>\n",
       "      <td>ENSG00000248587.7</td>\n",
       "      <td>ENSG00000248587</td>\n",
       "      <td>GDNF-AS1</td>\n",
       "      <td>1.172798</td>\n",
       "      <td>-2.699521</td>\n",
       "      <td>11.775570</td>\n",
       "      <td>1.742174e-27</td>\n",
       "      <td>3.087472e-22</td>\n",
       "      <td>44.496329</td>\n",
       "      <td>Exon</td>\n",
       "    </tr>\n",
       "  </tbody>\n",
       "</table>\n",
       "</div>"
      ],
      "text/plain": [
       "           Feature          gencodeID        ensemblID    Symbol     logFC  \\\n",
       "e1138732  e1138732  ENSG00000138944.7  ENSG00000138944  KIAA1644  0.572350   \n",
       "e326758    e326758  ENSG00000248587.7  ENSG00000248587  GDNF-AS1  1.172798   \n",
       "\n",
       "           AveExpr          t       P.Value     adj.P.Val          B  Type  \n",
       "e1138732  3.242573  12.041351  1.715280e-28  6.079621e-23  53.731706  Exon  \n",
       "e326758  -2.699521  11.775570  1.742174e-27  3.087472e-22  44.496329  Exon  "
      ]
     },
     "execution_count": 4,
     "metadata": {},
     "output_type": "execute_result"
    }
   ],
   "source": [
    "exons0 = pd.read_csv('../../_m/exons/diffExpr_szVctl_full.txt', \n",
    "                     sep='\\t', index_col=0)\n",
    "exons0['Feature'] = exons0.index\n",
    "exons0 = exons0[['Feature', 'gencodeID', 'ensemblID', 'Symbol', 'logFC', \n",
    "                 'AveExpr', 't', 'P.Value', 'adj.P.Val', 'B']]\n",
    "exons0['Type'] = 'Exon'\n",
    "exons = exons0[(exons0['adj.P.Val'] < 0.05)].sort_values('adj.P.Val')\n",
    "exons.head(2)"
   ]
  },
  {
   "cell_type": "markdown",
   "metadata": {},
   "source": [
    "### Junctions"
   ]
  },
  {
   "cell_type": "code",
   "execution_count": 5,
   "metadata": {},
   "outputs": [
    {
     "data": {
      "text/html": [
       "<div>\n",
       "<style scoped>\n",
       "    .dataframe tbody tr th:only-of-type {\n",
       "        vertical-align: middle;\n",
       "    }\n",
       "\n",
       "    .dataframe tbody tr th {\n",
       "        vertical-align: top;\n",
       "    }\n",
       "\n",
       "    .dataframe thead th {\n",
       "        text-align: right;\n",
       "    }\n",
       "</style>\n",
       "<table border=\"1\" class=\"dataframe\">\n",
       "  <thead>\n",
       "    <tr style=\"text-align: right;\">\n",
       "      <th></th>\n",
       "      <th>Feature</th>\n",
       "      <th>gencodeID</th>\n",
       "      <th>ensemblID</th>\n",
       "      <th>Symbol</th>\n",
       "      <th>logFC</th>\n",
       "      <th>AveExpr</th>\n",
       "      <th>t</th>\n",
       "      <th>P.Value</th>\n",
       "      <th>adj.P.Val</th>\n",
       "      <th>B</th>\n",
       "      <th>Type</th>\n",
       "    </tr>\n",
       "  </thead>\n",
       "  <tbody>\n",
       "    <tr>\n",
       "      <th>chr6:144797991-144803035(+)</th>\n",
       "      <td>chr6:144797991-144803035(+)</td>\n",
       "      <td>ENSG00000152818.18</td>\n",
       "      <td>ENSG00000152818</td>\n",
       "      <td>UTRN</td>\n",
       "      <td>0.325750</td>\n",
       "      <td>3.108503</td>\n",
       "      <td>9.445835</td>\n",
       "      <td>3.741731e-19</td>\n",
       "      <td>5.753623e-14</td>\n",
       "      <td>32.626131</td>\n",
       "      <td>Junction</td>\n",
       "    </tr>\n",
       "    <tr>\n",
       "      <th>chr20:19696912-19698567(+)</th>\n",
       "      <td>chr20:19696912-19698567(+)</td>\n",
       "      <td>ENSG00000185052.11</td>\n",
       "      <td>ENSG00000185052</td>\n",
       "      <td>SLC24A3</td>\n",
       "      <td>0.381360</td>\n",
       "      <td>1.176929</td>\n",
       "      <td>8.875803</td>\n",
       "      <td>2.820088e-17</td>\n",
       "      <td>2.168210e-12</td>\n",
       "      <td>27.638405</td>\n",
       "      <td>Junction</td>\n",
       "    </tr>\n",
       "    <tr>\n",
       "      <th>chr20:19684337-19685099(+)</th>\n",
       "      <td>chr20:19684337-19685099(+)</td>\n",
       "      <td>ENSG00000185052.11</td>\n",
       "      <td>ENSG00000185052</td>\n",
       "      <td>SLC24A3</td>\n",
       "      <td>0.364192</td>\n",
       "      <td>1.525751</td>\n",
       "      <td>8.796880</td>\n",
       "      <td>5.063055e-17</td>\n",
       "      <td>2.595136e-12</td>\n",
       "      <td>27.389888</td>\n",
       "      <td>Junction</td>\n",
       "    </tr>\n",
       "    <tr>\n",
       "      <th>chr6:144583601-144678405(+)</th>\n",
       "      <td>chr6:144583601-144678405(+)</td>\n",
       "      <td>ENSG00000152818.18</td>\n",
       "      <td>ENSG00000152818</td>\n",
       "      <td>UTRN</td>\n",
       "      <td>0.452747</td>\n",
       "      <td>2.458287</td>\n",
       "      <td>8.518893</td>\n",
       "      <td>3.872394e-16</td>\n",
       "      <td>1.035700e-11</td>\n",
       "      <td>25.850103</td>\n",
       "      <td>Junction</td>\n",
       "    </tr>\n",
       "    <tr>\n",
       "      <th>chr6:144821019-144827347(+)</th>\n",
       "      <td>chr6:144821019-144827347(+)</td>\n",
       "      <td>ENSG00000152818.18</td>\n",
       "      <td>ENSG00000152818</td>\n",
       "      <td>UTRN</td>\n",
       "      <td>0.306557</td>\n",
       "      <td>3.345261</td>\n",
       "      <td>8.502598</td>\n",
       "      <td>4.357161e-16</td>\n",
       "      <td>1.035700e-11</td>\n",
       "      <td>25.860288</td>\n",
       "      <td>Junction</td>\n",
       "    </tr>\n",
       "  </tbody>\n",
       "</table>\n",
       "</div>"
      ],
      "text/plain": [
       "                                                 Feature           gencodeID  \\\n",
       "chr6:144797991-144803035(+)  chr6:144797991-144803035(+)  ENSG00000152818.18   \n",
       "chr20:19696912-19698567(+)    chr20:19696912-19698567(+)  ENSG00000185052.11   \n",
       "chr20:19684337-19685099(+)    chr20:19684337-19685099(+)  ENSG00000185052.11   \n",
       "chr6:144583601-144678405(+)  chr6:144583601-144678405(+)  ENSG00000152818.18   \n",
       "chr6:144821019-144827347(+)  chr6:144821019-144827347(+)  ENSG00000152818.18   \n",
       "\n",
       "                                   ensemblID   Symbol     logFC   AveExpr  \\\n",
       "chr6:144797991-144803035(+)  ENSG00000152818     UTRN  0.325750  3.108503   \n",
       "chr20:19696912-19698567(+)   ENSG00000185052  SLC24A3  0.381360  1.176929   \n",
       "chr20:19684337-19685099(+)   ENSG00000185052  SLC24A3  0.364192  1.525751   \n",
       "chr6:144583601-144678405(+)  ENSG00000152818     UTRN  0.452747  2.458287   \n",
       "chr6:144821019-144827347(+)  ENSG00000152818     UTRN  0.306557  3.345261   \n",
       "\n",
       "                                    t       P.Value     adj.P.Val          B  \\\n",
       "chr6:144797991-144803035(+)  9.445835  3.741731e-19  5.753623e-14  32.626131   \n",
       "chr20:19696912-19698567(+)   8.875803  2.820088e-17  2.168210e-12  27.638405   \n",
       "chr20:19684337-19685099(+)   8.796880  5.063055e-17  2.595136e-12  27.389888   \n",
       "chr6:144583601-144678405(+)  8.518893  3.872394e-16  1.035700e-11  25.850103   \n",
       "chr6:144821019-144827347(+)  8.502598  4.357161e-16  1.035700e-11  25.860288   \n",
       "\n",
       "                                 Type  \n",
       "chr6:144797991-144803035(+)  Junction  \n",
       "chr20:19696912-19698567(+)   Junction  \n",
       "chr20:19684337-19685099(+)   Junction  \n",
       "chr6:144583601-144678405(+)  Junction  \n",
       "chr6:144821019-144827347(+)  Junction  "
      ]
     },
     "execution_count": 5,
     "metadata": {},
     "output_type": "execute_result"
    }
   ],
   "source": [
    "juncs0 = pd.read_csv('../../_m/junctions/diffExpr_szVctl_full.txt', \n",
    "                     sep='\\t', index_col=0)\n",
    "juncs0['Feature'] = juncs0.index\n",
    "juncs0 = juncs0[['Feature', 'newGeneID', 'ensemblID', 'newGeneSymbol', 'logFC', \n",
    "                 'AveExpr', 't', 'P.Value', 'adj.P.Val', 'B']]\n",
    "juncs0['Type'] = 'Junction'\n",
    "juncs0.rename(columns={'newGeneID': 'gencodeID', 'newGeneSymbol': 'Symbol'}, inplace=True)\n",
    "juncs = juncs0[(juncs0['adj.P.Val'] < 0.05)].sort_values('adj.P.Val')\n",
    "juncs.head()"
   ]
  },
  {
   "cell_type": "markdown",
   "metadata": {},
   "source": [
    "## DE summary"
   ]
  },
  {
   "cell_type": "markdown",
   "metadata": {},
   "source": [
    "### DE (feature)"
   ]
  },
  {
   "cell_type": "code",
   "execution_count": 6,
   "metadata": {},
   "outputs": [
    {
     "name": "stdout",
     "output_type": "stream",
     "text": [
      "\n",
      "Gene:\t\t2696\n",
      "Transcript:\t1922\n",
      "Exon:\t\t22477\n",
      "Junction:\t7508\n"
     ]
    }
   ],
   "source": [
    "gg = len(set(genes['Feature']))\n",
    "tt = len(set(trans['Feature']))\n",
    "ee = len(set(exons['Feature']))\n",
    "jj = len(set(juncs['Feature']))\n",
    "\n",
    "print(\"\\nGene:\\t\\t%d\\nTranscript:\\t%d\\nExon:\\t\\t%d\\nJunction:\\t%d\" % \n",
    "      (gg, tt, ee, jj)) "
   ]
  },
  {
   "cell_type": "markdown",
   "metadata": {},
   "source": [
    "#### DE (EnsemblID)"
   ]
  },
  {
   "cell_type": "code",
   "execution_count": 7,
   "metadata": {},
   "outputs": [
    {
     "name": "stdout",
     "output_type": "stream",
     "text": [
      "\n",
      "Gene:\t\t2696\n",
      "Transcript:\t1614\n",
      "Exon:\t\t3784\n",
      "Junction:\t2117\n"
     ]
    }
   ],
   "source": [
    "gg = len(set(genes['ensemblID']))\n",
    "tt = len(set(trans['ensemblID']))\n",
    "ee = len(set(exons['ensemblID']))\n",
    "jj = len(set(juncs['ensemblID']))\n",
    "\n",
    "print(\"\\nGene:\\t\\t%d\\nTranscript:\\t%d\\nExon:\\t\\t%d\\nJunction:\\t%d\" % \n",
    "      (gg, tt, ee, jj)) "
   ]
  },
  {
   "cell_type": "markdown",
   "metadata": {},
   "source": [
    "#### DE (Gene Symbol)"
   ]
  },
  {
   "cell_type": "code",
   "execution_count": 8,
   "metadata": {},
   "outputs": [
    {
     "name": "stdout",
     "output_type": "stream",
     "text": [
      "\n",
      "Gene:\t\t2491\n",
      "Transcript:\t1613\n",
      "Exon:\t\t3526\n",
      "Junction:\t2117\n"
     ]
    }
   ],
   "source": [
    "gg = len(set(genes['Symbol']))\n",
    "tt = len(set(trans['Symbol']))\n",
    "ee = len(set(exons['Symbol']))\n",
    "jj = len(set(juncs['Symbol']))\n",
    "\n",
    "print(\"\\nGene:\\t\\t%d\\nTranscript:\\t%d\\nExon:\\t\\t%d\\nJunction:\\t%d\" % \n",
    "      (gg, tt, ee, jj)) "
   ]
  },
  {
   "cell_type": "markdown",
   "metadata": {},
   "source": [
    "### Feature effect size summary"
   ]
  },
  {
   "cell_type": "code",
   "execution_count": 9,
   "metadata": {},
   "outputs": [
    {
     "name": "stdout",
     "output_type": "stream",
     "text": [
      "\n",
      "There are 32 unique Genes with abs(log2FC) >= 0.5\n",
      "There are 0 unique Genes with abs(log2FC) >= 1\n",
      "\n",
      "There are 169 unique Transcript with abs(log2FC) >= 0.5\n",
      "There are 53 unique Transcript with abs(log2FC) >= 1\n",
      "\n",
      "There are 100 unique Exons with abs(log2FC) >= 0.5\n",
      "There are 5 unique Exons with abs(log2FC) >= 1\n",
      "\n",
      "There are 79 unique Junctions with abs(log2FC) >= 0.5\n",
      "There are 11 unique Junctions with abs(log2FC) >= 1\n"
     ]
    }
   ],
   "source": [
    "feature_list = ['Genes', 'Transcript', 'Exons', 'Junctions']\n",
    "feature_df = [genes, trans, exons, juncs]\n",
    "for ii in range(4):\n",
    "    ff = feature_df[ii]\n",
    "    half = len(set(ff[(np.abs(ff['logFC']) >= 0.5)].Feature))\n",
    "    one = len(set(ff[(np.abs(ff['logFC']) >= 1)].Feature))\n",
    "    print(\"\\nThere are %d unique %s with abs(log2FC) >= 0.5\" % (half, feature_list[ii]))\n",
    "    print(\"There are %d unique %s with abs(log2FC) >= 1\" % (one, feature_list[ii]))"
   ]
  },
  {
   "cell_type": "code",
   "execution_count": 10,
   "metadata": {},
   "outputs": [
    {
     "name": "stdout",
     "output_type": "stream",
     "text": [
      "\n",
      "There are 32 unique Genes with abs(log2FC) >= 0.5\n",
      "There are 0 unique Genes with abs(log2FC) >= 1\n",
      "\n",
      "There are 161 unique Transcripts with abs(log2FC) >= 0.5\n",
      "There are 52 unique Transcripts with abs(log2FC) >= 1\n",
      "\n",
      "There are 46 unique Exons with abs(log2FC) >= 0.5\n",
      "There are 2 unique Exons with abs(log2FC) >= 1\n",
      "\n",
      "There are 34 unique Junctions with abs(log2FC) >= 0.5\n",
      "There are 4 unique Junctions with abs(log2FC) >= 1\n"
     ]
    }
   ],
   "source": [
    "feature_list = ['Genes', 'Transcripts', 'Exons', 'Junctions']\n",
    "feature_df = [genes, trans, exons, juncs]\n",
    "for ii in range(4):\n",
    "    ff = feature_df[ii]\n",
    "    half = len(set(ff[(np.abs(ff['logFC']) >= 0.5)].ensemblID))\n",
    "    one = len(set(ff[(np.abs(ff['logFC']) >= 1)].ensemblID))\n",
    "    print(\"\\nThere are %d unique %s with abs(log2FC) >= 0.5\" % (half, feature_list[ii]))\n",
    "    print(\"There are %d unique %s with abs(log2FC) >= 1\" % (one, feature_list[ii]))"
   ]
  },
  {
   "cell_type": "markdown",
   "metadata": {},
   "source": [
    "## Save results"
   ]
  },
  {
   "cell_type": "code",
   "execution_count": 6,
   "metadata": {},
   "outputs": [],
   "source": [
    "df = pd.concat([genes0, trans0, exons0, juncs0], axis=0)\n",
    "print(df.shape)\n",
    "df.to_csv('BrainSeq_Phase3_Caudate_DifferentialExpression_DxSZ_all.txt.gz', \n",
    "          sep='\\t', index=False, header=True)"
   ]
  },
  {
   "cell_type": "code",
   "execution_count": null,
   "metadata": {},
   "outputs": [],
   "source": []
  }
 ],
 "metadata": {
  "kernelspec": {
   "display_name": "Python 3",
   "language": "python",
   "name": "python3"
  },
  "language_info": {
   "codemirror_mode": {
    "name": "ipython",
    "version": 3
   },
   "file_extension": ".py",
   "mimetype": "text/x-python",
   "name": "python",
   "nbconvert_exporter": "python",
   "pygments_lexer": "ipython3",
   "version": "3.9.1"
  }
 },
 "nbformat": 4,
 "nbformat_minor": 4
}
