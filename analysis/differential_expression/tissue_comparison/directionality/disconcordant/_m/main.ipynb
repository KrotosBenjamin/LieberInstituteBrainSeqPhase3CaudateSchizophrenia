{
 "cells": [
  {
   "cell_type": "markdown",
   "metadata": {},
   "source": [
    "# Examine genes that are disconcordant across brain regrions"
   ]
  },
  {
   "cell_type": "code",
   "execution_count": 1,
   "metadata": {
    "execution": {
     "iopub.execute_input": "2021-07-09T19:10:06.929661Z",
     "iopub.status.busy": "2021-07-09T19:10:06.928935Z",
     "iopub.status.idle": "2021-07-09T19:10:07.251727Z",
     "shell.execute_reply": "2021-07-09T19:10:07.250891Z"
    }
   },
   "outputs": [],
   "source": [
    "import functools\n",
    "import numpy as np\n",
    "import pandas as pd"
   ]
  },
  {
   "cell_type": "code",
   "execution_count": 2,
   "metadata": {
    "execution": {
     "iopub.execute_input": "2021-07-09T19:10:07.257164Z",
     "iopub.status.busy": "2021-07-09T19:10:07.256080Z",
     "iopub.status.idle": "2021-07-09T19:10:07.258168Z",
     "shell.execute_reply": "2021-07-09T19:10:07.259083Z"
    }
   },
   "outputs": [],
   "source": [
    "config = {\n",
    "    'caudate': '../../../../_m/genes/diffExpr_szVctl_full.txt',\n",
    "    'dlpfc': '/ceph/projects/v4_phase3_paper/inputs/public_data/_m/phase2/dlpfc_diffExpr_szVctl_full.txt',\n",
    "    'hippo': '/ceph/projects/v4_phase3_paper/inputs/public_data/_m/phase2/hippo_diffExpr_szVctl_full.txt',\n",
    "}"
   ]
  },
  {
   "cell_type": "code",
   "execution_count": 3,
   "metadata": {
    "execution": {
     "iopub.execute_input": "2021-07-09T19:10:07.270862Z",
     "iopub.status.busy": "2021-07-09T19:10:07.269390Z",
     "iopub.status.idle": "2021-07-09T19:10:07.273607Z",
     "shell.execute_reply": "2021-07-09T19:10:07.272413Z"
    }
   },
   "outputs": [],
   "source": [
    "@functools.lru_cache()\n",
    "def get_deg(tissue):\n",
    "    dft = pd.read_csv(config[tissue], sep='\\t', index_col=0)\n",
    "    dft['Feature'] = dft.index\n",
    "    dft['Dir'] = np.sign(dft['t'])\n",
    "    if 'gene_id' in dft.columns:\n",
    "        dft['ensemblID'] = dft.gene_id.str.replace('\\\\..*', '')\n",
    "    elif 'ensembl_gene_id' in dft.columns:\n",
    "        dft.rename(columns={'ensembl_gene_id': 'ensemblID'}, inplace=True)\n",
    "    return dft[['Feature', 'ensemblID', 'Symbol', 'adj.P.Val', 'logFC', 't', 'Dir']]\n",
    "\n",
    "\n",
    "@functools.lru_cache()\n",
    "def get_deg_sig(tissue, fdr):\n",
    "    dft = get_deg(tissue)\n",
    "    return dft[(dft['adj.P.Val'] < fdr)]\n",
    "\n",
    "\n",
    "@functools.lru_cache()\n",
    "def merge_dataframes(tissue1, tissue2):\n",
    "    return get_deg(tissue1).merge(get_deg(tissue2), on='Feature', \n",
    "                                  suffixes=['_%s' % tissue1, '_%s' % tissue2])\n",
    "\n",
    "\n",
    "@functools.lru_cache()\n",
    "def merge_dataframes_sig(tissue1, tissue2):\n",
    "    fdr1 = 0.05 if tissue1 != 'dlpfc' else 0.05\n",
    "    fdr2 = 0.05 if tissue2 != 'dlpfc' else 0.05\n",
    "    return get_deg_sig(tissue1, fdr1).merge(get_deg_sig(tissue2, fdr2), on='Feature', \n",
    "                                            suffixes=['_%s' % tissue1, '_%s' % tissue2])\n"
   ]
  },
  {
   "cell_type": "code",
   "execution_count": 4,
   "metadata": {
    "execution": {
     "iopub.execute_input": "2021-07-09T19:10:07.281141Z",
     "iopub.status.busy": "2021-07-09T19:10:07.280045Z",
     "iopub.status.idle": "2021-07-09T19:10:07.283067Z",
     "shell.execute_reply": "2021-07-09T19:10:07.282144Z"
    }
   },
   "outputs": [],
   "source": [
    "def extract_disconcordant(tissue1, tissue2):\n",
    "    df = merge_dataframes_sig(tissue1, tissue2)\n",
    "    df = df[((df['Dir_%s' % tissue1] == 1) & (df['Dir_%s' % tissue2] == -1)) | \n",
    "            ((df['Dir_%s' % tissue1] == -1) & (df['Dir_%s' % tissue2] == 1))]\n",
    "    return df.loc[:, ['Feature', 'Dir_%s' % tissue1, 'Dir_%s' % tissue2]]\\\n",
    "             .merge(get_deg(tissue1), on='Feature').drop('Dir', axis=1)"
   ]
  },
  {
   "cell_type": "markdown",
   "metadata": {},
   "source": [
    "## BrainSeq Tissue Comparison"
   ]
  },
  {
   "cell_type": "code",
   "execution_count": 5,
   "metadata": {
    "execution": {
     "iopub.execute_input": "2021-07-09T19:10:07.289421Z",
     "iopub.status.busy": "2021-07-09T19:10:07.288217Z",
     "iopub.status.idle": "2021-07-09T19:10:07.635524Z",
     "shell.execute_reply": "2021-07-09T19:10:07.634266Z"
    }
   },
   "outputs": [
    {
     "name": "stdout",
     "output_type": "stream",
     "text": [
      "(17, 8)\n"
     ]
    },
    {
     "data": {
      "text/html": [
       "<div>\n",
       "<style scoped>\n",
       "    .dataframe tbody tr th:only-of-type {\n",
       "        vertical-align: middle;\n",
       "    }\n",
       "\n",
       "    .dataframe tbody tr th {\n",
       "        vertical-align: top;\n",
       "    }\n",
       "\n",
       "    .dataframe thead th {\n",
       "        text-align: right;\n",
       "    }\n",
       "</style>\n",
       "<table border=\"1\" class=\"dataframe\">\n",
       "  <thead>\n",
       "    <tr style=\"text-align: right;\">\n",
       "      <th></th>\n",
       "      <th>Feature</th>\n",
       "      <th>Dir_caudate</th>\n",
       "      <th>Dir_dlpfc</th>\n",
       "      <th>ensemblID</th>\n",
       "      <th>Symbol</th>\n",
       "      <th>adj.P.Val</th>\n",
       "      <th>logFC</th>\n",
       "      <th>t</th>\n",
       "    </tr>\n",
       "  </thead>\n",
       "  <tbody>\n",
       "    <tr>\n",
       "      <th>0</th>\n",
       "      <td>ENSG00000188730.4</td>\n",
       "      <td>1.0</td>\n",
       "      <td>-1.0</td>\n",
       "      <td>ENSG00000188730</td>\n",
       "      <td>VWC2</td>\n",
       "      <td>1.288636e-13</td>\n",
       "      <td>0.372958</td>\n",
       "      <td>8.788995</td>\n",
       "    </tr>\n",
       "    <tr>\n",
       "      <th>1</th>\n",
       "      <td>ENSG00000132639.12</td>\n",
       "      <td>1.0</td>\n",
       "      <td>-1.0</td>\n",
       "      <td>ENSG00000132639</td>\n",
       "      <td>SNAP25</td>\n",
       "      <td>3.108746e-07</td>\n",
       "      <td>0.200929</td>\n",
       "      <td>6.221280</td>\n",
       "    </tr>\n",
       "    <tr>\n",
       "      <th>2</th>\n",
       "      <td>ENSG00000116679.15</td>\n",
       "      <td>1.0</td>\n",
       "      <td>-1.0</td>\n",
       "      <td>ENSG00000116679</td>\n",
       "      <td>IVNS1ABP</td>\n",
       "      <td>1.107091e-06</td>\n",
       "      <td>0.204549</td>\n",
       "      <td>5.961901</td>\n",
       "    </tr>\n",
       "    <tr>\n",
       "      <th>3</th>\n",
       "      <td>ENSG00000100285.9</td>\n",
       "      <td>1.0</td>\n",
       "      <td>-1.0</td>\n",
       "      <td>ENSG00000100285</td>\n",
       "      <td>NEFH</td>\n",
       "      <td>2.902409e-05</td>\n",
       "      <td>0.262753</td>\n",
       "      <td>5.200391</td>\n",
       "    </tr>\n",
       "    <tr>\n",
       "      <th>4</th>\n",
       "      <td>ENSG00000136040.8</td>\n",
       "      <td>-1.0</td>\n",
       "      <td>1.0</td>\n",
       "      <td>ENSG00000136040</td>\n",
       "      <td>PLXNC1</td>\n",
       "      <td>1.714953e-04</td>\n",
       "      <td>-0.141934</td>\n",
       "      <td>-4.751764</td>\n",
       "    </tr>\n",
       "    <tr>\n",
       "      <th>5</th>\n",
       "      <td>ENSG00000204856.11</td>\n",
       "      <td>1.0</td>\n",
       "      <td>-1.0</td>\n",
       "      <td>ENSG00000204856</td>\n",
       "      <td>FAM216A</td>\n",
       "      <td>6.751079e-04</td>\n",
       "      <td>0.078137</td>\n",
       "      <td>4.367314</td>\n",
       "    </tr>\n",
       "    <tr>\n",
       "      <th>6</th>\n",
       "      <td>ENSG00000036530.8</td>\n",
       "      <td>-1.0</td>\n",
       "      <td>1.0</td>\n",
       "      <td>ENSG00000036530</td>\n",
       "      <td>CYP46A1</td>\n",
       "      <td>1.860460e-03</td>\n",
       "      <td>-0.088329</td>\n",
       "      <td>-4.050691</td>\n",
       "    </tr>\n",
       "    <tr>\n",
       "      <th>7</th>\n",
       "      <td>ENSG00000111262.4</td>\n",
       "      <td>1.0</td>\n",
       "      <td>-1.0</td>\n",
       "      <td>ENSG00000111262</td>\n",
       "      <td>KCNA1</td>\n",
       "      <td>2.291543e-03</td>\n",
       "      <td>0.126388</td>\n",
       "      <td>3.979680</td>\n",
       "    </tr>\n",
       "    <tr>\n",
       "      <th>8</th>\n",
       "      <td>ENSG00000151917.17</td>\n",
       "      <td>1.0</td>\n",
       "      <td>-1.0</td>\n",
       "      <td>ENSG00000151917</td>\n",
       "      <td>BEND6</td>\n",
       "      <td>1.075646e-02</td>\n",
       "      <td>0.075881</td>\n",
       "      <td>3.431775</td>\n",
       "    </tr>\n",
       "    <tr>\n",
       "      <th>9</th>\n",
       "      <td>ENSG00000143858.11</td>\n",
       "      <td>1.0</td>\n",
       "      <td>-1.0</td>\n",
       "      <td>ENSG00000143858</td>\n",
       "      <td>SYT2</td>\n",
       "      <td>1.247544e-02</td>\n",
       "      <td>0.133316</td>\n",
       "      <td>3.370904</td>\n",
       "    </tr>\n",
       "    <tr>\n",
       "      <th>10</th>\n",
       "      <td>ENSG00000177181.14</td>\n",
       "      <td>1.0</td>\n",
       "      <td>-1.0</td>\n",
       "      <td>ENSG00000177181</td>\n",
       "      <td>RIMKLA</td>\n",
       "      <td>1.699589e-02</td>\n",
       "      <td>0.070601</td>\n",
       "      <td>3.243639</td>\n",
       "    </tr>\n",
       "    <tr>\n",
       "      <th>11</th>\n",
       "      <td>ENSG00000006747.14</td>\n",
       "      <td>1.0</td>\n",
       "      <td>-1.0</td>\n",
       "      <td>ENSG00000006747</td>\n",
       "      <td>SCIN</td>\n",
       "      <td>1.866443e-02</td>\n",
       "      <td>0.164288</td>\n",
       "      <td>3.208440</td>\n",
       "    </tr>\n",
       "    <tr>\n",
       "      <th>12</th>\n",
       "      <td>ENSG00000082497.11</td>\n",
       "      <td>1.0</td>\n",
       "      <td>-1.0</td>\n",
       "      <td>ENSG00000082497</td>\n",
       "      <td>SERTAD4</td>\n",
       "      <td>2.527903e-02</td>\n",
       "      <td>0.079187</td>\n",
       "      <td>3.077812</td>\n",
       "    </tr>\n",
       "    <tr>\n",
       "      <th>13</th>\n",
       "      <td>ENSG00000118242.15</td>\n",
       "      <td>1.0</td>\n",
       "      <td>-1.0</td>\n",
       "      <td>ENSG00000118242</td>\n",
       "      <td>MREG</td>\n",
       "      <td>2.527903e-02</td>\n",
       "      <td>0.112288</td>\n",
       "      <td>3.077800</td>\n",
       "    </tr>\n",
       "    <tr>\n",
       "      <th>14</th>\n",
       "      <td>ENSG00000101079.20</td>\n",
       "      <td>1.0</td>\n",
       "      <td>-1.0</td>\n",
       "      <td>ENSG00000101079</td>\n",
       "      <td>NDRG3</td>\n",
       "      <td>3.459039e-02</td>\n",
       "      <td>0.038372</td>\n",
       "      <td>2.938792</td>\n",
       "    </tr>\n",
       "    <tr>\n",
       "      <th>15</th>\n",
       "      <td>ENSG00000105711.10</td>\n",
       "      <td>1.0</td>\n",
       "      <td>-1.0</td>\n",
       "      <td>ENSG00000105711</td>\n",
       "      <td>SCN1B</td>\n",
       "      <td>4.230935e-02</td>\n",
       "      <td>0.065344</td>\n",
       "      <td>2.849365</td>\n",
       "    </tr>\n",
       "    <tr>\n",
       "      <th>16</th>\n",
       "      <td>ENSG00000232973.11</td>\n",
       "      <td>-1.0</td>\n",
       "      <td>1.0</td>\n",
       "      <td>ENSG00000232973</td>\n",
       "      <td>CYP1B1-AS1</td>\n",
       "      <td>4.774394e-02</td>\n",
       "      <td>-0.154245</td>\n",
       "      <td>-2.792397</td>\n",
       "    </tr>\n",
       "  </tbody>\n",
       "</table>\n",
       "</div>"
      ],
      "text/plain": [
       "               Feature  Dir_caudate  Dir_dlpfc        ensemblID      Symbol  \\\n",
       "0    ENSG00000188730.4          1.0       -1.0  ENSG00000188730        VWC2   \n",
       "1   ENSG00000132639.12          1.0       -1.0  ENSG00000132639      SNAP25   \n",
       "2   ENSG00000116679.15          1.0       -1.0  ENSG00000116679    IVNS1ABP   \n",
       "3    ENSG00000100285.9          1.0       -1.0  ENSG00000100285        NEFH   \n",
       "4    ENSG00000136040.8         -1.0        1.0  ENSG00000136040      PLXNC1   \n",
       "5   ENSG00000204856.11          1.0       -1.0  ENSG00000204856     FAM216A   \n",
       "6    ENSG00000036530.8         -1.0        1.0  ENSG00000036530     CYP46A1   \n",
       "7    ENSG00000111262.4          1.0       -1.0  ENSG00000111262       KCNA1   \n",
       "8   ENSG00000151917.17          1.0       -1.0  ENSG00000151917       BEND6   \n",
       "9   ENSG00000143858.11          1.0       -1.0  ENSG00000143858        SYT2   \n",
       "10  ENSG00000177181.14          1.0       -1.0  ENSG00000177181      RIMKLA   \n",
       "11  ENSG00000006747.14          1.0       -1.0  ENSG00000006747        SCIN   \n",
       "12  ENSG00000082497.11          1.0       -1.0  ENSG00000082497     SERTAD4   \n",
       "13  ENSG00000118242.15          1.0       -1.0  ENSG00000118242        MREG   \n",
       "14  ENSG00000101079.20          1.0       -1.0  ENSG00000101079       NDRG3   \n",
       "15  ENSG00000105711.10          1.0       -1.0  ENSG00000105711       SCN1B   \n",
       "16  ENSG00000232973.11         -1.0        1.0  ENSG00000232973  CYP1B1-AS1   \n",
       "\n",
       "       adj.P.Val     logFC         t  \n",
       "0   1.288636e-13  0.372958  8.788995  \n",
       "1   3.108746e-07  0.200929  6.221280  \n",
       "2   1.107091e-06  0.204549  5.961901  \n",
       "3   2.902409e-05  0.262753  5.200391  \n",
       "4   1.714953e-04 -0.141934 -4.751764  \n",
       "5   6.751079e-04  0.078137  4.367314  \n",
       "6   1.860460e-03 -0.088329 -4.050691  \n",
       "7   2.291543e-03  0.126388  3.979680  \n",
       "8   1.075646e-02  0.075881  3.431775  \n",
       "9   1.247544e-02  0.133316  3.370904  \n",
       "10  1.699589e-02  0.070601  3.243639  \n",
       "11  1.866443e-02  0.164288  3.208440  \n",
       "12  2.527903e-02  0.079187  3.077812  \n",
       "13  2.527903e-02  0.112288  3.077800  \n",
       "14  3.459039e-02  0.038372  2.938792  \n",
       "15  4.230935e-02  0.065344  2.849365  \n",
       "16  4.774394e-02 -0.154245 -2.792397  "
      ]
     },
     "execution_count": 1,
     "metadata": {},
     "output_type": "execute_result"
    }
   ],
   "source": [
    "cd = extract_disconcordant('caudate', 'dlpfc')  \n",
    "cd.to_csv(\"disconcordant_genes_%s_%s.csv\" % ('caudate', 'dlpfc'), index=False)\n",
    "print(cd.shape)\n",
    "cd"
   ]
  },
  {
   "cell_type": "code",
   "execution_count": 6,
   "metadata": {
    "execution": {
     "iopub.execute_input": "2021-07-09T19:10:07.642468Z",
     "iopub.status.busy": "2021-07-09T19:10:07.641092Z",
     "iopub.status.idle": "2021-07-09T19:10:07.801474Z",
     "shell.execute_reply": "2021-07-09T19:10:07.802674Z"
    }
   },
   "outputs": [
    {
     "name": "stdout",
     "output_type": "stream",
     "text": [
      "(2, 8)\n"
     ]
    },
    {
     "data": {
      "text/html": [
       "<div>\n",
       "<style scoped>\n",
       "    .dataframe tbody tr th:only-of-type {\n",
       "        vertical-align: middle;\n",
       "    }\n",
       "\n",
       "    .dataframe tbody tr th {\n",
       "        vertical-align: top;\n",
       "    }\n",
       "\n",
       "    .dataframe thead th {\n",
       "        text-align: right;\n",
       "    }\n",
       "</style>\n",
       "<table border=\"1\" class=\"dataframe\">\n",
       "  <thead>\n",
       "    <tr style=\"text-align: right;\">\n",
       "      <th></th>\n",
       "      <th>Feature</th>\n",
       "      <th>Dir_caudate</th>\n",
       "      <th>Dir_hippo</th>\n",
       "      <th>ensemblID</th>\n",
       "      <th>Symbol</th>\n",
       "      <th>adj.P.Val</th>\n",
       "      <th>logFC</th>\n",
       "      <th>t</th>\n",
       "    </tr>\n",
       "  </thead>\n",
       "  <tbody>\n",
       "    <tr>\n",
       "      <th>0</th>\n",
       "      <td>ENSG00000128203.6</td>\n",
       "      <td>1.0</td>\n",
       "      <td>-1.0</td>\n",
       "      <td>ENSG00000128203</td>\n",
       "      <td>ASPHD2</td>\n",
       "      <td>0.000008</td>\n",
       "      <td>0.174283</td>\n",
       "      <td>5.518281</td>\n",
       "    </tr>\n",
       "    <tr>\n",
       "      <th>1</th>\n",
       "      <td>ENSG00000132872.11</td>\n",
       "      <td>1.0</td>\n",
       "      <td>-1.0</td>\n",
       "      <td>ENSG00000132872</td>\n",
       "      <td>SYT4</td>\n",
       "      <td>0.020210</td>\n",
       "      <td>0.112905</td>\n",
       "      <td>3.173980</td>\n",
       "    </tr>\n",
       "  </tbody>\n",
       "</table>\n",
       "</div>"
      ],
      "text/plain": [
       "              Feature  Dir_caudate  Dir_hippo        ensemblID  Symbol  \\\n",
       "0   ENSG00000128203.6          1.0       -1.0  ENSG00000128203  ASPHD2   \n",
       "1  ENSG00000132872.11          1.0       -1.0  ENSG00000132872    SYT4   \n",
       "\n",
       "   adj.P.Val     logFC         t  \n",
       "0   0.000008  0.174283  5.518281  \n",
       "1   0.020210  0.112905  3.173980  "
      ]
     },
     "execution_count": 1,
     "metadata": {},
     "output_type": "execute_result"
    }
   ],
   "source": [
    "ch = extract_disconcordant('caudate', 'hippo')  \n",
    "ch.to_csv(\"disconcordant_genes_%s_%s.csv\" % ('caudate', 'hippo'), index=False)\n",
    "print(ch.shape)\n",
    "ch"
   ]
  },
  {
   "cell_type": "code",
   "execution_count": 7,
   "metadata": {
    "execution": {
     "iopub.execute_input": "2021-07-09T19:10:07.816104Z",
     "iopub.status.busy": "2021-07-09T19:10:07.814626Z",
     "iopub.status.idle": "2021-07-09T19:10:07.822490Z",
     "shell.execute_reply": "2021-07-09T19:10:07.821202Z"
    }
   },
   "outputs": [
    {
     "name": "stdout",
     "output_type": "stream",
     "text": [
      "There are 0 genes where caudate is different from both DLPFC and hippocampus!\n",
      "\n"
     ]
    },
    {
     "data": {
      "text/html": [
       "<div>\n",
       "<style scoped>\n",
       "    .dataframe tbody tr th:only-of-type {\n",
       "        vertical-align: middle;\n",
       "    }\n",
       "\n",
       "    .dataframe tbody tr th {\n",
       "        vertical-align: top;\n",
       "    }\n",
       "\n",
       "    .dataframe thead th {\n",
       "        text-align: right;\n",
       "    }\n",
       "</style>\n",
       "<table border=\"1\" class=\"dataframe\">\n",
       "  <thead>\n",
       "    <tr style=\"text-align: right;\">\n",
       "      <th></th>\n",
       "      <th>Feature</th>\n",
       "      <th>Dir_caudate</th>\n",
       "      <th>Dir_dlpfc</th>\n",
       "      <th>ensemblID</th>\n",
       "      <th>Symbol</th>\n",
       "      <th>adj.P.Val</th>\n",
       "      <th>logFC</th>\n",
       "      <th>t</th>\n",
       "    </tr>\n",
       "  </thead>\n",
       "  <tbody>\n",
       "  </tbody>\n",
       "</table>\n",
       "</div>"
      ],
      "text/plain": [
       "Empty DataFrame\n",
       "Columns: [Feature, Dir_caudate, Dir_dlpfc, ensemblID, Symbol, adj.P.Val, logFC, t]\n",
       "Index: []"
      ]
     },
     "execution_count": 1,
     "metadata": {},
     "output_type": "execute_result"
    }
   ],
   "source": [
    "print(\"There are %d genes where caudate is different from both DLPFC and hippocampus!\\n\" % \n",
    " len(set(ch.ensemblID ) & set(cd.ensemblID)))\n",
    "\n",
    "cd[(cd['ensemblID'].isin(list(set(ch.ensemblID ) & set(cd.ensemblID))))]"
   ]
  },
  {
   "cell_type": "code",
   "execution_count": 8,
   "metadata": {
    "execution": {
     "iopub.execute_input": "2021-07-09T19:10:07.840205Z",
     "iopub.status.busy": "2021-07-09T19:10:07.829415Z",
     "iopub.status.idle": "2021-07-09T19:10:07.854072Z",
     "shell.execute_reply": "2021-07-09T19:10:07.855253Z"
    }
   },
   "outputs": [
    {
     "name": "stdout",
     "output_type": "stream",
     "text": [
      "(0, 8)\n"
     ]
    },
    {
     "data": {
      "text/html": [
       "<div>\n",
       "<style scoped>\n",
       "    .dataframe tbody tr th:only-of-type {\n",
       "        vertical-align: middle;\n",
       "    }\n",
       "\n",
       "    .dataframe tbody tr th {\n",
       "        vertical-align: top;\n",
       "    }\n",
       "\n",
       "    .dataframe thead th {\n",
       "        text-align: right;\n",
       "    }\n",
       "</style>\n",
       "<table border=\"1\" class=\"dataframe\">\n",
       "  <thead>\n",
       "    <tr style=\"text-align: right;\">\n",
       "      <th></th>\n",
       "      <th>Dir_dlpfc</th>\n",
       "      <th>Dir_hippo</th>\n",
       "      <th>Feature</th>\n",
       "      <th>ensemblID</th>\n",
       "      <th>Symbol</th>\n",
       "      <th>adj.P.Val</th>\n",
       "      <th>logFC</th>\n",
       "      <th>t</th>\n",
       "    </tr>\n",
       "  </thead>\n",
       "  <tbody>\n",
       "  </tbody>\n",
       "</table>\n",
       "</div>"
      ],
      "text/plain": [
       "Empty DataFrame\n",
       "Columns: [Dir_dlpfc, Dir_hippo, Feature, ensemblID, Symbol, adj.P.Val, logFC, t]\n",
       "Index: []"
      ]
     },
     "execution_count": 1,
     "metadata": {},
     "output_type": "execute_result"
    }
   ],
   "source": [
    "dh = extract_disconcordant('dlpfc', 'hippo')  \n",
    "#dh.to_csv(\"disconcordant_genes_%s_%s.csv\" % ('dlpfc', 'hippo'), index=False)\n",
    "print(dh.shape)\n",
    "dh"
   ]
  },
  {
   "cell_type": "code",
   "execution_count": 9,
   "metadata": {
    "execution": {
     "iopub.execute_input": "2021-07-09T19:10:07.867661Z",
     "iopub.status.busy": "2021-07-09T19:10:07.866210Z",
     "iopub.status.idle": "2021-07-09T19:10:07.874384Z",
     "shell.execute_reply": "2021-07-09T19:10:07.873094Z"
    }
   },
   "outputs": [
    {
     "name": "stdout",
     "output_type": "stream",
     "text": [
      "There are 0 genes where hippocampus is different from both caudate and DLPFC!\n",
      "\n"
     ]
    },
    {
     "data": {
      "text/html": [
       "<div>\n",
       "<style scoped>\n",
       "    .dataframe tbody tr th:only-of-type {\n",
       "        vertical-align: middle;\n",
       "    }\n",
       "\n",
       "    .dataframe tbody tr th {\n",
       "        vertical-align: top;\n",
       "    }\n",
       "\n",
       "    .dataframe thead th {\n",
       "        text-align: right;\n",
       "    }\n",
       "</style>\n",
       "<table border=\"1\" class=\"dataframe\">\n",
       "  <thead>\n",
       "    <tr style=\"text-align: right;\">\n",
       "      <th></th>\n",
       "      <th>Dir_dlpfc</th>\n",
       "      <th>Dir_hippo</th>\n",
       "      <th>Feature</th>\n",
       "      <th>ensemblID</th>\n",
       "      <th>Symbol</th>\n",
       "      <th>adj.P.Val</th>\n",
       "      <th>logFC</th>\n",
       "      <th>t</th>\n",
       "    </tr>\n",
       "  </thead>\n",
       "  <tbody>\n",
       "  </tbody>\n",
       "</table>\n",
       "</div>"
      ],
      "text/plain": [
       "Empty DataFrame\n",
       "Columns: [Dir_dlpfc, Dir_hippo, Feature, ensemblID, Symbol, adj.P.Val, logFC, t]\n",
       "Index: []"
      ]
     },
     "execution_count": 1,
     "metadata": {},
     "output_type": "execute_result"
    }
   ],
   "source": [
    "print(\"There are %d genes where hippocampus is different from both caudate and DLPFC!\\n\" % \n",
    " len(set(dh.ensemblID ) & set(ch.ensemblID)))\n",
    "\n",
    "dh[(dh['ensemblID'].isin(list(set(dh.ensemblID ) & set(ch.ensemblID))))]"
   ]
  },
  {
   "cell_type": "code",
   "execution_count": 10,
   "metadata": {
    "execution": {
     "iopub.execute_input": "2021-07-09T19:10:07.880601Z",
     "iopub.status.busy": "2021-07-09T19:10:07.879196Z",
     "iopub.status.idle": "2021-07-09T19:10:07.883907Z",
     "shell.execute_reply": "2021-07-09T19:10:07.885104Z"
    }
   },
   "outputs": [
    {
     "name": "stdout",
     "output_type": "stream",
     "text": [
      "There are 0 genes where DLPFC is different from both caudate and hippocampus!\n",
      "\n"
     ]
    }
   ],
   "source": [
    "print(\"There are %d genes where DLPFC is different from both caudate and hippocampus!\\n\" % \n",
    " len(set(dh.ensemblID ) & set(cd.ensemblID)))"
   ]
  },
  {
   "cell_type": "code",
   "execution_count": null,
   "metadata": {},
   "outputs": [],
   "source": []
  }
 ],
 "metadata": {
  "kernelspec": {
   "display_name": "Python 3",
   "language": "python",
   "name": "python3"
  },
  "language_info": {
   "codemirror_mode": {
    "name": "ipython",
    "version": 3
   },
   "file_extension": ".py",
   "mimetype": "text/x-python",
   "name": "python",
   "nbconvert_exporter": "python",
   "pygments_lexer": "ipython3",
   "version": "3.9.1"
  }
 },
 "nbformat": 4,
 "nbformat_minor": 4
}
