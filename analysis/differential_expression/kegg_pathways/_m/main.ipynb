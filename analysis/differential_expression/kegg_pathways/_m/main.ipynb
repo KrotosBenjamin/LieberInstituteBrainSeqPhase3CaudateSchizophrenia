{
 "cells": [
  {
   "cell_type": "markdown",
   "metadata": {},
   "source": [
    "# Gene term enrichment analysis"
   ]
  },
  {
   "cell_type": "code",
   "execution_count": 1,
   "metadata": {
    "execution": {
     "iopub.execute_input": "2021-08-05T15:03:17.844988Z",
     "iopub.status.busy": "2021-08-05T15:03:17.842952Z",
     "iopub.status.idle": "2021-08-05T15:03:22.426998Z",
     "shell.execute_reply": "2021-08-05T15:03:22.425287Z"
    }
   },
   "outputs": [
    {
     "name": "stderr",
     "output_type": "stream",
     "text": [
      "\n",
      "\n",
      "##############################################################################\n",
      "Pathview is an open source software package distributed under GNU General\n",
      "Public License version 3 (GPLv3). Details of GPLv3 is available at\n",
      "http://www.gnu.org/licenses/gpl-3.0.html. Particullary, users are required to\n",
      "formally cite the original Pathview paper (not just mention it) in publications\n",
      "or products. For details, do citation(\"pathview\") within R.\n",
      "\n",
      "The pathview downloads and uses KEGG data. Non-academic uses may require a KEGG\n",
      "license agreement (details at http://www.kegg.jp/kegg/legal.html).\n",
      "##############################################################################\n",
      "\n",
      "\n",
      "Attaching package: ‘dplyr’\n",
      "\n",
      "\n",
      "The following objects are masked from ‘package:stats’:\n",
      "\n",
      "    filter, lag\n",
      "\n",
      "\n",
      "The following objects are masked from ‘package:base’:\n",
      "\n",
      "    intersect, setdiff, setequal, union\n",
      "\n",
      "\n"
     ]
    }
   ],
   "source": [
    "library(pathview)\n",
    "library(dplyr)"
   ]
  },
  {
   "cell_type": "markdown",
   "metadata": {},
   "source": [
    "## Prep data"
   ]
  },
  {
   "cell_type": "code",
   "execution_count": 2,
   "metadata": {
    "execution": {
     "iopub.execute_input": "2021-08-05T15:03:22.468872Z",
     "iopub.status.busy": "2021-08-05T15:03:22.432948Z",
     "iopub.status.idle": "2021-08-05T15:03:23.387790Z",
     "shell.execute_reply": "2021-08-05T15:03:23.386220Z"
    }
   },
   "outputs": [],
   "source": [
    "inputfile = \"../../../differential_expression/_m/genes/diffExpr_szVctl_full.txt\"\n",
    "\n",
    "geneList = data.table::fread(inputfile) %>% na.exclude() %>% \n",
    "    tibble::rownames_to_column() %>% select(logFC, EntrezID) %>% \n",
    "    distinct(EntrezID, .keep_all=TRUE) %>% \n",
    "    tibble::column_to_rownames(\"EntrezID\") %>% as.vector\n",
    "genes = data.table::fread(inputfile) %>% na.exclude() %>% \n",
    "    filter(`adj.P.Val` <= 0.05) %>% tibble::rownames_to_column() %>% \n",
    "    select(EntrezID) %>% distinct(EntrezID, .keep_all=TRUE) %>% \n",
    "    as.vector"
   ]
  },
  {
   "cell_type": "markdown",
   "metadata": {},
   "source": [
    "## Pathview plotting"
   ]
  },
  {
   "cell_type": "code",
   "execution_count": 3,
   "metadata": {
    "execution": {
     "iopub.execute_input": "2021-08-05T15:03:23.395007Z",
     "iopub.status.busy": "2021-08-05T15:03:23.393504Z",
     "iopub.status.idle": "2021-08-05T15:03:23.409822Z",
     "shell.execute_reply": "2021-08-05T15:03:23.408474Z"
    }
   },
   "outputs": [],
   "source": [
    "run_pathview <- function(pathwayID, native=TRUE){\n",
    "    pathview(gene.data=geneList, pathway.id=pathwayID,\n",
    "         species='hsa', limit=list(gene=0.5, cpd=0.5), \n",
    "             kegg.native=native)\n",
    "}"
   ]
  },
  {
   "cell_type": "code",
   "execution_count": 4,
   "metadata": {
    "execution": {
     "iopub.execute_input": "2021-08-05T15:03:23.417893Z",
     "iopub.status.busy": "2021-08-05T15:03:23.415864Z",
     "iopub.status.idle": "2021-08-05T15:03:36.531541Z",
     "shell.execute_reply": "2021-08-05T15:03:36.529940Z"
    }
   },
   "outputs": [
    {
     "name": "stderr",
     "output_type": "stream",
     "text": [
      "Info: Downloading xml files for hsa04020, 1/1 pathways..\n",
      "\n",
      "Info: Downloading png files for hsa04020, 1/1 pathways..\n",
      "\n",
      "'select()' returned 1:1 mapping between keys and columns\n",
      "\n",
      "Info: Working in directory /ceph/users/jbenja13/github_projects/LieberInstituteBrainSeqPhase3CaudateSchizophrenia/analysis/differential_expression/kegg_pathways/_m\n",
      "\n",
      "Info: Writing image file hsa04020.pathview.png\n",
      "\n",
      "Info: Downloading xml files for hsa00350, 1/1 pathways..\n",
      "\n",
      "Info: Downloading png files for hsa00350, 1/1 pathways..\n",
      "\n",
      "'select()' returned 1:1 mapping between keys and columns\n",
      "\n",
      "Info: Working in directory /ceph/users/jbenja13/github_projects/LieberInstituteBrainSeqPhase3CaudateSchizophrenia/analysis/differential_expression/kegg_pathways/_m\n",
      "\n",
      "Info: Writing image file hsa00350.pathview.png\n",
      "\n"
     ]
    }
   ],
   "source": [
    "run_pathview(\"hsa04020\")\n",
    "run_pathview(\"hsa00350\")"
   ]
  },
  {
   "cell_type": "code",
   "execution_count": 5,
   "metadata": {
    "execution": {
     "iopub.execute_input": "2021-08-05T15:03:36.537779Z",
     "iopub.status.busy": "2021-08-05T15:03:36.536532Z",
     "iopub.status.idle": "2021-08-05T15:03:51.005584Z",
     "shell.execute_reply": "2021-08-05T15:03:51.003967Z"
    }
   },
   "outputs": [
    {
     "name": "stderr",
     "output_type": "stream",
     "text": [
      "Info: Downloading xml files for hsa04724, 1/1 pathways..\n",
      "\n",
      "Info: Downloading png files for hsa04724, 1/1 pathways..\n",
      "\n",
      "'select()' returned 1:1 mapping between keys and columns\n",
      "\n",
      "Info: Working in directory /ceph/users/jbenja13/github_projects/LieberInstituteBrainSeqPhase3CaudateSchizophrenia/analysis/differential_expression/kegg_pathways/_m\n",
      "\n",
      "Info: Writing image file hsa04724.pathview.png\n",
      "\n",
      "Info: Downloading xml files for hsa04725, 1/1 pathways..\n",
      "\n",
      "Info: Downloading png files for hsa04725, 1/1 pathways..\n",
      "\n",
      "'select()' returned 1:1 mapping between keys and columns\n",
      "\n",
      "Info: Working in directory /ceph/users/jbenja13/github_projects/LieberInstituteBrainSeqPhase3CaudateSchizophrenia/analysis/differential_expression/kegg_pathways/_m\n",
      "\n",
      "Info: Writing image file hsa04725.pathview.png\n",
      "\n",
      "Info: Downloading xml files for hsa04726, 1/1 pathways..\n",
      "\n",
      "Info: Downloading png files for hsa04726, 1/1 pathways..\n",
      "\n",
      "'select()' returned 1:1 mapping between keys and columns\n",
      "\n",
      "Info: Working in directory /ceph/users/jbenja13/github_projects/LieberInstituteBrainSeqPhase3CaudateSchizophrenia/analysis/differential_expression/kegg_pathways/_m\n",
      "\n",
      "Info: Writing image file hsa04726.pathview.png\n",
      "\n",
      "Info: Downloading xml files for hsa04727, 1/1 pathways..\n",
      "\n",
      "Info: Downloading png files for hsa04727, 1/1 pathways..\n",
      "\n",
      "'select()' returned 1:1 mapping between keys and columns\n",
      "\n",
      "Info: Working in directory /ceph/users/jbenja13/github_projects/LieberInstituteBrainSeqPhase3CaudateSchizophrenia/analysis/differential_expression/kegg_pathways/_m\n",
      "\n",
      "Info: Writing image file hsa04727.pathview.png\n",
      "\n"
     ]
    }
   ],
   "source": [
    "run_pathview(\"hsa04724\")\n",
    "run_pathview(\"hsa04725\")\n",
    "run_pathview(\"hsa04726\")\n",
    "run_pathview(\"hsa04727\")"
   ]
  },
  {
   "cell_type": "code",
   "execution_count": 6,
   "metadata": {
    "execution": {
     "iopub.execute_input": "2021-08-05T15:03:51.011843Z",
     "iopub.status.busy": "2021-08-05T15:03:51.010552Z",
     "iopub.status.idle": "2021-08-05T15:03:55.798778Z",
     "shell.execute_reply": "2021-08-05T15:03:55.797135Z"
    }
   },
   "outputs": [
    {
     "name": "stderr",
     "output_type": "stream",
     "text": [
      "Info: Downloading xml files for hsa04728, 1/1 pathways..\n",
      "\n",
      "Info: Downloading png files for hsa04728, 1/1 pathways..\n",
      "\n",
      "'select()' returned 1:1 mapping between keys and columns\n",
      "\n",
      "Info: Working in directory /ceph/users/jbenja13/github_projects/LieberInstituteBrainSeqPhase3CaudateSchizophrenia/analysis/differential_expression/kegg_pathways/_m\n",
      "\n",
      "Info: Writing image file hsa04728.pathview.png\n",
      "\n",
      "'select()' returned 1:1 mapping between keys and columns\n",
      "\n",
      "Info: Working in directory /ceph/users/jbenja13/github_projects/LieberInstituteBrainSeqPhase3CaudateSchizophrenia/analysis/differential_expression/kegg_pathways/_m\n",
      "\n",
      "Info: Writing image file hsa04728.pathview.pdf\n",
      "\n"
     ]
    }
   ],
   "source": [
    "run_pathview(\"hsa04728\") # dopamine\n",
    "run_pathview(\"hsa04728\", FALSE)"
   ]
  },
  {
   "cell_type": "code",
   "execution_count": 7,
   "metadata": {
    "execution": {
     "iopub.execute_input": "2021-08-05T15:03:55.805982Z",
     "iopub.status.busy": "2021-08-05T15:03:55.804312Z",
     "iopub.status.idle": "2021-08-05T15:04:03.944239Z",
     "shell.execute_reply": "2021-08-05T15:04:03.942641Z"
    }
   },
   "outputs": [
    {
     "name": "stderr",
     "output_type": "stream",
     "text": [
      "Info: Downloading xml files for hsa04024, 1/1 pathways..\n",
      "\n",
      "Info: Downloading png files for hsa04024, 1/1 pathways..\n",
      "\n",
      "'select()' returned 1:1 mapping between keys and columns\n",
      "\n",
      "Info: Working in directory /ceph/users/jbenja13/github_projects/LieberInstituteBrainSeqPhase3CaudateSchizophrenia/analysis/differential_expression/kegg_pathways/_m\n",
      "\n",
      "Info: Writing image file hsa04024.pathview.png\n",
      "\n",
      "Info: Downloading xml files for hsa04540, 1/1 pathways..\n",
      "\n",
      "Info: Downloading png files for hsa04540, 1/1 pathways..\n",
      "\n",
      "'select()' returned 1:1 mapping between keys and columns\n",
      "\n",
      "Info: Working in directory /ceph/users/jbenja13/github_projects/LieberInstituteBrainSeqPhase3CaudateSchizophrenia/analysis/differential_expression/kegg_pathways/_m\n",
      "\n",
      "Info: Writing image file hsa04540.pathview.png\n",
      "\n"
     ]
    }
   ],
   "source": [
    "run_pathview(\"hsa04024\")\n",
    "run_pathview(\"hsa04540\")"
   ]
  },
  {
   "cell_type": "code",
   "execution_count": 8,
   "metadata": {
    "execution": {
     "iopub.execute_input": "2021-08-05T15:04:03.950656Z",
     "iopub.status.busy": "2021-08-05T15:04:03.949299Z",
     "iopub.status.idle": "2021-08-05T15:04:08.947469Z",
     "shell.execute_reply": "2021-08-05T15:04:08.945814Z"
    }
   },
   "outputs": [
    {
     "name": "stderr",
     "output_type": "stream",
     "text": [
      "Info: Downloading xml files for hsa04713, 1/1 pathways..\n",
      "\n",
      "Info: Downloading png files for hsa04713, 1/1 pathways..\n",
      "\n",
      "'select()' returned 1:1 mapping between keys and columns\n",
      "\n",
      "Info: Working in directory /ceph/users/jbenja13/github_projects/LieberInstituteBrainSeqPhase3CaudateSchizophrenia/analysis/differential_expression/kegg_pathways/_m\n",
      "\n",
      "Info: Writing image file hsa04713.pathview.png\n",
      "\n",
      "Info: Downloading xml files for hsa04710, 1/1 pathways..\n",
      "\n",
      "Info: Downloading png files for hsa04710, 1/1 pathways..\n",
      "\n",
      "'select()' returned 1:1 mapping between keys and columns\n",
      "\n",
      "Info: Working in directory /ceph/users/jbenja13/github_projects/LieberInstituteBrainSeqPhase3CaudateSchizophrenia/analysis/differential_expression/kegg_pathways/_m\n",
      "\n",
      "Info: Writing image file hsa04710.pathview.png\n",
      "\n"
     ]
    }
   ],
   "source": [
    "## Circadian\n",
    "run_pathview(\"hsa04713\")\n",
    "run_pathview(\"hsa04710\")"
   ]
  },
  {
   "cell_type": "markdown",
   "metadata": {},
   "source": [
    "## Session Info"
   ]
  },
  {
   "cell_type": "code",
   "execution_count": 9,
   "metadata": {
    "execution": {
     "iopub.execute_input": "2021-08-05T15:04:08.954178Z",
     "iopub.status.busy": "2021-08-05T15:04:08.952831Z",
     "iopub.status.idle": "2021-08-05T15:04:09.279041Z",
     "shell.execute_reply": "2021-08-05T15:04:09.277460Z"
    }
   },
   "outputs": [
    {
     "data": {
      "text/plain": [
       "[1] \"2021-08-05 11:04:08 EDT\""
      ]
     },
     "metadata": {},
     "output_type": "display_data"
    },
    {
     "data": {
      "text/plain": [
       "   user  system elapsed \n",
       " 33.130   2.285  52.010 "
      ]
     },
     "metadata": {},
     "output_type": "display_data"
    },
    {
     "data": {
      "text/plain": [
       "─ Session info ───────────────────────────────────────────────────────────────────────────────────────────────────────\n",
       " setting  value                       \n",
       " version  R version 4.0.3 (2020-10-10)\n",
       " os       Arch Linux                  \n",
       " system   x86_64, linux-gnu           \n",
       " ui       X11                         \n",
       " language (EN)                        \n",
       " collate  en_US.UTF-8                 \n",
       " ctype    en_US.UTF-8                 \n",
       " tz       America/New_York            \n",
       " date     2021-08-05                  \n",
       "\n",
       "─ Packages ───────────────────────────────────────────────────────────────────────────────────────────────────────────\n",
       " package       * version  date       lib source        \n",
       " AnnotationDbi   1.52.0   2020-10-27 [1] Bioconductor  \n",
       " assertthat      0.2.1    2019-03-21 [1] CRAN (R 4.0.2)\n",
       " base64enc       0.1-3    2015-07-28 [1] CRAN (R 4.0.2)\n",
       " Biobase         2.50.0   2020-10-27 [1] Bioconductor  \n",
       " BiocGenerics    0.36.1   2021-04-16 [1] Bioconductor  \n",
       " Biostrings      2.58.0   2020-10-27 [1] Bioconductor  \n",
       " bit             4.0.4    2020-08-04 [1] CRAN (R 4.0.2)\n",
       " bit64           4.0.5    2020-08-30 [1] CRAN (R 4.0.2)\n",
       " bitops          1.0-7    2021-04-24 [1] CRAN (R 4.0.3)\n",
       " blob            1.2.1    2020-01-20 [1] CRAN (R 4.0.2)\n",
       " cachem          1.0.5    2021-05-15 [1] CRAN (R 4.0.3)\n",
       " cli             3.0.0    2021-06-30 [1] CRAN (R 4.0.3)\n",
       " crayon          1.4.1    2021-02-08 [1] CRAN (R 4.0.3)\n",
       " data.table      1.14.0   2021-02-21 [1] CRAN (R 4.0.3)\n",
       " DBI             1.1.1    2021-01-15 [1] CRAN (R 4.0.2)\n",
       " digest          0.6.27   2020-10-24 [1] CRAN (R 4.0.2)\n",
       " dplyr         * 1.0.7    2021-06-18 [1] CRAN (R 4.0.3)\n",
       " ellipsis        0.3.2    2021-04-29 [1] CRAN (R 4.0.3)\n",
       " evaluate        0.14     2019-05-28 [1] CRAN (R 4.0.2)\n",
       " fansi           0.5.0    2021-05-25 [1] CRAN (R 4.0.3)\n",
       " fastmap         1.1.0    2021-01-25 [1] CRAN (R 4.0.2)\n",
       " generics        0.1.0    2020-10-31 [1] CRAN (R 4.0.2)\n",
       " glue            1.4.2    2020-08-27 [1] CRAN (R 4.0.2)\n",
       " graph           1.68.0   2020-10-27 [1] Bioconductor  \n",
       " htmltools       0.5.1.1  2021-01-22 [1] CRAN (R 4.0.2)\n",
       " httr            1.4.2    2020-07-20 [1] CRAN (R 4.0.2)\n",
       " IRanges         2.24.1   2020-12-12 [1] Bioconductor  \n",
       " IRdisplay       1.0      2021-01-20 [1] CRAN (R 4.0.2)\n",
       " IRkernel        1.2      2021-05-11 [1] CRAN (R 4.0.3)\n",
       " jsonlite        1.7.2    2020-12-09 [1] CRAN (R 4.0.2)\n",
       " KEGGgraph       1.50.0   2020-10-27 [1] Bioconductor  \n",
       " KEGGREST        1.30.1   2020-11-23 [1] Bioconductor  \n",
       " lifecycle       1.0.0    2021-02-15 [1] CRAN (R 4.0.3)\n",
       " magrittr        2.0.1    2020-11-17 [1] CRAN (R 4.0.2)\n",
       " memoise         2.0.0    2021-01-26 [1] CRAN (R 4.0.2)\n",
       " org.Hs.eg.db    3.12.0   2021-02-24 [1] Bioconductor  \n",
       " pathview      * 1.30.1   2020-12-10 [1] Bioconductor  \n",
       " pbdZMQ          0.3-5    2021-02-10 [1] CRAN (R 4.0.3)\n",
       " pillar          1.6.1    2021-05-16 [1] CRAN (R 4.0.3)\n",
       " pkgconfig       2.0.3    2019-09-22 [1] CRAN (R 4.0.2)\n",
       " png             0.1-7    2013-12-03 [1] CRAN (R 4.0.2)\n",
       " purrr           0.3.4    2020-04-17 [1] CRAN (R 4.0.2)\n",
       " R6              2.5.0    2020-10-28 [1] CRAN (R 4.0.2)\n",
       " Rcpp            1.0.7    2021-07-07 [1] CRAN (R 4.0.3)\n",
       " RCurl           1.98-1.3 2021-03-16 [1] CRAN (R 4.0.3)\n",
       " repr            1.1.3    2021-01-21 [1] CRAN (R 4.0.2)\n",
       " Rgraphviz       2.34.0   2020-10-27 [1] Bioconductor  \n",
       " rlang           0.4.11   2021-04-30 [1] CRAN (R 4.0.3)\n",
       " RSQLite         2.2.7    2021-04-22 [1] CRAN (R 4.0.3)\n",
       " S4Vectors       0.28.1   2020-12-09 [1] Bioconductor  \n",
       " sessioninfo     1.1.1    2018-11-05 [1] CRAN (R 4.0.2)\n",
       " tibble          3.1.2    2021-05-16 [1] CRAN (R 4.0.3)\n",
       " tidyselect      1.1.1    2021-04-30 [1] CRAN (R 4.0.3)\n",
       " utf8            1.2.1    2021-03-12 [1] CRAN (R 4.0.3)\n",
       " uuid            0.1-4    2020-02-26 [1] CRAN (R 4.0.2)\n",
       " vctrs           0.3.8    2021-04-29 [1] CRAN (R 4.0.3)\n",
       " withr           2.4.2    2021-04-18 [1] CRAN (R 4.0.3)\n",
       " XML             3.99-0.6 2021-03-16 [1] CRAN (R 4.0.3)\n",
       " XVector         0.30.0   2020-10-27 [1] Bioconductor  \n",
       " zlibbioc        1.36.0   2020-10-27 [1] Bioconductor  \n",
       "\n",
       "[1] /home/jbenja13/R/x86_64-pc-linux-gnu-library/4.0\n",
       "[2] /usr/lib/R/library"
      ]
     },
     "metadata": {},
     "output_type": "display_data"
    }
   ],
   "source": [
    "Sys.time()\n",
    "proc.time()\n",
    "options(width=120)\n",
    "sessioninfo::session_info()"
   ]
  }
 ],
 "metadata": {
  "kernelspec": {
   "display_name": "R",
   "language": "R",
   "name": "ir"
  },
  "language_info": {
   "codemirror_mode": "r",
   "file_extension": ".r",
   "mimetype": "text/x-r-source",
   "name": "R",
   "pygments_lexer": "r",
   "version": "4.0.3"
  }
 },
 "nbformat": 4,
 "nbformat_minor": 4
}
