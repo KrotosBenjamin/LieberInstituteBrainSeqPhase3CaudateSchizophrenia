{
 "cells": [
  {
   "cell_type": "markdown",
   "metadata": {},
   "source": [
    "# Gene term enrichment analysis"
   ]
  },
  {
   "cell_type": "code",
   "execution_count": 1,
   "metadata": {},
   "outputs": [
    {
     "name": "stderr",
     "output_type": "stream",
     "text": [
      "\n",
      "\n",
      "##############################################################################\n",
      "Pathview is an open source software package distributed under GNU General\n",
      "Public License version 3 (GPLv3). Details of GPLv3 is available at\n",
      "http://www.gnu.org/licenses/gpl-3.0.html. Particullary, users are required to\n",
      "formally cite the original Pathview paper (not just mention it) in publications\n",
      "or products. For details, do citation(\"pathview\") within R.\n",
      "\n",
      "The pathview downloads and uses KEGG data. Non-academic uses may require a KEGG\n",
      "license agreement (details at http://www.kegg.jp/kegg/legal.html).\n",
      "##############################################################################\n",
      "\n",
      "\n",
      "Attaching package: 'dplyr'\n",
      "\n",
      "\n",
      "The following objects are masked from 'package:stats':\n",
      "\n",
      "    filter, lag\n",
      "\n",
      "\n",
      "The following objects are masked from 'package:base':\n",
      "\n",
      "    intersect, setdiff, setequal, union\n",
      "\n",
      "\n"
     ]
    }
   ],
   "source": [
    "library(pathview)\n",
    "library(dplyr)"
   ]
  },
  {
   "cell_type": "markdown",
   "metadata": {},
   "source": [
    "## Prep data"
   ]
  },
  {
   "cell_type": "code",
   "execution_count": 2,
   "metadata": {},
   "outputs": [],
   "source": [
    "inputfile = \"../../../differential_expression/_m/genes/diffExpr_szVctl_full.txt\"\n",
    "\n",
    "geneList = data.table::fread(inputfile) %>% na.exclude() %>% \n",
    "    tibble::rownames_to_column() %>% select(logFC, EntrezID) %>% \n",
    "    distinct(EntrezID, .keep_all=TRUE) %>% \n",
    "    tibble::column_to_rownames(\"EntrezID\") %>% as.vector\n",
    "genes = data.table::fread(inputfile) %>% na.exclude() %>% \n",
    "    filter(`adj.P.Val` <= 0.05) %>% tibble::rownames_to_column() %>% \n",
    "    select(EntrezID) %>% distinct(EntrezID, .keep_all=TRUE) %>% \n",
    "    as.vector"
   ]
  },
  {
   "cell_type": "markdown",
   "metadata": {},
   "source": [
    "## Pathview plotting"
   ]
  },
  {
   "cell_type": "code",
   "execution_count": 5,
   "metadata": {},
   "outputs": [],
   "source": [
    "run_pathview <- function(pathwayID, native=TRUE){\n",
    "    pathview(gene.data=geneList, pathway.id=pathwayID,\n",
    "         species='hsa', limit=list(gene=0.5, cpd=0.5), \n",
    "             kegg.native=native)\n",
    "}"
   ]
  },
  {
   "cell_type": "code",
   "execution_count": 4,
   "metadata": {},
   "outputs": [
    {
     "name": "stderr",
     "output_type": "stream",
     "text": [
      "Info: Downloading xml files for hsa04020, 1/1 pathways..\n",
      "\n",
      "Info: Downloading png files for hsa04020, 1/1 pathways..\n",
      "\n",
      "'select()' returned 1:1 mapping between keys and columns\n",
      "\n",
      "Info: Working in directory /ceph/projects/v4_phase3_paper/analysis/differential_expression/kegg_pathways/_h\n",
      "\n",
      "Info: Writing image file hsa04020.pathview.png\n",
      "\n"
     ]
    }
   ],
   "source": [
    "run_pathview(\"hsa04020\")\n",
    "run_pathview(\"hsa00350\")"
   ]
  },
  {
   "cell_type": "code",
   "execution_count": 9,
   "metadata": {},
   "outputs": [],
   "source": [
    "run_pathview(\"hsa04724\")\n",
    "run_pathview(\"hsa04725\")\n",
    "run_pathview(\"hsa04726\")\n",
    "run_pathview(\"hsa04727\")"
   ]
  },
  {
   "cell_type": "code",
   "execution_count": 9,
   "metadata": {},
   "outputs": [
    {
     "name": "stderr",
     "output_type": "stream",
     "text": [
      "Info: Downloading xml files for hsa04724, 1/1 pathways..\n",
      "Info: Downloading png files for hsa04724, 1/1 pathways..\n",
      "'select()' returned 1:1 mapping between keys and columns\n",
      "Info: Working in directory /ceph/projects/v3_phase3_paper/analysis/dopamine_system/kegg_pathways/_h\n",
      "Info: Writing image file hsa04724.pathview.png\n",
      "Info: Downloading xml files for hsa04725, 1/1 pathways..\n",
      "Info: Downloading png files for hsa04725, 1/1 pathways..\n",
      "'select()' returned 1:1 mapping between keys and columns\n",
      "Info: Working in directory /ceph/projects/v3_phase3_paper/analysis/dopamine_system/kegg_pathways/_h\n",
      "Info: Writing image file hsa04725.pathview.png\n",
      "Info: Downloading xml files for hsa04726, 1/1 pathways..\n",
      "Info: Downloading png files for hsa04726, 1/1 pathways..\n",
      "'select()' returned 1:1 mapping between keys and columns\n",
      "Info: Working in directory /ceph/projects/v3_phase3_paper/analysis/dopamine_system/kegg_pathways/_h\n",
      "Info: Writing image file hsa04726.pathview.png\n",
      "Info: Downloading xml files for hsa04727, 1/1 pathways..\n",
      "Info: Downloading png files for hsa04727, 1/1 pathways..\n",
      "'select()' returned 1:1 mapping between keys and columns\n",
      "Info: Working in directory /ceph/projects/v3_phase3_paper/analysis/dopamine_system/kegg_pathways/_h\n",
      "Info: Writing image file hsa04727.pathview.png\n",
      "Info: Downloading xml files for hsa04728, 1/1 pathways..\n",
      "Info: Downloading png files for hsa04728, 1/1 pathways..\n",
      "'select()' returned 1:1 mapping between keys and columns\n",
      "Info: Working in directory /ceph/projects/v3_phase3_paper/analysis/dopamine_system/kegg_pathways/_h\n",
      "Info: Writing image file hsa04728.pathview.png\n"
     ]
    }
   ],
   "source": [
    "run_pathview(\"hsa04728\") # dopamine\n",
    "run_pathview(\"hsa04728\", FALSE)"
   ]
  },
  {
   "cell_type": "code",
   "execution_count": null,
   "metadata": {},
   "outputs": [],
   "source": [
    "run_pathview(\"hsa04024\")\n",
    "run_pathview(\"hsa04540\")"
   ]
  },
  {
   "cell_type": "code",
   "execution_count": 13,
   "metadata": {},
   "outputs": [
    {
     "name": "stderr",
     "output_type": "stream",
     "text": [
      "'select()' returned 1:1 mapping between keys and columns\n",
      "Info: Working in directory /ceph/projects/v3_phase3_paper/analysis/dopamine_system/kegg_pathways/_h\n",
      "Info: Writing image file hsa04010.pathview.png\n",
      "Info: Downloading xml files for hsa04713, 1/1 pathways..\n",
      "Info: Downloading png files for hsa04713, 1/1 pathways..\n",
      "'select()' returned 1:1 mapping between keys and columns\n",
      "Info: Working in directory /ceph/projects/v3_phase3_paper/analysis/dopamine_system/kegg_pathways/_h\n",
      "Info: Writing image file hsa04713.pathview.png\n",
      "Info: Downloading xml files for hsa04927, 1/1 pathways..\n",
      "Info: Downloading png files for hsa04927, 1/1 pathways..\n",
      "'select()' returned 1:1 mapping between keys and columns\n",
      "Info: Working in directory /ceph/projects/v3_phase3_paper/analysis/dopamine_system/kegg_pathways/_h\n",
      "Info: Writing image file hsa04927.pathview.png\n",
      "Info: Downloading xml files for hsa04710, 1/1 pathways..\n",
      "Info: Downloading png files for hsa04710, 1/1 pathways..\n",
      "'select()' returned 1:1 mapping between keys and columns\n",
      "Info: Working in directory /ceph/projects/v3_phase3_paper/analysis/dopamine_system/kegg_pathways/_h\n",
      "Info: Writing image file hsa04710.pathview.png\n"
     ]
    }
   ],
   "source": [
    "## Circadian\n",
    "run_pathview(\"hsa04713\")\n",
    "run_pathview(\"hsa04710\")"
   ]
  },
  {
   "cell_type": "markdown",
   "metadata": {},
   "source": [
    "## Session Info"
   ]
  },
  {
   "cell_type": "code",
   "execution_count": null,
   "metadata": {},
   "outputs": [],
   "source": [
    "Sys.time()\n",
    "proc.time()\n",
    "options(width=120)\n",
    "sessioninfo::session_info()"
   ]
  }
 ],
 "metadata": {
  "kernelspec": {
   "display_name": "R",
   "language": "R",
   "name": "ir"
  },
  "language_info": {
   "codemirror_mode": "r",
   "file_extension": ".r",
   "mimetype": "text/x-r-source",
   "name": "R",
   "pygments_lexer": "r",
   "version": "4.0.3"
  }
 },
 "nbformat": 4,
 "nbformat_minor": 4
}
