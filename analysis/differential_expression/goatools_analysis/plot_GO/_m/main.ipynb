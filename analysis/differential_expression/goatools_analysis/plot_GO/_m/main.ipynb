{
 "cells": [
  {
   "cell_type": "markdown",
   "metadata": {},
   "source": [
    "# Visualize GO analysis"
   ]
  },
  {
   "cell_type": "code",
   "execution_count": 1,
   "metadata": {
    "execution": {
     "iopub.execute_input": "2021-07-09T18:57:14.983684Z",
     "iopub.status.busy": "2021-07-09T18:57:14.982403Z",
     "iopub.status.idle": "2021-07-09T18:57:15.362042Z",
     "shell.execute_reply": "2021-07-09T18:57:15.362747Z"
    }
   },
   "outputs": [],
   "source": [
    "import numpy as np\n",
    "import pandas as pd"
   ]
  },
  {
   "cell_type": "code",
   "execution_count": 2,
   "metadata": {
    "execution": {
     "iopub.execute_input": "2021-07-09T18:57:15.368236Z",
     "iopub.status.busy": "2021-07-09T18:57:15.367591Z",
     "iopub.status.idle": "2021-07-09T18:57:15.369159Z",
     "shell.execute_reply": "2021-07-09T18:57:15.369671Z"
    }
   },
   "outputs": [],
   "source": [
    "def get_top_GO(tissue, fn, label):\n",
    "    df = pd.read_excel(fn).sort_values('p_uncorrected').head(15)\n",
    "    df['Log10'] = -np.log10(df['p_fdr_bh'])\n",
    "    df['Tissue'] = tissue\n",
    "    df['Bias'] = label\n",
    "    return df"
   ]
  },
  {
   "cell_type": "code",
   "execution_count": 3,
   "metadata": {
    "execution": {
     "iopub.execute_input": "2021-07-09T18:57:15.376843Z",
     "iopub.status.busy": "2021-07-09T18:57:15.376196Z",
     "iopub.status.idle": "2021-07-09T18:57:15.707586Z",
     "shell.execute_reply": "2021-07-09T18:57:15.708474Z"
    }
   },
   "outputs": [
    {
     "name": "stdout",
     "output_type": "stream",
     "text": [
      "0.0 0.07553648068669527\n"
     ]
    }
   ],
   "source": [
    "tissue = 'caudate'\n",
    "config = {\n",
    "    'All': '../../_m/GO_analysis_allDEG.xlsx',\n",
    "    'CTL': '../../_m/GO_analysis_downregulated.xlsx',\n",
    "    'SZ': '../../_m/GO_analysis_upregulated.xlsx',\n",
    "}\n",
    "\n",
    "df = pd.DataFrame()\n",
    "for bias in ['CTL', 'SZ']:\n",
    "    df = pd.concat([df, get_top_GO(tissue, config[bias], bias)], axis=0)\n",
    "\n",
    "fac = []\n",
    "for ii in range(df.shape[0]):\n",
    "    xx, yy = df[['ratio_in_study']].iloc[ii, 0].split('/')\n",
    "    fac.append((int(xx) / int(yy)) * 2)\n",
    "    \n",
    "df['geneRatio'] = fac\n",
    "print(np.min(fac), np.max(fac))"
   ]
  },
  {
   "cell_type": "code",
   "execution_count": 4,
   "metadata": {
    "execution": {
     "iopub.execute_input": "2021-07-09T18:57:15.714952Z",
     "iopub.status.busy": "2021-07-09T18:57:15.713546Z",
     "iopub.status.idle": "2021-07-09T18:57:15.719464Z",
     "shell.execute_reply": "2021-07-09T18:57:15.720545Z"
    }
   },
   "outputs": [],
   "source": [
    "df.to_csv(\"%s_GO_analysis.tsv\" % tissue, sep='\\t', index=False)"
   ]
  },
  {
   "cell_type": "markdown",
   "metadata": {},
   "source": [
    "## Plot "
   ]
  },
  {
   "cell_type": "code",
   "execution_count": 5,
   "metadata": {
    "execution": {
     "iopub.execute_input": "2021-07-09T18:57:15.726877Z",
     "iopub.status.busy": "2021-07-09T18:57:15.725636Z",
     "iopub.status.idle": "2021-07-09T18:57:16.544934Z",
     "shell.execute_reply": "2021-07-09T18:57:16.545479Z"
    }
   },
   "outputs": [],
   "source": [
    "%load_ext rpy2.ipython"
   ]
  },
  {
   "cell_type": "code",
   "execution_count": 6,
   "metadata": {
    "execution": {
     "iopub.execute_input": "2021-07-09T18:57:16.550788Z",
     "iopub.status.busy": "2021-07-09T18:57:16.550126Z",
     "iopub.status.idle": "2021-07-09T18:57:18.571797Z",
     "shell.execute_reply": "2021-07-09T18:57:18.572394Z"
    }
   },
   "outputs": [
    {
     "name": "stderr",
     "output_type": "stream",
     "text": [
      "R[write to console]: ── Attaching packages ─────────────────────────────────────── tidyverse 1.3.1 ──\n",
      "\n",
      "R[write to console]: ✔ tibble  3.1.2     ✔ dplyr   1.0.7\n",
      "✔ tidyr   1.1.3     ✔ stringr 1.4.0\n",
      "✔ readr   1.4.0     ✔ forcats 0.5.1\n",
      "✔ purrr   0.3.4     \n",
      "\n",
      "R[write to console]: ── Conflicts ────────────────────────────────────────── tidyverse_conflicts() ──\n",
      "✖ dplyr::filter() masks stats::filter()\n",
      "✖ dplyr::lag()    masks stats::lag()\n",
      "\n"
     ]
    }
   ],
   "source": [
    "%%R -i df\n",
    "library(ggplot2)\n",
    "library(tidyverse)\n",
    "\n",
    "save_plot <- function(p, fn, w, h){\n",
    "    for(ext in c('.svg', '.png', '.pdf')){\n",
    "        ggsave(file=paste0(fn,ext), plot=p, width=w, height=h)\n",
    "    }\n",
    "}\n",
    "\n",
    "plot_GO <- function(){\n",
    "    cbPalette <- c(\"Blue\", \"Red\")\n",
    "    gg1 = df %>%\n",
    "        ggplot(aes(x=Log10, y=name, color=Bias, size=geneRatio)) + \n",
    "        geom_point(shape=18, alpha=0.8) + labs(y='', x='-Log10 (FDR)') + \n",
    "        theme_bw() + \n",
    "        scale_colour_manual(name=\"DEGs Enrichment\", values=cbPalette, \n",
    "                            labels=c(\"Downregulated in SZ\", \"Upregulated in SZ\")) +\n",
    "        geom_vline(xintercept = -log10(0.05), linetype = \"dotted\") +\n",
    "        theme(axis.text=element_text(size=14),\n",
    "              axis.title=element_text(size=18, face='bold'),\n",
    "              strip.text=element_text(size=18, face='bold'))\n",
    "    return(gg1)\n",
    "}"
   ]
  },
  {
   "cell_type": "code",
   "execution_count": 7,
   "metadata": {
    "execution": {
     "iopub.execute_input": "2021-07-09T18:57:18.579804Z",
     "iopub.status.busy": "2021-07-09T18:57:18.579062Z",
     "iopub.status.idle": "2021-07-09T18:57:20.844401Z",
     "shell.execute_reply": "2021-07-09T18:57:20.844933Z"
    }
   },
   "outputs": [
    {
     "data": {
      "image/png": "[encoded data removed]"
     },
     "metadata": {},
     "output_type": "display_data"
    }
   ],
   "source": [
    "%%R\n",
    "gg1 = plot_GO()\n",
    "print(gg1)\n",
    "save_plot(gg1, \"GO_top15_stacked\", 12, 8)"
   ]
  },
  {
   "cell_type": "code",
   "execution_count": null,
   "metadata": {},
   "outputs": [],
   "source": []
  }
 ],
 "metadata": {
  "kernelspec": {
   "display_name": "Python 3",
   "language": "python",
   "name": "python3"
  },
  "language_info": {
   "codemirror_mode": {
    "name": "ipython",
    "version": 3
   },
   "file_extension": ".py",
   "mimetype": "text/x-python",
   "name": "python",
   "nbconvert_exporter": "python",
   "pygments_lexer": "ipython3",
   "version": "3.9.1"
  }
 },
 "nbformat": 4,
 "nbformat_minor": 4
}
