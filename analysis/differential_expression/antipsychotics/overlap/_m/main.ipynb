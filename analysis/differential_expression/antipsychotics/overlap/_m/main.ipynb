{
 "cells": [
  {
   "cell_type": "markdown",
   "metadata": {},
   "source": [
    "# Examining the overlap between antipsychotics analysis with main DE analysis"
   ]
  },
  {
   "cell_type": "code",
   "execution_count": 1,
   "metadata": {
    "execution": {
     "iopub.execute_input": "2021-07-09T19:53:46.201603Z",
     "iopub.status.busy": "2021-07-09T19:53:46.200493Z",
     "iopub.status.idle": "2021-07-09T19:53:46.539641Z",
     "shell.execute_reply": "2021-07-09T19:53:46.537944Z"
    }
   },
   "outputs": [],
   "source": [
    "import pandas as pd"
   ]
  },
  {
   "cell_type": "markdown",
   "metadata": {},
   "source": [
    "## Load DE genes results"
   ]
  },
  {
   "cell_type": "code",
   "execution_count": 2,
   "metadata": {
    "execution": {
     "iopub.execute_input": "2021-07-09T19:53:46.549710Z",
     "iopub.status.busy": "2021-07-09T19:53:46.548299Z",
     "iopub.status.idle": "2021-07-09T19:53:47.104125Z",
     "shell.execute_reply": "2021-07-09T19:53:47.104937Z"
    }
   },
   "outputs": [],
   "source": [
    "ap = pd.read_csv(\"../../_m/genes/diffExpr_sz_APVctl_full.txt\", sep='\\t', index_col=0)\n",
    "noap = pd.read_csv(\"../../_m/genes/diffExpr_sz_noAPVctl_full.txt\", sep='\\t', index_col=0)\n",
    "degs = pd.read_csv(\"../../../_m/genes/diffExpr_szVctl_full.txt\", sep='\\t', index_col=0)"
   ]
  },
  {
   "cell_type": "markdown",
   "metadata": {},
   "source": [
    "### FDR 5% comparison"
   ]
  },
  {
   "cell_type": "code",
   "execution_count": 3,
   "metadata": {
    "execution": {
     "iopub.execute_input": "2021-07-09T19:53:47.109629Z",
     "iopub.status.busy": "2021-07-09T19:53:47.109030Z",
     "iopub.status.idle": "2021-07-09T19:53:47.111010Z",
     "shell.execute_reply": "2021-07-09T19:53:47.111539Z"
    }
   },
   "outputs": [],
   "source": [
    "def get_degs(df, fdr):\n",
    "    return df[(df[\"adj.P.Val\"] < fdr)]"
   ]
  },
  {
   "cell_type": "code",
   "execution_count": 4,
   "metadata": {
    "execution": {
     "iopub.execute_input": "2021-07-09T19:53:47.116320Z",
     "iopub.status.busy": "2021-07-09T19:53:47.115765Z",
     "iopub.status.idle": "2021-07-09T19:53:47.130565Z",
     "shell.execute_reply": "2021-07-09T19:53:47.131669Z"
    }
   },
   "outputs": [
    {
     "data": {
      "text/plain": [
       "331"
      ]
     },
     "execution_count": 1,
     "metadata": {},
     "output_type": "execute_result"
    }
   ],
   "source": [
    "len(set(get_degs(ap, 0.05).index) & set(get_degs(noap, 0.05).index))"
   ]
  },
  {
   "cell_type": "code",
   "execution_count": 5,
   "metadata": {
    "execution": {
     "iopub.execute_input": "2021-07-09T19:53:47.138993Z",
     "iopub.status.busy": "2021-07-09T19:53:47.137641Z",
     "iopub.status.idle": "2021-07-09T19:53:47.144208Z",
     "shell.execute_reply": "2021-07-09T19:53:47.145349Z"
    }
   },
   "outputs": [
    {
     "data": {
      "text/plain": [
       "0.4962518740629685"
      ]
     },
     "execution_count": 1,
     "metadata": {},
     "output_type": "execute_result"
    }
   ],
   "source": [
    "len(set(get_degs(ap, 0.05).index) & set(get_degs(noap, 0.05).index)) / len(set(get_degs(noap, 0.05).index))"
   ]
  },
  {
   "cell_type": "code",
   "execution_count": 6,
   "metadata": {
    "execution": {
     "iopub.execute_input": "2021-07-09T19:53:47.150788Z",
     "iopub.status.busy": "2021-07-09T19:53:47.150152Z",
     "iopub.status.idle": "2021-07-09T19:53:47.157493Z",
     "shell.execute_reply": "2021-07-09T19:53:47.158143Z"
    }
   },
   "outputs": [
    {
     "data": {
      "text/plain": [
       "1929"
      ]
     },
     "execution_count": 1,
     "metadata": {},
     "output_type": "execute_result"
    }
   ],
   "source": [
    "len(set(get_degs(ap, 0.05).index) & set(get_degs(degs, 0.05).index))"
   ]
  },
  {
   "cell_type": "code",
   "execution_count": 7,
   "metadata": {
    "execution": {
     "iopub.execute_input": "2021-07-09T19:53:47.163241Z",
     "iopub.status.busy": "2021-07-09T19:53:47.162616Z",
     "iopub.status.idle": "2021-07-09T19:53:47.171593Z",
     "shell.execute_reply": "2021-07-09T19:53:47.170954Z"
    }
   },
   "outputs": [
    {
     "data": {
      "text/plain": [
       "0.7165676077265973"
      ]
     },
     "execution_count": 1,
     "metadata": {},
     "output_type": "execute_result"
    }
   ],
   "source": [
    "len(set(get_degs(ap, 0.05).index) & set(get_degs(degs, 0.05).index)) / len(set(get_degs(ap, 0.05).index))"
   ]
  },
  {
   "cell_type": "code",
   "execution_count": 8,
   "metadata": {
    "execution": {
     "iopub.execute_input": "2021-07-09T19:53:47.176533Z",
     "iopub.status.busy": "2021-07-09T19:53:47.175916Z",
     "iopub.status.idle": "2021-07-09T19:53:47.181091Z",
     "shell.execute_reply": "2021-07-09T19:53:47.181670Z"
    }
   },
   "outputs": [
    {
     "data": {
      "text/plain": [
       "520"
      ]
     },
     "execution_count": 1,
     "metadata": {},
     "output_type": "execute_result"
    }
   ],
   "source": [
    "len(set(get_degs(noap, 0.05).index) & set(get_degs(degs, 0.05).index))"
   ]
  },
  {
   "cell_type": "code",
   "execution_count": 9,
   "metadata": {
    "execution": {
     "iopub.execute_input": "2021-07-09T19:53:47.188220Z",
     "iopub.status.busy": "2021-07-09T19:53:47.186899Z",
     "iopub.status.idle": "2021-07-09T19:53:47.195920Z",
     "shell.execute_reply": "2021-07-09T19:53:47.194675Z"
    }
   },
   "outputs": [
    {
     "data": {
      "text/plain": [
       "0.7796101949025487"
      ]
     },
     "execution_count": 1,
     "metadata": {},
     "output_type": "execute_result"
    }
   ],
   "source": [
    "len(set(get_degs(noap, 0.05).index) & set(get_degs(degs, 0.05).index)) / len(set(get_degs(noap, 0.05).index))"
   ]
  },
  {
   "cell_type": "code",
   "execution_count": null,
   "metadata": {},
   "outputs": [],
   "source": []
  }
 ],
 "metadata": {
  "kernelspec": {
   "display_name": "Python 3",
   "language": "python",
   "name": "python3"
  },
  "language_info": {
   "codemirror_mode": {
    "name": "ipython",
    "version": 3
   },
   "file_extension": ".py",
   "mimetype": "text/x-python",
   "name": "python",
   "nbconvert_exporter": "python",
   "pygments_lexer": "ipython3",
   "version": "3.9.1"
  }
 },
 "nbformat": 4,
 "nbformat_minor": 4
}
