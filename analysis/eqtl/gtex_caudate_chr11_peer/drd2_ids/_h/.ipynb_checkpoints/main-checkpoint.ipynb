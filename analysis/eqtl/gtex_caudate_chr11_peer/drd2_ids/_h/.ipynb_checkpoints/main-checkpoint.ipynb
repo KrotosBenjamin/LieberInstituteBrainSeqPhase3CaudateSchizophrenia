{
 "cells": [
  {
   "cell_type": "markdown",
   "metadata": {},
   "source": [
    "# Generate 4 files:\n",
    "### list of DRD2 {gene, exon, junction, transcript} ids\n"
   ]
  },
  {
   "cell_type": "code",
   "execution_count": 1,
   "metadata": {},
   "outputs": [],
   "source": [
    "import pandas as pd"
   ]
  },
  {
   "cell_type": "code",
   "execution_count": null,
   "metadata": {},
   "outputs": [],
   "source": [
    "gene_len = pd.read_csv('/ceph/projects/v3_phase3_paper/inputs/gtex_v8/annotation/feature_lengths/_m/gene_annotation.txt', sep='\\t')\n",
    "drd2_gene = gene_len[(gene_len['gene_name'] == 'DRD2')].copy()\n",
    "\n",
    "with open(\"DRD2_genes.txt\", \"wt\") as f:\n",
    "    print(drd2_gene.gene_id.values[0], file=f)"
   ]
  },
  {
   "cell_type": "code",
   "execution_count": 14,
   "metadata": {},
   "outputs": [],
   "source": [
    "exon_len = pd.read_csv('/ceph/projects/v3_phase3_paper/inputs/gtex_v8/annotation/feature_lengths/_m/exon_annotation.txt', sep='\\t')\n",
    "drd2_exon = exon_len[(exon_len['gene_name'] == 'DRD2')].copy()\n",
    "\n",
    "with open(\"DRD2_exons.txt\", \"wt\") as f:\n",
    "    for ids in drd2_exon.exon_id:\n",
    "        print(ids, file=f)"
   ]
  },
  {
   "cell_type": "code",
   "execution_count": 18,
   "metadata": {},
   "outputs": [],
   "source": [
    "tx_len = pd.read_csv('/ceph/projects/v3_phase3_paper/inputs/gtex_v8/annotation/feature_lengths/_m/transcript_annotation.txt', sep='\\t')\n",
    "drd2_tx = tx_len[(tx_len['gene_name'] == 'DRD2')].copy()\n",
    "\n",
    "with open(\"DRD2_transcripts.txt\", \"wt\") as f:\n",
    "    for ids in drd2_tx.transcript_id:\n",
    "        print(ids, file=f)"
   ]
  },
  {
   "cell_type": "code",
   "execution_count": 19,
   "metadata": {},
   "outputs": [
    {
     "name": "stdout",
     "output_type": "stream",
     "text": [
      "chr11_113415612_113416862\n",
      "chr11_113417000_113418026\n",
      "chr11_113418137_113424366\n",
      "chr11_113412884_113414374\n",
      "chr11_113413341_113414374\n",
      "chr11_113415612_113418026\n",
      "chr11_113410921_113412555\n",
      "chr11_113474416_113475075\n",
      "chr11_113414462_113415420\n",
      "chr11_113424683_113475075\n",
      "chr11_113412884_113415420\n"
     ]
    }
   ],
   "source": [
    "drd2_jxn = {'chr11_113410921_113412555', 'chr11_113412884_113414374', 'chr11_113412884_113415420', 'chr11_113413341_113414374', \n",
    "            'chr11_113414462_113415420', 'chr11_113415612_113416862', 'chr11_113415612_113418026', 'chr11_113417000_113418026',\n",
    "            'chr11_113418137_113424366', 'chr11_113424683_113475075', 'chr11_113474416_113475075'}\n",
    "\n",
    "with open(\"DRD2_junctions.txt\", \"wt\") as f:\n",
    "    for names in drd2_jxn:\n",
    "        print(names, file=f)"
   ]
  }
 ],
 "metadata": {
  "kernelspec": {
   "display_name": "Python 3",
   "language": "python",
   "name": "python3"
  },
  "language_info": {
   "codemirror_mode": {
    "name": "ipython",
    "version": 3
   },
   "file_extension": ".py",
   "mimetype": "text/x-python",
   "name": "python",
   "nbconvert_exporter": "python",
   "pygments_lexer": "ipython3",
   "version": "3.8.1"
  }
 },
 "nbformat": 4,
 "nbformat_minor": 4
}
