{
 "cells": [
  {
   "cell_type": "markdown",
   "metadata": {},
   "source": [
    "## Calculate residualized expression values with covariates used in eqtl analysis"
   ]
  },
  {
   "cell_type": "code",
   "execution_count": null,
   "metadata": {},
   "outputs": [],
   "source": [
    "library(limma)"
   ]
  },
  {
   "cell_type": "code",
   "execution_count": null,
   "metadata": {},
   "outputs": [],
   "source": [
    "load(\"../../_m/expression.rda\")\n",
    "load(\"../../_m/covariates.rda\")\n",
    "ls()"
   ]
  },
  {
   "cell_type": "code",
   "execution_count": null,
   "metadata": {},
   "outputs": [],
   "source": [
    "stopifnot(all(colnames(covsGene0) == colnames(geneExpression)))\n",
    "mod = lmFit(geneExpression, t(rbind(intercept=1, covsGene0)))\n",
    "res = residuals(mod, geneExpression)\n",
    "write.csv(res, file='genes_residualized_expression.csv')"
   ]
  },
  {
   "cell_type": "code",
   "execution_count": null,
   "metadata": {},
   "outputs": [],
   "source": [
    "stopifnot(all(colnames(covsExon0) == colnames(exonExpression)))\n",
    "mod = lmFit(exonExpression, t(rbind(intercept=1, covsExon0)))\n",
    "res = residuals(mod, exonExpression)\n",
    "write.csv(res, file='exons_residualized_expression.csv')"
   ]
  },
  {
   "cell_type": "code",
   "execution_count": null,
   "metadata": {},
   "outputs": [],
   "source": [
    "stopifnot(all(colnames(covsJxn0) == colnames(jxnExpression)))\n",
    "mod = lmFit(jxnExpression, t(rbind(intercept=1, covsJxn0)))\n",
    "res = residuals(mod, jxnExpression)\n",
    "write.csv(res, file='junctions_residualized_expression.csv')"
   ]
  },
  {
   "cell_type": "code",
   "execution_count": null,
   "metadata": {},
   "outputs": [],
   "source": [
    "stopifnot(all(colnames(covsTx0) == colnames(txExpression)))\n",
    "mod = lmFit(txExpression, t(rbind(intercept=1, covsTx0)))\n",
    "res = residuals(mod, txExpression)\n",
    "write.csv(res, file='transcripts_residualized_expression.csv')"
   ]
  }
 ],
 "metadata": {
  "kernelspec": {
   "display_name": "R",
   "language": "R",
   "name": "ir"
  },
  "language_info": {
   "codemirror_mode": "r",
   "file_extension": ".r",
   "mimetype": "text/x-r-source",
   "name": "R",
   "pygments_lexer": "r",
   "version": "3.6.0"
  }
 },
 "nbformat": 4,
 "nbformat_minor": 2
}
