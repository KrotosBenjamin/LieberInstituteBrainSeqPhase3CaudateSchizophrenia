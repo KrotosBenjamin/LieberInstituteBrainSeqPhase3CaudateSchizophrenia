{
 "cells": [
  {
   "cell_type": "code",
   "execution_count": null,
   "metadata": {},
   "outputs": [],
   "source": [
    "import numpy as np\n",
    "import pandas as pd\n",
    "import seaborn as sns"
   ]
  },
  {
   "cell_type": "code",
   "execution_count": null,
   "metadata": {},
   "outputs": [],
   "source": [
    "df = pd.read_csv('../../_m/wgcna_module_enrichment.csv', index_col=0)\\\n",
    "       .sort_values(\"n_genes\", ascending=False)\n",
    "df['zero'] = 0 \n",
    "df2 = np.log2(df[['gwas_or', 'twas_or', 'de_or']])\n",
    "#df2.iloc[21] = [0,0,0]\n",
    "df2.columns = ['GWAS', 'TWAS', 'DE']\n",
    "df2.index = [\"Module %s (%d genes)\" % (x,y) for x,y in zip(df2.index, df['n_genes'])]\n",
    "df3 = df[['gwas_fdr_bh', 'twas_fdr_bh', 'de_fdr_bh']]\n",
    "\n",
    "p = sns.heatmap(df2, cmap='coolwarm', annot=df3, yticklabels=df2.index,\n",
    "                cbar_kws={'label': 'log2(enrichment ratio)'})\n",
    "p.set_title(\"Enrichment/depletion GWAS, TWAS and DE genes in WGCNA modules\\n(FDR values)\")\n",
    "p.get_figure().savefig('wgcna_module_enrichment.pdf', bbox_inches='tight')\n",
    "p"
   ]
  },
  {
   "cell_type": "code",
   "execution_count": null,
   "metadata": {},
   "outputs": [],
   "source": [
    "df = pd.read_csv('../../_m/wgcna_module_enrichment_excluding_mhc_region.csv', index_col=0)\\\n",
    "       .sort_values(\"n_genes\", ascending=False)\n",
    "df['zero'] = 0 \n",
    "df2 = np.log2(df[['gwas_or', 'twas_or', 'de_or']])\n",
    "#df2.iloc[19] = [0,0,0]\n",
    "df2.columns = ['GWAS', 'TWAS', 'DE']\n",
    "df2.index = [\"Module %s (%d genes)\" % (x,y) for x,y in zip(df2.index, df['n_genes'])]\n",
    "df3 = df[['gwas_fdr_bh', 'twas_fdr_bh', 'de_fdr_bh']]\n",
    "p = sns.heatmap(df2, cmap='coolwarm', annot=df3, yticklabels=df2.index,\n",
    "                cbar_kws={'label': 'log2(enrichment ratio)'})\\\n",
    "       .set_title(\"Enrichment/depletion GWAS, TWAS and DE genes in WGCNA modules\\n(FDR values, MHC region excluded)\")\n",
    "p.get_figure().savefig('wgcna_module_enrichment_excluding_mhc_region.pdf', bbox_inches='tight')\n",
    "p"
   ]
  },
  {
   "cell_type": "code",
   "execution_count": null,
   "metadata": {},
   "outputs": [],
   "source": []
  }
 ],
 "metadata": {
  "kernelspec": {
   "display_name": "Python 3",
   "language": "python",
   "name": "python3"
  },
  "language_info": {
   "codemirror_mode": {
    "name": "ipython",
    "version": 3
   },
   "file_extension": ".py",
   "mimetype": "text/x-python",
   "name": "python",
   "nbconvert_exporter": "python",
   "pygments_lexer": "ipython3",
   "version": "3.9.1"
  }
 },
 "nbformat": 4,
 "nbformat_minor": 4
}
