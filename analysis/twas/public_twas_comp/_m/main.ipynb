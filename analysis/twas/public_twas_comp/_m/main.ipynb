{
 "cells": [
  {
   "cell_type": "markdown",
   "metadata": {},
   "source": [
    "# Comparison with public TWAS associations for SZ"
   ]
  },
  {
   "cell_type": "code",
   "execution_count": 1,
   "metadata": {
    "execution": {
     "iopub.execute_input": "2021-08-11T16:40:05.673715Z",
     "iopub.status.busy": "2021-08-11T16:40:05.672227Z",
     "iopub.status.idle": "2021-08-11T16:40:06.233990Z",
     "shell.execute_reply": "2021-08-11T16:40:06.234485Z"
    }
   },
   "outputs": [],
   "source": [
    "import urllib\n",
    "import numpy as np\n",
    "import pandas as pd\n",
    "from html.parser import HTMLParser\n",
    "from scipy.stats import fisher_exact\n",
    "from html.entities import name2codepoint"
   ]
  },
  {
   "cell_type": "code",
   "execution_count": 2,
   "metadata": {
    "execution": {
     "iopub.execute_input": "2021-08-11T16:40:06.242782Z",
     "iopub.status.busy": "2021-08-11T16:40:06.241927Z",
     "iopub.status.idle": "2021-08-11T16:40:06.243732Z",
     "shell.execute_reply": "2021-08-11T16:40:06.244200Z"
    }
   },
   "outputs": [],
   "source": [
    "class MyHTMLParser(HTMLParser):\n",
    "    def __init__(self):\n",
    "        super().__init__()\n",
    "        self.genes = []\n",
    "        \n",
    "    def handle_starttag(self, tag, attrs):\n",
    "        for attr in attrs:\n",
    "            if attr[0] == 'href' and attr[1].startswith('/genes/'):\n",
    "                gene = [attr[1][len('/genes/'):]]\n",
    "                self.genes += gene"
   ]
  },
  {
   "cell_type": "markdown",
   "metadata": {},
   "source": [
    "## MHC genes"
   ]
  },
  {
   "cell_type": "code",
   "execution_count": 3,
   "metadata": {
    "execution": {
     "iopub.execute_input": "2021-08-11T16:40:06.248419Z",
     "iopub.status.busy": "2021-08-11T16:40:06.247852Z",
     "iopub.status.idle": "2021-08-11T16:40:06.375020Z",
     "shell.execute_reply": "2021-08-11T16:40:06.376092Z"
    }
   },
   "outputs": [
    {
     "data": {
      "text/plain": [
       "136"
      ]
     },
     "execution_count": 1,
     "metadata": {},
     "output_type": "execute_result"
    }
   ],
   "source": [
    "mhc_genes = pd.read_csv('/ceph/projects/v4_phase3_paper/analysis/twas/'+\\\n",
    "                        \"gene_weights/fusion_pgc2/_m/PGC2.SCZ.Caudate.6.dat.MHC\", sep='\\t').ID\n",
    "len(set(mhc_genes))"
   ]
  },
  {
   "cell_type": "markdown",
   "metadata": {},
   "source": [
    "## Caudate specific of BrainSeq brain regions"
   ]
  },
  {
   "cell_type": "code",
   "execution_count": 4,
   "metadata": {
    "execution": {
     "iopub.execute_input": "2021-08-11T16:40:06.385430Z",
     "iopub.status.busy": "2021-08-11T16:40:06.384105Z",
     "iopub.status.idle": "2021-08-11T16:40:06.410590Z",
     "shell.execute_reply": "2021-08-11T16:40:06.409389Z"
    }
   },
   "outputs": [
    {
     "data": {
      "text/plain": [
       "(445, 47)"
      ]
     },
     "execution_count": 1,
     "metadata": {},
     "output_type": "execute_result"
    }
   ],
   "source": [
    "fn = \"../../libd_twas_comparison/_m/caudate_only_twasList_genes.txt\"\n",
    "caudate = pd.read_csv(fn, sep='\\t')\n",
    "caudate.shape"
   ]
  },
  {
   "cell_type": "code",
   "execution_count": 5,
   "metadata": {
    "execution": {
     "iopub.execute_input": "2021-08-11T16:40:06.417599Z",
     "iopub.status.busy": "2021-08-11T16:40:06.416338Z",
     "iopub.status.idle": "2021-08-11T16:40:06.420607Z",
     "shell.execute_reply": "2021-08-11T16:40:06.421635Z"
    }
   },
   "outputs": [
    {
     "data": {
      "text/plain": [
       "356"
      ]
     },
     "execution_count": 1,
     "metadata": {},
     "output_type": "execute_result"
    }
   ],
   "source": [
    "len(set(caudate.ID) - set(mhc_genes))"
   ]
  },
  {
   "cell_type": "code",
   "execution_count": 6,
   "metadata": {
    "execution": {
     "iopub.execute_input": "2021-08-11T16:40:06.430603Z",
     "iopub.status.busy": "2021-08-11T16:40:06.429349Z",
     "iopub.status.idle": "2021-08-11T16:40:06.440358Z",
     "shell.execute_reply": "2021-08-11T16:40:06.439212Z"
    }
   },
   "outputs": [
    {
     "data": {
      "text/html": [
       "<div>\n",
       "<style scoped>\n",
       "    .dataframe tbody tr th:only-of-type {\n",
       "        vertical-align: middle;\n",
       "    }\n",
       "\n",
       "    .dataframe tbody tr th {\n",
       "        vertical-align: top;\n",
       "    }\n",
       "\n",
       "    .dataframe thead th {\n",
       "        text-align: right;\n",
       "    }\n",
       "</style>\n",
       "<table border=\"1\" class=\"dataframe\">\n",
       "  <thead>\n",
       "    <tr style=\"text-align: right;\">\n",
       "      <th></th>\n",
       "      <th>FILE</th>\n",
       "      <th>ID</th>\n",
       "      <th>CHR_TWAS</th>\n",
       "      <th>P0</th>\n",
       "      <th>P1</th>\n",
       "    </tr>\n",
       "  </thead>\n",
       "  <tbody>\n",
       "    <tr>\n",
       "      <th>2</th>\n",
       "      <td>ENSG00000100138</td>\n",
       "      <td>SNU13</td>\n",
       "      <td>22</td>\n",
       "      <td>41673930</td>\n",
       "      <td>41690504.0</td>\n",
       "    </tr>\n",
       "    <tr>\n",
       "      <th>3</th>\n",
       "      <td>ENSG00000204963</td>\n",
       "      <td>PCDHA7</td>\n",
       "      <td>5</td>\n",
       "      <td>140834248</td>\n",
       "      <td>141012344.0</td>\n",
       "    </tr>\n",
       "  </tbody>\n",
       "</table>\n",
       "</div>"
      ],
      "text/plain": [
       "              FILE      ID  CHR_TWAS         P0           P1\n",
       "2  ENSG00000100138   SNU13        22   41673930   41690504.0\n",
       "3  ENSG00000204963  PCDHA7         5  140834248  141012344.0"
      ]
     },
     "execution_count": 1,
     "metadata": {},
     "output_type": "execute_result"
    }
   ],
   "source": [
    "caudate_noMHC = caudate[(caudate[\"ID\"].isin(list(set(caudate.ID) - set(mhc_genes))))].copy()\n",
    "caudate_noMHC.iloc[0:2, 0:5]"
   ]
  },
  {
   "cell_type": "markdown",
   "metadata": {},
   "source": [
    "## TWAS Hub comparison"
   ]
  },
  {
   "cell_type": "markdown",
   "metadata": {},
   "source": [
    "### Schizophrenia 2014"
   ]
  },
  {
   "cell_type": "code",
   "execution_count": 7,
   "metadata": {
    "execution": {
     "iopub.execute_input": "2021-08-11T16:40:06.448232Z",
     "iopub.status.busy": "2021-08-11T16:40:06.446984Z",
     "iopub.status.idle": "2021-08-11T16:40:06.674006Z",
     "shell.execute_reply": "2021-08-11T16:40:06.672748Z"
    }
   },
   "outputs": [],
   "source": [
    "parser = MyHTMLParser()\n",
    "html_str = urllib.request.urlopen('http://twas-hub.org/traits/Schizophrenia/').read().decode()\n",
    "parser.feed(html_str)\n",
    "scz_2014 = np.unique(parser.genes)"
   ]
  },
  {
   "cell_type": "code",
   "execution_count": 8,
   "metadata": {
    "execution": {
     "iopub.execute_input": "2021-08-11T16:40:06.680101Z",
     "iopub.status.busy": "2021-08-11T16:40:06.678824Z",
     "iopub.status.idle": "2021-08-11T16:40:06.683100Z",
     "shell.execute_reply": "2021-08-11T16:40:06.684121Z"
    }
   },
   "outputs": [
    {
     "data": {
      "text/plain": [
       "(49,)"
      ]
     },
     "execution_count": 1,
     "metadata": {},
     "output_type": "execute_result"
    }
   ],
   "source": [
    "scz_2014.shape"
   ]
  },
  {
   "cell_type": "markdown",
   "metadata": {},
   "source": [
    "### Schizophrenia 2018"
   ]
  },
  {
   "cell_type": "code",
   "execution_count": 9,
   "metadata": {
    "execution": {
     "iopub.execute_input": "2021-08-11T16:40:06.690374Z",
     "iopub.status.busy": "2021-08-11T16:40:06.689097Z",
     "iopub.status.idle": "2021-08-11T16:40:06.857067Z",
     "shell.execute_reply": "2021-08-11T16:40:06.855848Z"
    }
   },
   "outputs": [],
   "source": [
    "parser = MyHTMLParser()\n",
    "html_str = urllib.request.urlopen('http://twas-hub.org/traits/SCZ_2018/').read().decode()\n",
    "parser.feed(html_str)\n",
    "scz_2018 = np.unique(parser.genes)"
   ]
  },
  {
   "cell_type": "markdown",
   "metadata": {},
   "source": [
    "### TWAS hub comparison"
   ]
  },
  {
   "cell_type": "code",
   "execution_count": 10,
   "metadata": {
    "execution": {
     "iopub.execute_input": "2021-08-11T16:40:06.863289Z",
     "iopub.status.busy": "2021-08-11T16:40:06.862017Z",
     "iopub.status.idle": "2021-08-11T16:40:06.866295Z",
     "shell.execute_reply": "2021-08-11T16:40:06.867327Z"
    }
   },
   "outputs": [
    {
     "data": {
      "text/plain": [
       "67"
      ]
     },
     "execution_count": 1,
     "metadata": {},
     "output_type": "execute_result"
    }
   ],
   "source": [
    "twas_hub = np.unique(np.append(scz_2014, scz_2018))\n",
    "len(twas_hub)"
   ]
  },
  {
   "cell_type": "code",
   "execution_count": 11,
   "metadata": {
    "execution": {
     "iopub.execute_input": "2021-08-11T16:40:06.875286Z",
     "iopub.status.busy": "2021-08-11T16:40:06.873978Z",
     "iopub.status.idle": "2021-08-11T16:40:06.878355Z",
     "shell.execute_reply": "2021-08-11T16:40:06.879380Z"
    }
   },
   "outputs": [
    {
     "data": {
      "text/plain": [
       "array(['AC011816.1', 'AC103965.1', 'ACTR5', 'AKT3', 'ALMS1P', 'ANKRD44',\n",
       "       'AS3MT', 'ATG13', 'BAI1', 'C12orf65', 'C17orf39', 'C2orf47',\n",
       "       'CACNA2D4', 'CEP170', 'CHRNA5', 'CLCN3', 'CNTN4', 'CPEB1', 'CPNE7',\n",
       "       'CRELD2', 'CUL3', 'CYSTM1', 'DCP1B', 'ELAC2', 'ERCC8', 'FAM53C',\n",
       "       'FAM83H', 'FES', 'FLJ10661', 'GIGYF1', 'GMIP', 'HSPD1', 'IK',\n",
       "       'IMMP2L', 'ITIH4-AS1', 'KIAA0319', 'KLC1', 'LGSN', 'LRRC48',\n",
       "       'MAD1L1', 'MAP7D1', 'MAPK3', 'MGAT3', 'NAGA', 'NGEF', 'PCCB',\n",
       "       'PCNX', 'PITPNM2', 'PLEKHO1', 'PPP1R13B', 'PPP1R14B', 'RERE',\n",
       "       'RP11-981G7.6', 'SDCCAG8', 'SF3B1', 'SLCO4C1', 'SMG6', 'SNAP91',\n",
       "       'SUGP2', 'THOC7', 'TRIM38', 'TTC14', 'U91328.21', 'VPS29',\n",
       "       'VPS37A', 'XPNPEP3', 'ZNF318'], dtype='<U12')"
      ]
     },
     "execution_count": 1,
     "metadata": {},
     "output_type": "execute_result"
    }
   ],
   "source": [
    "twas_hub"
   ]
  },
  {
   "cell_type": "code",
   "execution_count": 12,
   "metadata": {
    "execution": {
     "iopub.execute_input": "2021-08-11T16:40:06.889379Z",
     "iopub.status.busy": "2021-08-11T16:40:06.888060Z",
     "iopub.status.idle": "2021-08-11T16:40:06.894242Z",
     "shell.execute_reply": "2021-08-11T16:40:06.895274Z"
    }
   },
   "outputs": [
    {
     "name": "stdout",
     "output_type": "stream",
     "text": [
      "There are 8 caudate only genes present in the TWAS hub\n"
     ]
    },
    {
     "data": {
      "text/plain": [
       "{'AKT3', 'C2orf47', 'ELAC2', 'ERCC8', 'MGAT3', 'PPP1R13B', 'SNAP91', 'VPS29'}"
      ]
     },
     "execution_count": 1,
     "metadata": {},
     "output_type": "execute_result"
    }
   ],
   "source": [
    "print(\"There are %d caudate only genes present in the TWAS hub\" % \n",
    "      len(set(caudate.ID) & set(twas_hub)))\n",
    "set(caudate.ID) & set(twas_hub)"
   ]
  },
  {
   "cell_type": "code",
   "execution_count": 13,
   "metadata": {
    "execution": {
     "iopub.execute_input": "2021-08-11T16:40:06.904125Z",
     "iopub.status.busy": "2021-08-11T16:40:06.902112Z",
     "iopub.status.idle": "2021-08-11T16:40:06.910214Z",
     "shell.execute_reply": "2021-08-11T16:40:06.909040Z"
    }
   },
   "outputs": [
    {
     "name": "stdout",
     "output_type": "stream",
     "text": [
      "There are 8 caudate only genes (no MHC) present in the TWAS hub\n"
     ]
    },
    {
     "data": {
      "text/plain": [
       "{'AKT3', 'C2orf47', 'ELAC2', 'ERCC8', 'MGAT3', 'PPP1R13B', 'SNAP91', 'VPS29'}"
      ]
     },
     "execution_count": 1,
     "metadata": {},
     "output_type": "execute_result"
    }
   ],
   "source": [
    "print(\"There are %d caudate only genes (no MHC) present in the TWAS hub\" % \n",
    "      len(set(caudate_noMHC.ID) & set(twas_hub)))\n",
    "set(caudate.ID) & set(twas_hub)"
   ]
  },
  {
   "cell_type": "markdown",
   "metadata": {},
   "source": [
    "## Gandal comparison"
   ]
  },
  {
   "cell_type": "code",
   "execution_count": 14,
   "metadata": {
    "execution": {
     "iopub.execute_input": "2021-08-11T16:40:06.918925Z",
     "iopub.status.busy": "2021-08-11T16:40:06.917694Z",
     "iopub.status.idle": "2021-08-11T16:40:15.747451Z",
     "shell.execute_reply": "2021-08-11T16:40:15.748498Z"
    }
   },
   "outputs": [
    {
     "data": {
      "text/plain": [
       "193"
      ]
     },
     "execution_count": 1,
     "metadata": {},
     "output_type": "execute_result"
    }
   ],
   "source": [
    "gandal = pd.read_excel(\"../_h/aat8127_Table_S4.xlsx\", sheet_name=\"SCZ.TWAS\")\n",
    "gandal_twas = gandal[(gandal['TWAS.Bonferroni'] <= 0.05)].copy()\n",
    "np.sum(gandal.loc[:, 'TWAS.Bonferroni'] < 0.05)"
   ]
  },
  {
   "cell_type": "code",
   "execution_count": 15,
   "metadata": {
    "execution": {
     "iopub.execute_input": "2021-08-11T16:40:15.756451Z",
     "iopub.status.busy": "2021-08-11T16:40:15.755165Z",
     "iopub.status.idle": "2021-08-11T16:40:15.760428Z",
     "shell.execute_reply": "2021-08-11T16:40:15.759330Z"
    }
   },
   "outputs": [
    {
     "data": {
      "text/plain": [
       "108"
      ]
     },
     "execution_count": 1,
     "metadata": {},
     "output_type": "execute_result"
    }
   ],
   "source": [
    "caudate_bonferroni = caudate[(caudate['Bonferroni'] <= 0.05)].copy()\n",
    "np.sum(caudate.Bonferroni <= 0.05)"
   ]
  },
  {
   "cell_type": "code",
   "execution_count": 16,
   "metadata": {
    "execution": {
     "iopub.execute_input": "2021-08-11T16:40:15.768138Z",
     "iopub.status.busy": "2021-08-11T16:40:15.766891Z",
     "iopub.status.idle": "2021-08-11T16:40:15.772246Z",
     "shell.execute_reply": "2021-08-11T16:40:15.770996Z"
    }
   },
   "outputs": [
    {
     "data": {
      "text/plain": [
       "45"
      ]
     },
     "execution_count": 1,
     "metadata": {},
     "output_type": "execute_result"
    }
   ],
   "source": [
    "caudate_noMHC_bonferroni = caudate_noMHC[(caudate_noMHC['Bonferroni'] <= 0.05)].copy()\n",
    "np.sum(caudate_noMHC.Bonferroni <= 0.05)"
   ]
  },
  {
   "cell_type": "code",
   "execution_count": 17,
   "metadata": {
    "execution": {
     "iopub.execute_input": "2021-08-11T16:40:15.780045Z",
     "iopub.status.busy": "2021-08-11T16:40:15.778690Z",
     "iopub.status.idle": "2021-08-11T16:40:15.785698Z",
     "shell.execute_reply": "2021-08-11T16:40:15.784620Z"
    }
   },
   "outputs": [
    {
     "name": "stdout",
     "output_type": "stream",
     "text": [
      "There are 33 caudate only genes present in the Gandal at Bonferroni < 0.05.\n",
      "There are 42 caudate only genes present in the Gandal.\n"
     ]
    },
    {
     "data": {
      "text/plain": [
       "array(['ENSG00000085788', 'ENSG00000110492', 'ENSG00000249839',\n",
       "       'ENSG00000216901', 'ENSG00000030110', 'ENSG00000198315',\n",
       "       'ENSG00000262074', 'ENSG00000006744', 'ENSG00000231389',\n",
       "       'ENSG00000175662', 'ENSG00000219392', 'ENSG00000204963',\n",
       "       'ENSG00000197238', 'ENSG00000161896', 'ENSG00000124613',\n",
       "       'ENSG00000185829', 'ENSG00000261353', 'ENSG00000158406',\n",
       "       'ENSG00000111237', 'ENSG00000189298', 'ENSG00000259404',\n",
       "       'ENSG00000124610', 'ENSG00000162972', 'ENSG00000168237',\n",
       "       'ENSG00000100162', 'ENSG00000177096', 'ENSG00000228223',\n",
       "       'ENSG00000197279', 'ENSG00000186522', 'ENSG00000163938',\n",
       "       'ENSG00000204252', 'ENSG00000186470', 'ENSG00000088808',\n",
       "       'ENSG00000272009', 'ENSG00000174939', 'ENSG00000168405',\n",
       "       'ENSG00000117020', 'ENSG00000219891', 'ENSG00000226314',\n",
       "       'ENSG00000065609', 'ENSG00000187987', 'ENSG00000205702'],\n",
       "      dtype='<U15')"
      ]
     },
     "execution_count": 1,
     "metadata": {},
     "output_type": "execute_result"
    }
   ],
   "source": [
    "print(\"There are %d caudate only genes present in the Gandal at Bonferroni < 0.05.\" % \n",
    "      len(set(caudate_bonferroni.FILE) & set(gandal_twas.GeneID)))\n",
    "#list(set(caudate_bonferroni.ID) & set(gandal_twas.gene_name))\n",
    "\n",
    "print(\"There are %d caudate only genes present in the Gandal.\" % \n",
    "      len(set(caudate.FILE) & set(gandal_twas.GeneID)))\n",
    "np.array(list(set(caudate.FILE) & set(gandal_twas.GeneID)))"
   ]
  },
  {
   "cell_type": "code",
   "execution_count": 18,
   "metadata": {
    "execution": {
     "iopub.execute_input": "2021-08-11T16:40:15.793407Z",
     "iopub.status.busy": "2021-08-11T16:40:15.792135Z",
     "iopub.status.idle": "2021-08-11T16:40:15.801584Z",
     "shell.execute_reply": "2021-08-11T16:40:15.800473Z"
    }
   },
   "outputs": [
    {
     "name": "stdout",
     "output_type": "stream",
     "text": [
      "There are 16 caudate only genes (no MHC) present in the Gandal at Bonferroni < 0.05.\n",
      "There are 22 caudate only genes (no MHC) present in the Gandal.\n"
     ]
    },
    {
     "data": {
      "text/plain": [
       "array(['ENSG00000085788', 'ENSG00000110492', 'ENSG00000249839',\n",
       "       'ENSG00000262074', 'ENSG00000006744', 'ENSG00000175662',\n",
       "       'ENSG00000204963', 'ENSG00000185829', 'ENSG00000111237',\n",
       "       'ENSG00000162972', 'ENSG00000259404', 'ENSG00000168237',\n",
       "       'ENSG00000100162', 'ENSG00000177096', 'ENSG00000186522',\n",
       "       'ENSG00000163938', 'ENSG00000088808', 'ENSG00000174939',\n",
       "       'ENSG00000168405', 'ENSG00000117020', 'ENSG00000065609',\n",
       "       'ENSG00000205702'], dtype='<U15')"
      ]
     },
     "execution_count": 1,
     "metadata": {},
     "output_type": "execute_result"
    }
   ],
   "source": [
    "print(\"There are %d caudate only genes (no MHC) present in the Gandal at Bonferroni < 0.05.\" % \n",
    "      len(set(caudate_noMHC_bonferroni.FILE) & set(gandal_twas.GeneID)))\n",
    "#list(set(caudate_bonferroni.ID) & set(gandal_twas.gene_name))\n",
    "\n",
    "print(\"There are %d caudate only genes (no MHC) present in the Gandal.\" % \n",
    "      len(set(caudate_noMHC.FILE) & set(gandal_twas.GeneID)))\n",
    "np.array(list(set(caudate_noMHC.FILE) & set(gandal_twas.GeneID)))"
   ]
  },
  {
   "cell_type": "markdown",
   "metadata": {},
   "source": [
    "#### MHC is present within Gandal analysis"
   ]
  },
  {
   "cell_type": "code",
   "execution_count": 19,
   "metadata": {
    "execution": {
     "iopub.execute_input": "2021-08-11T16:40:15.808325Z",
     "iopub.status.busy": "2021-08-11T16:40:15.807103Z",
     "iopub.status.idle": "2021-08-11T16:40:15.812424Z",
     "shell.execute_reply": "2021-08-11T16:40:15.813480Z"
    }
   },
   "outputs": [
    {
     "data": {
      "text/plain": [
       "(193, 31)"
      ]
     },
     "execution_count": 1,
     "metadata": {},
     "output_type": "execute_result"
    }
   ],
   "source": [
    "gandal[(gandal[\"TWAS.Bonferroni\"] < 0.05)].shape"
   ]
  },
  {
   "cell_type": "code",
   "execution_count": 20,
   "metadata": {
    "execution": {
     "iopub.execute_input": "2021-08-11T16:40:15.822712Z",
     "iopub.status.busy": "2021-08-11T16:40:15.821489Z",
     "iopub.status.idle": "2021-08-11T16:40:15.828994Z",
     "shell.execute_reply": "2021-08-11T16:40:15.827912Z"
    }
   },
   "outputs": [
    {
     "data": {
      "text/plain": [
       "(174, 31)"
      ]
     },
     "execution_count": 1,
     "metadata": {},
     "output_type": "execute_result"
    }
   ],
   "source": [
    "## Not MHC\n",
    "gandal[~(gandal['gene_name'].isin(list(set(mhc_genes)))) & \n",
    "       (gandal[\"TWAS.Bonferroni\"] < 0.05)].shape"
   ]
  },
  {
   "cell_type": "code",
   "execution_count": 21,
   "metadata": {
    "execution": {
     "iopub.execute_input": "2021-08-11T16:40:15.841041Z",
     "iopub.status.busy": "2021-08-11T16:40:15.839811Z",
     "iopub.status.idle": "2021-08-11T16:40:15.854467Z",
     "shell.execute_reply": "2021-08-11T16:40:15.855496Z"
    }
   },
   "outputs": [
    {
     "name": "stdout",
     "output_type": "stream",
     "text": [
      "There are 19 MHC genes within Gandal significant TWAS (Bonferroni < 0.05)!\n"
     ]
    },
    {
     "data": {
      "text/plain": [
       "2       HIST1H4J\n",
       "3       HIST1H3C\n",
       "5      ZSCAN12P1\n",
       "6       HIST1H1A\n",
       "10       ZSCAN23\n",
       "15        BTN3A2\n",
       "22       ZKSCAN3\n",
       "29       ZKSCAN8\n",
       "34         HCG11\n",
       "38        ZNF165\n",
       "39      HIST1H4H\n",
       "59      ZNF192P1\n",
       "70         IP6K3\n",
       "71        BTN2A2\n",
       "74       HLA-DOA\n",
       "94      HIST1H3A\n",
       "124       ZNF391\n",
       "146     HLA-DPA1\n",
       "174         BAK1\n",
       "Name: gene_name, dtype: object"
      ]
     },
     "execution_count": 1,
     "metadata": {},
     "output_type": "execute_result"
    }
   ],
   "source": [
    "print(\"There are {} MHC genes within Gandal significant TWAS (Bonferroni < 0.05)!\"\\\n",
    "      .format(len(gandal[(gandal['gene_name'].isin(list(set(mhc_genes)))) & \n",
    "       (gandal[\"TWAS.Bonferroni\"] < 0.05)].gene_name)))\n",
    "gandal[(gandal['gene_name'].isin(list(set(mhc_genes)))) & \n",
    "       (gandal[\"TWAS.Bonferroni\"] < 0.05)].gene_name"
   ]
  },
  {
   "cell_type": "markdown",
   "metadata": {},
   "source": [
    "### Calculated enrichment with Gandal"
   ]
  },
  {
   "cell_type": "code",
   "execution_count": 22,
   "metadata": {
    "execution": {
     "iopub.execute_input": "2021-08-11T16:40:15.863256Z",
     "iopub.status.busy": "2021-08-11T16:40:15.862007Z",
     "iopub.status.idle": "2021-08-11T16:40:15.866216Z",
     "shell.execute_reply": "2021-08-11T16:40:15.867232Z"
    }
   },
   "outputs": [
    {
     "data": {
      "text/plain": [
       "(445, 47)"
      ]
     },
     "execution_count": 1,
     "metadata": {},
     "output_type": "execute_result"
    }
   ],
   "source": [
    "caudate.shape"
   ]
  },
  {
   "cell_type": "code",
   "execution_count": 23,
   "metadata": {
    "execution": {
     "iopub.execute_input": "2021-08-11T16:40:15.885826Z",
     "iopub.status.busy": "2021-08-11T16:40:15.884605Z",
     "iopub.status.idle": "2021-08-11T16:40:15.897744Z",
     "shell.execute_reply": "2021-08-11T16:40:15.896634Z"
    }
   },
   "outputs": [
    {
     "data": {
      "text/plain": [
       "(312, 6)"
      ]
     },
     "execution_count": 1,
     "metadata": {},
     "output_type": "execute_result"
    }
   ],
   "source": [
    "dft = caudate.loc[:, ['FILE', 'ID', 'Bonferroni']]\\\n",
    "             .merge(gandal.loc[:, ['GeneID', 'gene_name', 'TWAS.Bonferroni']], \n",
    "                    left_on='FILE', right_on='GeneID', \n",
    "                    suffixes=[\"_Benjamin\", \"_Gandal\"])\n",
    "dft.shape"
   ]
  },
  {
   "cell_type": "code",
   "execution_count": 24,
   "metadata": {
    "execution": {
     "iopub.execute_input": "2021-08-11T16:40:15.918277Z",
     "iopub.status.busy": "2021-08-11T16:40:15.917012Z",
     "iopub.status.idle": "2021-08-11T16:40:15.922719Z",
     "shell.execute_reply": "2021-08-11T16:40:15.923738Z"
    }
   },
   "outputs": [
    {
     "name": "stdout",
     "output_type": "stream",
     "text": [
      "[[33, 31], [9, 239]]\n"
     ]
    },
    {
     "data": {
      "text/plain": [
       "(28.268817204301076, 6.91682701358258e-19)"
      ]
     },
     "execution_count": 1,
     "metadata": {},
     "output_type": "execute_result"
    }
   ],
   "source": [
    "table =  [[np.sum((dft['Bonferroni']<0.05) & ((dft['TWAS.Bonferroni']<.05))),\n",
    "           np.sum((dft['Bonferroni']<0.05) & ((dft['TWAS.Bonferroni']>=.05)))],\n",
    "          [np.sum((dft['Bonferroni']>=0.05) & ((dft['TWAS.Bonferroni']<.05))),\n",
    "           np.sum((dft['Bonferroni']>=0.05) & ((dft['TWAS.Bonferroni']>=.05)))]]\n",
    "print(table)\n",
    "fisher_exact(table)"
   ]
  },
  {
   "cell_type": "markdown",
   "metadata": {},
   "source": [
    "### Extract and save overlapping genes"
   ]
  },
  {
   "cell_type": "markdown",
   "metadata": {},
   "source": [
    "#### Bonferroni < 0.05"
   ]
  },
  {
   "cell_type": "code",
   "execution_count": 25,
   "metadata": {
    "execution": {
     "iopub.execute_input": "2021-08-11T16:40:15.936439Z",
     "iopub.status.busy": "2021-08-11T16:40:15.935194Z",
     "iopub.status.idle": "2021-08-11T16:40:15.939351Z",
     "shell.execute_reply": "2021-08-11T16:40:15.940381Z"
    }
   },
   "outputs": [
    {
     "data": {
      "text/plain": [
       "37"
      ]
     },
     "execution_count": 1,
     "metadata": {},
     "output_type": "execute_result"
    }
   ],
   "source": [
    "overlapping_twas = np.append(np.array(caudate_bonferroni[(caudate_bonferroni['FILE'].isin(list(set(caudate_bonferroni.FILE) & \n",
    "                                                                         set(gandal_twas.GeneID))))].ID), \n",
    "                             np.array(list(set(caudate_bonferroni.ID) & set(twas_hub))))\n",
    "len(overlapping_twas)"
   ]
  },
  {
   "cell_type": "code",
   "execution_count": 26,
   "metadata": {
    "execution": {
     "iopub.execute_input": "2021-08-11T16:40:15.950701Z",
     "iopub.status.busy": "2021-08-11T16:40:15.949451Z",
     "iopub.status.idle": "2021-08-11T16:40:15.965341Z",
     "shell.execute_reply": "2021-08-11T16:40:15.966337Z"
    }
   },
   "outputs": [
    {
     "data": {
      "text/plain": [
       "(75, 47)"
      ]
     },
     "execution_count": 1,
     "metadata": {},
     "output_type": "execute_result"
    }
   ],
   "source": [
    "caudate_bonferroni[~(caudate_bonferroni['ID'].isin(overlapping_twas))].to_csv(\"caudate_only_twasList_genes_bonferroni.txt\", \n",
    "                                                        sep='\\t', index=False)\n",
    "caudate_bonferroni[~(caudate_bonferroni['ID'].isin(overlapping_twas))].shape"
   ]
  },
  {
   "cell_type": "code",
   "execution_count": 27,
   "metadata": {
    "execution": {
     "iopub.execute_input": "2021-08-11T16:40:15.978830Z",
     "iopub.status.busy": "2021-08-11T16:40:15.977585Z",
     "iopub.status.idle": "2021-08-11T16:40:15.981763Z",
     "shell.execute_reply": "2021-08-11T16:40:15.982767Z"
    }
   },
   "outputs": [
    {
     "data": {
      "text/plain": [
       "(6, 47)"
      ]
     },
     "execution_count": 1,
     "metadata": {},
     "output_type": "execute_result"
    }
   ],
   "source": [
    "drop_caudate = caudate_bonferroni[~(caudate_bonferroni['ID'].isin(overlapping_twas))].copy()\n",
    "drop_caudate[(drop_caudate['P'] > 5e-8)].shape"
   ]
  },
  {
   "cell_type": "code",
   "execution_count": 28,
   "metadata": {
    "execution": {
     "iopub.execute_input": "2021-08-11T16:40:16.008762Z",
     "iopub.status.busy": "2021-08-11T16:40:16.007512Z",
     "iopub.status.idle": "2021-08-11T16:40:16.011795Z",
     "shell.execute_reply": "2021-08-11T16:40:16.012803Z"
    }
   },
   "outputs": [
    {
     "data": {
      "text/html": [
       "<div>\n",
       "<style scoped>\n",
       "    .dataframe tbody tr th:only-of-type {\n",
       "        vertical-align: middle;\n",
       "    }\n",
       "\n",
       "    .dataframe tbody tr th {\n",
       "        vertical-align: top;\n",
       "    }\n",
       "\n",
       "    .dataframe thead th {\n",
       "        text-align: right;\n",
       "    }\n",
       "</style>\n",
       "<table border=\"1\" class=\"dataframe\">\n",
       "  <thead>\n",
       "    <tr style=\"text-align: right;\">\n",
       "      <th></th>\n",
       "      <th>ID</th>\n",
       "      <th>our_snp_id</th>\n",
       "      <th>CHR_TWAS</th>\n",
       "      <th>FDR</th>\n",
       "      <th>P</th>\n",
       "      <th>FILE</th>\n",
       "    </tr>\n",
       "  </thead>\n",
       "  <tbody>\n",
       "    <tr>\n",
       "      <th>192</th>\n",
       "      <td>STRC</td>\n",
       "      <td>chr15:43782086:A:G</td>\n",
       "      <td>15</td>\n",
       "      <td>0.000062</td>\n",
       "      <td>2.750000e-06</td>\n",
       "      <td>ENSG00000242866</td>\n",
       "    </tr>\n",
       "    <tr>\n",
       "      <th>132</th>\n",
       "      <td>ANKRD45</td>\n",
       "      <td>chr1:173743105:T:C</td>\n",
       "      <td>1</td>\n",
       "      <td>0.000129</td>\n",
       "      <td>5.050000e-07</td>\n",
       "      <td>ENSG00000183831</td>\n",
       "    </tr>\n",
       "    <tr>\n",
       "      <th>358</th>\n",
       "      <td>ENSG00000269938</td>\n",
       "      <td>chr12:123996254:A:G</td>\n",
       "      <td>12</td>\n",
       "      <td>0.000156</td>\n",
       "      <td>7.380000e-07</td>\n",
       "      <td>ENSG00000269938</td>\n",
       "    </tr>\n",
       "    <tr>\n",
       "      <th>220</th>\n",
       "      <td>ZNF852</td>\n",
       "      <td>chr3:44034110:G:A</td>\n",
       "      <td>3</td>\n",
       "      <td>0.000220</td>\n",
       "      <td>1.870000e-06</td>\n",
       "      <td>ENSG00000178917</td>\n",
       "    </tr>\n",
       "    <tr>\n",
       "      <th>259</th>\n",
       "      <td>ENSG00000283361</td>\n",
       "      <td>chr13:114134675:T:C</td>\n",
       "      <td>13</td>\n",
       "      <td>0.000241</td>\n",
       "      <td>2.780000e-07</td>\n",
       "      <td>ENSG00000283361</td>\n",
       "    </tr>\n",
       "    <tr>\n",
       "      <th>71</th>\n",
       "      <td>SPHKAP</td>\n",
       "      <td>chr2:228452776:C:T</td>\n",
       "      <td>2</td>\n",
       "      <td>0.000298</td>\n",
       "      <td>7.070000e-08</td>\n",
       "      <td>ENSG00000153820</td>\n",
       "    </tr>\n",
       "  </tbody>\n",
       "</table>\n",
       "</div>"
      ],
      "text/plain": [
       "                  ID           our_snp_id  CHR_TWAS       FDR             P  \\\n",
       "192             STRC   chr15:43782086:A:G        15  0.000062  2.750000e-06   \n",
       "132          ANKRD45   chr1:173743105:T:C         1  0.000129  5.050000e-07   \n",
       "358  ENSG00000269938  chr12:123996254:A:G        12  0.000156  7.380000e-07   \n",
       "220           ZNF852    chr3:44034110:G:A         3  0.000220  1.870000e-06   \n",
       "259  ENSG00000283361  chr13:114134675:T:C        13  0.000241  2.780000e-07   \n",
       "71            SPHKAP   chr2:228452776:C:T         2  0.000298  7.070000e-08   \n",
       "\n",
       "                FILE  \n",
       "192  ENSG00000242866  \n",
       "132  ENSG00000183831  \n",
       "358  ENSG00000269938  \n",
       "220  ENSG00000178917  \n",
       "259  ENSG00000283361  \n",
       "71   ENSG00000153820  "
      ]
     },
     "execution_count": 1,
     "metadata": {},
     "output_type": "execute_result"
    }
   ],
   "source": [
    "drop_caudate[(drop_caudate['P'] > 5e-8)].sort_values('FDR')\\\n",
    "                                        .loc[:, ['ID', 'our_snp_id', 'CHR_TWAS', 'FDR', 'P', 'FILE']]"
   ]
  },
  {
   "cell_type": "markdown",
   "metadata": {},
   "source": [
    "#### FDR < 0.05"
   ]
  },
  {
   "cell_type": "code",
   "execution_count": 29,
   "metadata": {
    "execution": {
     "iopub.execute_input": "2021-08-11T16:40:16.025624Z",
     "iopub.status.busy": "2021-08-11T16:40:16.024355Z",
     "iopub.status.idle": "2021-08-11T16:40:16.028567Z",
     "shell.execute_reply": "2021-08-11T16:40:16.029584Z"
    }
   },
   "outputs": [
    {
     "data": {
      "text/plain": [
       "50"
      ]
     },
     "execution_count": 1,
     "metadata": {},
     "output_type": "execute_result"
    }
   ],
   "source": [
    "overlapping_twas = np.append(np.array(caudate[(caudate['FILE'].isin(list(set(caudate.FILE) & \n",
    "                                                                         set(gandal_twas.GeneID))))].ID), \n",
    "                             np.array(list(set(caudate.ID) & set(twas_hub))))\n",
    "len(overlapping_twas)"
   ]
  },
  {
   "cell_type": "code",
   "execution_count": 30,
   "metadata": {
    "execution": {
     "iopub.execute_input": "2021-08-11T16:40:16.040137Z",
     "iopub.status.busy": "2021-08-11T16:40:16.038911Z",
     "iopub.status.idle": "2021-08-11T16:40:16.068528Z",
     "shell.execute_reply": "2021-08-11T16:40:16.067299Z"
    }
   },
   "outputs": [
    {
     "data": {
      "text/plain": [
       "(401, 47)"
      ]
     },
     "execution_count": 1,
     "metadata": {},
     "output_type": "execute_result"
    }
   ],
   "source": [
    "caudate[~(caudate['ID'].isin(overlapping_twas))].to_csv(\"caudate_only_twasList_genes.txt\", \n",
    "                                                        sep='\\t', index=False)\n",
    "caudate[~(caudate['ID'].isin(overlapping_twas))].shape"
   ]
  },
  {
   "cell_type": "code",
   "execution_count": 31,
   "metadata": {
    "execution": {
     "iopub.execute_input": "2021-08-11T16:40:16.075569Z",
     "iopub.status.busy": "2021-08-11T16:40:16.074285Z",
     "iopub.status.idle": "2021-08-11T16:40:16.078537Z",
     "shell.execute_reply": "2021-08-11T16:40:16.079559Z"
    }
   },
   "outputs": [
    {
     "data": {
      "text/plain": [
       "(250, 47)"
      ]
     },
     "execution_count": 1,
     "metadata": {},
     "output_type": "execute_result"
    }
   ],
   "source": [
    "drop_caudate = caudate[~(caudate['ID'].isin(overlapping_twas))].copy()\n",
    "drop_caudate[(drop_caudate['P'] > 5e-8)].shape"
   ]
  },
  {
   "cell_type": "code",
   "execution_count": 32,
   "metadata": {
    "execution": {
     "iopub.execute_input": "2021-08-11T16:40:16.086646Z",
     "iopub.status.busy": "2021-08-11T16:40:16.085404Z",
     "iopub.status.idle": "2021-08-11T16:40:16.099839Z",
     "shell.execute_reply": "2021-08-11T16:40:16.100817Z"
    }
   },
   "outputs": [
    {
     "data": {
      "text/html": [
       "<div>\n",
       "<style scoped>\n",
       "    .dataframe tbody tr th:only-of-type {\n",
       "        vertical-align: middle;\n",
       "    }\n",
       "\n",
       "    .dataframe tbody tr th {\n",
       "        vertical-align: top;\n",
       "    }\n",
       "\n",
       "    .dataframe thead th {\n",
       "        text-align: right;\n",
       "    }\n",
       "</style>\n",
       "<table border=\"1\" class=\"dataframe\">\n",
       "  <thead>\n",
       "    <tr style=\"text-align: right;\">\n",
       "      <th></th>\n",
       "      <th>ID</th>\n",
       "      <th>our_snp_id</th>\n",
       "      <th>CHR_TWAS</th>\n",
       "      <th>FDR</th>\n",
       "      <th>P</th>\n",
       "      <th>FILE</th>\n",
       "    </tr>\n",
       "  </thead>\n",
       "  <tbody>\n",
       "    <tr>\n",
       "      <th>192</th>\n",
       "      <td>STRC</td>\n",
       "      <td>chr15:43782086:A:G</td>\n",
       "      <td>15</td>\n",
       "      <td>0.000062</td>\n",
       "      <td>2.750000e-06</td>\n",
       "      <td>ENSG00000242866</td>\n",
       "    </tr>\n",
       "    <tr>\n",
       "      <th>132</th>\n",
       "      <td>ANKRD45</td>\n",
       "      <td>chr1:173743105:T:C</td>\n",
       "      <td>1</td>\n",
       "      <td>0.000129</td>\n",
       "      <td>5.050000e-07</td>\n",
       "      <td>ENSG00000183831</td>\n",
       "    </tr>\n",
       "    <tr>\n",
       "      <th>358</th>\n",
       "      <td>ENSG00000269938</td>\n",
       "      <td>chr12:123996254:A:G</td>\n",
       "      <td>12</td>\n",
       "      <td>0.000156</td>\n",
       "      <td>7.380000e-07</td>\n",
       "      <td>ENSG00000269938</td>\n",
       "    </tr>\n",
       "    <tr>\n",
       "      <th>220</th>\n",
       "      <td>ZNF852</td>\n",
       "      <td>chr3:44034110:G:A</td>\n",
       "      <td>3</td>\n",
       "      <td>0.000220</td>\n",
       "      <td>1.870000e-06</td>\n",
       "      <td>ENSG00000178917</td>\n",
       "    </tr>\n",
       "    <tr>\n",
       "      <th>259</th>\n",
       "      <td>ENSG00000283361</td>\n",
       "      <td>chr13:114134675:T:C</td>\n",
       "      <td>13</td>\n",
       "      <td>0.000241</td>\n",
       "      <td>2.780000e-07</td>\n",
       "      <td>ENSG00000283361</td>\n",
       "    </tr>\n",
       "    <tr>\n",
       "      <th>71</th>\n",
       "      <td>SPHKAP</td>\n",
       "      <td>chr2:228452776:C:T</td>\n",
       "      <td>2</td>\n",
       "      <td>0.000298</td>\n",
       "      <td>7.070000e-08</td>\n",
       "      <td>ENSG00000153820</td>\n",
       "    </tr>\n",
       "    <tr>\n",
       "      <th>333</th>\n",
       "      <td>ENSG00000279726</td>\n",
       "      <td>chr5:140841554:G:A</td>\n",
       "      <td>5</td>\n",
       "      <td>0.000384</td>\n",
       "      <td>8.660000e-07</td>\n",
       "      <td>ENSG00000279726</td>\n",
       "    </tr>\n",
       "    <tr>\n",
       "      <th>52</th>\n",
       "      <td>SYNDIG1L</td>\n",
       "      <td>chr14:74416653:A:C</td>\n",
       "      <td>14</td>\n",
       "      <td>0.000454</td>\n",
       "      <td>3.090000e-05</td>\n",
       "      <td>ENSG00000183379</td>\n",
       "    </tr>\n",
       "    <tr>\n",
       "      <th>301</th>\n",
       "      <td>NTN5</td>\n",
       "      <td>chr19:48746940:T:C</td>\n",
       "      <td>19</td>\n",
       "      <td>0.000477</td>\n",
       "      <td>1.100000e-06</td>\n",
       "      <td>ENSG00000142233</td>\n",
       "    </tr>\n",
       "    <tr>\n",
       "      <th>106</th>\n",
       "      <td>TBC1D5</td>\n",
       "      <td>chr3:16834975:C:T</td>\n",
       "      <td>3</td>\n",
       "      <td>0.000628</td>\n",
       "      <td>5.770000e-08</td>\n",
       "      <td>ENSG00000131374</td>\n",
       "    </tr>\n",
       "    <tr>\n",
       "      <th>213</th>\n",
       "      <td>PCDHAC1</td>\n",
       "      <td>chr5:140841554:G:A</td>\n",
       "      <td>5</td>\n",
       "      <td>0.000643</td>\n",
       "      <td>8.660000e-07</td>\n",
       "      <td>ENSG00000248383</td>\n",
       "    </tr>\n",
       "    <tr>\n",
       "      <th>425</th>\n",
       "      <td>CCDC92</td>\n",
       "      <td>chr12:123431550:A:G</td>\n",
       "      <td>12</td>\n",
       "      <td>0.000703</td>\n",
       "      <td>7.100000e-07</td>\n",
       "      <td>ENSG00000119242</td>\n",
       "    </tr>\n",
       "    <tr>\n",
       "      <th>200</th>\n",
       "      <td>GSTO1</td>\n",
       "      <td>chr10:104732662:T:C</td>\n",
       "      <td>10</td>\n",
       "      <td>0.000712</td>\n",
       "      <td>2.010000e-05</td>\n",
       "      <td>ENSG00000148834</td>\n",
       "    </tr>\n",
       "    <tr>\n",
       "      <th>380</th>\n",
       "      <td>NLRP1</td>\n",
       "      <td>chr17:5267575:T:C</td>\n",
       "      <td>17</td>\n",
       "      <td>0.000735</td>\n",
       "      <td>1.300000e-05</td>\n",
       "      <td>ENSG00000091592</td>\n",
       "    </tr>\n",
       "    <tr>\n",
       "      <th>138</th>\n",
       "      <td>CEBPZOS</td>\n",
       "      <td>chr2:37017150:C:T</td>\n",
       "      <td>2</td>\n",
       "      <td>0.000815</td>\n",
       "      <td>3.140000e-06</td>\n",
       "      <td>ENSG00000218739</td>\n",
       "    </tr>\n",
       "    <tr>\n",
       "      <th>91</th>\n",
       "      <td>IFT57</td>\n",
       "      <td>chr3:108058204:C:A</td>\n",
       "      <td>3</td>\n",
       "      <td>0.000961</td>\n",
       "      <td>2.010000e-05</td>\n",
       "      <td>ENSG00000114446</td>\n",
       "    </tr>\n",
       "    <tr>\n",
       "      <th>153</th>\n",
       "      <td>TRPS1</td>\n",
       "      <td>chr8:115455975:A:G</td>\n",
       "      <td>8</td>\n",
       "      <td>0.000972</td>\n",
       "      <td>4.280000e-07</td>\n",
       "      <td>ENSG00000104447</td>\n",
       "    </tr>\n",
       "    <tr>\n",
       "      <th>289</th>\n",
       "      <td>PDIA3</td>\n",
       "      <td>chr15:43782086:A:G</td>\n",
       "      <td>15</td>\n",
       "      <td>0.000974</td>\n",
       "      <td>2.750000e-06</td>\n",
       "      <td>ENSG00000167004</td>\n",
       "    </tr>\n",
       "    <tr>\n",
       "      <th>250</th>\n",
       "      <td>RPF2</td>\n",
       "      <td>chr6:111221185:A:G</td>\n",
       "      <td>6</td>\n",
       "      <td>0.001017</td>\n",
       "      <td>8.300000e-07</td>\n",
       "      <td>ENSG00000197498</td>\n",
       "    </tr>\n",
       "    <tr>\n",
       "      <th>90</th>\n",
       "      <td>FAM134A</td>\n",
       "      <td>chr2:219196879:T:C</td>\n",
       "      <td>2</td>\n",
       "      <td>0.001115</td>\n",
       "      <td>6.300000e-06</td>\n",
       "      <td>ENSG00000144567</td>\n",
       "    </tr>\n",
       "    <tr>\n",
       "      <th>198</th>\n",
       "      <td>DND1</td>\n",
       "      <td>chr5:140841554:G:A</td>\n",
       "      <td>5</td>\n",
       "      <td>0.001170</td>\n",
       "      <td>8.660000e-07</td>\n",
       "      <td>ENSG00000256453</td>\n",
       "    </tr>\n",
       "    <tr>\n",
       "      <th>409</th>\n",
       "      <td>RN7SKP101</td>\n",
       "      <td>chr15:47038124:C:T</td>\n",
       "      <td>15</td>\n",
       "      <td>0.001186</td>\n",
       "      <td>2.670000e-06</td>\n",
       "      <td>ENSG00000223308</td>\n",
       "    </tr>\n",
       "    <tr>\n",
       "      <th>241</th>\n",
       "      <td>ZBTB37</td>\n",
       "      <td>chr1:173743105:T:C</td>\n",
       "      <td>1</td>\n",
       "      <td>0.001201</td>\n",
       "      <td>5.050000e-07</td>\n",
       "      <td>ENSG00000185278</td>\n",
       "    </tr>\n",
       "    <tr>\n",
       "      <th>48</th>\n",
       "      <td>NPIPB3</td>\n",
       "      <td>chr16:21680256:A:G</td>\n",
       "      <td>16</td>\n",
       "      <td>0.001547</td>\n",
       "      <td>1.790000e-07</td>\n",
       "      <td>ENSG00000169246</td>\n",
       "    </tr>\n",
       "    <tr>\n",
       "      <th>12</th>\n",
       "      <td>ADAM10</td>\n",
       "      <td>chr15:58749813:T:C</td>\n",
       "      <td>15</td>\n",
       "      <td>0.001766</td>\n",
       "      <td>1.610000e-06</td>\n",
       "      <td>ENSG00000137845</td>\n",
       "    </tr>\n",
       "  </tbody>\n",
       "</table>\n",
       "</div>"
      ],
      "text/plain": [
       "                  ID           our_snp_id  CHR_TWAS       FDR             P  \\\n",
       "192             STRC   chr15:43782086:A:G        15  0.000062  2.750000e-06   \n",
       "132          ANKRD45   chr1:173743105:T:C         1  0.000129  5.050000e-07   \n",
       "358  ENSG00000269938  chr12:123996254:A:G        12  0.000156  7.380000e-07   \n",
       "220           ZNF852    chr3:44034110:G:A         3  0.000220  1.870000e-06   \n",
       "259  ENSG00000283361  chr13:114134675:T:C        13  0.000241  2.780000e-07   \n",
       "71            SPHKAP   chr2:228452776:C:T         2  0.000298  7.070000e-08   \n",
       "333  ENSG00000279726   chr5:140841554:G:A         5  0.000384  8.660000e-07   \n",
       "52          SYNDIG1L   chr14:74416653:A:C        14  0.000454  3.090000e-05   \n",
       "301             NTN5   chr19:48746940:T:C        19  0.000477  1.100000e-06   \n",
       "106           TBC1D5    chr3:16834975:C:T         3  0.000628  5.770000e-08   \n",
       "213          PCDHAC1   chr5:140841554:G:A         5  0.000643  8.660000e-07   \n",
       "425           CCDC92  chr12:123431550:A:G        12  0.000703  7.100000e-07   \n",
       "200            GSTO1  chr10:104732662:T:C        10  0.000712  2.010000e-05   \n",
       "380            NLRP1    chr17:5267575:T:C        17  0.000735  1.300000e-05   \n",
       "138          CEBPZOS    chr2:37017150:C:T         2  0.000815  3.140000e-06   \n",
       "91             IFT57   chr3:108058204:C:A         3  0.000961  2.010000e-05   \n",
       "153            TRPS1   chr8:115455975:A:G         8  0.000972  4.280000e-07   \n",
       "289            PDIA3   chr15:43782086:A:G        15  0.000974  2.750000e-06   \n",
       "250             RPF2   chr6:111221185:A:G         6  0.001017  8.300000e-07   \n",
       "90           FAM134A   chr2:219196879:T:C         2  0.001115  6.300000e-06   \n",
       "198             DND1   chr5:140841554:G:A         5  0.001170  8.660000e-07   \n",
       "409        RN7SKP101   chr15:47038124:C:T        15  0.001186  2.670000e-06   \n",
       "241           ZBTB37   chr1:173743105:T:C         1  0.001201  5.050000e-07   \n",
       "48            NPIPB3   chr16:21680256:A:G        16  0.001547  1.790000e-07   \n",
       "12            ADAM10   chr15:58749813:T:C        15  0.001766  1.610000e-06   \n",
       "\n",
       "                FILE  \n",
       "192  ENSG00000242866  \n",
       "132  ENSG00000183831  \n",
       "358  ENSG00000269938  \n",
       "220  ENSG00000178917  \n",
       "259  ENSG00000283361  \n",
       "71   ENSG00000153820  \n",
       "333  ENSG00000279726  \n",
       "52   ENSG00000183379  \n",
       "301  ENSG00000142233  \n",
       "106  ENSG00000131374  \n",
       "213  ENSG00000248383  \n",
       "425  ENSG00000119242  \n",
       "200  ENSG00000148834  \n",
       "380  ENSG00000091592  \n",
       "138  ENSG00000218739  \n",
       "91   ENSG00000114446  \n",
       "153  ENSG00000104447  \n",
       "289  ENSG00000167004  \n",
       "250  ENSG00000197498  \n",
       "90   ENSG00000144567  \n",
       "198  ENSG00000256453  \n",
       "409  ENSG00000223308  \n",
       "241  ENSG00000185278  \n",
       "48   ENSG00000169246  \n",
       "12   ENSG00000137845  "
      ]
     },
     "execution_count": 1,
     "metadata": {},
     "output_type": "execute_result"
    }
   ],
   "source": [
    "drop_caudate[(drop_caudate['P'] > 5e-8)].sort_values('FDR')\\\n",
    "                                        .loc[:, ['ID', 'our_snp_id', 'CHR_TWAS', 'FDR', 'P', 'FILE']].head(25)"
   ]
  },
  {
   "cell_type": "markdown",
   "metadata": {},
   "source": [
    "## TWAS tissue summary"
   ]
  },
  {
   "cell_type": "code",
   "execution_count": 33,
   "metadata": {
    "execution": {
     "iopub.execute_input": "2021-08-11T16:40:16.106660Z",
     "iopub.status.busy": "2021-08-11T16:40:16.105430Z",
     "iopub.status.idle": "2021-08-11T16:40:16.128012Z",
     "shell.execute_reply": "2021-08-11T16:40:16.126928Z"
    }
   },
   "outputs": [
    {
     "data": {
      "text/plain": [
       "(10387, 11)"
      ]
     },
     "execution_count": 1,
     "metadata": {},
     "output_type": "execute_result"
    }
   ],
   "source": [
    "brainseq = pd.read_csv(\"../../libd_twas_comparison/_m/TWAS_gene_tissue_summary.csv\")\n",
    "brainseq.shape"
   ]
  },
  {
   "cell_type": "code",
   "execution_count": 34,
   "metadata": {
    "execution": {
     "iopub.execute_input": "2021-08-11T16:40:16.142027Z",
     "iopub.status.busy": "2021-08-11T16:40:16.140814Z",
     "iopub.status.idle": "2021-08-11T16:40:16.146586Z",
     "shell.execute_reply": "2021-08-11T16:40:16.145530Z"
    }
   },
   "outputs": [
    {
     "data": {
      "text/html": [
       "<div>\n",
       "<style scoped>\n",
       "    .dataframe tbody tr th:only-of-type {\n",
       "        vertical-align: middle;\n",
       "    }\n",
       "\n",
       "    .dataframe tbody tr th {\n",
       "        vertical-align: top;\n",
       "    }\n",
       "\n",
       "    .dataframe thead th {\n",
       "        text-align: right;\n",
       "    }\n",
       "</style>\n",
       "<table border=\"1\" class=\"dataframe\">\n",
       "  <thead>\n",
       "    <tr style=\"text-align: right;\">\n",
       "      <th></th>\n",
       "      <th>Geneid</th>\n",
       "      <th>Symbol</th>\n",
       "      <th>Caudate_TWAS.Z</th>\n",
       "      <th>Caudate_FDR</th>\n",
       "      <th>Caudate_GWAS.SNP</th>\n",
       "      <th>DLPFC_TWAS.Z</th>\n",
       "      <th>DLPFC_FDR</th>\n",
       "      <th>DLPFC_GWAS.SNP</th>\n",
       "      <th>HIPPO_TWAS.Z</th>\n",
       "      <th>HIPPO_FDR</th>\n",
       "      <th>HIPPO_GWAS.SNP</th>\n",
       "    </tr>\n",
       "  </thead>\n",
       "  <tbody>\n",
       "    <tr>\n",
       "      <th>0</th>\n",
       "      <td>ENSG00000000457</td>\n",
       "      <td>SCYL3</td>\n",
       "      <td>1.090068</td>\n",
       "      <td>0.597981</td>\n",
       "      <td>Other</td>\n",
       "      <td>NaN</td>\n",
       "      <td>NaN</td>\n",
       "      <td>NaN</td>\n",
       "      <td>NaN</td>\n",
       "      <td>NaN</td>\n",
       "      <td>NaN</td>\n",
       "    </tr>\n",
       "    <tr>\n",
       "      <th>1</th>\n",
       "      <td>ENSG00000000460</td>\n",
       "      <td>C1orf112</td>\n",
       "      <td>-0.372763</td>\n",
       "      <td>0.892471</td>\n",
       "      <td>Other</td>\n",
       "      <td>NaN</td>\n",
       "      <td>NaN</td>\n",
       "      <td>NaN</td>\n",
       "      <td>NaN</td>\n",
       "      <td>NaN</td>\n",
       "      <td>NaN</td>\n",
       "    </tr>\n",
       "  </tbody>\n",
       "</table>\n",
       "</div>"
      ],
      "text/plain": [
       "            Geneid    Symbol  Caudate_TWAS.Z  Caudate_FDR Caudate_GWAS.SNP  \\\n",
       "0  ENSG00000000457     SCYL3        1.090068     0.597981            Other   \n",
       "1  ENSG00000000460  C1orf112       -0.372763     0.892471            Other   \n",
       "\n",
       "   DLPFC_TWAS.Z  DLPFC_FDR DLPFC_GWAS.SNP  HIPPO_TWAS.Z  HIPPO_FDR  \\\n",
       "0           NaN        NaN            NaN           NaN        NaN   \n",
       "1           NaN        NaN            NaN           NaN        NaN   \n",
       "\n",
       "  HIPPO_GWAS.SNP  \n",
       "0            NaN  \n",
       "1            NaN  "
      ]
     },
     "execution_count": 1,
     "metadata": {},
     "output_type": "execute_result"
    }
   ],
   "source": [
    "brainseq.head(2)"
   ]
  },
  {
   "cell_type": "code",
   "execution_count": 35,
   "metadata": {
    "execution": {
     "iopub.execute_input": "2021-08-11T16:40:16.156534Z",
     "iopub.status.busy": "2021-08-11T16:40:16.155288Z",
     "iopub.status.idle": "2021-08-11T16:40:16.249463Z",
     "shell.execute_reply": "2021-08-11T16:40:16.248343Z"
    }
   },
   "outputs": [],
   "source": [
    "bb = brainseq.merge(pd.DataFrame({'Symbol': twas_hub, 'inTWAS_HUB': 1}), on='Symbol', how='left')\\\n",
    "             .merge(pd.DataFrame({'Geneid': gandal_twas.GeneID, 'inGandal': 1}), \n",
    "                    on=\"Geneid\", how='left')\n",
    "\n",
    "bb.to_csv('TWAS_gene_tissue_summary.csv', index=False)"
   ]
  }
 ],
 "metadata": {
  "kernelspec": {
   "display_name": "Python 3",
   "language": "python",
   "name": "python3"
  },
  "language_info": {
   "codemirror_mode": {
    "name": "ipython",
    "version": 3
   },
   "file_extension": ".py",
   "mimetype": "text/x-python",
   "name": "python",
   "nbconvert_exporter": "python",
   "pygments_lexer": "ipython3",
   "version": "3.9.1"
  }
 },
 "nbformat": 4,
 "nbformat_minor": 4
}
