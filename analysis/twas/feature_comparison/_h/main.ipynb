{
 "cells": [
  {
   "cell_type": "markdown",
   "metadata": {},
   "source": [
    "# TWAS feature summary"
   ]
  },
  {
   "cell_type": "code",
   "execution_count": 1,
   "metadata": {},
   "outputs": [],
   "source": [
    "import pandas as pd"
   ]
  },
  {
   "cell_type": "markdown",
   "metadata": {},
   "source": [
    "## Prepare data"
   ]
  },
  {
   "cell_type": "code",
   "execution_count": 2,
   "metadata": {},
   "outputs": [],
   "source": [
    "def limiting_features(set_dict, f1, f2):\n",
    "    xx = len(set_dict[f1] & set_dict[f2]) / len(set_dict[f2]) * 100\n",
    "    print(\"Comparing %s with %s: %0.2f%%\" % (f1, f2, xx))\n",
    "    print(\"Features in common: %d\" % len(set_dict[f1] & set_dict[f2]))"
   ]
  },
  {
   "cell_type": "markdown",
   "metadata": {},
   "source": [
    "### Load PGC2+COLUZK GWAS"
   ]
  },
  {
   "cell_type": "code",
   "execution_count": 3,
   "metadata": {},
   "outputs": [
    {
     "name": "stderr",
     "output_type": "stream",
     "text": [
      "/home/jbenja13/.local/lib/python3.9/site-packages/numpy/lib/arraysetops.py:583: FutureWarning: elementwise comparison failed; returning scalar instead, but in the future will perform elementwise comparison\n",
      "  mask |= (ar1 == a)\n"
     ]
    }
   ],
   "source": [
    "pgc2_file = '/ceph/projects/v4_phase3_paper/inputs/sz_gwas/'+\\\n",
    "           'pgc2_clozuk/map_phase3/_m/libd_hg38_pgc2sz_snps.tsv'\n",
    "pgc2_df = pd.read_csv(pgc2_file, sep='\\t', low_memory=False, index_col=0)"
   ]
  },
  {
   "cell_type": "markdown",
   "metadata": {},
   "source": [
    "### With MHC"
   ]
  },
  {
   "cell_type": "markdown",
   "metadata": {},
   "source": [
    "#### Genes"
   ]
  },
  {
   "cell_type": "code",
   "execution_count": null,
   "metadata": {},
   "outputs": [],
   "source": [
    "genes = pd.read_csv('/ceph/projects/v4_phase3_paper/analysis/twas/'+\\\n",
    "                    'gene_weights/fusion_pgc2/summary_stats/_m/fusion_associations.txt', sep='\\t')\n",
    "annot = pd.read_csv('../../../differential_expression/_m/genes/diffExpr_szVctl_full.txt', sep='\\t')\n",
    "genes = annot[['ensemblID']].merge(genes, left_on='ensemblID', right_on='FILE')\n",
    "genes = genes[['FILE', 'ensemblID', 'ID', 'HSQ', 'BEST.GWAS.ID', 'EQTL.ID',\n",
    "               'TWAS.Z', 'TWAS.P', 'FDR', 'Bonferroni']]\n",
    "genes['Type'] = 'Gene'\n",
    "genes.rename(columns={'FILE': 'Feature'}, inplace=True)\n",
    "genes.sort_values('TWAS.P').head(2)"
   ]
  },
  {
   "cell_type": "markdown",
   "metadata": {},
   "source": [
    "#### Transcripts"
   ]
  },
  {
   "cell_type": "code",
   "execution_count": null,
   "metadata": {},
   "outputs": [],
   "source": [
    "trans = pd.read_csv('/ceph/projects/v4_phase3_paper/analysis/twas/'+\\\n",
    "                    'transcript_weights/fusion_pgc2/summary_stats/_m/fusion_associations.txt', sep='\\t')\n",
    "annot = pd.read_csv('../../../differential_expression/_m/transcripts/diffExpr_szVctl_full.txt', sep='\\t')\n",
    "annot['ensemblID'] = annot.gene_id.str.replace('\\\\..*', '', regex=True)\n",
    "annot['FILE'] = annot.transcript_id.str.replace('\\\\..*', '', regex=True)\n",
    "trans = annot[['ensemblID', 'FILE']].merge(trans, on='FILE')\n",
    "trans = trans[['FILE', 'ensemblID', 'ID', 'HSQ', 'BEST.GWAS.ID', 'EQTL.ID', \n",
    "               'TWAS.Z', 'TWAS.P', 'FDR', 'Bonferroni']]\n",
    "trans['Type'] = 'Transcript'\n",
    "trans.rename(columns={'FILE': 'Feature'}, inplace=True)\n",
    "trans.sort_values('TWAS.P').head(2)"
   ]
  },
  {
   "cell_type": "markdown",
   "metadata": {},
   "source": [
    "#### Exons"
   ]
  },
  {
   "cell_type": "code",
   "execution_count": null,
   "metadata": {},
   "outputs": [],
   "source": [
    "exons = pd.read_csv('/ceph/projects/v4_phase3_paper/analysis/twas/'+\\\n",
    "                    'exon_weights/fusion_pgc2/summary_stats/_m/fusion_associations.txt', sep='\\t')\n",
    "annot = pd.read_csv('../../../differential_expression/_m/exons/diffExpr_szVctl_full.txt', sep='\\t', index_col=0)\n",
    "exons = annot[['ensemblID']].merge(exons, left_index=True, right_on='FILE')\n",
    "exons = exons[['FILE', 'ensemblID', 'ID', 'HSQ', 'BEST.GWAS.ID', 'EQTL.ID', \n",
    "               'TWAS.Z', 'TWAS.P', 'FDR', 'Bonferroni']]\n",
    "exons['Type'] = 'Exon'\n",
    "exons.rename(columns={'FILE': 'Feature'}, inplace=True)\n",
    "exons.sort_values('TWAS.P').head(2)"
   ]
  },
  {
   "cell_type": "markdown",
   "metadata": {},
   "source": [
    "#### Junctions"
   ]
  },
  {
   "cell_type": "code",
   "execution_count": null,
   "metadata": {},
   "outputs": [],
   "source": [
    "dj_file = '../../../differential_expression/_m/junctions/diffExpr_szVctl_full.txt'\n",
    "dj = pd.read_csv(dj_file, sep='\\t', index_col=0)\n",
    "dj = dj[['Symbol', 'ensemblID']]\n",
    "\n",
    "jannot_file = '/ceph/projects/v4_phase3_paper/analysis/twas/_m/junctions/jxn_annotation.tsv'\n",
    "jannot = pd.read_csv(jannot_file, sep='\\t', index_col=1)\n",
    "\n",
    "jannot = jannot[['JxnID']]\n",
    "annot = pd.merge(jannot, dj, left_index=True, right_index=True)\n",
    "\n",
    "juncs = pd.read_csv('/ceph/projects/v4_phase3_paper/analysis/twas/'+\\\n",
    "                    'junction_weights/fusion_pgc2/summary_stats/_m/fusion_associations.txt', sep='\\t')\n",
    "juncs = pd.merge(annot, juncs, left_on='JxnID', right_on='FILE')\n",
    "juncs = juncs[['FILE', 'ensemblID', 'Symbol', 'HSQ', 'BEST.GWAS.ID', 'EQTL.ID', \n",
    "               'TWAS.Z', 'TWAS.P', 'FDR', 'Bonferroni']]\n",
    "juncs['Type'] = 'Junction'\n",
    "juncs.rename(columns={'Symbol': 'ID', 'FILE': 'Feature'}, inplace=True)\n",
    "juncs.sort_values('TWAS.P').head(2)"
   ]
  },
  {
   "cell_type": "markdown",
   "metadata": {},
   "source": [
    "## Heritable features"
   ]
  },
  {
   "cell_type": "markdown",
   "metadata": {},
   "source": [
    "### Feature summary"
   ]
  },
  {
   "cell_type": "code",
   "execution_count": null,
   "metadata": {},
   "outputs": [],
   "source": [
    "gg = len(set(genes['Feature']))\n",
    "tt = len(set(trans['Feature']))\n",
    "ee = len(set(exons['Feature']))\n",
    "jj = len(set(juncs['Feature']))\n",
    "\n",
    "print(\"===Unique Features===\\nGene:\\t\\t%d\\nTranscript:\\t%d\\nExon:\\t\\t%d\\nJunction:\\t%d\\n\" % (gg, tt, ee, jj)) \n",
    "\n",
    "gg = len(set(genes['ensemblID']))\n",
    "tt = len(set(trans['ensemblID']))\n",
    "ee = len(set(exons['ensemblID']))\n",
    "jj = len(set(juncs['ensemblID']))\n",
    "\n",
    "print(\"===Unique Ensembl Gene===\\nGene:\\t\\t%d\\nTranscript:\\t%d\\nExon:\\t\\t%d\\nJunction:\\t%d\\n\" % (gg, tt, ee, jj)) \n",
    "\n",
    "gg = len(set(genes['ID']))\n",
    "tt = len(set(trans['ID']))\n",
    "ee = len(set(exons['ID']))\n",
    "jj = len(set(juncs['ID']))\n",
    "\n",
    "print(\"===Unique Gene Name===\\nGene:\\t\\t%d\\nTranscript:\\t%d\\nExon:\\t\\t%d\\nJunction:\\t%d\\n\" % (gg, tt, ee, jj)) "
   ]
  },
  {
   "cell_type": "markdown",
   "metadata": {},
   "source": [
    "### Overlap"
   ]
  },
  {
   "cell_type": "code",
   "execution_count": null,
   "metadata": {},
   "outputs": [],
   "source": [
    "features = {\n",
    "    'Genes': set(genes['ensemblID']),\n",
    "    'Transcripts': set(trans['ensemblID']),\n",
    "    'Exons': set(exons['ensemblID']),\n",
    "    'Junctions': set(juncs['ensemblID']),\n",
    "}\n",
    "\n",
    "limiting_features(features, 'Genes', 'Transcripts')\n",
    "limiting_features(features, 'Genes', 'Junctions')\n",
    "limiting_features(features, 'Exons', 'Genes')\n",
    "print(\"\\n\")\n",
    "limiting_features(features, 'Transcripts', 'Junctions')\n",
    "limiting_features(features, 'Exons', 'Transcripts')\n",
    "limiting_features(features, 'Exons', 'Junctions')"
   ]
  },
  {
   "cell_type": "code",
   "execution_count": null,
   "metadata": {},
   "outputs": [],
   "source": [
    "len(features['Genes'] & features['Transcripts'] & features['Exons'] & features['Junctions'])"
   ]
  },
  {
   "cell_type": "code",
   "execution_count": null,
   "metadata": {},
   "outputs": [],
   "source": [
    "len(features['Genes'] | features['Transcripts'] | features['Exons'] | features['Junctions'])"
   ]
  },
  {
   "cell_type": "markdown",
   "metadata": {},
   "source": [
    "### SNPs not in significant PGC2+COLUZK GWAS"
   ]
  },
  {
   "cell_type": "code",
   "execution_count": null,
   "metadata": {},
   "outputs": [],
   "source": [
    "new_genes = pd.merge(genes, pgc2_df, left_on='BEST.GWAS.ID', right_on='our_snp_id', suffixes=['_TWAS', '_PGC2'])\n",
    "new_trans = pd.merge(trans, pgc2_df, left_on='BEST.GWAS.ID', right_on='our_snp_id', suffixes=['_TWAS', '_PGC2'])\n",
    "new_exons = pd.merge(exons, pgc2_df, left_on='BEST.GWAS.ID', right_on='our_snp_id', suffixes=['_TWAS', '_PGC2'])\n",
    "new_juncs = pd.merge(juncs, pgc2_df, left_on='BEST.GWAS.ID', right_on='our_snp_id', suffixes=['_TWAS', '_PGC2'])\n",
    "\n",
    "new_genes = new_genes[(new_genes['P'] > 5e-8)].copy()\n",
    "new_trans = new_trans[(new_trans['P'] > 5e-8)].copy()\n",
    "new_exons = new_exons[(new_exons['P'] > 5e-8)].copy()\n",
    "new_juncs = new_juncs[(new_juncs['P'] > 5e-8)].copy()\n",
    "\n",
    "gg = len(set(new_genes['BEST.GWAS.ID']))\n",
    "tt = len(set(new_trans['BEST.GWAS.ID']))\n",
    "ee = len(set(new_exons['BEST.GWAS.ID']))\n",
    "jj = len(set(new_juncs['BEST.GWAS.ID']))\n",
    "\n",
    "print(\"===Unique novel SNPs===\\nGene:\\t\\t%d\\nTranscript:\\t%d\\nExon:\\t\\t%d\\nJunction:\\t%d\\n\" % (gg, tt, ee, jj)) "
   ]
  },
  {
   "cell_type": "code",
   "execution_count": null,
   "metadata": {},
   "outputs": [],
   "source": [
    "len(set(new_genes['BEST.GWAS.ID']) | set(new_trans['BEST.GWAS.ID']) | \n",
    "    set(new_exons['BEST.GWAS.ID']) | set(new_juncs['BEST.GWAS.ID']))"
   ]
  },
  {
   "cell_type": "markdown",
   "metadata": {},
   "source": [
    "## TWAS P-value < 0.05"
   ]
  },
  {
   "cell_type": "markdown",
   "metadata": {},
   "source": [
    "### Feature summary"
   ]
  },
  {
   "cell_type": "code",
   "execution_count": null,
   "metadata": {},
   "outputs": [],
   "source": [
    "gg = len(set(genes[(genes['TWAS.P'] <= 0.05)].loc[:, 'Feature']))\n",
    "tt = len(set(trans[(trans['TWAS.P'] <= 0.05)].loc[:, 'Feature']))\n",
    "ee = len(set(exons[(exons['TWAS.P'] <= 0.05)].loc[:, 'Feature']))\n",
    "jj = len(set(juncs[(juncs['TWAS.P'] <= 0.05)].loc[:, 'Feature']))\n",
    "\n",
    "print(\"===Unique Features===\\nGene:\\t\\t%d\\nTranscript:\\t%d\\nExon:\\t\\t%d\\nJunction:\\t%d\\n\" % (gg, tt, ee, jj)) \n",
    "\n",
    "gg = len(set(genes[(genes['TWAS.P'] <= 0.05)].loc[:, 'ensemblID']))\n",
    "tt = len(set(trans[(trans['TWAS.P'] <= 0.05)].loc[:, 'ensemblID']))\n",
    "ee = len(set(exons[(exons['TWAS.P'] <= 0.05)].loc[:, 'ensemblID']))\n",
    "jj = len(set(juncs[(juncs['TWAS.P'] <= 0.05)].loc[:, 'ensemblID']))\n",
    "\n",
    "print(\"===Unique Ensembl Gene===\\nGene:\\t\\t%d\\nTranscript:\\t%d\\nExon:\\t\\t%d\\nJunction:\\t%d\\n\" % (gg, tt, ee, jj)) \n",
    "\n",
    "gg = len(set(genes[(genes['TWAS.P'] <= 0.05)].loc[:, 'ID']))\n",
    "tt = len(set(trans[(trans['TWAS.P'] <= 0.05)].loc[:, 'ID']))\n",
    "ee = len(set(exons[(exons['TWAS.P'] <= 0.05)].loc[:, 'ID']))\n",
    "jj = len(set(juncs[(juncs['TWAS.P'] <= 0.05)].loc[:, 'ID']))\n",
    "\n",
    "print(\"===Unique Gene Names===\\nGene:\\t\\t%d\\nTranscript:\\t%d\\nExon:\\t\\t%d\\nJunction:\\t%d\\n\" % (gg, tt, ee, jj)) "
   ]
  },
  {
   "cell_type": "markdown",
   "metadata": {},
   "source": [
    "### Overlap"
   ]
  },
  {
   "cell_type": "code",
   "execution_count": null,
   "metadata": {},
   "outputs": [],
   "source": [
    "features = {\n",
    "    'Genes': set(genes[(genes['TWAS.P'] <= 0.05)].loc[:, 'ensemblID']),\n",
    "    'Transcripts': set(trans[(trans['TWAS.P'] <= 0.05)].loc[:, 'ensemblID']),\n",
    "    'Exons': set(exons[(exons['TWAS.P'] <= 0.05)].loc[:, 'ensemblID']),\n",
    "    'Junctions': set(juncs[(juncs['TWAS.P'] <= 0.05)].loc[:, 'ensemblID']),\n",
    "}\n",
    "\n",
    "limiting_features(features, 'Genes', 'Transcripts')\n",
    "limiting_features(features, 'Genes', 'Junctions')\n",
    "limiting_features(features, 'Exons', 'Genes')\n",
    "print(\"\\n\")\n",
    "limiting_features(features, 'Transcripts', 'Junctions')\n",
    "limiting_features(features, 'Exons', 'Transcripts')\n",
    "limiting_features(features, 'Exons', 'Junctions')"
   ]
  },
  {
   "cell_type": "code",
   "execution_count": null,
   "metadata": {},
   "outputs": [],
   "source": [
    "len(features['Genes'] & features['Transcripts'] & features['Exons'] & features['Junctions'])"
   ]
  },
  {
   "cell_type": "code",
   "execution_count": null,
   "metadata": {},
   "outputs": [],
   "source": [
    "len(features['Genes'] | features['Transcripts'] | features['Exons'] | features['Junctions'])"
   ]
  },
  {
   "cell_type": "markdown",
   "metadata": {},
   "source": [
    "### SNPs not in significant PGC2+COLUZK GWAS"
   ]
  },
  {
   "cell_type": "code",
   "execution_count": null,
   "metadata": {},
   "outputs": [],
   "source": [
    "new_genes = pd.merge(genes[(genes['TWAS.P'] <= 0.05)], pgc2_df, left_on='BEST.GWAS.ID', \n",
    "                     right_on='our_snp_id', suffixes=['_TWAS', '_PGC2'])\n",
    "new_trans = pd.merge(trans[(trans['TWAS.P'] <= 0.05)], pgc2_df, left_on='BEST.GWAS.ID', \n",
    "                     right_on='our_snp_id', suffixes=['_TWAS', '_PGC2'])\n",
    "new_exons = pd.merge(exons[(exons['TWAS.P'] <= 0.05)], pgc2_df, left_on='BEST.GWAS.ID', \n",
    "                     right_on='our_snp_id', suffixes=['_TWAS', '_PGC2'])\n",
    "new_juncs = pd.merge(juncs[(juncs['TWAS.P'] <= 0.05)], pgc2_df, left_on='BEST.GWAS.ID', \n",
    "                     right_on='our_snp_id', suffixes=['_TWAS', '_PGC2'])\n",
    "\n",
    "new_genes = new_genes[(new_genes['P'] > 5e-8)].copy()\n",
    "new_trans = new_trans[(new_trans['P'] > 5e-8)].copy()\n",
    "new_exons = new_exons[(new_exons['P'] > 5e-8)].copy()\n",
    "new_juncs = new_juncs[(new_juncs['P'] > 5e-8)].copy()\n",
    "\n",
    "gg = len(set(new_genes['BEST.GWAS.ID']))\n",
    "tt = len(set(new_trans['BEST.GWAS.ID']))\n",
    "ee = len(set(new_exons['BEST.GWAS.ID']))\n",
    "jj = len(set(new_juncs['BEST.GWAS.ID']))\n",
    "\n",
    "print(\"===Unique novel SNPs===\\nGene:\\t\\t%d\\nTranscript:\\t%d\\nExon:\\t\\t%d\\nJunction:\\t%d\\n\" % (gg, tt, ee, jj)) "
   ]
  },
  {
   "cell_type": "code",
   "execution_count": null,
   "metadata": {},
   "outputs": [],
   "source": [
    "len(set(new_genes['BEST.GWAS.ID']) | set(new_trans['BEST.GWAS.ID']) | \n",
    "    set(new_exons['BEST.GWAS.ID']) | set(new_juncs['BEST.GWAS.ID']))"
   ]
  },
  {
   "cell_type": "markdown",
   "metadata": {},
   "source": [
    "## TWAS FDR < 0.05"
   ]
  },
  {
   "cell_type": "markdown",
   "metadata": {},
   "source": [
    "### Feature summary"
   ]
  },
  {
   "cell_type": "code",
   "execution_count": null,
   "metadata": {},
   "outputs": [],
   "source": [
    "gg = len(set(genes[(genes['FDR'] <= 0.05)].loc[:, 'Feature']))\n",
    "tt = len(set(trans[(trans['FDR'] <= 0.05)].loc[:, 'Feature']))\n",
    "ee = len(set(exons[(exons['FDR'] <= 0.05)].loc[:, 'Feature']))\n",
    "jj = len(set(juncs[(juncs['FDR'] <= 0.05)].loc[:, 'Feature']))\n",
    "\n",
    "print(\"===Unique Features===\\nGene:\\t\\t%d\\nTranscript:\\t%d\\nExon:\\t\\t%d\\nJunction:\\t%d\\n\" % (gg, tt, ee, jj)) \n",
    "\n",
    "gg = len(set(genes[(genes['FDR'] <= 0.05)].loc[:, 'ensemblID']))\n",
    "tt = len(set(trans[(trans['FDR'] <= 0.05)].loc[:, 'ensemblID']))\n",
    "ee = len(set(exons[(exons['FDR'] <= 0.05)].loc[:, 'ensemblID']))\n",
    "jj = len(set(juncs[(juncs['FDR'] <= 0.05)].loc[:, 'ensemblID']))\n",
    "\n",
    "print(\"===Unique Ensembl Gene===\\nGene:\\t\\t%d\\nTranscript:\\t%d\\nExon:\\t\\t%d\\nJunction:\\t%d\\n\" % (gg, tt, ee, jj)) \n",
    "\n",
    "gg = len(set(genes[(genes['FDR'] <= 0.05)].loc[:, 'ID']))\n",
    "tt = len(set(trans[(trans['FDR'] <= 0.05)].loc[:, 'ID']))\n",
    "ee = len(set(exons[(exons['FDR'] <= 0.05)].loc[:, 'ID']))\n",
    "jj = len(set(juncs[(juncs['FDR'] <= 0.05)].loc[:, 'ID']))\n",
    "\n",
    "print(\"===Unique Gene Name===\\nGene:\\t\\t%d\\nTranscript:\\t%d\\nExon:\\t\\t%d\\nJunction:\\t%d\\n\" % (gg, tt, ee, jj)) "
   ]
  },
  {
   "cell_type": "markdown",
   "metadata": {},
   "source": [
    "### Overlap"
   ]
  },
  {
   "cell_type": "code",
   "execution_count": null,
   "metadata": {},
   "outputs": [],
   "source": [
    "features = {\n",
    "    'Genes': set(genes[(genes['FDR'] <= 0.05)].loc[:, 'ensemblID']),\n",
    "    'Transcripts': set(trans[(trans['FDR'] <= 0.05)].loc[:, 'ensemblID']),\n",
    "    'Exons': set(exons[(exons['FDR'] <= 0.05)].loc[:, 'ensemblID']),\n",
    "    'Junctions': set(juncs[(juncs['FDR'] <= 0.05)].loc[:, 'ensemblID']),\n",
    "}\n",
    "\n",
    "limiting_features(features, 'Genes', 'Transcripts')\n",
    "limiting_features(features, 'Genes', 'Junctions')\n",
    "limiting_features(features, 'Exons', 'Genes')\n",
    "print(\"\\n\")\n",
    "limiting_features(features, 'Transcripts', 'Junctions')\n",
    "limiting_features(features, 'Exons', 'Transcripts')\n",
    "limiting_features(features, 'Exons', 'Junctions')"
   ]
  },
  {
   "cell_type": "code",
   "execution_count": null,
   "metadata": {},
   "outputs": [],
   "source": [
    "len(features['Genes'] & features['Transcripts'] & features['Exons'] & features['Junctions'])"
   ]
  },
  {
   "cell_type": "code",
   "execution_count": null,
   "metadata": {},
   "outputs": [],
   "source": [
    "len(features['Genes'] | features['Transcripts'] | features['Exons'] | features['Junctions'])"
   ]
  },
  {
   "cell_type": "markdown",
   "metadata": {},
   "source": [
    "### SNPs not in significant PGC2+CLOZUK GWAS"
   ]
  },
  {
   "cell_type": "code",
   "execution_count": null,
   "metadata": {},
   "outputs": [],
   "source": [
    "new_genes = pd.merge(genes[(genes['FDR'] <= 0.05)], pgc2_df, left_on='BEST.GWAS.ID', \n",
    "                     right_on='our_snp_id', suffixes=['_TWAS', '_PGC2'])\n",
    "new_trans = pd.merge(trans[(trans['FDR'] <= 0.05)], pgc2_df, left_on='BEST.GWAS.ID', \n",
    "                     right_on='our_snp_id', suffixes=['_TWAS', '_PGC2'])\n",
    "new_exons = pd.merge(exons[(exons['FDR'] <= 0.05)], pgc2_df, left_on='BEST.GWAS.ID', \n",
    "                     right_on='our_snp_id', suffixes=['_TWAS', '_PGC2'])\n",
    "new_juncs = pd.merge(juncs[(juncs['FDR'] <= 0.05)], pgc2_df, left_on='BEST.GWAS.ID', \n",
    "                     right_on='our_snp_id', suffixes=['_TWAS', '_PGC2'])\n",
    "\n",
    "new_genes = new_genes[(new_genes['P'] > 5e-8)].copy()\n",
    "new_trans = new_trans[(new_trans['P'] > 5e-8)].copy()\n",
    "new_exons = new_exons[(new_exons['P'] > 5e-8)].copy()\n",
    "new_juncs = new_juncs[(new_juncs['P'] > 5e-8)].copy()\n",
    "\n",
    "gg = len(set(new_genes['BEST.GWAS.ID']))\n",
    "tt = len(set(new_trans['BEST.GWAS.ID']))\n",
    "ee = len(set(new_exons['BEST.GWAS.ID']))\n",
    "jj = len(set(new_juncs['BEST.GWAS.ID']))\n",
    "\n",
    "print(\"===Unique novel SNPs===\\nGene:\\t\\t%d\\nTranscript:\\t%d\\nExon:\\t\\t%d\\nJunction:\\t%d\\n\" % (gg, tt, ee, jj)) "
   ]
  },
  {
   "cell_type": "code",
   "execution_count": null,
   "metadata": {},
   "outputs": [],
   "source": [
    "len(set(new_genes['BEST.GWAS.ID']) | set(new_trans['BEST.GWAS.ID']) | \n",
    "    set(new_exons['BEST.GWAS.ID']) | set(new_juncs['BEST.GWAS.ID']))"
   ]
  },
  {
   "cell_type": "markdown",
   "metadata": {},
   "source": [
    "## TWAS Bonferroni < 0.05"
   ]
  },
  {
   "cell_type": "markdown",
   "metadata": {},
   "source": [
    "### Feature summary"
   ]
  },
  {
   "cell_type": "code",
   "execution_count": null,
   "metadata": {},
   "outputs": [],
   "source": [
    "gg = len(set(genes[(genes['Bonferroni'] <= 0.05)].loc[:, 'Feature']))\n",
    "tt = len(set(trans[(trans['Bonferroni'] <= 0.05)].loc[:, 'Feature']))\n",
    "ee = len(set(exons[(exons['Bonferroni'] <= 0.05)].loc[:, 'Feature']))\n",
    "jj = len(set(juncs[(juncs['Bonferroni'] <= 0.05)].loc[:, 'Feature']))\n",
    "\n",
    "print(\"===Unique Features===\\nGene:\\t\\t%d\\nTranscript:\\t%d\\nExon:\\t\\t%d\\nJunction:\\t%d\\n\" % (gg, tt, ee, jj)) \n",
    "\n",
    "gg = len(set(genes[(genes['Bonferroni'] <= 0.05)].loc[:, 'ensemblID']))\n",
    "tt = len(set(trans[(trans['Bonferroni'] <= 0.05)].loc[:, 'ensemblID']))\n",
    "ee = len(set(exons[(exons['Bonferroni'] <= 0.05)].loc[:, 'ensemblID']))\n",
    "jj = len(set(juncs[(juncs['Bonferroni'] <= 0.05)].loc[:, 'ensemblID']))\n",
    "\n",
    "print(\"===Unique Ensembl Gene===\\nGene:\\t\\t%d\\nTranscript:\\t%d\\nExon:\\t\\t%d\\nJunction:\\t%d\\n\" % (gg, tt, ee, jj)) \n",
    "\n",
    "gg = len(set(genes[(genes['Bonferroni'] <= 0.05)].loc[:, 'ID']))\n",
    "tt = len(set(trans[(trans['Bonferroni'] <= 0.05)].loc[:, 'ID']))\n",
    "ee = len(set(exons[(exons['Bonferroni'] <= 0.05)].loc[:, 'ID']))\n",
    "jj = len(set(juncs[(juncs['Bonferroni'] <= 0.05)].loc[:, 'ID']))\n",
    "\n",
    "print(\"===Unique Gene Name===\\nGene:\\t\\t%d\\nTranscript:\\t%d\\nExon:\\t\\t%d\\nJunction:\\t%d\\n\" % (gg, tt, ee, jj)) "
   ]
  },
  {
   "cell_type": "markdown",
   "metadata": {},
   "source": [
    "### Overlap"
   ]
  },
  {
   "cell_type": "code",
   "execution_count": null,
   "metadata": {},
   "outputs": [],
   "source": [
    "features = {\n",
    "    'Genes': set(genes[(genes['Bonferroni'] <= 0.05)].loc[:, 'ensemblID']),\n",
    "    'Transcripts': set(trans[(trans['Bonferroni'] <= 0.05)].loc[:, 'ensemblID']),\n",
    "    'Exons': set(exons[(exons['Bonferroni'] <= 0.05)].loc[:, 'ensemblID']),\n",
    "    'Junctions': set(juncs[(juncs['Bonferroni'] <= 0.05)].loc[:, 'ensemblID']),\n",
    "}\n",
    "\n",
    "limiting_features(features, 'Genes', 'Transcripts')\n",
    "limiting_features(features, 'Genes', 'Junctions')\n",
    "limiting_features(features, 'Exons', 'Genes')\n",
    "print(\"\\n\")\n",
    "limiting_features(features, 'Transcripts', 'Junctions')\n",
    "limiting_features(features, 'Exons', 'Transcripts')\n",
    "limiting_features(features, 'Exons', 'Junctions')"
   ]
  },
  {
   "cell_type": "code",
   "execution_count": null,
   "metadata": {},
   "outputs": [],
   "source": [
    "len(features['Genes'] & features['Transcripts'] & features['Exons'] & features['Junctions'])"
   ]
  },
  {
   "cell_type": "code",
   "execution_count": null,
   "metadata": {},
   "outputs": [],
   "source": [
    "len(features['Genes'] | features['Transcripts'] | features['Exons'] | features['Junctions'])"
   ]
  },
  {
   "cell_type": "markdown",
   "metadata": {},
   "source": [
    "### SNPs not in significant PGC2+CLOZUK GWAS"
   ]
  },
  {
   "cell_type": "code",
   "execution_count": null,
   "metadata": {},
   "outputs": [],
   "source": [
    "new_genes = pd.merge(genes[(genes['Bonferroni'] <= 0.05)], pgc2_df, left_on='BEST.GWAS.ID', \n",
    "                     right_on='our_snp_id', suffixes=['_TWAS', '_PGC2'])\n",
    "new_trans = pd.merge(trans[(trans['Bonferroni'] <= 0.05)], pgc2_df, left_on='BEST.GWAS.ID', \n",
    "                     right_on='our_snp_id', suffixes=['_TWAS', '_PGC2'])\n",
    "new_exons = pd.merge(exons[(exons['Bonferroni'] <= 0.05)], pgc2_df, left_on='BEST.GWAS.ID', \n",
    "                     right_on='our_snp_id', suffixes=['_TWAS', '_PGC2'])\n",
    "new_juncs = pd.merge(juncs[(juncs['Bonferroni'] <= 0.05)], pgc2_df, left_on='BEST.GWAS.ID', \n",
    "                     right_on='our_snp_id', suffixes=['_TWAS', '_PGC2'])\n",
    "\n",
    "new_genes = new_genes[(new_genes['P'] > 5e-8)].copy()\n",
    "new_trans = new_trans[(new_trans['P'] > 5e-8)].copy()\n",
    "new_exons = new_exons[(new_exons['P'] > 5e-8)].copy()\n",
    "new_juncs = new_juncs[(new_juncs['P'] > 5e-8)].copy()\n",
    "\n",
    "gg = len(set(new_genes['BEST.GWAS.ID']))\n",
    "tt = len(set(new_trans['BEST.GWAS.ID']))\n",
    "ee = len(set(new_exons['BEST.GWAS.ID']))\n",
    "jj = len(set(new_juncs['BEST.GWAS.ID']))\n",
    "\n",
    "print(\"===Unique novel SNPs===\\nGene:\\t\\t%d\\nTranscript:\\t%d\\nExon:\\t\\t%d\\nJunction:\\t%d\\n\" % (gg, tt, ee, jj)) "
   ]
  },
  {
   "cell_type": "code",
   "execution_count": null,
   "metadata": {},
   "outputs": [],
   "source": [
    "len(set(new_genes['BEST.GWAS.ID']) | set(new_trans['BEST.GWAS.ID']) | \n",
    "    set(new_exons['BEST.GWAS.ID']) | set(new_juncs['BEST.GWAS.ID']))"
   ]
  },
  {
   "cell_type": "markdown",
   "metadata": {},
   "source": [
    "## Joint analysis"
   ]
  },
  {
   "cell_type": "markdown",
   "metadata": {},
   "source": [
    "### Prepare data"
   ]
  },
  {
   "cell_type": "markdown",
   "metadata": {},
   "source": [
    "#### Genes"
   ]
  },
  {
   "cell_type": "code",
   "execution_count": 4,
   "metadata": {},
   "outputs": [
    {
     "data": {
      "text/html": [
       "<div>\n",
       "<style scoped>\n",
       "    .dataframe tbody tr th:only-of-type {\n",
       "        vertical-align: middle;\n",
       "    }\n",
       "\n",
       "    .dataframe tbody tr th {\n",
       "        vertical-align: top;\n",
       "    }\n",
       "\n",
       "    .dataframe thead th {\n",
       "        text-align: right;\n",
       "    }\n",
       "</style>\n",
       "<table border=\"1\" class=\"dataframe\">\n",
       "  <thead>\n",
       "    <tr style=\"text-align: right;\">\n",
       "      <th></th>\n",
       "      <th>Feature</th>\n",
       "      <th>ensemblID</th>\n",
       "      <th>ID</th>\n",
       "      <th>TWAS.Z</th>\n",
       "      <th>TWAS.P</th>\n",
       "      <th>JOINT.Z</th>\n",
       "      <th>JOINT.P</th>\n",
       "      <th>Type</th>\n",
       "    </tr>\n",
       "  </thead>\n",
       "  <tbody>\n",
       "    <tr>\n",
       "      <th>112</th>\n",
       "      <td>ENSG00000137411</td>\n",
       "      <td>ENSG00000137411</td>\n",
       "      <td>VARS2</td>\n",
       "      <td>9.558187</td>\n",
       "      <td>1.198372e-21</td>\n",
       "      <td>22.633593</td>\n",
       "      <td>2.024222e-113</td>\n",
       "      <td>Gene</td>\n",
       "    </tr>\n",
       "    <tr>\n",
       "      <th>29</th>\n",
       "      <td>ENSG00000261353</td>\n",
       "      <td>ENSG00000261353</td>\n",
       "      <td>ENSG00000261353</td>\n",
       "      <td>9.381070</td>\n",
       "      <td>6.530637e-21</td>\n",
       "      <td>18.809150</td>\n",
       "      <td>6.354831e-79</td>\n",
       "      <td>Gene</td>\n",
       "    </tr>\n",
       "  </tbody>\n",
       "</table>\n",
       "</div>"
      ],
      "text/plain": [
       "             Feature        ensemblID               ID    TWAS.Z  \\\n",
       "112  ENSG00000137411  ENSG00000137411            VARS2  9.558187   \n",
       "29   ENSG00000261353  ENSG00000261353  ENSG00000261353  9.381070   \n",
       "\n",
       "           TWAS.P    JOINT.Z        JOINT.P  Type  \n",
       "112  1.198372e-21  22.633593  2.024222e-113  Gene  \n",
       "29   6.530637e-21  18.809150   6.354831e-79  Gene  "
      ]
     },
     "execution_count": 4,
     "metadata": {},
     "output_type": "execute_result"
    }
   ],
   "source": [
    "genes = pd.read_csv('/ceph/projects/v4_phase3_paper/analysis/twas/'+\\\n",
    "                    'gene_weights/fusion_pgc2/summary_stats/_m/fusion_twas_joint_assoc.txt', sep='\\t')\n",
    "annot = pd.read_csv('../../../differential_expression/_m/genes/diffExpr_szVctl_full.txt', sep='\\t')\n",
    "genes = annot[['ensemblID']].merge(genes, left_on='ensemblID', right_on='FILE')\n",
    "genes = genes[['FILE', 'ensemblID', 'ID', 'TWAS.Z', 'TWAS.P', \"JOINT.Z\", \"JOINT.P\"]]\n",
    "genes['Type'] = 'Gene'\n",
    "genes.rename(columns={'FILE': 'Feature'}, inplace=True)\n",
    "genes.sort_values('JOINT.P').head(2)"
   ]
  },
  {
   "cell_type": "markdown",
   "metadata": {},
   "source": [
    "#### Transcripts"
   ]
  },
  {
   "cell_type": "code",
   "execution_count": 5,
   "metadata": {},
   "outputs": [
    {
     "data": {
      "text/html": [
       "<div>\n",
       "<style scoped>\n",
       "    .dataframe tbody tr th:only-of-type {\n",
       "        vertical-align: middle;\n",
       "    }\n",
       "\n",
       "    .dataframe tbody tr th {\n",
       "        vertical-align: top;\n",
       "    }\n",
       "\n",
       "    .dataframe thead th {\n",
       "        text-align: right;\n",
       "    }\n",
       "</style>\n",
       "<table border=\"1\" class=\"dataframe\">\n",
       "  <thead>\n",
       "    <tr style=\"text-align: right;\">\n",
       "      <th></th>\n",
       "      <th>Feature</th>\n",
       "      <th>ensemblID</th>\n",
       "      <th>ID</th>\n",
       "      <th>TWAS.Z</th>\n",
       "      <th>TWAS.P</th>\n",
       "      <th>JOINT.Z</th>\n",
       "      <th>JOINT.P</th>\n",
       "      <th>Type</th>\n",
       "    </tr>\n",
       "  </thead>\n",
       "  <tbody>\n",
       "    <tr>\n",
       "      <th>53</th>\n",
       "      <td>ENST00000433076</td>\n",
       "      <td>ENSG00000241370</td>\n",
       "      <td>RPP21</td>\n",
       "      <td>9.807137</td>\n",
       "      <td>1.049029e-22</td>\n",
       "      <td>26.378509</td>\n",
       "      <td>2.417846e-153</td>\n",
       "      <td>Transcript</td>\n",
       "    </tr>\n",
       "    <tr>\n",
       "      <th>79</th>\n",
       "      <td>ENST00000426643</td>\n",
       "      <td>ENSG00000228962</td>\n",
       "      <td>HCG23</td>\n",
       "      <td>-10.807684</td>\n",
       "      <td>3.165626e-27</td>\n",
       "      <td>-25.798882</td>\n",
       "      <td>9.127039e-147</td>\n",
       "      <td>Transcript</td>\n",
       "    </tr>\n",
       "  </tbody>\n",
       "</table>\n",
       "</div>"
      ],
      "text/plain": [
       "            Feature        ensemblID     ID     TWAS.Z        TWAS.P  \\\n",
       "53  ENST00000433076  ENSG00000241370  RPP21   9.807137  1.049029e-22   \n",
       "79  ENST00000426643  ENSG00000228962  HCG23 -10.807684  3.165626e-27   \n",
       "\n",
       "      JOINT.Z        JOINT.P        Type  \n",
       "53  26.378509  2.417846e-153  Transcript  \n",
       "79 -25.798882  9.127039e-147  Transcript  "
      ]
     },
     "execution_count": 5,
     "metadata": {},
     "output_type": "execute_result"
    }
   ],
   "source": [
    "trans = pd.read_csv('/ceph/projects/v4_phase3_paper/analysis/twas/'+\\\n",
    "                    'transcript_weights/fusion_pgc2/summary_stats/_m/fusion_twas_joint_assoc.txt', sep='\\t')\n",
    "annot = pd.read_csv('../../../differential_expression/_m/transcripts/diffExpr_szVctl_full.txt', sep='\\t')\n",
    "annot['ensemblID'] = annot.gene_id.str.replace('\\\\..*', '', regex=True)\n",
    "annot['FILE'] = annot.transcript_id.str.replace('\\\\..*', '', regex=True)\n",
    "trans = annot[['ensemblID', 'FILE']].merge(trans, on='FILE')\n",
    "trans = trans[['FILE', 'ensemblID', 'ID', 'TWAS.Z', 'TWAS.P', \"JOINT.Z\", \"JOINT.P\"]]\n",
    "trans['Type'] = 'Transcript'\n",
    "trans.rename(columns={'FILE': 'Feature'}, inplace=True)\n",
    "trans.sort_values('JOINT.P').head(2)"
   ]
  },
  {
   "cell_type": "markdown",
   "metadata": {},
   "source": [
    "#### Exons"
   ]
  },
  {
   "cell_type": "code",
   "execution_count": 6,
   "metadata": {},
   "outputs": [
    {
     "data": {
      "text/html": [
       "<div>\n",
       "<style scoped>\n",
       "    .dataframe tbody tr th:only-of-type {\n",
       "        vertical-align: middle;\n",
       "    }\n",
       "\n",
       "    .dataframe tbody tr th {\n",
       "        vertical-align: top;\n",
       "    }\n",
       "\n",
       "    .dataframe thead th {\n",
       "        text-align: right;\n",
       "    }\n",
       "</style>\n",
       "<table border=\"1\" class=\"dataframe\">\n",
       "  <thead>\n",
       "    <tr style=\"text-align: right;\">\n",
       "      <th></th>\n",
       "      <th>Feature</th>\n",
       "      <th>ensemblID</th>\n",
       "      <th>ID</th>\n",
       "      <th>TWAS.Z</th>\n",
       "      <th>TWAS.P</th>\n",
       "      <th>JOINT.Z</th>\n",
       "      <th>JOINT.P</th>\n",
       "      <th>Type</th>\n",
       "    </tr>\n",
       "  </thead>\n",
       "  <tbody>\n",
       "    <tr>\n",
       "      <th>147</th>\n",
       "      <td>e384607</td>\n",
       "      <td>ENSG00000244731</td>\n",
       "      <td>C4A</td>\n",
       "      <td>11.164919</td>\n",
       "      <td>6.054653e-29</td>\n",
       "      <td>-28.484721</td>\n",
       "      <td>1.811364e-178</td>\n",
       "      <td>Exon</td>\n",
       "    </tr>\n",
       "    <tr>\n",
       "      <th>195</th>\n",
       "      <td>e805810</td>\n",
       "      <td>ENSG00000156414</td>\n",
       "      <td>TDRD9</td>\n",
       "      <td>-4.531112</td>\n",
       "      <td>5.867408e-06</td>\n",
       "      <td>-18.385187</td>\n",
       "      <td>1.726436e-75</td>\n",
       "      <td>Exon</td>\n",
       "    </tr>\n",
       "  </tbody>\n",
       "</table>\n",
       "</div>"
      ],
      "text/plain": [
       "     Feature        ensemblID     ID     TWAS.Z        TWAS.P    JOINT.Z  \\\n",
       "147  e384607  ENSG00000244731    C4A  11.164919  6.054653e-29 -28.484721   \n",
       "195  e805810  ENSG00000156414  TDRD9  -4.531112  5.867408e-06 -18.385187   \n",
       "\n",
       "           JOINT.P  Type  \n",
       "147  1.811364e-178  Exon  \n",
       "195   1.726436e-75  Exon  "
      ]
     },
     "execution_count": 6,
     "metadata": {},
     "output_type": "execute_result"
    }
   ],
   "source": [
    "exons = pd.read_csv('/ceph/projects/v4_phase3_paper/analysis/twas/'+\\\n",
    "                    'exon_weights/fusion_pgc2/summary_stats/_m/fusion_twas_joint_assoc.txt', sep='\\t')\n",
    "annot = pd.read_csv('../../../differential_expression/_m/exons/diffExpr_szVctl_full.txt', sep='\\t', index_col=0)\n",
    "exons = annot[['ensemblID']].merge(exons, left_index=True, right_on='FILE')\n",
    "exons = exons[['FILE', 'ensemblID', 'ID', 'TWAS.Z', 'TWAS.P', \"JOINT.Z\", \"JOINT.P\"]]\n",
    "exons['Type'] = 'Exon'\n",
    "exons.rename(columns={'FILE': 'Feature'}, inplace=True)\n",
    "exons.sort_values('JOINT.P').head(2)"
   ]
  },
  {
   "cell_type": "markdown",
   "metadata": {},
   "source": [
    "#### Junctions"
   ]
  },
  {
   "cell_type": "code",
   "execution_count": 7,
   "metadata": {},
   "outputs": [
    {
     "name": "stderr",
     "output_type": "stream",
     "text": [
      "/usr/lib/python3.9/site-packages/IPython/core/interactiveshell.py:3146: DtypeWarning: Columns (2) have mixed types.Specify dtype option on import or set low_memory=False.\n",
      "  has_raised = await self.run_ast_nodes(code_ast.body, cell_name,\n"
     ]
    },
    {
     "data": {
      "text/html": [
       "<div>\n",
       "<style scoped>\n",
       "    .dataframe tbody tr th:only-of-type {\n",
       "        vertical-align: middle;\n",
       "    }\n",
       "\n",
       "    .dataframe tbody tr th {\n",
       "        vertical-align: top;\n",
       "    }\n",
       "\n",
       "    .dataframe thead th {\n",
       "        text-align: right;\n",
       "    }\n",
       "</style>\n",
       "<table border=\"1\" class=\"dataframe\">\n",
       "  <thead>\n",
       "    <tr style=\"text-align: right;\">\n",
       "      <th></th>\n",
       "      <th>Feature</th>\n",
       "      <th>ensemblID</th>\n",
       "      <th>ID</th>\n",
       "      <th>TWAS.Z</th>\n",
       "      <th>TWAS.P</th>\n",
       "      <th>JOINT.Z</th>\n",
       "      <th>JOINT.P</th>\n",
       "      <th>Type</th>\n",
       "    </tr>\n",
       "  </thead>\n",
       "  <tbody>\n",
       "    <tr>\n",
       "      <th>158</th>\n",
       "      <td>j121894</td>\n",
       "      <td>ENSG00000186470</td>\n",
       "      <td>BTN3A2</td>\n",
       "      <td>11.715968</td>\n",
       "      <td>1.055787e-31</td>\n",
       "      <td>36.408550</td>\n",
       "      <td>3.117598e-290</td>\n",
       "      <td>Junction</td>\n",
       "    </tr>\n",
       "    <tr>\n",
       "      <th>157</th>\n",
       "      <td>j121892</td>\n",
       "      <td>ENSG00000186470</td>\n",
       "      <td>BTN3A2</td>\n",
       "      <td>9.535201</td>\n",
       "      <td>1.495956e-21</td>\n",
       "      <td>34.610465</td>\n",
       "      <td>1.758359e-262</td>\n",
       "      <td>Junction</td>\n",
       "    </tr>\n",
       "  </tbody>\n",
       "</table>\n",
       "</div>"
      ],
      "text/plain": [
       "     Feature        ensemblID      ID     TWAS.Z        TWAS.P    JOINT.Z  \\\n",
       "158  j121894  ENSG00000186470  BTN3A2  11.715968  1.055787e-31  36.408550   \n",
       "157  j121892  ENSG00000186470  BTN3A2   9.535201  1.495956e-21  34.610465   \n",
       "\n",
       "           JOINT.P      Type  \n",
       "158  3.117598e-290  Junction  \n",
       "157  1.758359e-262  Junction  "
      ]
     },
     "execution_count": 7,
     "metadata": {},
     "output_type": "execute_result"
    }
   ],
   "source": [
    "dj_file = '../../../differential_expression/_m/junctions/diffExpr_szVctl_full.txt'\n",
    "dj = pd.read_csv(dj_file, sep='\\t', index_col=0)\n",
    "dj = dj[['Symbol', 'ensemblID']]\n",
    "\n",
    "jannot_file = '/ceph/projects/v4_phase3_paper/analysis/twas/_m/junctions/jxn_annotation.tsv'\n",
    "jannot = pd.read_csv(jannot_file, sep='\\t', index_col=1)\n",
    "\n",
    "jannot = jannot[['JxnID']]\n",
    "annot = pd.merge(jannot, dj, left_index=True, right_index=True)\n",
    "\n",
    "juncs = pd.read_csv('/ceph/projects/v4_phase3_paper/analysis/twas/'+\\\n",
    "                    'junction_weights/fusion_pgc2/summary_stats/_m/fusion_twas_joint_assoc.txt', sep='\\t')\n",
    "juncs = pd.merge(annot, juncs, left_on='JxnID', right_on='FILE')\n",
    "juncs = juncs[['FILE', 'ensemblID', 'Symbol', 'TWAS.Z', 'TWAS.P', \"JOINT.Z\", \"JOINT.P\"]]\n",
    "juncs['Type'] = 'Junction'\n",
    "juncs.rename(columns={'Symbol': 'ID', 'FILE': 'Feature'}, inplace=True)\n",
    "juncs.sort_values('JOINT.P').head(2)"
   ]
  },
  {
   "cell_type": "markdown",
   "metadata": {},
   "source": [
    "### Feature summary"
   ]
  },
  {
   "cell_type": "code",
   "execution_count": 8,
   "metadata": {},
   "outputs": [
    {
     "name": "stdout",
     "output_type": "stream",
     "text": [
      "===Unique Features===\n",
      "Gene:\t\t161\n",
      "Transcript:\t214\n",
      "Exon:\t\t247\n",
      "Junction:\t213\n",
      "\n",
      "===Unique Ensembl Gene===\n",
      "Gene:\t\t161\n",
      "Transcript:\t210\n",
      "Exon:\t\t222\n",
      "Junction:\t183\n",
      "\n",
      "===Unique Gene Name===\n",
      "Gene:\t\t161\n",
      "Transcript:\t210\n",
      "Exon:\t\t222\n",
      "Junction:\t183\n",
      "\n"
     ]
    }
   ],
   "source": [
    "gg = len(set(genes['Feature']))\n",
    "tt = len(set(trans['Feature']))\n",
    "ee = len(set(exons['Feature']))\n",
    "jj = len(set(juncs['Feature']))\n",
    "\n",
    "print(\"===Unique Features===\\nGene:\\t\\t%d\\nTranscript:\\t%d\\nExon:\\t\\t%d\\nJunction:\\t%d\\n\" % (gg, tt, ee, jj)) \n",
    "\n",
    "gg = len(set(genes['ensemblID']))\n",
    "tt = len(set(trans['ensemblID']))\n",
    "ee = len(set(exons['ensemblID']))\n",
    "jj = len(set(juncs['ensemblID']))\n",
    "\n",
    "print(\"===Unique Ensembl Gene===\\nGene:\\t\\t%d\\nTranscript:\\t%d\\nExon:\\t\\t%d\\nJunction:\\t%d\\n\" % (gg, tt, ee, jj)) \n",
    "\n",
    "gg = len(set(genes['ID']))\n",
    "tt = len(set(trans['ID']))\n",
    "ee = len(set(exons['ID']))\n",
    "jj = len(set(juncs['ID']))\n",
    "\n",
    "print(\"===Unique Gene Name===\\nGene:\\t\\t%d\\nTranscript:\\t%d\\nExon:\\t\\t%d\\nJunction:\\t%d\\n\" % (gg, tt, ee, jj)) "
   ]
  },
  {
   "cell_type": "markdown",
   "metadata": {},
   "source": [
    "### Overlap"
   ]
  },
  {
   "cell_type": "code",
   "execution_count": 9,
   "metadata": {},
   "outputs": [
    {
     "name": "stdout",
     "output_type": "stream",
     "text": [
      "Comparing Genes with Transcripts: 28.10%\n",
      "Features in common: 59\n",
      "Comparing Genes with Junctions: 25.68%\n",
      "Features in common: 47\n",
      "Comparing Exons with Genes: 47.83%\n",
      "Features in common: 77\n",
      "\n",
      "\n",
      "Comparing Transcripts with Junctions: 27.87%\n",
      "Features in common: 51\n",
      "Comparing Exons with Transcripts: 32.38%\n",
      "Features in common: 68\n",
      "Comparing Exons with Junctions: 41.53%\n",
      "Features in common: 76\n"
     ]
    }
   ],
   "source": [
    "features = {\n",
    "    'Genes': set(genes['ensemblID']),\n",
    "    'Transcripts': set(trans['ensemblID']),\n",
    "    'Exons': set(exons['ensemblID']),\n",
    "    'Junctions': set(juncs['ensemblID']),\n",
    "}\n",
    "\n",
    "limiting_features(features, 'Genes', 'Transcripts')\n",
    "limiting_features(features, 'Genes', 'Junctions')\n",
    "limiting_features(features, 'Exons', 'Genes')\n",
    "print(\"\\n\")\n",
    "limiting_features(features, 'Transcripts', 'Junctions')\n",
    "limiting_features(features, 'Exons', 'Transcripts')\n",
    "limiting_features(features, 'Exons', 'Junctions')"
   ]
  },
  {
   "cell_type": "code",
   "execution_count": 10,
   "metadata": {},
   "outputs": [
    {
     "data": {
      "text/plain": [
       "23"
      ]
     },
     "execution_count": 10,
     "metadata": {},
     "output_type": "execute_result"
    }
   ],
   "source": [
    "len(features['Genes'] & features['Transcripts'] & features['Exons'] & features['Junctions'])"
   ]
  },
  {
   "cell_type": "code",
   "execution_count": 11,
   "metadata": {},
   "outputs": [
    {
     "data": {
      "text/plain": [
       "513"
      ]
     },
     "execution_count": 11,
     "metadata": {},
     "output_type": "execute_result"
    }
   ],
   "source": [
    "len(features['Genes'] | features['Transcripts'] | features['Exons'] | features['Junctions'])"
   ]
  },
  {
   "cell_type": "code",
   "execution_count": 13,
   "metadata": {},
   "outputs": [
    {
     "data": {
      "text/html": [
       "<div>\n",
       "<style scoped>\n",
       "    .dataframe tbody tr th:only-of-type {\n",
       "        vertical-align: middle;\n",
       "    }\n",
       "\n",
       "    .dataframe tbody tr th {\n",
       "        vertical-align: top;\n",
       "    }\n",
       "\n",
       "    .dataframe thead th {\n",
       "        text-align: right;\n",
       "    }\n",
       "</style>\n",
       "<table border=\"1\" class=\"dataframe\">\n",
       "  <thead>\n",
       "    <tr style=\"text-align: right;\">\n",
       "      <th></th>\n",
       "      <th>Feature</th>\n",
       "      <th>ensemblID</th>\n",
       "      <th>ID</th>\n",
       "      <th>TWAS.Z</th>\n",
       "      <th>TWAS.P</th>\n",
       "      <th>JOINT.Z</th>\n",
       "      <th>JOINT.P</th>\n",
       "      <th>Type</th>\n",
       "    </tr>\n",
       "  </thead>\n",
       "  <tbody>\n",
       "    <tr>\n",
       "      <th>0</th>\n",
       "      <td>ENSG00000065833</td>\n",
       "      <td>ENSG00000065833</td>\n",
       "      <td>ME1</td>\n",
       "      <td>-5.406853</td>\n",
       "      <td>6.414180e-08</td>\n",
       "      <td>-5.406853</td>\n",
       "      <td>6.414180e-08</td>\n",
       "      <td>Gene</td>\n",
       "    </tr>\n",
       "    <tr>\n",
       "      <th>1</th>\n",
       "      <td>ENSG00000091592</td>\n",
       "      <td>ENSG00000091592</td>\n",
       "      <td>NLRP1</td>\n",
       "      <td>-4.317943</td>\n",
       "      <td>1.574903e-05</td>\n",
       "      <td>-4.317943</td>\n",
       "      <td>1.574903e-05</td>\n",
       "      <td>Gene</td>\n",
       "    </tr>\n",
       "    <tr>\n",
       "      <th>2</th>\n",
       "      <td>ENSG00000161896</td>\n",
       "      <td>ENSG00000161896</td>\n",
       "      <td>IP6K3</td>\n",
       "      <td>5.281138</td>\n",
       "      <td>1.283841e-07</td>\n",
       "      <td>5.281138</td>\n",
       "      <td>1.283841e-07</td>\n",
       "      <td>Gene</td>\n",
       "    </tr>\n",
       "    <tr>\n",
       "      <th>3</th>\n",
       "      <td>ENSG00000115649</td>\n",
       "      <td>ENSG00000115649</td>\n",
       "      <td>CNPPD1</td>\n",
       "      <td>-4.621433</td>\n",
       "      <td>3.810980e-06</td>\n",
       "      <td>-4.621433</td>\n",
       "      <td>3.810980e-06</td>\n",
       "      <td>Gene</td>\n",
       "    </tr>\n",
       "    <tr>\n",
       "      <th>4</th>\n",
       "      <td>ENSG00000153820</td>\n",
       "      <td>ENSG00000153820</td>\n",
       "      <td>SPHKAP</td>\n",
       "      <td>4.560160</td>\n",
       "      <td>5.111469e-06</td>\n",
       "      <td>4.560160</td>\n",
       "      <td>5.111469e-06</td>\n",
       "      <td>Gene</td>\n",
       "    </tr>\n",
       "  </tbody>\n",
       "</table>\n",
       "</div>"
      ],
      "text/plain": [
       "           Feature        ensemblID      ID    TWAS.Z        TWAS.P   JOINT.Z  \\\n",
       "0  ENSG00000065833  ENSG00000065833     ME1 -5.406853  6.414180e-08 -5.406853   \n",
       "1  ENSG00000091592  ENSG00000091592   NLRP1 -4.317943  1.574903e-05 -4.317943   \n",
       "2  ENSG00000161896  ENSG00000161896   IP6K3  5.281138  1.283841e-07  5.281138   \n",
       "3  ENSG00000115649  ENSG00000115649  CNPPD1 -4.621433  3.810980e-06 -4.621433   \n",
       "4  ENSG00000153820  ENSG00000153820  SPHKAP  4.560160  5.111469e-06  4.560160   \n",
       "\n",
       "        JOINT.P  Type  \n",
       "0  6.414180e-08  Gene  \n",
       "1  1.574903e-05  Gene  \n",
       "2  1.283841e-07  Gene  \n",
       "3  3.810980e-06  Gene  \n",
       "4  5.111469e-06  Gene  "
      ]
     },
     "execution_count": 13,
     "metadata": {},
     "output_type": "execute_result"
    }
   ],
   "source": [
    "pd.concat([genes, trans, exons, juncs], axis=0).to_csv(\"BrainSeq_caudate_TWAS_joint_analysis.tsv\", \n",
    "                                                       sep='\\t', index=False)"
   ]
  },
  {
   "cell_type": "markdown",
   "metadata": {},
   "source": [
    "## Session Information"
   ]
  },
  {
   "cell_type": "code",
   "execution_count": null,
   "metadata": {},
   "outputs": [],
   "source": [
    "import types\n",
    "from IPython import sys_info\n",
    "\n",
    "def imports():\n",
    "    for name, val in globals().items():\n",
    "        if isinstance(val, types.ModuleType):\n",
    "            yield val.__name__\n",
    "\n",
    "#exclude all modules not listed by `!pip freeze`\n",
    "excludes = ['__builtin__', 'types', 'IPython.core.shadowns', 'sys', 'os']\n",
    "function_modules = []\n",
    "imported_modules = [module for module in imports() if module not in excludes] + function_modules\n",
    "pip_modules = !pip freeze #you could also use `!conda list` with anaconda"
   ]
  },
  {
   "cell_type": "code",
   "execution_count": null,
   "metadata": {},
   "outputs": [],
   "source": [
    "print(sys_info())\n",
    "#print the names and versions of the imported modules\n",
    "print(\"\\nImported Modules:\")\n",
    "for module in pip_modules[2:]:\n",
    "    name, version = module.split('==')\n",
    "    if name in imported_modules:\n",
    "        print(name + ':\\t' + version)"
   ]
  }
 ],
 "metadata": {
  "kernelspec": {
   "display_name": "Python 3",
   "language": "python",
   "name": "python3"
  },
  "language_info": {
   "codemirror_mode": {
    "name": "ipython",
    "version": 3
   },
   "file_extension": ".py",
   "mimetype": "text/x-python",
   "name": "python",
   "nbconvert_exporter": "python",
   "pygments_lexer": "ipython3",
   "version": "3.9.1"
  }
 },
 "nbformat": 4,
 "nbformat_minor": 4
}
