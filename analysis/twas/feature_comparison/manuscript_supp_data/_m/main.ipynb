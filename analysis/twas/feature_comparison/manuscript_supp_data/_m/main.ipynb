{
 "cells": [
  {
   "cell_type": "markdown",
   "metadata": {},
   "source": [
    "# Generate supplemental data for TWAS, caudate, across all features"
   ]
  },
  {
   "cell_type": "code",
   "execution_count": 1,
   "metadata": {
    "execution": {
     "iopub.execute_input": "2021-08-11T13:40:59.406123Z",
     "iopub.status.busy": "2021-08-11T13:40:59.404737Z",
     "iopub.status.idle": "2021-08-11T13:40:59.708166Z",
     "shell.execute_reply": "2021-08-11T13:40:59.707345Z"
    }
   },
   "outputs": [],
   "source": [
    "import pandas as pd"
   ]
  },
  {
   "cell_type": "markdown",
   "metadata": {},
   "source": [
    "## With MHC"
   ]
  },
  {
   "cell_type": "code",
   "execution_count": 2,
   "metadata": {
    "execution": {
     "iopub.execute_input": "2021-08-11T13:40:59.716125Z",
     "iopub.status.busy": "2021-08-11T13:40:59.714864Z",
     "iopub.status.idle": "2021-08-11T13:40:59.938726Z",
     "shell.execute_reply": "2021-08-11T13:40:59.939811Z"
    }
   },
   "outputs": [
    {
     "data": {
      "text/html": [
       "<div>\n",
       "<style scoped>\n",
       "    .dataframe tbody tr th:only-of-type {\n",
       "        vertical-align: middle;\n",
       "    }\n",
       "\n",
       "    .dataframe tbody tr th {\n",
       "        vertical-align: top;\n",
       "    }\n",
       "\n",
       "    .dataframe thead th {\n",
       "        text-align: right;\n",
       "    }\n",
       "</style>\n",
       "<table border=\"1\" class=\"dataframe\">\n",
       "  <thead>\n",
       "    <tr style=\"text-align: right;\">\n",
       "      <th></th>\n",
       "      <th>Feature</th>\n",
       "      <th>ensemblID</th>\n",
       "      <th>ID</th>\n",
       "      <th>HSQ</th>\n",
       "      <th>BEST.GWAS.ID</th>\n",
       "      <th>EQTL.ID</th>\n",
       "      <th>TWAS.Z</th>\n",
       "      <th>TWAS.P</th>\n",
       "      <th>FDR</th>\n",
       "      <th>Bonferroni</th>\n",
       "      <th>Type</th>\n",
       "    </tr>\n",
       "  </thead>\n",
       "  <tbody>\n",
       "    <tr>\n",
       "      <th>6805</th>\n",
       "      <td>ENSG00000158691</td>\n",
       "      <td>ENSG00000158691</td>\n",
       "      <td>ZSCAN12</td>\n",
       "      <td>0.070262</td>\n",
       "      <td>chr6:28744470:A:G</td>\n",
       "      <td>chr6:28744886:A:G</td>\n",
       "      <td>-12.627320</td>\n",
       "      <td>1.492752e-36</td>\n",
       "      <td>1.225699e-32</td>\n",
       "      <td>1.225699e-32</td>\n",
       "      <td>Gene</td>\n",
       "    </tr>\n",
       "    <tr>\n",
       "      <th>7214</th>\n",
       "      <td>ENSG00000219891</td>\n",
       "      <td>ENSG00000219891</td>\n",
       "      <td>ZSCAN12P1</td>\n",
       "      <td>0.266109</td>\n",
       "      <td>chr6:28426903:C:T</td>\n",
       "      <td>chr6:27883095:G:A</td>\n",
       "      <td>12.353178</td>\n",
       "      <td>4.682431e-35</td>\n",
       "      <td>1.922372e-31</td>\n",
       "      <td>3.844744e-31</td>\n",
       "      <td>Gene</td>\n",
       "    </tr>\n",
       "  </tbody>\n",
       "</table>\n",
       "</div>"
      ],
      "text/plain": [
       "              Feature        ensemblID         ID       HSQ  \\\n",
       "6805  ENSG00000158691  ENSG00000158691    ZSCAN12  0.070262   \n",
       "7214  ENSG00000219891  ENSG00000219891  ZSCAN12P1  0.266109   \n",
       "\n",
       "           BEST.GWAS.ID            EQTL.ID     TWAS.Z        TWAS.P  \\\n",
       "6805  chr6:28744470:A:G  chr6:28744886:A:G -12.627320  1.492752e-36   \n",
       "7214  chr6:28426903:C:T  chr6:27883095:G:A  12.353178  4.682431e-35   \n",
       "\n",
       "               FDR    Bonferroni  Type  \n",
       "6805  1.225699e-32  1.225699e-32  Gene  \n",
       "7214  1.922372e-31  3.844744e-31  Gene  "
      ]
     },
     "execution_count": 1,
     "metadata": {},
     "output_type": "execute_result"
    }
   ],
   "source": [
    "genes = pd.read_csv('/ceph/projects/v4_phase3_paper/analysis/twas/'+\\\n",
    "                    'gene_weights/fusion_pgc2/summary_stats/_m/fusion_associations.txt', sep='\\t')\n",
    "annot = pd.read_csv('../../../../differential_expression/_m/genes/diffExpr_szVctl_full.txt', sep='\\t')\n",
    "genes = annot[['ensemblID']].merge(genes, left_on='ensemblID', right_on='FILE')\n",
    "genes = genes[['FILE', 'ensemblID', 'ID', 'HSQ', 'BEST.GWAS.ID', 'EQTL.ID', \n",
    "               'TWAS.Z', 'TWAS.P', 'FDR', 'Bonferroni']]\n",
    "genes['Type'] = 'Gene'\n",
    "genes.rename(columns={'FILE': 'Feature'}, inplace=True)\n",
    "genes.sort_values('TWAS.P').head(2)"
   ]
  },
  {
   "cell_type": "code",
   "execution_count": 3,
   "metadata": {
    "execution": {
     "iopub.execute_input": "2021-08-11T13:40:59.951011Z",
     "iopub.status.busy": "2021-08-11T13:40:59.948251Z",
     "iopub.status.idle": "2021-08-11T13:41:01.031769Z",
     "shell.execute_reply": "2021-08-11T13:41:01.032822Z"
    }
   },
   "outputs": [
    {
     "data": {
      "text/html": [
       "<div>\n",
       "<style scoped>\n",
       "    .dataframe tbody tr th:only-of-type {\n",
       "        vertical-align: middle;\n",
       "    }\n",
       "\n",
       "    .dataframe tbody tr th {\n",
       "        vertical-align: top;\n",
       "    }\n",
       "\n",
       "    .dataframe thead th {\n",
       "        text-align: right;\n",
       "    }\n",
       "</style>\n",
       "<table border=\"1\" class=\"dataframe\">\n",
       "  <thead>\n",
       "    <tr style=\"text-align: right;\">\n",
       "      <th></th>\n",
       "      <th>Feature</th>\n",
       "      <th>ensemblID</th>\n",
       "      <th>ID</th>\n",
       "      <th>HSQ</th>\n",
       "      <th>BEST.GWAS.ID</th>\n",
       "      <th>EQTL.ID</th>\n",
       "      <th>TWAS.Z</th>\n",
       "      <th>TWAS.P</th>\n",
       "      <th>FDR</th>\n",
       "      <th>Bonferroni</th>\n",
       "      <th>Type</th>\n",
       "    </tr>\n",
       "  </thead>\n",
       "  <tbody>\n",
       "    <tr>\n",
       "      <th>12743</th>\n",
       "      <td>ENST00000421553</td>\n",
       "      <td>ENSG00000197062</td>\n",
       "      <td>ZSCAN26</td>\n",
       "      <td>0.040779</td>\n",
       "      <td>chr6:28744470:A:G</td>\n",
       "      <td>chr6:28650974:A:G</td>\n",
       "      <td>12.745212</td>\n",
       "      <td>3.314893e-37</td>\n",
       "      <td>4.880849e-33</td>\n",
       "      <td>4.880849e-33</td>\n",
       "      <td>Transcript</td>\n",
       "    </tr>\n",
       "    <tr>\n",
       "      <th>14531</th>\n",
       "      <td>ENST00000508906</td>\n",
       "      <td>ENSG00000186470</td>\n",
       "      <td>BTN3A2</td>\n",
       "      <td>0.187261</td>\n",
       "      <td>chr6:26463346:G:T</td>\n",
       "      <td>chr6:26354866:G:A</td>\n",
       "      <td>11.909938</td>\n",
       "      <td>1.050557e-32</td>\n",
       "      <td>7.734201e-29</td>\n",
       "      <td>1.546840e-28</td>\n",
       "      <td>Transcript</td>\n",
       "    </tr>\n",
       "  </tbody>\n",
       "</table>\n",
       "</div>"
      ],
      "text/plain": [
       "               Feature        ensemblID       ID       HSQ       BEST.GWAS.ID  \\\n",
       "12743  ENST00000421553  ENSG00000197062  ZSCAN26  0.040779  chr6:28744470:A:G   \n",
       "14531  ENST00000508906  ENSG00000186470   BTN3A2  0.187261  chr6:26463346:G:T   \n",
       "\n",
       "                 EQTL.ID     TWAS.Z        TWAS.P           FDR    Bonferroni  \\\n",
       "12743  chr6:28650974:A:G  12.745212  3.314893e-37  4.880849e-33  4.880849e-33   \n",
       "14531  chr6:26354866:G:A  11.909938  1.050557e-32  7.734201e-29  1.546840e-28   \n",
       "\n",
       "             Type  \n",
       "12743  Transcript  \n",
       "14531  Transcript  "
      ]
     },
     "execution_count": 1,
     "metadata": {},
     "output_type": "execute_result"
    }
   ],
   "source": [
    "trans = pd.read_csv('/ceph/projects/v4_phase3_paper/analysis/twas/'+\\\n",
    "                    'transcript_weights/fusion_pgc2/summary_stats/_m/fusion_associations.txt', sep='\\t')\n",
    "annot = pd.read_csv('../../../../differential_expression/_m/transcripts/diffExpr_szVctl_full.txt', sep='\\t')\n",
    "annot['ensemblID'] = annot.gene_id.str.replace('\\\\..*', '', regex=True)\n",
    "annot['FILE'] = annot.transcript_id.str.replace('\\\\..*', '', regex=True)\n",
    "trans = annot[['ensemblID', 'FILE']].merge(trans, on='FILE')\n",
    "trans = trans[['FILE', 'ensemblID', 'ID', 'HSQ', 'BEST.GWAS.ID', 'EQTL.ID', \n",
    "               'TWAS.Z', 'TWAS.P', 'FDR', 'Bonferroni']]\n",
    "trans['Type'] = 'Transcript'\n",
    "trans.rename(columns={'FILE': 'Feature'}, inplace=True)\n",
    "trans.sort_values('TWAS.P').head(2)"
   ]
  },
  {
   "cell_type": "code",
   "execution_count": 4,
   "metadata": {
    "execution": {
     "iopub.execute_input": "2021-08-11T13:41:01.040474Z",
     "iopub.status.busy": "2021-08-11T13:41:01.039222Z",
     "iopub.status.idle": "2021-08-11T13:41:03.103775Z",
     "shell.execute_reply": "2021-08-11T13:41:03.104838Z"
    }
   },
   "outputs": [
    {
     "data": {
      "text/html": [
       "<div>\n",
       "<style scoped>\n",
       "    .dataframe tbody tr th:only-of-type {\n",
       "        vertical-align: middle;\n",
       "    }\n",
       "\n",
       "    .dataframe tbody tr th {\n",
       "        vertical-align: top;\n",
       "    }\n",
       "\n",
       "    .dataframe thead th {\n",
       "        text-align: right;\n",
       "    }\n",
       "</style>\n",
       "<table border=\"1\" class=\"dataframe\">\n",
       "  <thead>\n",
       "    <tr style=\"text-align: right;\">\n",
       "      <th></th>\n",
       "      <th>Feature</th>\n",
       "      <th>ensemblID</th>\n",
       "      <th>ID</th>\n",
       "      <th>HSQ</th>\n",
       "      <th>BEST.GWAS.ID</th>\n",
       "      <th>EQTL.ID</th>\n",
       "      <th>TWAS.Z</th>\n",
       "      <th>TWAS.P</th>\n",
       "      <th>FDR</th>\n",
       "      <th>Bonferroni</th>\n",
       "      <th>Type</th>\n",
       "    </tr>\n",
       "  </thead>\n",
       "  <tbody>\n",
       "    <tr>\n",
       "      <th>62254</th>\n",
       "      <td>e385121</td>\n",
       "      <td>ENSG00000168477</td>\n",
       "      <td>TNXB</td>\n",
       "      <td>0.043518</td>\n",
       "      <td>chr6:31793436:G:A</td>\n",
       "      <td>chr6:32253775:G:A</td>\n",
       "      <td>12.941234</td>\n",
       "      <td>2.633644e-38</td>\n",
       "      <td>1.783056e-33</td>\n",
       "      <td>1.783056e-33</td>\n",
       "      <td>Exon</td>\n",
       "    </tr>\n",
       "    <tr>\n",
       "      <th>62253</th>\n",
       "      <td>e385001</td>\n",
       "      <td>ENSG00000168477</td>\n",
       "      <td>TNXB</td>\n",
       "      <td>0.044636</td>\n",
       "      <td>chr6:31793436:G:A</td>\n",
       "      <td>chr6:32253775:G:A</td>\n",
       "      <td>12.728702</td>\n",
       "      <td>4.095902e-37</td>\n",
       "      <td>1.386524e-32</td>\n",
       "      <td>2.773049e-32</td>\n",
       "      <td>Exon</td>\n",
       "    </tr>\n",
       "  </tbody>\n",
       "</table>\n",
       "</div>"
      ],
      "text/plain": [
       "       Feature        ensemblID    ID       HSQ       BEST.GWAS.ID  \\\n",
       "62254  e385121  ENSG00000168477  TNXB  0.043518  chr6:31793436:G:A   \n",
       "62253  e385001  ENSG00000168477  TNXB  0.044636  chr6:31793436:G:A   \n",
       "\n",
       "                 EQTL.ID     TWAS.Z        TWAS.P           FDR    Bonferroni  \\\n",
       "62254  chr6:32253775:G:A  12.941234  2.633644e-38  1.783056e-33  1.783056e-33   \n",
       "62253  chr6:32253775:G:A  12.728702  4.095902e-37  1.386524e-32  2.773049e-32   \n",
       "\n",
       "       Type  \n",
       "62254  Exon  \n",
       "62253  Exon  "
      ]
     },
     "execution_count": 1,
     "metadata": {},
     "output_type": "execute_result"
    }
   ],
   "source": [
    "exons = pd.read_csv('/ceph/projects/v4_phase3_paper/analysis/twas/'+\\\n",
    "                    'exon_weights/fusion_pgc2/summary_stats/_m/fusion_associations.txt', sep='\\t')\n",
    "annot = pd.read_csv('../../../../differential_expression/_m/exons/diffExpr_szVctl_full.txt', \n",
    "                    sep='\\t', index_col=0)\n",
    "exons = annot[['ensemblID']].merge(exons, left_index=True, right_on='FILE')\n",
    "exons = exons[['FILE', 'ensemblID', 'ID', 'HSQ', 'BEST.GWAS.ID', 'EQTL.ID', \n",
    "               'TWAS.Z', 'TWAS.P', 'FDR', 'Bonferroni']]\n",
    "exons['Type'] = 'Exon'\n",
    "exons.rename(columns={'FILE': 'Feature'}, inplace=True)\n",
    "exons.sort_values('TWAS.P').head(2)"
   ]
  },
  {
   "cell_type": "code",
   "execution_count": 5,
   "metadata": {
    "execution": {
     "iopub.execute_input": "2021-08-11T13:41:03.113600Z",
     "iopub.status.busy": "2021-08-11T13:41:03.112335Z",
     "iopub.status.idle": "2021-08-11T13:41:04.597294Z",
     "shell.execute_reply": "2021-08-11T13:41:04.598362Z"
    }
   },
   "outputs": [
    {
     "name": "stderr",
     "output_type": "stream",
     "text": [
      "/usr/lib/python3.9/site-packages/IPython/core/interactiveshell.py:3146: DtypeWarning: Columns (2) have mixed types.Specify dtype option on import or set low_memory=False.\n",
      "  has_raised = await self.run_ast_nodes(code_ast.body, cell_name,\n"
     ]
    },
    {
     "data": {
      "text/html": [
       "<div>\n",
       "<style scoped>\n",
       "    .dataframe tbody tr th:only-of-type {\n",
       "        vertical-align: middle;\n",
       "    }\n",
       "\n",
       "    .dataframe tbody tr th {\n",
       "        vertical-align: top;\n",
       "    }\n",
       "\n",
       "    .dataframe thead th {\n",
       "        text-align: right;\n",
       "    }\n",
       "</style>\n",
       "<table border=\"1\" class=\"dataframe\">\n",
       "  <thead>\n",
       "    <tr style=\"text-align: right;\">\n",
       "      <th></th>\n",
       "      <th>Feature</th>\n",
       "      <th>ensemblID</th>\n",
       "      <th>ID</th>\n",
       "      <th>HSQ</th>\n",
       "      <th>BEST.GWAS.ID</th>\n",
       "      <th>EQTL.ID</th>\n",
       "      <th>TWAS.Z</th>\n",
       "      <th>TWAS.P</th>\n",
       "      <th>FDR</th>\n",
       "      <th>Bonferroni</th>\n",
       "      <th>Type</th>\n",
       "    </tr>\n",
       "  </thead>\n",
       "  <tbody>\n",
       "    <tr>\n",
       "      <th>19664</th>\n",
       "      <td>j125659</td>\n",
       "      <td>NaN</td>\n",
       "      <td>NaN</td>\n",
       "      <td>0.148096</td>\n",
       "      <td>chr6:31204374:T:C</td>\n",
       "      <td>chr6:31229085:G:A</td>\n",
       "      <td>-12.920964</td>\n",
       "      <td>3.428198e-38</td>\n",
       "      <td>8.003127e-34</td>\n",
       "      <td>8.003127e-34</td>\n",
       "      <td>Junction</td>\n",
       "    </tr>\n",
       "    <tr>\n",
       "      <th>18979</th>\n",
       "      <td>j122115</td>\n",
       "      <td>ENSG00000137411</td>\n",
       "      <td>VARS2</td>\n",
       "      <td>0.118039</td>\n",
       "      <td>chr6:31348749:T:C</td>\n",
       "      <td>chr6:30951614:G:A</td>\n",
       "      <td>12.375775</td>\n",
       "      <td>3.534662e-35</td>\n",
       "      <td>3.201745e-31</td>\n",
       "      <td>8.251668e-31</td>\n",
       "      <td>Junction</td>\n",
       "    </tr>\n",
       "  </tbody>\n",
       "</table>\n",
       "</div>"
      ],
      "text/plain": [
       "       Feature        ensemblID     ID       HSQ       BEST.GWAS.ID  \\\n",
       "19664  j125659              NaN    NaN  0.148096  chr6:31204374:T:C   \n",
       "18979  j122115  ENSG00000137411  VARS2  0.118039  chr6:31348749:T:C   \n",
       "\n",
       "                 EQTL.ID     TWAS.Z        TWAS.P           FDR    Bonferroni  \\\n",
       "19664  chr6:31229085:G:A -12.920964  3.428198e-38  8.003127e-34  8.003127e-34   \n",
       "18979  chr6:30951614:G:A  12.375775  3.534662e-35  3.201745e-31  8.251668e-31   \n",
       "\n",
       "           Type  \n",
       "19664  Junction  \n",
       "18979  Junction  "
      ]
     },
     "execution_count": 1,
     "metadata": {},
     "output_type": "execute_result"
    }
   ],
   "source": [
    "dj_file = '../../../../differential_expression/_m/junctions/diffExpr_szVctl_full.txt'\n",
    "dj = pd.read_csv(dj_file, sep='\\t', index_col=0)\n",
    "dj = dj[['Symbol', 'ensemblID']]\n",
    "\n",
    "jannot_file = '/ceph/projects/v4_phase3_paper/analysis/twas/_m/junctions/jxn_annotation.tsv'\n",
    "jannot = pd.read_csv(jannot_file, sep='\\t', index_col=1)\n",
    "\n",
    "jannot = jannot[['JxnID']]\n",
    "annot = pd.merge(jannot, dj, left_index=True, right_index=True)\n",
    "\n",
    "juncs = pd.read_csv('/ceph/projects/v4_phase3_paper/analysis/twas/'+\\\n",
    "                    'junction_weights/fusion_pgc2/summary_stats/_m/fusion_associations.txt', sep='\\t')\n",
    "juncs = pd.merge(annot, juncs, left_on='JxnID', right_on='FILE')\n",
    "juncs = juncs[['FILE', 'ensemblID', 'Symbol', 'HSQ', 'BEST.GWAS.ID', 'EQTL.ID', \n",
    "               'TWAS.Z', 'TWAS.P', 'FDR', 'Bonferroni']]\n",
    "juncs['Type'] = 'Junction'\n",
    "juncs.rename(columns={'Symbol': 'ID', 'FILE': 'Feature'}, inplace=True)\n",
    "juncs.sort_values('TWAS.P').head(2)"
   ]
  },
  {
   "cell_type": "code",
   "execution_count": 6,
   "metadata": {
    "execution": {
     "iopub.execute_input": "2021-08-11T13:41:04.605256Z",
     "iopub.status.busy": "2021-08-11T13:41:04.603654Z",
     "iopub.status.idle": "2021-08-11T13:41:04.647790Z",
     "shell.execute_reply": "2021-08-11T13:41:04.648840Z"
    }
   },
   "outputs": [
    {
     "name": "stdout",
     "output_type": "stream",
     "text": [
      "(113983, 11)\n"
     ]
    },
    {
     "data": {
      "text/html": [
       "<div>\n",
       "<style scoped>\n",
       "    .dataframe tbody tr th:only-of-type {\n",
       "        vertical-align: middle;\n",
       "    }\n",
       "\n",
       "    .dataframe tbody tr th {\n",
       "        vertical-align: top;\n",
       "    }\n",
       "\n",
       "    .dataframe thead th {\n",
       "        text-align: right;\n",
       "    }\n",
       "</style>\n",
       "<table border=\"1\" class=\"dataframe\">\n",
       "  <thead>\n",
       "    <tr style=\"text-align: right;\">\n",
       "      <th></th>\n",
       "      <th>Feature</th>\n",
       "      <th>ensemblID</th>\n",
       "      <th>ID</th>\n",
       "      <th>HSQ</th>\n",
       "      <th>BEST.GWAS.ID</th>\n",
       "      <th>EQTL.ID</th>\n",
       "      <th>TWAS.Z</th>\n",
       "      <th>TWAS.P</th>\n",
       "      <th>FDR</th>\n",
       "      <th>Bonferroni</th>\n",
       "      <th>Type</th>\n",
       "    </tr>\n",
       "  </thead>\n",
       "  <tbody>\n",
       "    <tr>\n",
       "      <th>0</th>\n",
       "      <td>ENSG00000138944</td>\n",
       "      <td>ENSG00000138944</td>\n",
       "      <td>KIAA1644</td>\n",
       "      <td>0.185313</td>\n",
       "      <td>chr22:43809985:A:G</td>\n",
       "      <td>chr22:44052458:G:A</td>\n",
       "      <td>-0.025951</td>\n",
       "      <td>0.979296</td>\n",
       "      <td>0.992839</td>\n",
       "      <td>1.0</td>\n",
       "      <td>Gene</td>\n",
       "    </tr>\n",
       "    <tr>\n",
       "      <th>1</th>\n",
       "      <td>ENSG00000185052</td>\n",
       "      <td>ENSG00000185052</td>\n",
       "      <td>SLC24A3</td>\n",
       "      <td>0.178962</td>\n",
       "      <td>chr20:18949619:C:T</td>\n",
       "      <td>chr20:19234998:A:G</td>\n",
       "      <td>0.210426</td>\n",
       "      <td>0.833335</td>\n",
       "      <td>0.940940</td>\n",
       "      <td>1.0</td>\n",
       "      <td>Gene</td>\n",
       "    </tr>\n",
       "  </tbody>\n",
       "</table>\n",
       "</div>"
      ],
      "text/plain": [
       "           Feature        ensemblID        ID       HSQ        BEST.GWAS.ID  \\\n",
       "0  ENSG00000138944  ENSG00000138944  KIAA1644  0.185313  chr22:43809985:A:G   \n",
       "1  ENSG00000185052  ENSG00000185052   SLC24A3  0.178962  chr20:18949619:C:T   \n",
       "\n",
       "              EQTL.ID    TWAS.Z    TWAS.P       FDR  Bonferroni  Type  \n",
       "0  chr22:44052458:G:A -0.025951  0.979296  0.992839         1.0  Gene  \n",
       "1  chr20:19234998:A:G  0.210426  0.833335  0.940940         1.0  Gene  "
      ]
     },
     "execution_count": 1,
     "metadata": {},
     "output_type": "execute_result"
    }
   ],
   "source": [
    "df = pd.concat([genes, trans, exons, juncs], axis=0)\n",
    "print(df.shape)\n",
    "df.head(2)"
   ]
  },
  {
   "cell_type": "code",
   "execution_count": 7,
   "metadata": {
    "execution": {
     "iopub.execute_input": "2021-08-11T13:41:04.655301Z",
     "iopub.status.busy": "2021-08-11T13:41:04.654073Z",
     "iopub.status.idle": "2021-08-11T13:41:07.874398Z",
     "shell.execute_reply": "2021-08-11T13:41:07.873254Z"
    }
   },
   "outputs": [],
   "source": [
    "df.to_csv('BrainSeq_Phase3_Caudate_TWAS_associations_allFeatures.txt.gz', index=False, header=True, sep='\\t')"
   ]
  },
  {
   "cell_type": "markdown",
   "metadata": {},
   "source": [
    "## Without MHC"
   ]
  },
  {
   "cell_type": "code",
   "execution_count": 8,
   "metadata": {
    "execution": {
     "iopub.execute_input": "2021-08-11T13:41:07.882180Z",
     "iopub.status.busy": "2021-08-11T13:41:07.880908Z",
     "iopub.status.idle": "2021-08-11T13:41:08.102482Z",
     "shell.execute_reply": "2021-08-11T13:41:08.103558Z"
    }
   },
   "outputs": [
    {
     "data": {
      "text/html": [
       "<div>\n",
       "<style scoped>\n",
       "    .dataframe tbody tr th:only-of-type {\n",
       "        vertical-align: middle;\n",
       "    }\n",
       "\n",
       "    .dataframe tbody tr th {\n",
       "        vertical-align: top;\n",
       "    }\n",
       "\n",
       "    .dataframe thead th {\n",
       "        text-align: right;\n",
       "    }\n",
       "</style>\n",
       "<table border=\"1\" class=\"dataframe\">\n",
       "  <thead>\n",
       "    <tr style=\"text-align: right;\">\n",
       "      <th></th>\n",
       "      <th>Feature</th>\n",
       "      <th>ensemblID</th>\n",
       "      <th>ID</th>\n",
       "      <th>HSQ</th>\n",
       "      <th>BEST.GWAS.ID</th>\n",
       "      <th>EQTL.ID</th>\n",
       "      <th>TWAS.Z</th>\n",
       "      <th>TWAS.P</th>\n",
       "      <th>FDR</th>\n",
       "      <th>Bonferroni</th>\n",
       "      <th>Type</th>\n",
       "    </tr>\n",
       "  </thead>\n",
       "  <tbody>\n",
       "    <tr>\n",
       "      <th>3154</th>\n",
       "      <td>ENSG00000100138</td>\n",
       "      <td>ENSG00000100138</td>\n",
       "      <td>SNU13</td>\n",
       "      <td>0.071722</td>\n",
       "      <td>chr22:41944840:T:C</td>\n",
       "      <td>chr22:42069256:T:C</td>\n",
       "      <td>-8.100041</td>\n",
       "      <td>5.494072e-16</td>\n",
       "      <td>4.437562e-12</td>\n",
       "      <td>4.437562e-12</td>\n",
       "      <td>Gene</td>\n",
       "    </tr>\n",
       "    <tr>\n",
       "      <th>4190</th>\n",
       "      <td>ENSG00000088808</td>\n",
       "      <td>ENSG00000088808</td>\n",
       "      <td>PPP1R13B</td>\n",
       "      <td>0.269173</td>\n",
       "      <td>chr14:103847845:G:A</td>\n",
       "      <td>chr14:103756555:C:T</td>\n",
       "      <td>7.012638</td>\n",
       "      <td>2.338656e-12</td>\n",
       "      <td>8.058985e-09</td>\n",
       "      <td>1.888933e-08</td>\n",
       "      <td>Gene</td>\n",
       "    </tr>\n",
       "  </tbody>\n",
       "</table>\n",
       "</div>"
      ],
      "text/plain": [
       "              Feature        ensemblID        ID       HSQ  \\\n",
       "3154  ENSG00000100138  ENSG00000100138     SNU13  0.071722   \n",
       "4190  ENSG00000088808  ENSG00000088808  PPP1R13B  0.269173   \n",
       "\n",
       "             BEST.GWAS.ID              EQTL.ID    TWAS.Z        TWAS.P  \\\n",
       "3154   chr22:41944840:T:C   chr22:42069256:T:C -8.100041  5.494072e-16   \n",
       "4190  chr14:103847845:G:A  chr14:103756555:C:T  7.012638  2.338656e-12   \n",
       "\n",
       "               FDR    Bonferroni  Type  \n",
       "3154  4.437562e-12  4.437562e-12  Gene  \n",
       "4190  8.058985e-09  1.888933e-08  Gene  "
      ]
     },
     "execution_count": 1,
     "metadata": {},
     "output_type": "execute_result"
    }
   ],
   "source": [
    "genes = pd.read_csv('/ceph/projects/v4_phase3_paper/analysis/twas/'+\\\n",
    "                    'gene_weights/fusion_pgc2/summary_stats/_m/fusion_associations_noMHC.txt', sep='\\t')\n",
    "annot = pd.read_csv('../../../../differential_expression/_m/genes/diffExpr_szVctl_full.txt', sep='\\t')\n",
    "genes = annot[['ensemblID']].merge(genes, left_on='ensemblID', right_on='FILE')\n",
    "genes = genes[['FILE', 'ensemblID', 'ID', 'HSQ', 'BEST.GWAS.ID', 'EQTL.ID', \n",
    "               'TWAS.Z', 'TWAS.P', 'FDR', 'Bonferroni']]\n",
    "genes['Type'] = 'Gene'\n",
    "genes.rename(columns={'FILE': 'Feature'}, inplace=True)\n",
    "genes.sort_values('TWAS.P').head(2)"
   ]
  },
  {
   "cell_type": "code",
   "execution_count": 9,
   "metadata": {
    "execution": {
     "iopub.execute_input": "2021-08-11T13:41:08.111500Z",
     "iopub.status.busy": "2021-08-11T13:41:08.110232Z",
     "iopub.status.idle": "2021-08-11T13:41:09.138022Z",
     "shell.execute_reply": "2021-08-11T13:41:09.139079Z"
    }
   },
   "outputs": [
    {
     "data": {
      "text/html": [
       "<div>\n",
       "<style scoped>\n",
       "    .dataframe tbody tr th:only-of-type {\n",
       "        vertical-align: middle;\n",
       "    }\n",
       "\n",
       "    .dataframe tbody tr th {\n",
       "        vertical-align: top;\n",
       "    }\n",
       "\n",
       "    .dataframe thead th {\n",
       "        text-align: right;\n",
       "    }\n",
       "</style>\n",
       "<table border=\"1\" class=\"dataframe\">\n",
       "  <thead>\n",
       "    <tr style=\"text-align: right;\">\n",
       "      <th></th>\n",
       "      <th>Feature</th>\n",
       "      <th>ensemblID</th>\n",
       "      <th>ID</th>\n",
       "      <th>HSQ</th>\n",
       "      <th>BEST.GWAS.ID</th>\n",
       "      <th>EQTL.ID</th>\n",
       "      <th>TWAS.Z</th>\n",
       "      <th>TWAS.P</th>\n",
       "      <th>FDR</th>\n",
       "      <th>Bonferroni</th>\n",
       "      <th>Type</th>\n",
       "    </tr>\n",
       "  </thead>\n",
       "  <tbody>\n",
       "    <tr>\n",
       "      <th>2276</th>\n",
       "      <td>ENST00000433628</td>\n",
       "      <td>ENSG00000148842</td>\n",
       "      <td>CNNM2</td>\n",
       "      <td>0.077605</td>\n",
       "      <td>chr10:103092132:T:C</td>\n",
       "      <td>chr10:103085115:T:C</td>\n",
       "      <td>7.652389</td>\n",
       "      <td>1.972789e-14</td>\n",
       "      <td>2.180951e-10</td>\n",
       "      <td>2.856796e-10</td>\n",
       "      <td>Transcript</td>\n",
       "    </tr>\n",
       "    <tr>\n",
       "      <th>13474</th>\n",
       "      <td>ENST00000553286</td>\n",
       "      <td>ENSG00000126214</td>\n",
       "      <td>KLC1</td>\n",
       "      <td>0.430065</td>\n",
       "      <td>chr14:103847845:G:A</td>\n",
       "      <td>chr14:103673689:C:T</td>\n",
       "      <td>-7.597796</td>\n",
       "      <td>3.012155e-14</td>\n",
       "      <td>2.180951e-10</td>\n",
       "      <td>4.361902e-10</td>\n",
       "      <td>Transcript</td>\n",
       "    </tr>\n",
       "  </tbody>\n",
       "</table>\n",
       "</div>"
      ],
      "text/plain": [
       "               Feature        ensemblID     ID       HSQ         BEST.GWAS.ID  \\\n",
       "2276   ENST00000433628  ENSG00000148842  CNNM2  0.077605  chr10:103092132:T:C   \n",
       "13474  ENST00000553286  ENSG00000126214   KLC1  0.430065  chr14:103847845:G:A   \n",
       "\n",
       "                   EQTL.ID    TWAS.Z        TWAS.P           FDR  \\\n",
       "2276   chr10:103085115:T:C  7.652389  1.972789e-14  2.180951e-10   \n",
       "13474  chr14:103673689:C:T -7.597796  3.012155e-14  2.180951e-10   \n",
       "\n",
       "         Bonferroni        Type  \n",
       "2276   2.856796e-10  Transcript  \n",
       "13474  4.361902e-10  Transcript  "
      ]
     },
     "execution_count": 1,
     "metadata": {},
     "output_type": "execute_result"
    }
   ],
   "source": [
    "trans = pd.read_csv('/ceph/projects/v4_phase3_paper/analysis/twas/'+\\\n",
    "                    'transcript_weights/fusion_pgc2/summary_stats/_m/fusion_associations_noMHC.txt', sep='\\t')\n",
    "annot = pd.read_csv('../../../../differential_expression/_m/transcripts/diffExpr_szVctl_full.txt', sep='\\t')\n",
    "annot['ensemblID'] = annot.gene_id.str.replace('\\\\..*', '', regex=True)\n",
    "annot['FILE'] = annot.transcript_id.str.replace('\\\\..*', '', regex=True)\n",
    "trans = annot[['ensemblID', 'FILE']].merge(trans, on='FILE')\n",
    "trans = trans[['FILE', 'ensemblID', 'ID', 'HSQ', 'BEST.GWAS.ID', 'EQTL.ID', \n",
    "               'TWAS.Z', 'TWAS.P', 'FDR', 'Bonferroni']]\n",
    "trans['Type'] = 'Transcript'\n",
    "trans.rename(columns={'FILE': 'Feature'}, inplace=True)\n",
    "trans.sort_values('TWAS.P').head(2)"
   ]
  },
  {
   "cell_type": "code",
   "execution_count": 10,
   "metadata": {
    "execution": {
     "iopub.execute_input": "2021-08-11T13:41:09.147034Z",
     "iopub.status.busy": "2021-08-11T13:41:09.145704Z",
     "iopub.status.idle": "2021-08-11T13:41:11.237252Z",
     "shell.execute_reply": "2021-08-11T13:41:11.238326Z"
    }
   },
   "outputs": [
    {
     "data": {
      "text/html": [
       "<div>\n",
       "<style scoped>\n",
       "    .dataframe tbody tr th:only-of-type {\n",
       "        vertical-align: middle;\n",
       "    }\n",
       "\n",
       "    .dataframe tbody tr th {\n",
       "        vertical-align: top;\n",
       "    }\n",
       "\n",
       "    .dataframe thead th {\n",
       "        text-align: right;\n",
       "    }\n",
       "</style>\n",
       "<table border=\"1\" class=\"dataframe\">\n",
       "  <thead>\n",
       "    <tr style=\"text-align: right;\">\n",
       "      <th></th>\n",
       "      <th>Feature</th>\n",
       "      <th>ensemblID</th>\n",
       "      <th>ID</th>\n",
       "      <th>HSQ</th>\n",
       "      <th>BEST.GWAS.ID</th>\n",
       "      <th>EQTL.ID</th>\n",
       "      <th>TWAS.Z</th>\n",
       "      <th>TWAS.P</th>\n",
       "      <th>FDR</th>\n",
       "      <th>Bonferroni</th>\n",
       "      <th>Type</th>\n",
       "    </tr>\n",
       "  </thead>\n",
       "  <tbody>\n",
       "    <tr>\n",
       "      <th>62254</th>\n",
       "      <td>e385121</td>\n",
       "      <td>ENSG00000168477</td>\n",
       "      <td>TNXB</td>\n",
       "      <td>0.043518</td>\n",
       "      <td>chr6:31793436:G:A</td>\n",
       "      <td>chr6:32253775:G:A</td>\n",
       "      <td>12.941234</td>\n",
       "      <td>2.633644e-38</td>\n",
       "      <td>1.783056e-33</td>\n",
       "      <td>1.783056e-33</td>\n",
       "      <td>Exon</td>\n",
       "    </tr>\n",
       "    <tr>\n",
       "      <th>62253</th>\n",
       "      <td>e385001</td>\n",
       "      <td>ENSG00000168477</td>\n",
       "      <td>TNXB</td>\n",
       "      <td>0.044636</td>\n",
       "      <td>chr6:31793436:G:A</td>\n",
       "      <td>chr6:32253775:G:A</td>\n",
       "      <td>12.728702</td>\n",
       "      <td>4.095902e-37</td>\n",
       "      <td>1.386524e-32</td>\n",
       "      <td>2.773049e-32</td>\n",
       "      <td>Exon</td>\n",
       "    </tr>\n",
       "  </tbody>\n",
       "</table>\n",
       "</div>"
      ],
      "text/plain": [
       "       Feature        ensemblID    ID       HSQ       BEST.GWAS.ID  \\\n",
       "62254  e385121  ENSG00000168477  TNXB  0.043518  chr6:31793436:G:A   \n",
       "62253  e385001  ENSG00000168477  TNXB  0.044636  chr6:31793436:G:A   \n",
       "\n",
       "                 EQTL.ID     TWAS.Z        TWAS.P           FDR    Bonferroni  \\\n",
       "62254  chr6:32253775:G:A  12.941234  2.633644e-38  1.783056e-33  1.783056e-33   \n",
       "62253  chr6:32253775:G:A  12.728702  4.095902e-37  1.386524e-32  2.773049e-32   \n",
       "\n",
       "       Type  \n",
       "62254  Exon  \n",
       "62253  Exon  "
      ]
     },
     "execution_count": 1,
     "metadata": {},
     "output_type": "execute_result"
    }
   ],
   "source": [
    "exons = pd.read_csv('/ceph/projects/v4_phase3_paper/analysis/twas/'+\\\n",
    "                    'exon_weights/fusion_pgc2/summary_stats/_m/fusion_associations.txt', sep='\\t')\n",
    "annot = pd.read_csv('../../../../differential_expression/_m/exons/diffExpr_szVctl_full.txt', \n",
    "                    sep='\\t', index_col=0)\n",
    "exons = annot[['ensemblID']].merge(exons, left_index=True, right_on='FILE')\n",
    "exons = exons[['FILE', 'ensemblID', 'ID', 'HSQ', 'BEST.GWAS.ID', 'EQTL.ID', \n",
    "               'TWAS.Z', 'TWAS.P', 'FDR', 'Bonferroni']]\n",
    "exons['Type'] = 'Exon'\n",
    "exons.rename(columns={'FILE': 'Feature'}, inplace=True)\n",
    "exons.sort_values('TWAS.P').head(2)"
   ]
  },
  {
   "cell_type": "code",
   "execution_count": 11,
   "metadata": {
    "execution": {
     "iopub.execute_input": "2021-08-11T13:41:11.247045Z",
     "iopub.status.busy": "2021-08-11T13:41:11.245796Z",
     "iopub.status.idle": "2021-08-11T13:41:12.757400Z",
     "shell.execute_reply": "2021-08-11T13:41:12.758456Z"
    }
   },
   "outputs": [
    {
     "name": "stderr",
     "output_type": "stream",
     "text": [
      "/usr/lib/python3.9/site-packages/IPython/core/interactiveshell.py:3146: DtypeWarning: Columns (2) have mixed types.Specify dtype option on import or set low_memory=False.\n",
      "  has_raised = await self.run_ast_nodes(code_ast.body, cell_name,\n"
     ]
    },
    {
     "data": {
      "text/html": [
       "<div>\n",
       "<style scoped>\n",
       "    .dataframe tbody tr th:only-of-type {\n",
       "        vertical-align: middle;\n",
       "    }\n",
       "\n",
       "    .dataframe tbody tr th {\n",
       "        vertical-align: top;\n",
       "    }\n",
       "\n",
       "    .dataframe thead th {\n",
       "        text-align: right;\n",
       "    }\n",
       "</style>\n",
       "<table border=\"1\" class=\"dataframe\">\n",
       "  <thead>\n",
       "    <tr style=\"text-align: right;\">\n",
       "      <th></th>\n",
       "      <th>Feature</th>\n",
       "      <th>ensemblID</th>\n",
       "      <th>ID</th>\n",
       "      <th>HSQ</th>\n",
       "      <th>BEST.GWAS.ID</th>\n",
       "      <th>EQTL.ID</th>\n",
       "      <th>TWAS.Z</th>\n",
       "      <th>TWAS.P</th>\n",
       "      <th>FDR</th>\n",
       "      <th>Bonferroni</th>\n",
       "      <th>Type</th>\n",
       "    </tr>\n",
       "  </thead>\n",
       "  <tbody>\n",
       "    <tr>\n",
       "      <th>2595</th>\n",
       "      <td>j17393</td>\n",
       "      <td>ENSG00000270316</td>\n",
       "      <td>BORCS7-ASMT</td>\n",
       "      <td>0.150648</td>\n",
       "      <td>chr10:103092132:T:C</td>\n",
       "      <td>chr10:102911075:C:A</td>\n",
       "      <td>-9.579719</td>\n",
       "      <td>9.730918e-22</td>\n",
       "      <td>2.237430e-17</td>\n",
       "      <td>2.237430e-17</td>\n",
       "      <td>Junction</td>\n",
       "    </tr>\n",
       "    <tr>\n",
       "      <th>2593</th>\n",
       "      <td>j17391</td>\n",
       "      <td>NaN</td>\n",
       "      <td>NaN</td>\n",
       "      <td>0.226750</td>\n",
       "      <td>chr10:103092132:T:C</td>\n",
       "      <td>chr10:102911075:C:A</td>\n",
       "      <td>-8.094280</td>\n",
       "      <td>5.760397e-16</td>\n",
       "      <td>5.242528e-12</td>\n",
       "      <td>1.324488e-11</td>\n",
       "      <td>Junction</td>\n",
       "    </tr>\n",
       "  </tbody>\n",
       "</table>\n",
       "</div>"
      ],
      "text/plain": [
       "     Feature        ensemblID           ID       HSQ         BEST.GWAS.ID  \\\n",
       "2595  j17393  ENSG00000270316  BORCS7-ASMT  0.150648  chr10:103092132:T:C   \n",
       "2593  j17391              NaN          NaN  0.226750  chr10:103092132:T:C   \n",
       "\n",
       "                  EQTL.ID    TWAS.Z        TWAS.P           FDR    Bonferroni  \\\n",
       "2595  chr10:102911075:C:A -9.579719  9.730918e-22  2.237430e-17  2.237430e-17   \n",
       "2593  chr10:102911075:C:A -8.094280  5.760397e-16  5.242528e-12  1.324488e-11   \n",
       "\n",
       "          Type  \n",
       "2595  Junction  \n",
       "2593  Junction  "
      ]
     },
     "execution_count": 1,
     "metadata": {},
     "output_type": "execute_result"
    }
   ],
   "source": [
    "dj_file = '../../../../differential_expression/_m/junctions/diffExpr_szVctl_full.txt'\n",
    "dj = pd.read_csv(dj_file, sep='\\t', index_col=0)\n",
    "dj = dj[['Symbol', 'ensemblID']]\n",
    "\n",
    "jannot_file = '/ceph/projects/v4_phase3_paper/analysis/twas/_m/junctions/jxn_annotation.tsv'\n",
    "jannot = pd.read_csv(jannot_file, sep='\\t', index_col=1)\n",
    "\n",
    "jannot = jannot[['JxnID']]\n",
    "annot = pd.merge(jannot, dj, left_index=True, right_index=True)\n",
    "\n",
    "juncs = pd.read_csv('/ceph/projects/v4_phase3_paper/analysis/twas/'+\\\n",
    "                    'junction_weights/fusion_pgc2/summary_stats/_m/fusion_associations_noMHC.txt', sep='\\t')\n",
    "juncs = pd.merge(annot, juncs, left_on='JxnID', right_on='FILE')\n",
    "juncs = juncs[['FILE', 'ensemblID', 'Symbol', 'HSQ', 'BEST.GWAS.ID', 'EQTL.ID', \n",
    "               'TWAS.Z', 'TWAS.P', 'FDR', 'Bonferroni']]\n",
    "juncs['Type'] = 'Junction'\n",
    "juncs.rename(columns={'Symbol': 'ID', 'FILE': 'Feature'}, inplace=True)\n",
    "juncs.sort_values('TWAS.P').head(2)"
   ]
  },
  {
   "cell_type": "code",
   "execution_count": 12,
   "metadata": {
    "execution": {
     "iopub.execute_input": "2021-08-11T13:41:12.765053Z",
     "iopub.status.busy": "2021-08-11T13:41:12.763804Z",
     "iopub.status.idle": "2021-08-11T13:41:12.825455Z",
     "shell.execute_reply": "2021-08-11T13:41:12.824295Z"
    }
   },
   "outputs": [
    {
     "name": "stdout",
     "output_type": "stream",
     "text": [
      "(113254, 11)\n"
     ]
    },
    {
     "data": {
      "text/html": [
       "<div>\n",
       "<style scoped>\n",
       "    .dataframe tbody tr th:only-of-type {\n",
       "        vertical-align: middle;\n",
       "    }\n",
       "\n",
       "    .dataframe tbody tr th {\n",
       "        vertical-align: top;\n",
       "    }\n",
       "\n",
       "    .dataframe thead th {\n",
       "        text-align: right;\n",
       "    }\n",
       "</style>\n",
       "<table border=\"1\" class=\"dataframe\">\n",
       "  <thead>\n",
       "    <tr style=\"text-align: right;\">\n",
       "      <th></th>\n",
       "      <th>Feature</th>\n",
       "      <th>ensemblID</th>\n",
       "      <th>ID</th>\n",
       "      <th>HSQ</th>\n",
       "      <th>BEST.GWAS.ID</th>\n",
       "      <th>EQTL.ID</th>\n",
       "      <th>TWAS.Z</th>\n",
       "      <th>TWAS.P</th>\n",
       "      <th>FDR</th>\n",
       "      <th>Bonferroni</th>\n",
       "      <th>Type</th>\n",
       "    </tr>\n",
       "  </thead>\n",
       "  <tbody>\n",
       "    <tr>\n",
       "      <th>0</th>\n",
       "      <td>ENSG00000138944</td>\n",
       "      <td>ENSG00000138944</td>\n",
       "      <td>KIAA1644</td>\n",
       "      <td>0.185313</td>\n",
       "      <td>chr22:43809985:A:G</td>\n",
       "      <td>chr22:44052458:G:A</td>\n",
       "      <td>-0.025951</td>\n",
       "      <td>0.979296</td>\n",
       "      <td>0.993066</td>\n",
       "      <td>1.0</td>\n",
       "      <td>Gene</td>\n",
       "    </tr>\n",
       "    <tr>\n",
       "      <th>1</th>\n",
       "      <td>ENSG00000185052</td>\n",
       "      <td>ENSG00000185052</td>\n",
       "      <td>SLC24A3</td>\n",
       "      <td>0.178962</td>\n",
       "      <td>chr20:18949619:C:T</td>\n",
       "      <td>chr20:19234998:A:G</td>\n",
       "      <td>0.210426</td>\n",
       "      <td>0.833335</td>\n",
       "      <td>0.942432</td>\n",
       "      <td>1.0</td>\n",
       "      <td>Gene</td>\n",
       "    </tr>\n",
       "  </tbody>\n",
       "</table>\n",
       "</div>"
      ],
      "text/plain": [
       "           Feature        ensemblID        ID       HSQ        BEST.GWAS.ID  \\\n",
       "0  ENSG00000138944  ENSG00000138944  KIAA1644  0.185313  chr22:43809985:A:G   \n",
       "1  ENSG00000185052  ENSG00000185052   SLC24A3  0.178962  chr20:18949619:C:T   \n",
       "\n",
       "              EQTL.ID    TWAS.Z    TWAS.P       FDR  Bonferroni  Type  \n",
       "0  chr22:44052458:G:A -0.025951  0.979296  0.993066         1.0  Gene  \n",
       "1  chr20:19234998:A:G  0.210426  0.833335  0.942432         1.0  Gene  "
      ]
     },
     "execution_count": 1,
     "metadata": {},
     "output_type": "execute_result"
    }
   ],
   "source": [
    "df = pd.concat([genes, trans, exons, juncs], axis=0)\n",
    "print(df.shape)\n",
    "df.head(2)"
   ]
  },
  {
   "cell_type": "code",
   "execution_count": 13,
   "metadata": {
    "execution": {
     "iopub.execute_input": "2021-08-11T13:41:12.831342Z",
     "iopub.status.busy": "2021-08-11T13:41:12.830077Z",
     "iopub.status.idle": "2021-08-11T13:41:16.043732Z",
     "shell.execute_reply": "2021-08-11T13:41:16.044797Z"
    }
   },
   "outputs": [],
   "source": [
    "df.to_csv('BrainSeq_Phase3_Caudate_TWAS_associations_allFeatures_noMHC.txt.gz', \n",
    "          index=False, header=True, sep='\\t')"
   ]
  },
  {
   "cell_type": "markdown",
   "metadata": {},
   "source": []
  }
 ],
 "metadata": {
  "kernelspec": {
   "display_name": "Python 3",
   "language": "python",
   "name": "python3"
  },
  "language_info": {
   "codemirror_mode": {
    "name": "ipython",
    "version": 3
   },
   "file_extension": ".py",
   "mimetype": "text/x-python",
   "name": "python",
   "nbconvert_exporter": "python",
   "pygments_lexer": "ipython3",
   "version": "3.9.1"
  }
 },
 "nbformat": 4,
 "nbformat_minor": 4
}
