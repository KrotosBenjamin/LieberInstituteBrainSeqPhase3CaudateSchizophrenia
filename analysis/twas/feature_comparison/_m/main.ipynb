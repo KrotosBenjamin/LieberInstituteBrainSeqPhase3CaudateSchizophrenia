{
 "cells": [
  {
   "cell_type": "markdown",
   "metadata": {},
   "source": [
    "# TWAS feature summary"
   ]
  },
  {
   "cell_type": "code",
   "execution_count": 1,
   "metadata": {
    "execution": {
     "iopub.execute_input": "2021-08-31T22:27:24.113690Z",
     "iopub.status.busy": "2021-08-31T22:27:24.112227Z",
     "iopub.status.idle": "2021-08-31T22:27:24.458350Z",
     "shell.execute_reply": "2021-08-31T22:27:24.459457Z"
    }
   },
   "outputs": [],
   "source": [
    "import pandas as pd"
   ]
  },
  {
   "cell_type": "markdown",
   "metadata": {},
   "source": [
    "## Prepare data"
   ]
  },
  {
   "cell_type": "code",
   "execution_count": 2,
   "metadata": {
    "execution": {
     "iopub.execute_input": "2021-08-31T22:27:24.468231Z",
     "iopub.status.busy": "2021-08-31T22:27:24.466423Z",
     "iopub.status.idle": "2021-08-31T22:27:24.469610Z",
     "shell.execute_reply": "2021-08-31T22:27:24.470670Z"
    }
   },
   "outputs": [],
   "source": [
    "def limiting_features(set_dict, f1, f2):\n",
    "    xx = len(set_dict[f1] & set_dict[f2]) / len(set_dict[f2]) * 100\n",
    "    print(\"Comparing %s with %s: %0.2f%%\" % (f1, f2, xx))\n",
    "    print(\"Features in common: %d\" % len(set_dict[f1] & set_dict[f2]))"
   ]
  },
  {
   "cell_type": "markdown",
   "metadata": {},
   "source": [
    "### Load PGC2+COLUZK GWAS"
   ]
  },
  {
   "cell_type": "code",
   "execution_count": 3,
   "metadata": {
    "execution": {
     "iopub.execute_input": "2021-08-31T22:27:24.477336Z",
     "iopub.status.busy": "2021-08-31T22:27:24.476040Z",
     "iopub.status.idle": "2021-08-31T22:28:03.209704Z",
     "shell.execute_reply": "2021-08-31T22:28:03.208061Z"
    }
   },
   "outputs": [
    {
     "name": "stderr",
     "output_type": "stream",
     "text": [
      "/home/jbenja13/.local/lib/python3.9/site-packages/numpy/lib/arraysetops.py:583: FutureWarning: elementwise comparison failed; returning scalar instead, but in the future will perform elementwise comparison\n",
      "  mask |= (ar1 == a)\n"
     ]
    }
   ],
   "source": [
    "pgc2_file = '/ceph/projects/v4_phase3_paper/inputs/sz_gwas/'+\\\n",
    "           'pgc2_clozuk/map_phase3/_m/libd_hg38_pgc2sz_snps.tsv'\n",
    "pgc2_df = pd.read_csv(pgc2_file, sep='\\t', low_memory=False, index_col=0)"
   ]
  },
  {
   "cell_type": "markdown",
   "metadata": {},
   "source": [
    "### With MHC"
   ]
  },
  {
   "cell_type": "markdown",
   "metadata": {},
   "source": [
    "#### Genes"
   ]
  },
  {
   "cell_type": "code",
   "execution_count": 4,
   "metadata": {
    "execution": {
     "iopub.execute_input": "2021-08-31T22:28:03.221654Z",
     "iopub.status.busy": "2021-08-31T22:28:03.220191Z",
     "iopub.status.idle": "2021-08-31T22:28:03.532531Z",
     "shell.execute_reply": "2021-08-31T22:28:03.533802Z"
    }
   },
   "outputs": [
    {
     "data": {
      "text/html": [
       "<div>\n",
       "<style scoped>\n",
       "    .dataframe tbody tr th:only-of-type {\n",
       "        vertical-align: middle;\n",
       "    }\n",
       "\n",
       "    .dataframe tbody tr th {\n",
       "        vertical-align: top;\n",
       "    }\n",
       "\n",
       "    .dataframe thead th {\n",
       "        text-align: right;\n",
       "    }\n",
       "</style>\n",
       "<table border=\"1\" class=\"dataframe\">\n",
       "  <thead>\n",
       "    <tr style=\"text-align: right;\">\n",
       "      <th></th>\n",
       "      <th>Feature</th>\n",
       "      <th>ensemblID</th>\n",
       "      <th>ID</th>\n",
       "      <th>HSQ</th>\n",
       "      <th>BEST.GWAS.ID</th>\n",
       "      <th>EQTL.ID</th>\n",
       "      <th>TWAS.Z</th>\n",
       "      <th>TWAS.P</th>\n",
       "      <th>FDR</th>\n",
       "      <th>Bonferroni</th>\n",
       "      <th>Type</th>\n",
       "    </tr>\n",
       "  </thead>\n",
       "  <tbody>\n",
       "    <tr>\n",
       "      <th>6805</th>\n",
       "      <td>ENSG00000158691</td>\n",
       "      <td>ENSG00000158691</td>\n",
       "      <td>ZSCAN12</td>\n",
       "      <td>0.070262</td>\n",
       "      <td>chr6:28744470:A:G</td>\n",
       "      <td>chr6:28744886:A:G</td>\n",
       "      <td>-12.627320</td>\n",
       "      <td>1.492752e-36</td>\n",
       "      <td>1.225699e-32</td>\n",
       "      <td>1.225699e-32</td>\n",
       "      <td>Gene</td>\n",
       "    </tr>\n",
       "    <tr>\n",
       "      <th>7214</th>\n",
       "      <td>ENSG00000219891</td>\n",
       "      <td>ENSG00000219891</td>\n",
       "      <td>ZSCAN12P1</td>\n",
       "      <td>0.266109</td>\n",
       "      <td>chr6:28426903:C:T</td>\n",
       "      <td>chr6:27883095:G:A</td>\n",
       "      <td>12.353178</td>\n",
       "      <td>4.682431e-35</td>\n",
       "      <td>1.922372e-31</td>\n",
       "      <td>3.844744e-31</td>\n",
       "      <td>Gene</td>\n",
       "    </tr>\n",
       "  </tbody>\n",
       "</table>\n",
       "</div>"
      ],
      "text/plain": [
       "              Feature        ensemblID         ID       HSQ  \\\n",
       "6805  ENSG00000158691  ENSG00000158691    ZSCAN12  0.070262   \n",
       "7214  ENSG00000219891  ENSG00000219891  ZSCAN12P1  0.266109   \n",
       "\n",
       "           BEST.GWAS.ID            EQTL.ID     TWAS.Z        TWAS.P  \\\n",
       "6805  chr6:28744470:A:G  chr6:28744886:A:G -12.627320  1.492752e-36   \n",
       "7214  chr6:28426903:C:T  chr6:27883095:G:A  12.353178  4.682431e-35   \n",
       "\n",
       "               FDR    Bonferroni  Type  \n",
       "6805  1.225699e-32  1.225699e-32  Gene  \n",
       "7214  1.922372e-31  3.844744e-31  Gene  "
      ]
     },
     "execution_count": 1,
     "metadata": {},
     "output_type": "execute_result"
    }
   ],
   "source": [
    "genes = pd.read_csv('/ceph/projects/v4_phase3_paper/analysis/twas/'+\\\n",
    "                    'gene_weights/fusion_pgc2/summary_stats/_m/fusion_associations.txt', sep='\\t')\n",
    "annot = pd.read_csv('../../../differential_expression/_m/genes/diffExpr_szVctl_full.txt', sep='\\t')\n",
    "genes = annot[['ensemblID']].merge(genes, left_on='ensemblID', right_on='FILE')\n",
    "genes = genes[['FILE', 'ensemblID', 'ID', 'HSQ', 'BEST.GWAS.ID', 'EQTL.ID',\n",
    "               'TWAS.Z', 'TWAS.P', 'FDR', 'Bonferroni']]\n",
    "genes['Type'] = 'Gene'\n",
    "genes.rename(columns={'FILE': 'Feature'}, inplace=True)\n",
    "genes.sort_values('TWAS.P').head(2)"
   ]
  },
  {
   "cell_type": "markdown",
   "metadata": {},
   "source": [
    "#### Transcripts"
   ]
  },
  {
   "cell_type": "code",
   "execution_count": 5,
   "metadata": {
    "execution": {
     "iopub.execute_input": "2021-08-31T22:28:03.544393Z",
     "iopub.status.busy": "2021-08-31T22:28:03.543100Z",
     "iopub.status.idle": "2021-08-31T22:28:04.911008Z",
     "shell.execute_reply": "2021-08-31T22:28:04.912063Z"
    }
   },
   "outputs": [
    {
     "data": {
      "text/html": [
       "<div>\n",
       "<style scoped>\n",
       "    .dataframe tbody tr th:only-of-type {\n",
       "        vertical-align: middle;\n",
       "    }\n",
       "\n",
       "    .dataframe tbody tr th {\n",
       "        vertical-align: top;\n",
       "    }\n",
       "\n",
       "    .dataframe thead th {\n",
       "        text-align: right;\n",
       "    }\n",
       "</style>\n",
       "<table border=\"1\" class=\"dataframe\">\n",
       "  <thead>\n",
       "    <tr style=\"text-align: right;\">\n",
       "      <th></th>\n",
       "      <th>Feature</th>\n",
       "      <th>ensemblID</th>\n",
       "      <th>ID</th>\n",
       "      <th>HSQ</th>\n",
       "      <th>BEST.GWAS.ID</th>\n",
       "      <th>EQTL.ID</th>\n",
       "      <th>TWAS.Z</th>\n",
       "      <th>TWAS.P</th>\n",
       "      <th>FDR</th>\n",
       "      <th>Bonferroni</th>\n",
       "      <th>Type</th>\n",
       "    </tr>\n",
       "  </thead>\n",
       "  <tbody>\n",
       "    <tr>\n",
       "      <th>12743</th>\n",
       "      <td>ENST00000421553</td>\n",
       "      <td>ENSG00000197062</td>\n",
       "      <td>ZSCAN26</td>\n",
       "      <td>0.040779</td>\n",
       "      <td>chr6:28744470:A:G</td>\n",
       "      <td>chr6:28650974:A:G</td>\n",
       "      <td>12.745212</td>\n",
       "      <td>3.314893e-37</td>\n",
       "      <td>4.880849e-33</td>\n",
       "      <td>4.880849e-33</td>\n",
       "      <td>Transcript</td>\n",
       "    </tr>\n",
       "    <tr>\n",
       "      <th>14531</th>\n",
       "      <td>ENST00000508906</td>\n",
       "      <td>ENSG00000186470</td>\n",
       "      <td>BTN3A2</td>\n",
       "      <td>0.187261</td>\n",
       "      <td>chr6:26463346:G:T</td>\n",
       "      <td>chr6:26354866:G:A</td>\n",
       "      <td>11.909938</td>\n",
       "      <td>1.050557e-32</td>\n",
       "      <td>7.734201e-29</td>\n",
       "      <td>1.546840e-28</td>\n",
       "      <td>Transcript</td>\n",
       "    </tr>\n",
       "  </tbody>\n",
       "</table>\n",
       "</div>"
      ],
      "text/plain": [
       "               Feature        ensemblID       ID       HSQ       BEST.GWAS.ID  \\\n",
       "12743  ENST00000421553  ENSG00000197062  ZSCAN26  0.040779  chr6:28744470:A:G   \n",
       "14531  ENST00000508906  ENSG00000186470   BTN3A2  0.187261  chr6:26463346:G:T   \n",
       "\n",
       "                 EQTL.ID     TWAS.Z        TWAS.P           FDR    Bonferroni  \\\n",
       "12743  chr6:28650974:A:G  12.745212  3.314893e-37  4.880849e-33  4.880849e-33   \n",
       "14531  chr6:26354866:G:A  11.909938  1.050557e-32  7.734201e-29  1.546840e-28   \n",
       "\n",
       "             Type  \n",
       "12743  Transcript  \n",
       "14531  Transcript  "
      ]
     },
     "execution_count": 1,
     "metadata": {},
     "output_type": "execute_result"
    }
   ],
   "source": [
    "trans = pd.read_csv('/ceph/projects/v4_phase3_paper/analysis/twas/'+\\\n",
    "                    'transcript_weights/fusion_pgc2/summary_stats/_m/fusion_associations.txt', sep='\\t')\n",
    "annot = pd.read_csv('../../../differential_expression/_m/transcripts/diffExpr_szVctl_full.txt', sep='\\t')\n",
    "annot['ensemblID'] = annot.gene_id.str.replace('\\\\..*', '', regex=True)\n",
    "annot['FILE'] = annot.transcript_id.str.replace('\\\\..*', '', regex=True)\n",
    "trans = annot[['ensemblID', 'FILE']].merge(trans, on='FILE')\n",
    "trans = trans[['FILE', 'ensemblID', 'ID', 'HSQ', 'BEST.GWAS.ID', 'EQTL.ID', \n",
    "               'TWAS.Z', 'TWAS.P', 'FDR', 'Bonferroni']]\n",
    "trans['Type'] = 'Transcript'\n",
    "trans.rename(columns={'FILE': 'Feature'}, inplace=True)\n",
    "trans.sort_values('TWAS.P').head(2)"
   ]
  },
  {
   "cell_type": "markdown",
   "metadata": {},
   "source": [
    "#### Exons"
   ]
  },
  {
   "cell_type": "code",
   "execution_count": 6,
   "metadata": {
    "execution": {
     "iopub.execute_input": "2021-08-31T22:28:04.919773Z",
     "iopub.status.busy": "2021-08-31T22:28:04.918516Z",
     "iopub.status.idle": "2021-08-31T22:28:07.076249Z",
     "shell.execute_reply": "2021-08-31T22:28:07.077327Z"
    }
   },
   "outputs": [
    {
     "data": {
      "text/html": [
       "<div>\n",
       "<style scoped>\n",
       "    .dataframe tbody tr th:only-of-type {\n",
       "        vertical-align: middle;\n",
       "    }\n",
       "\n",
       "    .dataframe tbody tr th {\n",
       "        vertical-align: top;\n",
       "    }\n",
       "\n",
       "    .dataframe thead th {\n",
       "        text-align: right;\n",
       "    }\n",
       "</style>\n",
       "<table border=\"1\" class=\"dataframe\">\n",
       "  <thead>\n",
       "    <tr style=\"text-align: right;\">\n",
       "      <th></th>\n",
       "      <th>Feature</th>\n",
       "      <th>ensemblID</th>\n",
       "      <th>ID</th>\n",
       "      <th>HSQ</th>\n",
       "      <th>BEST.GWAS.ID</th>\n",
       "      <th>EQTL.ID</th>\n",
       "      <th>TWAS.Z</th>\n",
       "      <th>TWAS.P</th>\n",
       "      <th>FDR</th>\n",
       "      <th>Bonferroni</th>\n",
       "      <th>Type</th>\n",
       "    </tr>\n",
       "  </thead>\n",
       "  <tbody>\n",
       "    <tr>\n",
       "      <th>62254</th>\n",
       "      <td>e385121</td>\n",
       "      <td>ENSG00000168477</td>\n",
       "      <td>TNXB</td>\n",
       "      <td>0.043518</td>\n",
       "      <td>chr6:31793436:G:A</td>\n",
       "      <td>chr6:32253775:G:A</td>\n",
       "      <td>12.941234</td>\n",
       "      <td>2.633644e-38</td>\n",
       "      <td>1.783056e-33</td>\n",
       "      <td>1.783056e-33</td>\n",
       "      <td>Exon</td>\n",
       "    </tr>\n",
       "    <tr>\n",
       "      <th>62253</th>\n",
       "      <td>e385001</td>\n",
       "      <td>ENSG00000168477</td>\n",
       "      <td>TNXB</td>\n",
       "      <td>0.044636</td>\n",
       "      <td>chr6:31793436:G:A</td>\n",
       "      <td>chr6:32253775:G:A</td>\n",
       "      <td>12.728702</td>\n",
       "      <td>4.095902e-37</td>\n",
       "      <td>1.386524e-32</td>\n",
       "      <td>2.773049e-32</td>\n",
       "      <td>Exon</td>\n",
       "    </tr>\n",
       "  </tbody>\n",
       "</table>\n",
       "</div>"
      ],
      "text/plain": [
       "       Feature        ensemblID    ID       HSQ       BEST.GWAS.ID  \\\n",
       "62254  e385121  ENSG00000168477  TNXB  0.043518  chr6:31793436:G:A   \n",
       "62253  e385001  ENSG00000168477  TNXB  0.044636  chr6:31793436:G:A   \n",
       "\n",
       "                 EQTL.ID     TWAS.Z        TWAS.P           FDR    Bonferroni  \\\n",
       "62254  chr6:32253775:G:A  12.941234  2.633644e-38  1.783056e-33  1.783056e-33   \n",
       "62253  chr6:32253775:G:A  12.728702  4.095902e-37  1.386524e-32  2.773049e-32   \n",
       "\n",
       "       Type  \n",
       "62254  Exon  \n",
       "62253  Exon  "
      ]
     },
     "execution_count": 1,
     "metadata": {},
     "output_type": "execute_result"
    }
   ],
   "source": [
    "exons = pd.read_csv('/ceph/projects/v4_phase3_paper/analysis/twas/'+\\\n",
    "                    'exon_weights/fusion_pgc2/summary_stats/_m/fusion_associations.txt', sep='\\t')\n",
    "annot = pd.read_csv('../../../differential_expression/_m/exons/diffExpr_szVctl_full.txt', sep='\\t', index_col=0)\n",
    "exons = annot[['ensemblID']].merge(exons, left_index=True, right_on='FILE')\n",
    "exons = exons[['FILE', 'ensemblID', 'ID', 'HSQ', 'BEST.GWAS.ID', 'EQTL.ID', \n",
    "               'TWAS.Z', 'TWAS.P', 'FDR', 'Bonferroni']]\n",
    "exons['Type'] = 'Exon'\n",
    "exons.rename(columns={'FILE': 'Feature'}, inplace=True)\n",
    "exons.sort_values('TWAS.P').head(2)"
   ]
  },
  {
   "cell_type": "markdown",
   "metadata": {},
   "source": [
    "#### Junctions"
   ]
  },
  {
   "cell_type": "code",
   "execution_count": 7,
   "metadata": {
    "execution": {
     "iopub.execute_input": "2021-08-31T22:28:07.086946Z",
     "iopub.status.busy": "2021-08-31T22:28:07.085678Z",
     "iopub.status.idle": "2021-08-31T22:28:08.677228Z",
     "shell.execute_reply": "2021-08-31T22:28:08.678302Z"
    }
   },
   "outputs": [
    {
     "name": "stderr",
     "output_type": "stream",
     "text": [
      "/usr/lib/python3.9/site-packages/IPython/core/interactiveshell.py:3146: DtypeWarning: Columns (2) have mixed types.Specify dtype option on import or set low_memory=False.\n",
      "  has_raised = await self.run_ast_nodes(code_ast.body, cell_name,\n"
     ]
    },
    {
     "data": {
      "text/html": [
       "<div>\n",
       "<style scoped>\n",
       "    .dataframe tbody tr th:only-of-type {\n",
       "        vertical-align: middle;\n",
       "    }\n",
       "\n",
       "    .dataframe tbody tr th {\n",
       "        vertical-align: top;\n",
       "    }\n",
       "\n",
       "    .dataframe thead th {\n",
       "        text-align: right;\n",
       "    }\n",
       "</style>\n",
       "<table border=\"1\" class=\"dataframe\">\n",
       "  <thead>\n",
       "    <tr style=\"text-align: right;\">\n",
       "      <th></th>\n",
       "      <th>Feature</th>\n",
       "      <th>ensemblID</th>\n",
       "      <th>ID</th>\n",
       "      <th>HSQ</th>\n",
       "      <th>BEST.GWAS.ID</th>\n",
       "      <th>EQTL.ID</th>\n",
       "      <th>TWAS.Z</th>\n",
       "      <th>TWAS.P</th>\n",
       "      <th>FDR</th>\n",
       "      <th>Bonferroni</th>\n",
       "      <th>Type</th>\n",
       "    </tr>\n",
       "  </thead>\n",
       "  <tbody>\n",
       "    <tr>\n",
       "      <th>19664</th>\n",
       "      <td>j125659</td>\n",
       "      <td>NaN</td>\n",
       "      <td>NaN</td>\n",
       "      <td>0.148096</td>\n",
       "      <td>chr6:31204374:T:C</td>\n",
       "      <td>chr6:31229085:G:A</td>\n",
       "      <td>-12.920964</td>\n",
       "      <td>3.428198e-38</td>\n",
       "      <td>8.003127e-34</td>\n",
       "      <td>8.003127e-34</td>\n",
       "      <td>Junction</td>\n",
       "    </tr>\n",
       "    <tr>\n",
       "      <th>18979</th>\n",
       "      <td>j122115</td>\n",
       "      <td>ENSG00000137411</td>\n",
       "      <td>VARS2</td>\n",
       "      <td>0.118039</td>\n",
       "      <td>chr6:31348749:T:C</td>\n",
       "      <td>chr6:30951614:G:A</td>\n",
       "      <td>12.375775</td>\n",
       "      <td>3.534662e-35</td>\n",
       "      <td>3.201745e-31</td>\n",
       "      <td>8.251668e-31</td>\n",
       "      <td>Junction</td>\n",
       "    </tr>\n",
       "  </tbody>\n",
       "</table>\n",
       "</div>"
      ],
      "text/plain": [
       "       Feature        ensemblID     ID       HSQ       BEST.GWAS.ID  \\\n",
       "19664  j125659              NaN    NaN  0.148096  chr6:31204374:T:C   \n",
       "18979  j122115  ENSG00000137411  VARS2  0.118039  chr6:31348749:T:C   \n",
       "\n",
       "                 EQTL.ID     TWAS.Z        TWAS.P           FDR    Bonferroni  \\\n",
       "19664  chr6:31229085:G:A -12.920964  3.428198e-38  8.003127e-34  8.003127e-34   \n",
       "18979  chr6:30951614:G:A  12.375775  3.534662e-35  3.201745e-31  8.251668e-31   \n",
       "\n",
       "           Type  \n",
       "19664  Junction  \n",
       "18979  Junction  "
      ]
     },
     "execution_count": 1,
     "metadata": {},
     "output_type": "execute_result"
    }
   ],
   "source": [
    "dj_file = '../../../differential_expression/_m/junctions/diffExpr_szVctl_full.txt'\n",
    "dj = pd.read_csv(dj_file, sep='\\t', index_col=0)\n",
    "dj = dj[['Symbol', 'ensemblID']]\n",
    "\n",
    "jannot_file = '/ceph/projects/v4_phase3_paper/analysis/twas/_m/junctions/jxn_annotation.tsv'\n",
    "jannot = pd.read_csv(jannot_file, sep='\\t', index_col=1)\n",
    "\n",
    "jannot = jannot[['JxnID']]\n",
    "annot = pd.merge(jannot, dj, left_index=True, right_index=True)\n",
    "\n",
    "juncs = pd.read_csv('/ceph/projects/v4_phase3_paper/analysis/twas/'+\\\n",
    "                    'junction_weights/fusion_pgc2/summary_stats/_m/fusion_associations.txt', sep='\\t')\n",
    "juncs = pd.merge(annot, juncs, left_on='JxnID', right_on='FILE')\n",
    "juncs = juncs[['FILE', 'ensemblID', 'Symbol', 'HSQ', 'BEST.GWAS.ID', 'EQTL.ID', \n",
    "               'TWAS.Z', 'TWAS.P', 'FDR', 'Bonferroni']]\n",
    "juncs['Type'] = 'Junction'\n",
    "juncs.rename(columns={'Symbol': 'ID', 'FILE': 'Feature'}, inplace=True)\n",
    "juncs.sort_values('TWAS.P').head(2)"
   ]
  },
  {
   "cell_type": "markdown",
   "metadata": {},
   "source": [
    "## Heritable features"
   ]
  },
  {
   "cell_type": "markdown",
   "metadata": {},
   "source": [
    "### Feature summary"
   ]
  },
  {
   "cell_type": "code",
   "execution_count": 8,
   "metadata": {
    "execution": {
     "iopub.execute_input": "2021-08-31T22:28:08.744093Z",
     "iopub.status.busy": "2021-08-31T22:28:08.742782Z",
     "iopub.status.idle": "2021-08-31T22:28:08.748194Z",
     "shell.execute_reply": "2021-08-31T22:28:08.747041Z"
    }
   },
   "outputs": [
    {
     "name": "stdout",
     "output_type": "stream",
     "text": [
      "===Unique Features===\n",
      "Gene:\t\t8211\n",
      "Transcript:\t14724\n",
      "Exon:\t\t67703\n",
      "Junction:\t23345\n",
      "\n",
      "===Unique Ensembl Gene===\n",
      "Gene:\t\t8211\n",
      "Transcript:\t8996\n",
      "Exon:\t\t10656\n",
      "Junction:\t5908\n",
      "\n",
      "===Unique Gene Name===\n",
      "Gene:\t\t8210\n",
      "Transcript:\t8989\n",
      "Exon:\t\t12543\n",
      "Junction:\t5906\n",
      "\n"
     ]
    }
   ],
   "source": [
    "gg = len(set(genes['Feature']))\n",
    "tt = len(set(trans['Feature']))\n",
    "ee = len(set(exons['Feature']))\n",
    "jj = len(set(juncs['Feature']))\n",
    "\n",
    "print(\"===Unique Features===\\nGene:\\t\\t%d\\nTranscript:\\t%d\\nExon:\\t\\t%d\\nJunction:\\t%d\\n\" % (gg, tt, ee, jj)) \n",
    "\n",
    "gg = len(set(genes['ensemblID']))\n",
    "tt = len(set(trans['ensemblID']))\n",
    "ee = len(set(exons['ensemblID']))\n",
    "jj = len(set(juncs['ensemblID']))\n",
    "\n",
    "print(\"===Unique Ensembl Gene===\\nGene:\\t\\t%d\\nTranscript:\\t%d\\nExon:\\t\\t%d\\nJunction:\\t%d\\n\" % (gg, tt, ee, jj)) \n",
    "\n",
    "gg = len(set(genes['ID']))\n",
    "tt = len(set(trans['ID']))\n",
    "ee = len(set(exons['ID']))\n",
    "jj = len(set(juncs['ID']))\n",
    "\n",
    "print(\"===Unique Gene Name===\\nGene:\\t\\t%d\\nTranscript:\\t%d\\nExon:\\t\\t%d\\nJunction:\\t%d\\n\" % (gg, tt, ee, jj)) "
   ]
  },
  {
   "cell_type": "markdown",
   "metadata": {},
   "source": [
    "### Overlap"
   ]
  },
  {
   "cell_type": "code",
   "execution_count": 9,
   "metadata": {
    "execution": {
     "iopub.execute_input": "2021-08-31T22:28:08.781793Z",
     "iopub.status.busy": "2021-08-31T22:28:08.776060Z",
     "iopub.status.idle": "2021-08-31T22:28:08.788186Z",
     "shell.execute_reply": "2021-08-31T22:28:08.787027Z"
    }
   },
   "outputs": [
    {
     "name": "stdout",
     "output_type": "stream",
     "text": [
      "Comparing Genes with Transcripts: 66.08%\n",
      "Features in common: 5945\n",
      "Comparing Genes with Junctions: 65.06%\n",
      "Features in common: 3844\n",
      "Comparing Exons with Genes: 87.87%\n",
      "Features in common: 7215\n",
      "\n",
      "\n",
      "Comparing Transcripts with Junctions: 72.07%\n",
      "Features in common: 4258\n",
      "Comparing Exons with Transcripts: 78.57%\n",
      "Features in common: 7068\n",
      "Comparing Exons with Junctions: 88.86%\n",
      "Features in common: 5250\n"
     ]
    }
   ],
   "source": [
    "features = {\n",
    "    'Genes': set(genes['ensemblID']),\n",
    "    'Transcripts': set(trans['ensemblID']),\n",
    "    'Exons': set(exons['ensemblID']),\n",
    "    'Junctions': set(juncs['ensemblID']),\n",
    "}\n",
    "\n",
    "limiting_features(features, 'Genes', 'Transcripts')\n",
    "limiting_features(features, 'Genes', 'Junctions')\n",
    "limiting_features(features, 'Exons', 'Genes')\n",
    "print(\"\\n\")\n",
    "limiting_features(features, 'Transcripts', 'Junctions')\n",
    "limiting_features(features, 'Exons', 'Transcripts')\n",
    "limiting_features(features, 'Exons', 'Junctions')"
   ]
  },
  {
   "cell_type": "code",
   "execution_count": 10,
   "metadata": {
    "execution": {
     "iopub.execute_input": "2021-08-31T22:28:08.799193Z",
     "iopub.status.busy": "2021-08-31T22:28:08.797932Z",
     "iopub.status.idle": "2021-08-31T22:28:08.803256Z",
     "shell.execute_reply": "2021-08-31T22:28:08.802129Z"
    }
   },
   "outputs": [
    {
     "data": {
      "text/plain": [
       "3257"
      ]
     },
     "execution_count": 1,
     "metadata": {},
     "output_type": "execute_result"
    }
   ],
   "source": [
    "len(features['Genes'] & features['Transcripts'] & features['Exons'] & features['Junctions'])"
   ]
  },
  {
   "cell_type": "code",
   "execution_count": 11,
   "metadata": {
    "execution": {
     "iopub.execute_input": "2021-08-31T22:28:08.818887Z",
     "iopub.status.busy": "2021-08-31T22:28:08.817640Z",
     "iopub.status.idle": "2021-08-31T22:28:08.821886Z",
     "shell.execute_reply": "2021-08-31T22:28:08.822906Z"
    }
   },
   "outputs": [
    {
     "data": {
      "text/plain": [
       "13693"
      ]
     },
     "execution_count": 1,
     "metadata": {},
     "output_type": "execute_result"
    }
   ],
   "source": [
    "len(features['Genes'] | features['Transcripts'] | features['Exons'] | features['Junctions'])"
   ]
  },
  {
   "cell_type": "markdown",
   "metadata": {},
   "source": [
    "### SNPs not in significant PGC2+COLUZK GWAS"
   ]
  },
  {
   "cell_type": "code",
   "execution_count": 12,
   "metadata": {
    "execution": {
     "iopub.execute_input": "2021-08-31T22:28:14.958562Z",
     "iopub.status.busy": "2021-08-31T22:28:14.957196Z",
     "iopub.status.idle": "2021-08-31T22:28:39.389225Z",
     "shell.execute_reply": "2021-08-31T22:28:39.390577Z"
    }
   },
   "outputs": [
    {
     "name": "stdout",
     "output_type": "stream",
     "text": [
      "===Unique novel SNPs===\n",
      "Gene:\t\t2800\n",
      "Transcript:\t3005\n",
      "Exon:\t\t3727\n",
      "Junction:\t2994\n",
      "\n"
     ]
    }
   ],
   "source": [
    "new_genes = pd.merge(genes, pgc2_df, left_on='BEST.GWAS.ID', right_on='our_snp_id', suffixes=['_TWAS', '_PGC2'])\n",
    "new_trans = pd.merge(trans, pgc2_df, left_on='BEST.GWAS.ID', right_on='our_snp_id', suffixes=['_TWAS', '_PGC2'])\n",
    "new_exons = pd.merge(exons, pgc2_df, left_on='BEST.GWAS.ID', right_on='our_snp_id', suffixes=['_TWAS', '_PGC2'])\n",
    "new_juncs = pd.merge(juncs, pgc2_df, left_on='BEST.GWAS.ID', right_on='our_snp_id', suffixes=['_TWAS', '_PGC2'])\n",
    "\n",
    "new_genes = new_genes[(new_genes['P'] > 5e-8)].copy()\n",
    "new_trans = new_trans[(new_trans['P'] > 5e-8)].copy()\n",
    "new_exons = new_exons[(new_exons['P'] > 5e-8)].copy()\n",
    "new_juncs = new_juncs[(new_juncs['P'] > 5e-8)].copy()\n",
    "\n",
    "gg = len(set(new_genes['BEST.GWAS.ID']))\n",
    "tt = len(set(new_trans['BEST.GWAS.ID']))\n",
    "ee = len(set(new_exons['BEST.GWAS.ID']))\n",
    "jj = len(set(new_juncs['BEST.GWAS.ID']))\n",
    "\n",
    "print(\"===Unique novel SNPs===\\nGene:\\t\\t%d\\nTranscript:\\t%d\\nExon:\\t\\t%d\\nJunction:\\t%d\\n\" % (gg, tt, ee, jj)) "
   ]
  },
  {
   "cell_type": "code",
   "execution_count": 13,
   "metadata": {
    "execution": {
     "iopub.execute_input": "2021-08-31T22:28:39.405579Z",
     "iopub.status.busy": "2021-08-31T22:28:39.404220Z",
     "iopub.status.idle": "2021-08-31T22:28:39.414227Z",
     "shell.execute_reply": "2021-08-31T22:28:39.414934Z"
    }
   },
   "outputs": [
    {
     "data": {
      "text/plain": [
       "4345"
      ]
     },
     "execution_count": 1,
     "metadata": {},
     "output_type": "execute_result"
    }
   ],
   "source": [
    "len(set(new_genes['BEST.GWAS.ID']) | set(new_trans['BEST.GWAS.ID']) | \n",
    "    set(new_exons['BEST.GWAS.ID']) | set(new_juncs['BEST.GWAS.ID']))"
   ]
  },
  {
   "cell_type": "markdown",
   "metadata": {},
   "source": [
    "## TWAS P-value < 0.05"
   ]
  },
  {
   "cell_type": "markdown",
   "metadata": {},
   "source": [
    "### Feature summary"
   ]
  },
  {
   "cell_type": "code",
   "execution_count": 14,
   "metadata": {
    "execution": {
     "iopub.execute_input": "2021-08-31T22:28:39.428194Z",
     "iopub.status.busy": "2021-08-31T22:28:39.426487Z",
     "iopub.status.idle": "2021-08-31T22:28:39.475463Z",
     "shell.execute_reply": "2021-08-31T22:28:39.475938Z"
    }
   },
   "outputs": [
    {
     "name": "stdout",
     "output_type": "stream",
     "text": [
      "===Unique Features===\n",
      "Gene:\t\t1660\n",
      "Transcript:\t3115\n",
      "Exon:\t\t14327\n",
      "Junction:\t4890\n",
      "\n",
      "===Unique Ensembl Gene===\n",
      "Gene:\t\t1660\n",
      "Transcript:\t2301\n",
      "Exon:\t\t3547\n",
      "Junction:\t1925\n",
      "\n",
      "===Unique Gene Names===\n",
      "Gene:\t\t1660\n",
      "Transcript:\t2299\n",
      "Exon:\t\t3827\n",
      "Junction:\t1925\n",
      "\n"
     ]
    }
   ],
   "source": [
    "gg = len(set(genes[(genes['TWAS.P'] <= 0.05)].loc[:, 'Feature']))\n",
    "tt = len(set(trans[(trans['TWAS.P'] <= 0.05)].loc[:, 'Feature']))\n",
    "ee = len(set(exons[(exons['TWAS.P'] <= 0.05)].loc[:, 'Feature']))\n",
    "jj = len(set(juncs[(juncs['TWAS.P'] <= 0.05)].loc[:, 'Feature']))\n",
    "\n",
    "print(\"===Unique Features===\\nGene:\\t\\t%d\\nTranscript:\\t%d\\nExon:\\t\\t%d\\nJunction:\\t%d\\n\" % (gg, tt, ee, jj)) \n",
    "\n",
    "gg = len(set(genes[(genes['TWAS.P'] <= 0.05)].loc[:, 'ensemblID']))\n",
    "tt = len(set(trans[(trans['TWAS.P'] <= 0.05)].loc[:, 'ensemblID']))\n",
    "ee = len(set(exons[(exons['TWAS.P'] <= 0.05)].loc[:, 'ensemblID']))\n",
    "jj = len(set(juncs[(juncs['TWAS.P'] <= 0.05)].loc[:, 'ensemblID']))\n",
    "\n",
    "print(\"===Unique Ensembl Gene===\\nGene:\\t\\t%d\\nTranscript:\\t%d\\nExon:\\t\\t%d\\nJunction:\\t%d\\n\" % (gg, tt, ee, jj)) \n",
    "\n",
    "gg = len(set(genes[(genes['TWAS.P'] <= 0.05)].loc[:, 'ID']))\n",
    "tt = len(set(trans[(trans['TWAS.P'] <= 0.05)].loc[:, 'ID']))\n",
    "ee = len(set(exons[(exons['TWAS.P'] <= 0.05)].loc[:, 'ID']))\n",
    "jj = len(set(juncs[(juncs['TWAS.P'] <= 0.05)].loc[:, 'ID']))\n",
    "\n",
    "print(\"===Unique Gene Names===\\nGene:\\t\\t%d\\nTranscript:\\t%d\\nExon:\\t\\t%d\\nJunction:\\t%d\\n\" % (gg, tt, ee, jj)) "
   ]
  },
  {
   "cell_type": "markdown",
   "metadata": {},
   "source": [
    "### Overlap"
   ]
  },
  {
   "cell_type": "code",
   "execution_count": 15,
   "metadata": {
    "execution": {
     "iopub.execute_input": "2021-08-31T22:28:39.485529Z",
     "iopub.status.busy": "2021-08-31T22:28:39.484752Z",
     "iopub.status.idle": "2021-08-31T22:28:39.509547Z",
     "shell.execute_reply": "2021-08-31T22:28:39.508971Z"
    }
   },
   "outputs": [
    {
     "name": "stdout",
     "output_type": "stream",
     "text": [
      "Comparing Genes with Transcripts: 40.81%\n",
      "Features in common: 939\n",
      "Comparing Genes with Junctions: 33.61%\n",
      "Features in common: 647\n",
      "Comparing Exons with Genes: 79.82%\n",
      "Features in common: 1325\n",
      "\n",
      "\n",
      "Comparing Transcripts with Junctions: 45.19%\n",
      "Features in common: 870\n",
      "Comparing Exons with Transcripts: 63.71%\n",
      "Features in common: 1466\n",
      "Comparing Exons with Junctions: 73.04%\n",
      "Features in common: 1406\n"
     ]
    }
   ],
   "source": [
    "features = {\n",
    "    'Genes': set(genes[(genes['TWAS.P'] <= 0.05)].loc[:, 'ensemblID']),\n",
    "    'Transcripts': set(trans[(trans['TWAS.P'] <= 0.05)].loc[:, 'ensemblID']),\n",
    "    'Exons': set(exons[(exons['TWAS.P'] <= 0.05)].loc[:, 'ensemblID']),\n",
    "    'Junctions': set(juncs[(juncs['TWAS.P'] <= 0.05)].loc[:, 'ensemblID']),\n",
    "}\n",
    "\n",
    "limiting_features(features, 'Genes', 'Transcripts')\n",
    "limiting_features(features, 'Genes', 'Junctions')\n",
    "limiting_features(features, 'Exons', 'Genes')\n",
    "print(\"\\n\")\n",
    "limiting_features(features, 'Transcripts', 'Junctions')\n",
    "limiting_features(features, 'Exons', 'Transcripts')\n",
    "limiting_features(features, 'Exons', 'Junctions')"
   ]
  },
  {
   "cell_type": "code",
   "execution_count": 16,
   "metadata": {
    "execution": {
     "iopub.execute_input": "2021-08-31T22:28:39.514940Z",
     "iopub.status.busy": "2021-08-31T22:28:39.514192Z",
     "iopub.status.idle": "2021-08-31T22:28:39.516663Z",
     "shell.execute_reply": "2021-08-31T22:28:39.517205Z"
    }
   },
   "outputs": [
    {
     "data": {
      "text/plain": [
       "469"
      ]
     },
     "execution_count": 1,
     "metadata": {},
     "output_type": "execute_result"
    }
   ],
   "source": [
    "len(features['Genes'] & features['Transcripts'] & features['Exons'] & features['Junctions'])"
   ]
  },
  {
   "cell_type": "code",
   "execution_count": 17,
   "metadata": {
    "execution": {
     "iopub.execute_input": "2021-08-31T22:28:39.524502Z",
     "iopub.status.busy": "2021-08-31T22:28:39.523838Z",
     "iopub.status.idle": "2021-08-31T22:28:39.527139Z",
     "shell.execute_reply": "2021-08-31T22:28:39.526579Z"
    }
   },
   "outputs": [
    {
     "data": {
      "text/plain": [
       "5051"
      ]
     },
     "execution_count": 1,
     "metadata": {},
     "output_type": "execute_result"
    }
   ],
   "source": [
    "len(features['Genes'] | features['Transcripts'] | features['Exons'] | features['Junctions'])"
   ]
  },
  {
   "cell_type": "markdown",
   "metadata": {},
   "source": [
    "### SNPs not in significant PGC2+COLUZK GWAS"
   ]
  },
  {
   "cell_type": "code",
   "execution_count": 18,
   "metadata": {
    "execution": {
     "iopub.execute_input": "2021-08-31T22:28:39.536935Z",
     "iopub.status.busy": "2021-08-31T22:28:39.535865Z",
     "iopub.status.idle": "2021-08-31T22:29:08.091751Z",
     "shell.execute_reply": "2021-08-31T22:29:08.092820Z"
    }
   },
   "outputs": [
    {
     "name": "stdout",
     "output_type": "stream",
     "text": [
      "===Unique novel SNPs===\n",
      "Gene:\t\t811\n",
      "Transcript:\t1059\n",
      "Exon:\t\t1600\n",
      "Junction:\t1127\n",
      "\n"
     ]
    }
   ],
   "source": [
    "new_genes = pd.merge(genes[(genes['TWAS.P'] <= 0.05)], pgc2_df, left_on='BEST.GWAS.ID', \n",
    "                     right_on='our_snp_id', suffixes=['_TWAS', '_PGC2'])\n",
    "new_trans = pd.merge(trans[(trans['TWAS.P'] <= 0.05)], pgc2_df, left_on='BEST.GWAS.ID', \n",
    "                     right_on='our_snp_id', suffixes=['_TWAS', '_PGC2'])\n",
    "new_exons = pd.merge(exons[(exons['TWAS.P'] <= 0.05)], pgc2_df, left_on='BEST.GWAS.ID', \n",
    "                     right_on='our_snp_id', suffixes=['_TWAS', '_PGC2'])\n",
    "new_juncs = pd.merge(juncs[(juncs['TWAS.P'] <= 0.05)], pgc2_df, left_on='BEST.GWAS.ID', \n",
    "                     right_on='our_snp_id', suffixes=['_TWAS', '_PGC2'])\n",
    "\n",
    "new_genes = new_genes[(new_genes['P'] > 5e-8)].copy()\n",
    "new_trans = new_trans[(new_trans['P'] > 5e-8)].copy()\n",
    "new_exons = new_exons[(new_exons['P'] > 5e-8)].copy()\n",
    "new_juncs = new_juncs[(new_juncs['P'] > 5e-8)].copy()\n",
    "\n",
    "gg = len(set(new_genes['BEST.GWAS.ID']))\n",
    "tt = len(set(new_trans['BEST.GWAS.ID']))\n",
    "ee = len(set(new_exons['BEST.GWAS.ID']))\n",
    "jj = len(set(new_juncs['BEST.GWAS.ID']))\n",
    "\n",
    "print(\"===Unique novel SNPs===\\nGene:\\t\\t%d\\nTranscript:\\t%d\\nExon:\\t\\t%d\\nJunction:\\t%d\\n\" % (gg, tt, ee, jj)) "
   ]
  },
  {
   "cell_type": "code",
   "execution_count": 19,
   "metadata": {
    "execution": {
     "iopub.execute_input": "2021-08-31T22:29:08.103170Z",
     "iopub.status.busy": "2021-08-31T22:29:08.101683Z",
     "iopub.status.idle": "2021-08-31T22:29:08.106799Z",
     "shell.execute_reply": "2021-08-31T22:29:08.107985Z"
    }
   },
   "outputs": [
    {
     "data": {
      "text/plain": [
       "2045"
      ]
     },
     "execution_count": 1,
     "metadata": {},
     "output_type": "execute_result"
    }
   ],
   "source": [
    "len(set(new_genes['BEST.GWAS.ID']) | set(new_trans['BEST.GWAS.ID']) | \n",
    "    set(new_exons['BEST.GWAS.ID']) | set(new_juncs['BEST.GWAS.ID']))"
   ]
  },
  {
   "cell_type": "markdown",
   "metadata": {},
   "source": [
    "## TWAS FDR < 0.05"
   ]
  },
  {
   "cell_type": "markdown",
   "metadata": {},
   "source": [
    "### Feature summary"
   ]
  },
  {
   "cell_type": "code",
   "execution_count": 20,
   "metadata": {
    "execution": {
     "iopub.execute_input": "2021-08-31T22:29:08.120222Z",
     "iopub.status.busy": "2021-08-31T22:29:08.118826Z",
     "iopub.status.idle": "2021-08-31T22:29:08.153660Z",
     "shell.execute_reply": "2021-08-31T22:29:08.154757Z"
    }
   },
   "outputs": [
    {
     "name": "stdout",
     "output_type": "stream",
     "text": [
      "===Unique Features===\n",
      "Gene:\t\t684\n",
      "Transcript:\t1321\n",
      "Exon:\t\t5776\n",
      "Junction:\t2057\n",
      "\n",
      "===Unique Ensembl Gene===\n",
      "Gene:\t\t684\n",
      "Transcript:\t990\n",
      "Exon:\t\t1511\n",
      "Junction:\t854\n",
      "\n",
      "===Unique Gene Name===\n",
      "Gene:\t\t684\n",
      "Transcript:\t990\n",
      "Exon:\t\t1605\n",
      "Junction:\t854\n",
      "\n"
     ]
    }
   ],
   "source": [
    "gg = len(set(genes[(genes['FDR'] <= 0.05)].loc[:, 'Feature']))\n",
    "tt = len(set(trans[(trans['FDR'] <= 0.05)].loc[:, 'Feature']))\n",
    "ee = len(set(exons[(exons['FDR'] <= 0.05)].loc[:, 'Feature']))\n",
    "jj = len(set(juncs[(juncs['FDR'] <= 0.05)].loc[:, 'Feature']))\n",
    "\n",
    "print(\"===Unique Features===\\nGene:\\t\\t%d\\nTranscript:\\t%d\\nExon:\\t\\t%d\\nJunction:\\t%d\\n\" % (gg, tt, ee, jj)) \n",
    "\n",
    "gg = len(set(genes[(genes['FDR'] <= 0.05)].loc[:, 'ensemblID']))\n",
    "tt = len(set(trans[(trans['FDR'] <= 0.05)].loc[:, 'ensemblID']))\n",
    "ee = len(set(exons[(exons['FDR'] <= 0.05)].loc[:, 'ensemblID']))\n",
    "jj = len(set(juncs[(juncs['FDR'] <= 0.05)].loc[:, 'ensemblID']))\n",
    "\n",
    "print(\"===Unique Ensembl Gene===\\nGene:\\t\\t%d\\nTranscript:\\t%d\\nExon:\\t\\t%d\\nJunction:\\t%d\\n\" % (gg, tt, ee, jj)) \n",
    "\n",
    "gg = len(set(genes[(genes['FDR'] <= 0.05)].loc[:, 'ID']))\n",
    "tt = len(set(trans[(trans['FDR'] <= 0.05)].loc[:, 'ID']))\n",
    "ee = len(set(exons[(exons['FDR'] <= 0.05)].loc[:, 'ID']))\n",
    "jj = len(set(juncs[(juncs['FDR'] <= 0.05)].loc[:, 'ID']))\n",
    "\n",
    "print(\"===Unique Gene Name===\\nGene:\\t\\t%d\\nTranscript:\\t%d\\nExon:\\t\\t%d\\nJunction:\\t%d\\n\" % (gg, tt, ee, jj)) "
   ]
  },
  {
   "cell_type": "markdown",
   "metadata": {},
   "source": [
    "### Overlap"
   ]
  },
  {
   "cell_type": "code",
   "execution_count": 21,
   "metadata": {
    "execution": {
     "iopub.execute_input": "2021-08-31T22:29:08.163974Z",
     "iopub.status.busy": "2021-08-31T22:29:08.162655Z",
     "iopub.status.idle": "2021-08-31T22:29:08.179592Z",
     "shell.execute_reply": "2021-08-31T22:29:08.178397Z"
    }
   },
   "outputs": [
    {
     "name": "stdout",
     "output_type": "stream",
     "text": [
      "Comparing Genes with Transcripts: 40.10%\n",
      "Features in common: 397\n",
      "Comparing Genes with Junctions: 30.33%\n",
      "Features in common: 259\n",
      "Comparing Exons with Genes: 78.80%\n",
      "Features in common: 539\n",
      "\n",
      "\n",
      "Comparing Transcripts with Junctions: 41.92%\n",
      "Features in common: 358\n",
      "Comparing Exons with Transcripts: 61.31%\n",
      "Features in common: 607\n",
      "Comparing Exons with Junctions: 68.03%\n",
      "Features in common: 581\n"
     ]
    }
   ],
   "source": [
    "features = {\n",
    "    'Genes': set(genes[(genes['FDR'] <= 0.05)].loc[:, 'ensemblID']),\n",
    "    'Transcripts': set(trans[(trans['FDR'] <= 0.05)].loc[:, 'ensemblID']),\n",
    "    'Exons': set(exons[(exons['FDR'] <= 0.05)].loc[:, 'ensemblID']),\n",
    "    'Junctions': set(juncs[(juncs['FDR'] <= 0.05)].loc[:, 'ensemblID']),\n",
    "}\n",
    "\n",
    "limiting_features(features, 'Genes', 'Transcripts')\n",
    "limiting_features(features, 'Genes', 'Junctions')\n",
    "limiting_features(features, 'Exons', 'Genes')\n",
    "print(\"\\n\")\n",
    "limiting_features(features, 'Transcripts', 'Junctions')\n",
    "limiting_features(features, 'Exons', 'Transcripts')\n",
    "limiting_features(features, 'Exons', 'Junctions')"
   ]
  },
  {
   "cell_type": "code",
   "execution_count": 22,
   "metadata": {
    "execution": {
     "iopub.execute_input": "2021-08-31T22:29:08.186271Z",
     "iopub.status.busy": "2021-08-31T22:29:08.184994Z",
     "iopub.status.idle": "2021-08-31T22:29:08.190335Z",
     "shell.execute_reply": "2021-08-31T22:29:08.189232Z"
    }
   },
   "outputs": [
    {
     "data": {
      "text/plain": [
       "195"
      ]
     },
     "execution_count": 1,
     "metadata": {},
     "output_type": "execute_result"
    }
   ],
   "source": [
    "len(features['Genes'] & features['Transcripts'] & features['Exons'] & features['Junctions'])"
   ]
  },
  {
   "cell_type": "code",
   "execution_count": 23,
   "metadata": {
    "execution": {
     "iopub.execute_input": "2021-08-31T22:29:08.197702Z",
     "iopub.status.busy": "2021-08-31T22:29:08.196256Z",
     "iopub.status.idle": "2021-08-31T22:29:08.200871Z",
     "shell.execute_reply": "2021-08-31T22:29:08.201897Z"
    }
   },
   "outputs": [
    {
     "data": {
      "text/plain": [
       "2237"
      ]
     },
     "execution_count": 1,
     "metadata": {},
     "output_type": "execute_result"
    }
   ],
   "source": [
    "len(features['Genes'] | features['Transcripts'] | features['Exons'] | features['Junctions'])"
   ]
  },
  {
   "cell_type": "markdown",
   "metadata": {},
   "source": [
    "### SNPs not in significant PGC2+CLOZUK GWAS"
   ]
  },
  {
   "cell_type": "code",
   "execution_count": 24,
   "metadata": {
    "execution": {
     "iopub.execute_input": "2021-08-31T22:29:14.250537Z",
     "iopub.status.busy": "2021-08-31T22:29:08.211457Z",
     "iopub.status.idle": "2021-08-31T22:29:36.636569Z",
     "shell.execute_reply": "2021-08-31T22:29:36.635931Z"
    }
   },
   "outputs": [
    {
     "name": "stdout",
     "output_type": "stream",
     "text": [
      "===Unique novel SNPs===\n",
      "Gene:\t\t274\n",
      "Transcript:\t403\n",
      "Exon:\t\t632\n",
      "Junction:\t447\n",
      "\n"
     ]
    }
   ],
   "source": [
    "new_genes = pd.merge(genes[(genes['FDR'] <= 0.05)], pgc2_df, left_on='BEST.GWAS.ID', \n",
    "                     right_on='our_snp_id', suffixes=['_TWAS', '_PGC2'])\n",
    "new_trans = pd.merge(trans[(trans['FDR'] <= 0.05)], pgc2_df, left_on='BEST.GWAS.ID', \n",
    "                     right_on='our_snp_id', suffixes=['_TWAS', '_PGC2'])\n",
    "new_exons = pd.merge(exons[(exons['FDR'] <= 0.05)], pgc2_df, left_on='BEST.GWAS.ID', \n",
    "                     right_on='our_snp_id', suffixes=['_TWAS', '_PGC2'])\n",
    "new_juncs = pd.merge(juncs[(juncs['FDR'] <= 0.05)], pgc2_df, left_on='BEST.GWAS.ID', \n",
    "                     right_on='our_snp_id', suffixes=['_TWAS', '_PGC2'])\n",
    "\n",
    "new_genes = new_genes[(new_genes['P'] > 5e-8)].copy()\n",
    "new_trans = new_trans[(new_trans['P'] > 5e-8)].copy()\n",
    "new_exons = new_exons[(new_exons['P'] > 5e-8)].copy()\n",
    "new_juncs = new_juncs[(new_juncs['P'] > 5e-8)].copy()\n",
    "\n",
    "gg = len(set(new_genes['BEST.GWAS.ID']))\n",
    "tt = len(set(new_trans['BEST.GWAS.ID']))\n",
    "ee = len(set(new_exons['BEST.GWAS.ID']))\n",
    "jj = len(set(new_juncs['BEST.GWAS.ID']))\n",
    "\n",
    "print(\"===Unique novel SNPs===\\nGene:\\t\\t%d\\nTranscript:\\t%d\\nExon:\\t\\t%d\\nJunction:\\t%d\\n\" % (gg, tt, ee, jj)) "
   ]
  },
  {
   "cell_type": "code",
   "execution_count": 25,
   "metadata": {
    "execution": {
     "iopub.execute_input": "2021-08-31T22:29:36.646222Z",
     "iopub.status.busy": "2021-08-31T22:29:36.645363Z",
     "iopub.status.idle": "2021-08-31T22:29:36.648419Z",
     "shell.execute_reply": "2021-08-31T22:29:36.646849Z"
    }
   },
   "outputs": [
    {
     "data": {
      "text/plain": [
       "854"
      ]
     },
     "execution_count": 1,
     "metadata": {},
     "output_type": "execute_result"
    }
   ],
   "source": [
    "len(set(new_genes['BEST.GWAS.ID']) | set(new_trans['BEST.GWAS.ID']) | \n",
    "    set(new_exons['BEST.GWAS.ID']) | set(new_juncs['BEST.GWAS.ID']))"
   ]
  },
  {
   "cell_type": "markdown",
   "metadata": {},
   "source": [
    "## TWAS Bonferroni < 0.05"
   ]
  },
  {
   "cell_type": "markdown",
   "metadata": {},
   "source": [
    "### Feature summary"
   ]
  },
  {
   "cell_type": "code",
   "execution_count": 26,
   "metadata": {
    "execution": {
     "iopub.execute_input": "2021-08-31T22:29:36.680964Z",
     "iopub.status.busy": "2021-08-31T22:29:36.680025Z",
     "iopub.status.idle": "2021-08-31T22:29:36.683131Z",
     "shell.execute_reply": "2021-08-31T22:29:36.681597Z"
    }
   },
   "outputs": [
    {
     "name": "stdout",
     "output_type": "stream",
     "text": [
      "===Unique Features===\n",
      "Gene:\t\t143\n",
      "Transcript:\t264\n",
      "Exon:\t\t854\n",
      "Junction:\t417\n",
      "\n",
      "===Unique Ensembl Gene===\n",
      "Gene:\t\t143\n",
      "Transcript:\t212\n",
      "Exon:\t\t227\n",
      "Junction:\t151\n",
      "\n",
      "===Unique Gene Name===\n",
      "Gene:\t\t143\n",
      "Transcript:\t212\n",
      "Exon:\t\t237\n",
      "Junction:\t151\n",
      "\n"
     ]
    }
   ],
   "source": [
    "gg = len(set(genes[(genes['Bonferroni'] <= 0.05)].loc[:, 'Feature']))\n",
    "tt = len(set(trans[(trans['Bonferroni'] <= 0.05)].loc[:, 'Feature']))\n",
    "ee = len(set(exons[(exons['Bonferroni'] <= 0.05)].loc[:, 'Feature']))\n",
    "jj = len(set(juncs[(juncs['Bonferroni'] <= 0.05)].loc[:, 'Feature']))\n",
    "\n",
    "print(\"===Unique Features===\\nGene:\\t\\t%d\\nTranscript:\\t%d\\nExon:\\t\\t%d\\nJunction:\\t%d\\n\" % (gg, tt, ee, jj)) \n",
    "\n",
    "gg = len(set(genes[(genes['Bonferroni'] <= 0.05)].loc[:, 'ensemblID']))\n",
    "tt = len(set(trans[(trans['Bonferroni'] <= 0.05)].loc[:, 'ensemblID']))\n",
    "ee = len(set(exons[(exons['Bonferroni'] <= 0.05)].loc[:, 'ensemblID']))\n",
    "jj = len(set(juncs[(juncs['Bonferroni'] <= 0.05)].loc[:, 'ensemblID']))\n",
    "\n",
    "print(\"===Unique Ensembl Gene===\\nGene:\\t\\t%d\\nTranscript:\\t%d\\nExon:\\t\\t%d\\nJunction:\\t%d\\n\" % (gg, tt, ee, jj)) \n",
    "\n",
    "gg = len(set(genes[(genes['Bonferroni'] <= 0.05)].loc[:, 'ID']))\n",
    "tt = len(set(trans[(trans['Bonferroni'] <= 0.05)].loc[:, 'ID']))\n",
    "ee = len(set(exons[(exons['Bonferroni'] <= 0.05)].loc[:, 'ID']))\n",
    "jj = len(set(juncs[(juncs['Bonferroni'] <= 0.05)].loc[:, 'ID']))\n",
    "\n",
    "print(\"===Unique Gene Name===\\nGene:\\t\\t%d\\nTranscript:\\t%d\\nExon:\\t\\t%d\\nJunction:\\t%d\\n\" % (gg, tt, ee, jj)) "
   ]
  },
  {
   "cell_type": "markdown",
   "metadata": {},
   "source": [
    "### Overlap"
   ]
  },
  {
   "cell_type": "code",
   "execution_count": 27,
   "metadata": {
    "execution": {
     "iopub.execute_input": "2021-08-31T22:29:36.700807Z",
     "iopub.status.busy": "2021-08-31T22:29:36.699941Z",
     "iopub.status.idle": "2021-08-31T22:29:36.702913Z",
     "shell.execute_reply": "2021-08-31T22:29:36.701419Z"
    }
   },
   "outputs": [
    {
     "name": "stdout",
     "output_type": "stream",
     "text": [
      "Comparing Genes with Transcripts: 38.21%\n",
      "Features in common: 81\n",
      "Comparing Genes with Junctions: 29.80%\n",
      "Features in common: 45\n",
      "Comparing Exons with Genes: 69.93%\n",
      "Features in common: 100\n",
      "\n",
      "\n",
      "Comparing Transcripts with Junctions: 45.70%\n",
      "Features in common: 69\n",
      "Comparing Exons with Transcripts: 53.30%\n",
      "Features in common: 113\n",
      "Comparing Exons with Junctions: 59.60%\n",
      "Features in common: 90\n"
     ]
    }
   ],
   "source": [
    "features = {\n",
    "    'Genes': set(genes[(genes['Bonferroni'] <= 0.05)].loc[:, 'ensemblID']),\n",
    "    'Transcripts': set(trans[(trans['Bonferroni'] <= 0.05)].loc[:, 'ensemblID']),\n",
    "    'Exons': set(exons[(exons['Bonferroni'] <= 0.05)].loc[:, 'ensemblID']),\n",
    "    'Junctions': set(juncs[(juncs['Bonferroni'] <= 0.05)].loc[:, 'ensemblID']),\n",
    "}\n",
    "\n",
    "limiting_features(features, 'Genes', 'Transcripts')\n",
    "limiting_features(features, 'Genes', 'Junctions')\n",
    "limiting_features(features, 'Exons', 'Genes')\n",
    "print(\"\\n\")\n",
    "limiting_features(features, 'Transcripts', 'Junctions')\n",
    "limiting_features(features, 'Exons', 'Transcripts')\n",
    "limiting_features(features, 'Exons', 'Junctions')"
   ]
  },
  {
   "cell_type": "code",
   "execution_count": 28,
   "metadata": {
    "execution": {
     "iopub.execute_input": "2021-08-31T22:29:36.711402Z",
     "iopub.status.busy": "2021-08-31T22:29:36.710115Z",
     "iopub.status.idle": "2021-08-31T22:29:36.712942Z",
     "shell.execute_reply": "2021-08-31T22:29:36.710824Z"
    }
   },
   "outputs": [
    {
     "data": {
      "text/plain": [
       "32"
      ]
     },
     "execution_count": 1,
     "metadata": {},
     "output_type": "execute_result"
    }
   ],
   "source": [
    "len(features['Genes'] & features['Transcripts'] & features['Exons'] & features['Junctions'])"
   ]
  },
  {
   "cell_type": "code",
   "execution_count": 29,
   "metadata": {
    "execution": {
     "iopub.execute_input": "2021-08-31T22:29:36.721443Z",
     "iopub.status.busy": "2021-08-31T22:29:36.720154Z",
     "iopub.status.idle": "2021-08-31T22:29:36.723001Z",
     "shell.execute_reply": "2021-08-31T22:29:36.720866Z"
    }
   },
   "outputs": [
    {
     "data": {
      "text/plain": [
       "399"
      ]
     },
     "execution_count": 1,
     "metadata": {},
     "output_type": "execute_result"
    }
   ],
   "source": [
    "len(features['Genes'] | features['Transcripts'] | features['Exons'] | features['Junctions'])"
   ]
  },
  {
   "cell_type": "markdown",
   "metadata": {},
   "source": [
    "### SNPs not in significant PGC2+CLOZUK GWAS"
   ]
  },
  {
   "cell_type": "code",
   "execution_count": 30,
   "metadata": {
    "execution": {
     "iopub.execute_input": "2021-08-31T22:29:36.729417Z",
     "iopub.status.busy": "2021-08-31T22:29:36.728587Z",
     "iopub.status.idle": "2021-08-31T22:30:06.820514Z",
     "shell.execute_reply": "2021-08-31T22:30:06.819209Z"
    }
   },
   "outputs": [
    {
     "name": "stdout",
     "output_type": "stream",
     "text": [
      "===Unique novel SNPs===\n",
      "Gene:\t\t14\n",
      "Transcript:\t26\n",
      "Exon:\t\t19\n",
      "Junction:\t22\n",
      "\n"
     ]
    }
   ],
   "source": [
    "new_genes = pd.merge(genes[(genes['Bonferroni'] <= 0.05)], pgc2_df, left_on='BEST.GWAS.ID', \n",
    "                     right_on='our_snp_id', suffixes=['_TWAS', '_PGC2'])\n",
    "new_trans = pd.merge(trans[(trans['Bonferroni'] <= 0.05)], pgc2_df, left_on='BEST.GWAS.ID', \n",
    "                     right_on='our_snp_id', suffixes=['_TWAS', '_PGC2'])\n",
    "new_exons = pd.merge(exons[(exons['Bonferroni'] <= 0.05)], pgc2_df, left_on='BEST.GWAS.ID', \n",
    "                     right_on='our_snp_id', suffixes=['_TWAS', '_PGC2'])\n",
    "new_juncs = pd.merge(juncs[(juncs['Bonferroni'] <= 0.05)], pgc2_df, left_on='BEST.GWAS.ID', \n",
    "                     right_on='our_snp_id', suffixes=['_TWAS', '_PGC2'])\n",
    "\n",
    "new_genes = new_genes[(new_genes['P'] > 5e-8)].copy()\n",
    "new_trans = new_trans[(new_trans['P'] > 5e-8)].copy()\n",
    "new_exons = new_exons[(new_exons['P'] > 5e-8)].copy()\n",
    "new_juncs = new_juncs[(new_juncs['P'] > 5e-8)].copy()\n",
    "\n",
    "gg = len(set(new_genes['BEST.GWAS.ID']))\n",
    "tt = len(set(new_trans['BEST.GWAS.ID']))\n",
    "ee = len(set(new_exons['BEST.GWAS.ID']))\n",
    "jj = len(set(new_juncs['BEST.GWAS.ID']))\n",
    "\n",
    "print(\"===Unique novel SNPs===\\nGene:\\t\\t%d\\nTranscript:\\t%d\\nExon:\\t\\t%d\\nJunction:\\t%d\\n\" % (gg, tt, ee, jj)) "
   ]
  },
  {
   "cell_type": "code",
   "execution_count": 31,
   "metadata": {
    "execution": {
     "iopub.execute_input": "2021-08-31T22:30:06.828849Z",
     "iopub.status.busy": "2021-08-31T22:30:06.827263Z",
     "iopub.status.idle": "2021-08-31T22:30:06.832913Z",
     "shell.execute_reply": "2021-08-31T22:30:06.834136Z"
    }
   },
   "outputs": [
    {
     "data": {
      "text/plain": [
       "52"
      ]
     },
     "execution_count": 1,
     "metadata": {},
     "output_type": "execute_result"
    }
   ],
   "source": [
    "len(set(new_genes['BEST.GWAS.ID']) | set(new_trans['BEST.GWAS.ID']) | \n",
    "    set(new_exons['BEST.GWAS.ID']) | set(new_juncs['BEST.GWAS.ID']))"
   ]
  },
  {
   "cell_type": "markdown",
   "metadata": {},
   "source": [
    "## Joint analysis"
   ]
  },
  {
   "cell_type": "markdown",
   "metadata": {},
   "source": [
    "### Prepare data"
   ]
  },
  {
   "cell_type": "markdown",
   "metadata": {},
   "source": [
    "#### Genes"
   ]
  },
  {
   "cell_type": "code",
   "execution_count": 32,
   "metadata": {
    "execution": {
     "iopub.execute_input": "2021-08-31T22:30:06.843181Z",
     "iopub.status.busy": "2021-08-31T22:30:06.841854Z",
     "iopub.status.idle": "2021-08-31T22:30:07.013310Z",
     "shell.execute_reply": "2021-08-31T22:30:07.012213Z"
    }
   },
   "outputs": [
    {
     "data": {
      "text/html": [
       "<div>\n",
       "<style scoped>\n",
       "    .dataframe tbody tr th:only-of-type {\n",
       "        vertical-align: middle;\n",
       "    }\n",
       "\n",
       "    .dataframe tbody tr th {\n",
       "        vertical-align: top;\n",
       "    }\n",
       "\n",
       "    .dataframe thead th {\n",
       "        text-align: right;\n",
       "    }\n",
       "</style>\n",
       "<table border=\"1\" class=\"dataframe\">\n",
       "  <thead>\n",
       "    <tr style=\"text-align: right;\">\n",
       "      <th></th>\n",
       "      <th>Feature</th>\n",
       "      <th>ensemblID</th>\n",
       "      <th>ID</th>\n",
       "      <th>TWAS.Z</th>\n",
       "      <th>TWAS.P</th>\n",
       "      <th>JOINT.Z</th>\n",
       "      <th>JOINT.P</th>\n",
       "      <th>Type</th>\n",
       "    </tr>\n",
       "  </thead>\n",
       "  <tbody>\n",
       "    <tr>\n",
       "      <th>112</th>\n",
       "      <td>ENSG00000137411</td>\n",
       "      <td>ENSG00000137411</td>\n",
       "      <td>VARS2</td>\n",
       "      <td>9.558187</td>\n",
       "      <td>1.198372e-21</td>\n",
       "      <td>22.633593</td>\n",
       "      <td>2.024222e-113</td>\n",
       "      <td>Gene</td>\n",
       "    </tr>\n",
       "    <tr>\n",
       "      <th>29</th>\n",
       "      <td>ENSG00000261353</td>\n",
       "      <td>ENSG00000261353</td>\n",
       "      <td>ENSG00000261353</td>\n",
       "      <td>9.381070</td>\n",
       "      <td>6.530637e-21</td>\n",
       "      <td>18.809150</td>\n",
       "      <td>6.354831e-79</td>\n",
       "      <td>Gene</td>\n",
       "    </tr>\n",
       "  </tbody>\n",
       "</table>\n",
       "</div>"
      ],
      "text/plain": [
       "             Feature        ensemblID               ID    TWAS.Z  \\\n",
       "112  ENSG00000137411  ENSG00000137411            VARS2  9.558187   \n",
       "29   ENSG00000261353  ENSG00000261353  ENSG00000261353  9.381070   \n",
       "\n",
       "           TWAS.P    JOINT.Z        JOINT.P  Type  \n",
       "112  1.198372e-21  22.633593  2.024222e-113  Gene  \n",
       "29   6.530637e-21  18.809150   6.354831e-79  Gene  "
      ]
     },
     "execution_count": 1,
     "metadata": {},
     "output_type": "execute_result"
    }
   ],
   "source": [
    "genes = pd.read_csv('/ceph/projects/v4_phase3_paper/analysis/twas/'+\\\n",
    "                    'gene_weights/fusion_pgc2/summary_stats/_m/fusion_twas_joint_assoc.txt', sep='\\t')\n",
    "annot = pd.read_csv('../../../differential_expression/_m/genes/diffExpr_szVctl_full.txt', sep='\\t')\n",
    "genes = annot[['ensemblID']].merge(genes, left_on='ensemblID', right_on='FILE')\n",
    "genes = genes[['FILE', 'ensemblID', 'ID', 'TWAS.Z', 'TWAS.P', \"JOINT.Z\", \"JOINT.P\"]]\n",
    "genes['Type'] = 'Gene'\n",
    "genes.rename(columns={'FILE': 'Feature'}, inplace=True)\n",
    "genes.sort_values('JOINT.P').head(2)"
   ]
  },
  {
   "cell_type": "markdown",
   "metadata": {},
   "source": [
    "#### Transcripts"
   ]
  },
  {
   "cell_type": "code",
   "execution_count": 33,
   "metadata": {
    "execution": {
     "iopub.execute_input": "2021-08-31T22:30:07.022680Z",
     "iopub.status.busy": "2021-08-31T22:30:07.021378Z",
     "iopub.status.idle": "2021-08-31T22:30:08.002235Z",
     "shell.execute_reply": "2021-08-31T22:30:08.003291Z"
    }
   },
   "outputs": [
    {
     "data": {
      "text/html": [
       "<div>\n",
       "<style scoped>\n",
       "    .dataframe tbody tr th:only-of-type {\n",
       "        vertical-align: middle;\n",
       "    }\n",
       "\n",
       "    .dataframe tbody tr th {\n",
       "        vertical-align: top;\n",
       "    }\n",
       "\n",
       "    .dataframe thead th {\n",
       "        text-align: right;\n",
       "    }\n",
       "</style>\n",
       "<table border=\"1\" class=\"dataframe\">\n",
       "  <thead>\n",
       "    <tr style=\"text-align: right;\">\n",
       "      <th></th>\n",
       "      <th>Feature</th>\n",
       "      <th>ensemblID</th>\n",
       "      <th>ID</th>\n",
       "      <th>TWAS.Z</th>\n",
       "      <th>TWAS.P</th>\n",
       "      <th>JOINT.Z</th>\n",
       "      <th>JOINT.P</th>\n",
       "      <th>Type</th>\n",
       "    </tr>\n",
       "  </thead>\n",
       "  <tbody>\n",
       "    <tr>\n",
       "      <th>53</th>\n",
       "      <td>ENST00000433076</td>\n",
       "      <td>ENSG00000241370</td>\n",
       "      <td>RPP21</td>\n",
       "      <td>9.807137</td>\n",
       "      <td>1.049029e-22</td>\n",
       "      <td>26.378509</td>\n",
       "      <td>2.417846e-153</td>\n",
       "      <td>Transcript</td>\n",
       "    </tr>\n",
       "    <tr>\n",
       "      <th>79</th>\n",
       "      <td>ENST00000426643</td>\n",
       "      <td>ENSG00000228962</td>\n",
       "      <td>HCG23</td>\n",
       "      <td>-10.807684</td>\n",
       "      <td>3.165626e-27</td>\n",
       "      <td>-25.798882</td>\n",
       "      <td>9.127039e-147</td>\n",
       "      <td>Transcript</td>\n",
       "    </tr>\n",
       "  </tbody>\n",
       "</table>\n",
       "</div>"
      ],
      "text/plain": [
       "            Feature        ensemblID     ID     TWAS.Z        TWAS.P  \\\n",
       "53  ENST00000433076  ENSG00000241370  RPP21   9.807137  1.049029e-22   \n",
       "79  ENST00000426643  ENSG00000228962  HCG23 -10.807684  3.165626e-27   \n",
       "\n",
       "      JOINT.Z        JOINT.P        Type  \n",
       "53  26.378509  2.417846e-153  Transcript  \n",
       "79 -25.798882  9.127039e-147  Transcript  "
      ]
     },
     "execution_count": 1,
     "metadata": {},
     "output_type": "execute_result"
    }
   ],
   "source": [
    "trans = pd.read_csv('/ceph/projects/v4_phase3_paper/analysis/twas/'+\\\n",
    "                    'transcript_weights/fusion_pgc2/summary_stats/_m/fusion_twas_joint_assoc.txt', sep='\\t')\n",
    "annot = pd.read_csv('../../../differential_expression/_m/transcripts/diffExpr_szVctl_full.txt', sep='\\t')\n",
    "annot['ensemblID'] = annot.gene_id.str.replace('\\\\..*', '', regex=True)\n",
    "annot['FILE'] = annot.transcript_id.str.replace('\\\\..*', '', regex=True)\n",
    "trans = annot[['ensemblID', 'FILE']].merge(trans, on='FILE')\n",
    "trans = trans[['FILE', 'ensemblID', 'ID', 'TWAS.Z', 'TWAS.P', \"JOINT.Z\", \"JOINT.P\"]]\n",
    "trans['Type'] = 'Transcript'\n",
    "trans.rename(columns={'FILE': 'Feature'}, inplace=True)\n",
    "trans.sort_values('JOINT.P').head(2)"
   ]
  },
  {
   "cell_type": "markdown",
   "metadata": {},
   "source": [
    "#### Exons"
   ]
  },
  {
   "cell_type": "code",
   "execution_count": 34,
   "metadata": {
    "execution": {
     "iopub.execute_input": "2021-08-31T22:30:08.010968Z",
     "iopub.status.busy": "2021-08-31T22:30:08.009649Z",
     "iopub.status.idle": "2021-08-31T22:30:09.768213Z",
     "shell.execute_reply": "2021-08-31T22:30:09.769400Z"
    }
   },
   "outputs": [
    {
     "data": {
      "text/html": [
       "<div>\n",
       "<style scoped>\n",
       "    .dataframe tbody tr th:only-of-type {\n",
       "        vertical-align: middle;\n",
       "    }\n",
       "\n",
       "    .dataframe tbody tr th {\n",
       "        vertical-align: top;\n",
       "    }\n",
       "\n",
       "    .dataframe thead th {\n",
       "        text-align: right;\n",
       "    }\n",
       "</style>\n",
       "<table border=\"1\" class=\"dataframe\">\n",
       "  <thead>\n",
       "    <tr style=\"text-align: right;\">\n",
       "      <th></th>\n",
       "      <th>Feature</th>\n",
       "      <th>ensemblID</th>\n",
       "      <th>ID</th>\n",
       "      <th>TWAS.Z</th>\n",
       "      <th>TWAS.P</th>\n",
       "      <th>JOINT.Z</th>\n",
       "      <th>JOINT.P</th>\n",
       "      <th>Type</th>\n",
       "    </tr>\n",
       "  </thead>\n",
       "  <tbody>\n",
       "    <tr>\n",
       "      <th>147</th>\n",
       "      <td>e384607</td>\n",
       "      <td>ENSG00000244731</td>\n",
       "      <td>C4A</td>\n",
       "      <td>11.164919</td>\n",
       "      <td>6.054653e-29</td>\n",
       "      <td>-28.484721</td>\n",
       "      <td>1.811364e-178</td>\n",
       "      <td>Exon</td>\n",
       "    </tr>\n",
       "    <tr>\n",
       "      <th>195</th>\n",
       "      <td>e805810</td>\n",
       "      <td>ENSG00000156414</td>\n",
       "      <td>TDRD9</td>\n",
       "      <td>-4.531112</td>\n",
       "      <td>5.867408e-06</td>\n",
       "      <td>-18.385187</td>\n",
       "      <td>1.726436e-75</td>\n",
       "      <td>Exon</td>\n",
       "    </tr>\n",
       "  </tbody>\n",
       "</table>\n",
       "</div>"
      ],
      "text/plain": [
       "     Feature        ensemblID     ID     TWAS.Z        TWAS.P    JOINT.Z  \\\n",
       "147  e384607  ENSG00000244731    C4A  11.164919  6.054653e-29 -28.484721   \n",
       "195  e805810  ENSG00000156414  TDRD9  -4.531112  5.867408e-06 -18.385187   \n",
       "\n",
       "           JOINT.P  Type  \n",
       "147  1.811364e-178  Exon  \n",
       "195   1.726436e-75  Exon  "
      ]
     },
     "execution_count": 1,
     "metadata": {},
     "output_type": "execute_result"
    }
   ],
   "source": [
    "exons = pd.read_csv('/ceph/projects/v4_phase3_paper/analysis/twas/'+\\\n",
    "                    'exon_weights/fusion_pgc2/summary_stats/_m/fusion_twas_joint_assoc.txt', sep='\\t')\n",
    "annot = pd.read_csv('../../../differential_expression/_m/exons/diffExpr_szVctl_full.txt', sep='\\t', index_col=0)\n",
    "exons = annot[['ensemblID']].merge(exons, left_index=True, right_on='FILE')\n",
    "exons = exons[['FILE', 'ensemblID', 'ID', 'TWAS.Z', 'TWAS.P', \"JOINT.Z\", \"JOINT.P\"]]\n",
    "exons['Type'] = 'Exon'\n",
    "exons.rename(columns={'FILE': 'Feature'}, inplace=True)\n",
    "exons.sort_values('JOINT.P').head(2)"
   ]
  },
  {
   "cell_type": "markdown",
   "metadata": {},
   "source": [
    "#### Junctions"
   ]
  },
  {
   "cell_type": "code",
   "execution_count": 35,
   "metadata": {
    "execution": {
     "iopub.execute_input": "2021-08-31T22:30:09.778802Z",
     "iopub.status.busy": "2021-08-31T22:30:09.777410Z",
     "iopub.status.idle": "2021-08-31T22:30:11.316959Z",
     "shell.execute_reply": "2021-08-31T22:30:11.318037Z"
    }
   },
   "outputs": [
    {
     "name": "stderr",
     "output_type": "stream",
     "text": [
      "/usr/lib/python3.9/site-packages/IPython/core/interactiveshell.py:3146: DtypeWarning: Columns (2) have mixed types.Specify dtype option on import or set low_memory=False.\n",
      "  has_raised = await self.run_ast_nodes(code_ast.body, cell_name,\n"
     ]
    },
    {
     "data": {
      "text/html": [
       "<div>\n",
       "<style scoped>\n",
       "    .dataframe tbody tr th:only-of-type {\n",
       "        vertical-align: middle;\n",
       "    }\n",
       "\n",
       "    .dataframe tbody tr th {\n",
       "        vertical-align: top;\n",
       "    }\n",
       "\n",
       "    .dataframe thead th {\n",
       "        text-align: right;\n",
       "    }\n",
       "</style>\n",
       "<table border=\"1\" class=\"dataframe\">\n",
       "  <thead>\n",
       "    <tr style=\"text-align: right;\">\n",
       "      <th></th>\n",
       "      <th>Feature</th>\n",
       "      <th>ensemblID</th>\n",
       "      <th>ID</th>\n",
       "      <th>TWAS.Z</th>\n",
       "      <th>TWAS.P</th>\n",
       "      <th>JOINT.Z</th>\n",
       "      <th>JOINT.P</th>\n",
       "      <th>Type</th>\n",
       "    </tr>\n",
       "  </thead>\n",
       "  <tbody>\n",
       "    <tr>\n",
       "      <th>158</th>\n",
       "      <td>j121894</td>\n",
       "      <td>ENSG00000186470</td>\n",
       "      <td>BTN3A2</td>\n",
       "      <td>11.715968</td>\n",
       "      <td>1.055787e-31</td>\n",
       "      <td>36.408550</td>\n",
       "      <td>3.117598e-290</td>\n",
       "      <td>Junction</td>\n",
       "    </tr>\n",
       "    <tr>\n",
       "      <th>157</th>\n",
       "      <td>j121892</td>\n",
       "      <td>ENSG00000186470</td>\n",
       "      <td>BTN3A2</td>\n",
       "      <td>9.535201</td>\n",
       "      <td>1.495956e-21</td>\n",
       "      <td>34.610465</td>\n",
       "      <td>1.758359e-262</td>\n",
       "      <td>Junction</td>\n",
       "    </tr>\n",
       "  </tbody>\n",
       "</table>\n",
       "</div>"
      ],
      "text/plain": [
       "     Feature        ensemblID      ID     TWAS.Z        TWAS.P    JOINT.Z  \\\n",
       "158  j121894  ENSG00000186470  BTN3A2  11.715968  1.055787e-31  36.408550   \n",
       "157  j121892  ENSG00000186470  BTN3A2   9.535201  1.495956e-21  34.610465   \n",
       "\n",
       "           JOINT.P      Type  \n",
       "158  3.117598e-290  Junction  \n",
       "157  1.758359e-262  Junction  "
      ]
     },
     "execution_count": 1,
     "metadata": {},
     "output_type": "execute_result"
    }
   ],
   "source": [
    "dj_file = '../../../differential_expression/_m/junctions/diffExpr_szVctl_full.txt'\n",
    "dj = pd.read_csv(dj_file, sep='\\t', index_col=0)\n",
    "dj = dj[['Symbol', 'ensemblID']]\n",
    "\n",
    "jannot_file = '/ceph/projects/v4_phase3_paper/analysis/twas/_m/junctions/jxn_annotation.tsv'\n",
    "jannot = pd.read_csv(jannot_file, sep='\\t', index_col=1)\n",
    "\n",
    "jannot = jannot[['JxnID']]\n",
    "annot = pd.merge(jannot, dj, left_index=True, right_index=True)\n",
    "\n",
    "juncs = pd.read_csv('/ceph/projects/v4_phase3_paper/analysis/twas/'+\\\n",
    "                    'junction_weights/fusion_pgc2/summary_stats/_m/fusion_twas_joint_assoc.txt', sep='\\t')\n",
    "juncs = pd.merge(annot, juncs, left_on='JxnID', right_on='FILE')\n",
    "juncs = juncs[['FILE', 'ensemblID', 'Symbol', 'TWAS.Z', 'TWAS.P', \"JOINT.Z\", \"JOINT.P\"]]\n",
    "juncs['Type'] = 'Junction'\n",
    "juncs.rename(columns={'Symbol': 'ID', 'FILE': 'Feature'}, inplace=True)\n",
    "juncs.sort_values('JOINT.P').head(2)"
   ]
  },
  {
   "cell_type": "markdown",
   "metadata": {},
   "source": [
    "### Feature summary"
   ]
  },
  {
   "cell_type": "code",
   "execution_count": 36,
   "metadata": {
    "execution": {
     "iopub.execute_input": "2021-08-31T22:30:11.328976Z",
     "iopub.status.busy": "2021-08-31T22:30:11.327719Z",
     "iopub.status.idle": "2021-08-31T22:30:11.332935Z",
     "shell.execute_reply": "2021-08-31T22:30:11.331826Z"
    }
   },
   "outputs": [
    {
     "name": "stdout",
     "output_type": "stream",
     "text": [
      "===Unique Features===\n",
      "Gene:\t\t161\n",
      "Transcript:\t214\n",
      "Exon:\t\t247\n",
      "Junction:\t213\n",
      "\n",
      "===Unique Ensembl Gene===\n",
      "Gene:\t\t161\n",
      "Transcript:\t210\n",
      "Exon:\t\t222\n",
      "Junction:\t183\n",
      "\n",
      "===Unique Gene Name===\n",
      "Gene:\t\t161\n",
      "Transcript:\t210\n",
      "Exon:\t\t222\n",
      "Junction:\t183\n",
      "\n"
     ]
    }
   ],
   "source": [
    "gg = len(set(genes['Feature']))\n",
    "tt = len(set(trans['Feature']))\n",
    "ee = len(set(exons['Feature']))\n",
    "jj = len(set(juncs['Feature']))\n",
    "\n",
    "print(\"===Unique Features===\\nGene:\\t\\t%d\\nTranscript:\\t%d\\nExon:\\t\\t%d\\nJunction:\\t%d\\n\" % (gg, tt, ee, jj)) \n",
    "\n",
    "gg = len(set(genes['ensemblID']))\n",
    "tt = len(set(trans['ensemblID']))\n",
    "ee = len(set(exons['ensemblID']))\n",
    "jj = len(set(juncs['ensemblID']))\n",
    "\n",
    "print(\"===Unique Ensembl Gene===\\nGene:\\t\\t%d\\nTranscript:\\t%d\\nExon:\\t\\t%d\\nJunction:\\t%d\\n\" % (gg, tt, ee, jj)) \n",
    "\n",
    "gg = len(set(genes['ID']))\n",
    "tt = len(set(trans['ID']))\n",
    "ee = len(set(exons['ID']))\n",
    "jj = len(set(juncs['ID']))\n",
    "\n",
    "print(\"===Unique Gene Name===\\nGene:\\t\\t%d\\nTranscript:\\t%d\\nExon:\\t\\t%d\\nJunction:\\t%d\\n\" % (gg, tt, ee, jj)) "
   ]
  },
  {
   "cell_type": "markdown",
   "metadata": {},
   "source": [
    "### Overlap"
   ]
  },
  {
   "cell_type": "code",
   "execution_count": 37,
   "metadata": {
    "execution": {
     "iopub.execute_input": "2021-08-31T22:30:11.341733Z",
     "iopub.status.busy": "2021-08-31T22:30:11.340423Z",
     "iopub.status.idle": "2021-08-31T22:30:11.346549Z",
     "shell.execute_reply": "2021-08-31T22:30:11.345296Z"
    }
   },
   "outputs": [
    {
     "name": "stdout",
     "output_type": "stream",
     "text": [
      "Comparing Genes with Transcripts: 28.10%\n",
      "Features in common: 59\n",
      "Comparing Genes with Junctions: 25.68%\n",
      "Features in common: 47\n",
      "Comparing Exons with Genes: 47.83%\n",
      "Features in common: 77\n",
      "\n",
      "\n",
      "Comparing Transcripts with Junctions: 27.87%\n",
      "Features in common: 51\n",
      "Comparing Exons with Transcripts: 32.38%\n",
      "Features in common: 68\n",
      "Comparing Exons with Junctions: 41.53%\n",
      "Features in common: 76\n"
     ]
    }
   ],
   "source": [
    "features = {\n",
    "    'Genes': set(genes['ensemblID']),\n",
    "    'Transcripts': set(trans['ensemblID']),\n",
    "    'Exons': set(exons['ensemblID']),\n",
    "    'Junctions': set(juncs['ensemblID']),\n",
    "}\n",
    "\n",
    "limiting_features(features, 'Genes', 'Transcripts')\n",
    "limiting_features(features, 'Genes', 'Junctions')\n",
    "limiting_features(features, 'Exons', 'Genes')\n",
    "print(\"\\n\")\n",
    "limiting_features(features, 'Transcripts', 'Junctions')\n",
    "limiting_features(features, 'Exons', 'Transcripts')\n",
    "limiting_features(features, 'Exons', 'Junctions')"
   ]
  },
  {
   "cell_type": "code",
   "execution_count": 38,
   "metadata": {
    "execution": {
     "iopub.execute_input": "2021-08-31T22:30:11.352341Z",
     "iopub.status.busy": "2021-08-31T22:30:11.351460Z",
     "iopub.status.idle": "2021-08-31T22:30:11.354488Z",
     "shell.execute_reply": "2021-08-31T22:30:11.355405Z"
    }
   },
   "outputs": [
    {
     "data": {
      "text/plain": [
       "23"
      ]
     },
     "execution_count": 1,
     "metadata": {},
     "output_type": "execute_result"
    }
   ],
   "source": [
    "len(features['Genes'] & features['Transcripts'] & features['Exons'] & features['Junctions'])"
   ]
  },
  {
   "cell_type": "code",
   "execution_count": 39,
   "metadata": {
    "execution": {
     "iopub.execute_input": "2021-08-31T22:30:11.362276Z",
     "iopub.status.busy": "2021-08-31T22:30:11.360921Z",
     "iopub.status.idle": "2021-08-31T22:30:11.366793Z",
     "shell.execute_reply": "2021-08-31T22:30:11.365567Z"
    }
   },
   "outputs": [
    {
     "data": {
      "text/plain": [
       "513"
      ]
     },
     "execution_count": 1,
     "metadata": {},
     "output_type": "execute_result"
    }
   ],
   "source": [
    "len(features['Genes'] | features['Transcripts'] | features['Exons'] | features['Junctions'])"
   ]
  },
  {
   "cell_type": "code",
   "execution_count": 40,
   "metadata": {
    "execution": {
     "iopub.execute_input": "2021-08-31T22:30:11.377640Z",
     "iopub.status.busy": "2021-08-31T22:30:11.374761Z",
     "iopub.status.idle": "2021-08-31T22:30:11.403930Z",
     "shell.execute_reply": "2021-08-31T22:30:11.402559Z"
    }
   },
   "outputs": [],
   "source": [
    "pd.concat([genes, trans, exons, juncs], axis=0).to_csv(\"BrainSeq_caudate_TWAS_joint_analysis.tsv\", \n",
    "                                                       sep='\\t', index=False)"
   ]
  },
  {
   "cell_type": "markdown",
   "metadata": {},
   "source": [
    "## Session Information"
   ]
  },
  {
   "cell_type": "code",
   "execution_count": 41,
   "metadata": {
    "execution": {
     "iopub.execute_input": "2021-08-31T22:30:11.443919Z",
     "iopub.status.busy": "2021-08-31T22:30:11.442859Z",
     "iopub.status.idle": "2021-08-31T22:30:12.272157Z",
     "shell.execute_reply": "2021-08-31T22:30:12.270993Z"
    }
   },
   "outputs": [],
   "source": [
    "import types\n",
    "from IPython import sys_info\n",
    "\n",
    "def imports():\n",
    "    for name, val in globals().items():\n",
    "        if isinstance(val, types.ModuleType):\n",
    "            yield val.__name__\n",
    "\n",
    "#exclude all modules not listed by `!pip freeze`\n",
    "excludes = ['__builtin__', 'types', 'IPython.core.shadowns', 'sys', 'os']\n",
    "function_modules = []\n",
    "imported_modules = [module for module in imports() if module not in excludes] + function_modules\n",
    "pip_modules = !pip freeze #you could also use `!conda list` with anaconda"
   ]
  },
  {
   "cell_type": "code",
   "execution_count": 42,
   "metadata": {
    "execution": {
     "iopub.execute_input": "2021-08-31T22:30:12.329186Z",
     "iopub.status.busy": "2021-08-31T22:30:12.327889Z",
     "iopub.status.idle": "2021-08-31T22:30:12.512654Z",
     "shell.execute_reply": "2021-08-31T22:30:12.513805Z"
    }
   },
   "outputs": [
    {
     "name": "stdout",
     "output_type": "stream",
     "text": [
      "{'commit_hash': '<not found>',\n",
      " 'commit_source': '(none found)',\n",
      " 'default_encoding': 'utf-8',\n",
      " 'ipython_path': '/usr/lib/python3.9/site-packages/IPython',\n",
      " 'ipython_version': '7.19.0',\n",
      " 'os_name': 'posix',\n",
      " 'platform': 'Linux-5.10.14-arch1-1-x86_64-with-glibc2.33',\n",
      " 'sys_executable': '/usr/bin/python',\n",
      " 'sys_platform': 'linux',\n",
      " 'sys_version': '3.9.1 (default, Feb  6 2021, 06:49:13) \\n[GCC 10.2.0]'}\n",
      "\n",
      "Imported Modules:\n",
      "pandas:\t1.1.5\n"
     ]
    }
   ],
   "source": [
    "print(sys_info())\n",
    "#print the names and versions of the imported modules\n",
    "print(\"\\nImported Modules:\")\n",
    "for module in pip_modules[2:]:\n",
    "    name, version = module.split('==')\n",
    "    if name in imported_modules:\n",
    "        print(name + ':\\t' + version)"
   ]
  }
 ],
 "metadata": {
  "kernelspec": {
   "display_name": "Python 3",
   "language": "python",
   "name": "python3"
  },
  "language_info": {
   "codemirror_mode": {
    "name": "ipython",
    "version": 3
   },
   "file_extension": ".py",
   "mimetype": "text/x-python",
   "name": "python",
   "nbconvert_exporter": "python",
   "pygments_lexer": "ipython3",
   "version": "3.9.1"
  }
 },
 "nbformat": 4,
 "nbformat_minor": 4
}
