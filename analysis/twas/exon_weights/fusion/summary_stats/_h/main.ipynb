{
 "cells": [
  {
   "cell_type": "markdown",
   "metadata": {},
   "source": [
    "# Summary of TWAS"
   ]
  },
  {
   "cell_type": "code",
   "execution_count": 7,
   "metadata": {},
   "outputs": [],
   "source": [
    "import numpy as np\n",
    "import pandas as pd\n",
    "from glob import iglob\n",
    "from scipy.stats import fisher_exact\n",
    "from statsmodels.stats.multitest import multipletests"
   ]
  },
  {
   "cell_type": "markdown",
   "metadata": {},
   "source": [
    "## Load PGC2"
   ]
  },
  {
   "cell_type": "code",
   "execution_count": 2,
   "metadata": {},
   "outputs": [
    {
     "name": "stderr",
     "output_type": "stream",
     "text": [
      "/home/jbenja13/.local/lib/python3.6/site-packages/numpy/lib/arraysetops.py:569: FutureWarning: elementwise comparison failed; returning scalar instead, but in the future will perform elementwise comparison\n",
      "  mask |= (ar1 == a)\n"
     ]
    }
   ],
   "source": [
    "pgc2_file = '../../../../../../inputs/gwas/PGC2_CLOZUK/map_phase3/_m/libd_hg38_pggc2sz_snps.tsv'\n",
    "pgc2_df = pd.read_csv(pgc2_file, sep='\\t', low_memory=False, index_col=0)"
   ]
  },
  {
   "cell_type": "code",
   "execution_count": 10,
   "metadata": {},
   "outputs": [
    {
     "data": {
      "text/plain": [
       "(4150, 22)"
      ]
     },
     "execution_count": 10,
     "metadata": {},
     "output_type": "execute_result"
    }
   ],
   "source": [
    "li = []\n",
    "\n",
    "for filename in iglob(\"../../_m/*.dat*\"):\n",
    "    li.append(pd.read_csv(filename, sep='\\t'))\n",
    "\n",
    "df = pd.concat(li, axis=0, ignore_index=True).drop(['PANEL'], axis=1)\n",
    "df['FILE'] = df.FILE.str.replace('../../_m/WEIGHTS/twas_gene_expression.', '')\n",
    "df['FILE'] = df.FILE.str.replace('\\\\..*', '')\n",
    "df.shape"
   ]
  },
  {
   "cell_type": "code",
   "execution_count": 11,
   "metadata": {},
   "outputs": [
    {
     "data": {
      "text/html": [
       "<div>\n",
       "<style scoped>\n",
       "    .dataframe tbody tr th:only-of-type {\n",
       "        vertical-align: middle;\n",
       "    }\n",
       "\n",
       "    .dataframe tbody tr th {\n",
       "        vertical-align: top;\n",
       "    }\n",
       "\n",
       "    .dataframe thead th {\n",
       "        text-align: right;\n",
       "    }\n",
       "</style>\n",
       "<table border=\"1\" class=\"dataframe\">\n",
       "  <thead>\n",
       "    <tr style=\"text-align: right;\">\n",
       "      <th></th>\n",
       "      <th>FILE</th>\n",
       "      <th>ID</th>\n",
       "      <th>CHR</th>\n",
       "      <th>P0</th>\n",
       "      <th>P1</th>\n",
       "    </tr>\n",
       "  </thead>\n",
       "  <tbody>\n",
       "    <tr>\n",
       "      <th>0</th>\n",
       "      <td>ENSG00000000457</td>\n",
       "      <td>SCYL3</td>\n",
       "      <td>1</td>\n",
       "      <td>169849631</td>\n",
       "      <td>169894267.0</td>\n",
       "    </tr>\n",
       "    <tr>\n",
       "      <th>1</th>\n",
       "      <td>ENSG00000000460</td>\n",
       "      <td>C1orf112</td>\n",
       "      <td>1</td>\n",
       "      <td>169662007</td>\n",
       "      <td>169854080.0</td>\n",
       "    </tr>\n",
       "  </tbody>\n",
       "</table>\n",
       "</div>"
      ],
      "text/plain": [
       "              FILE        ID  CHR         P0           P1\n",
       "0  ENSG00000000457     SCYL3    1  169849631  169894267.0\n",
       "1  ENSG00000000460  C1orf112    1  169662007  169854080.0"
      ]
     },
     "execution_count": 11,
     "metadata": {},
     "output_type": "execute_result"
    }
   ],
   "source": [
    "df.iloc[0:2, 0:5]"
   ]
  },
  {
   "cell_type": "code",
   "execution_count": 12,
   "metadata": {},
   "outputs": [
    {
     "data": {
      "text/plain": [
       "(4103, 22)"
      ]
     },
     "execution_count": 12,
     "metadata": {},
     "output_type": "execute_result"
    }
   ],
   "source": [
    "df = df[~(df['TWAS.P'].isna())].copy() # Drop NAs\n",
    "df.shape"
   ]
  },
  {
   "cell_type": "code",
   "execution_count": 13,
   "metadata": {},
   "outputs": [
    {
     "data": {
      "text/html": [
       "<div>\n",
       "<style scoped>\n",
       "    .dataframe tbody tr th:only-of-type {\n",
       "        vertical-align: middle;\n",
       "    }\n",
       "\n",
       "    .dataframe tbody tr th {\n",
       "        vertical-align: top;\n",
       "    }\n",
       "\n",
       "    .dataframe thead th {\n",
       "        text-align: right;\n",
       "    }\n",
       "</style>\n",
       "<table border=\"1\" class=\"dataframe\">\n",
       "  <thead>\n",
       "    <tr style=\"text-align: right;\">\n",
       "      <th></th>\n",
       "      <th>FILE</th>\n",
       "      <th>ID</th>\n",
       "      <th>CHR</th>\n",
       "      <th>P0</th>\n",
       "      <th>P1</th>\n",
       "      <th>HSQ</th>\n",
       "      <th>BEST.GWAS.ID</th>\n",
       "      <th>BEST.GWAS.Z</th>\n",
       "      <th>EQTL.ID</th>\n",
       "      <th>EQTL.R2</th>\n",
       "      <th>...</th>\n",
       "      <th>MODEL</th>\n",
       "      <th>MODELCV.R2</th>\n",
       "      <th>MODELCV.PV</th>\n",
       "      <th>TWAS.Z</th>\n",
       "      <th>TWAS.P</th>\n",
       "      <th>PERM.PV</th>\n",
       "      <th>PERM.N</th>\n",
       "      <th>PERM.ANL_PV</th>\n",
       "      <th>FDR</th>\n",
       "      <th>Bonferroni</th>\n",
       "    </tr>\n",
       "  </thead>\n",
       "  <tbody>\n",
       "    <tr>\n",
       "      <th>0</th>\n",
       "      <td>ENSG00000000457</td>\n",
       "      <td>SCYL3</td>\n",
       "      <td>1</td>\n",
       "      <td>169849631</td>\n",
       "      <td>169894267.0</td>\n",
       "      <td>0.101393</td>\n",
       "      <td>rs3917423</td>\n",
       "      <td>2.782</td>\n",
       "      <td>rs12128308:169876994:G:A</td>\n",
       "      <td>0.017842</td>\n",
       "      <td>...</td>\n",
       "      <td>bslmm</td>\n",
       "      <td>0.032921</td>\n",
       "      <td>1.730705e-04</td>\n",
       "      <td>0.665158</td>\n",
       "      <td>0.505949</td>\n",
       "      <td>0.0</td>\n",
       "      <td>0</td>\n",
       "      <td>0.0</td>\n",
       "      <td>0.784871</td>\n",
       "      <td>1.0</td>\n",
       "    </tr>\n",
       "    <tr>\n",
       "      <th>1</th>\n",
       "      <td>ENSG00000000460</td>\n",
       "      <td>C1orf112</td>\n",
       "      <td>1</td>\n",
       "      <td>169662007</td>\n",
       "      <td>169854080.0</td>\n",
       "      <td>0.210605</td>\n",
       "      <td>rs3917423</td>\n",
       "      <td>2.782</td>\n",
       "      <td>rs1062976</td>\n",
       "      <td>0.121327</td>\n",
       "      <td>...</td>\n",
       "      <td>enet</td>\n",
       "      <td>0.133235</td>\n",
       "      <td>4.407639e-14</td>\n",
       "      <td>-0.319099</td>\n",
       "      <td>0.749652</td>\n",
       "      <td>0.0</td>\n",
       "      <td>0</td>\n",
       "      <td>0.0</td>\n",
       "      <td>0.907054</td>\n",
       "      <td>1.0</td>\n",
       "    </tr>\n",
       "    <tr>\n",
       "      <th>2</th>\n",
       "      <td>ENSG00000000971</td>\n",
       "      <td>CFH</td>\n",
       "      <td>1</td>\n",
       "      <td>196651878</td>\n",
       "      <td>196747504.0</td>\n",
       "      <td>0.077378</td>\n",
       "      <td>rs7524776</td>\n",
       "      <td>-4.151</td>\n",
       "      <td>rs3855964</td>\n",
       "      <td>0.089495</td>\n",
       "      <td>...</td>\n",
       "      <td>lasso</td>\n",
       "      <td>0.083702</td>\n",
       "      <td>5.047200e-09</td>\n",
       "      <td>1.160000</td>\n",
       "      <td>0.246049</td>\n",
       "      <td>0.0</td>\n",
       "      <td>0</td>\n",
       "      <td>0.0</td>\n",
       "      <td>0.564313</td>\n",
       "      <td>1.0</td>\n",
       "    </tr>\n",
       "    <tr>\n",
       "      <th>3</th>\n",
       "      <td>ENSG00000001460</td>\n",
       "      <td>STPG1</td>\n",
       "      <td>1</td>\n",
       "      <td>24356999</td>\n",
       "      <td>24416934.0</td>\n",
       "      <td>0.328272</td>\n",
       "      <td>rs12401982</td>\n",
       "      <td>3.549</td>\n",
       "      <td>rs10489442</td>\n",
       "      <td>0.157484</td>\n",
       "      <td>...</td>\n",
       "      <td>bslmm</td>\n",
       "      <td>0.235684</td>\n",
       "      <td>6.604533e-24</td>\n",
       "      <td>1.438387</td>\n",
       "      <td>0.150324</td>\n",
       "      <td>0.0</td>\n",
       "      <td>0</td>\n",
       "      <td>0.0</td>\n",
       "      <td>0.431315</td>\n",
       "      <td>1.0</td>\n",
       "    </tr>\n",
       "    <tr>\n",
       "      <th>4</th>\n",
       "      <td>ENSG00000001461</td>\n",
       "      <td>NIPAL3</td>\n",
       "      <td>1</td>\n",
       "      <td>24415794</td>\n",
       "      <td>24472976.0</td>\n",
       "      <td>0.219004</td>\n",
       "      <td>rs12401982</td>\n",
       "      <td>3.549</td>\n",
       "      <td>rs576096</td>\n",
       "      <td>-0.000903</td>\n",
       "      <td>...</td>\n",
       "      <td>bslmm</td>\n",
       "      <td>0.046410</td>\n",
       "      <td>1.254019e-05</td>\n",
       "      <td>1.612549</td>\n",
       "      <td>0.106843</td>\n",
       "      <td>0.0</td>\n",
       "      <td>0</td>\n",
       "      <td>0.0</td>\n",
       "      <td>0.353528</td>\n",
       "      <td>1.0</td>\n",
       "    </tr>\n",
       "  </tbody>\n",
       "</table>\n",
       "<p>5 rows × 24 columns</p>\n",
       "</div>"
      ],
      "text/plain": [
       "              FILE        ID  CHR         P0           P1       HSQ  \\\n",
       "0  ENSG00000000457     SCYL3    1  169849631  169894267.0  0.101393   \n",
       "1  ENSG00000000460  C1orf112    1  169662007  169854080.0  0.210605   \n",
       "2  ENSG00000000971       CFH    1  196651878  196747504.0  0.077378   \n",
       "3  ENSG00000001460     STPG1    1   24356999   24416934.0  0.328272   \n",
       "4  ENSG00000001461    NIPAL3    1   24415794   24472976.0  0.219004   \n",
       "\n",
       "  BEST.GWAS.ID  BEST.GWAS.Z                   EQTL.ID   EQTL.R2  ...  MODEL  \\\n",
       "0    rs3917423        2.782  rs12128308:169876994:G:A  0.017842  ...  bslmm   \n",
       "1    rs3917423        2.782                 rs1062976  0.121327  ...   enet   \n",
       "2    rs7524776       -4.151                 rs3855964  0.089495  ...  lasso   \n",
       "3   rs12401982        3.549                rs10489442  0.157484  ...  bslmm   \n",
       "4   rs12401982        3.549                  rs576096 -0.000903  ...  bslmm   \n",
       "\n",
       "   MODELCV.R2    MODELCV.PV    TWAS.Z    TWAS.P  PERM.PV  PERM.N  PERM.ANL_PV  \\\n",
       "0    0.032921  1.730705e-04  0.665158  0.505949      0.0       0          0.0   \n",
       "1    0.133235  4.407639e-14 -0.319099  0.749652      0.0       0          0.0   \n",
       "2    0.083702  5.047200e-09  1.160000  0.246049      0.0       0          0.0   \n",
       "3    0.235684  6.604533e-24  1.438387  0.150324      0.0       0          0.0   \n",
       "4    0.046410  1.254019e-05  1.612549  0.106843      0.0       0          0.0   \n",
       "\n",
       "        FDR  Bonferroni  \n",
       "0  0.784871         1.0  \n",
       "1  0.907054         1.0  \n",
       "2  0.564313         1.0  \n",
       "3  0.431315         1.0  \n",
       "4  0.353528         1.0  \n",
       "\n",
       "[5 rows x 24 columns]"
      ]
     },
     "execution_count": 13,
     "metadata": {},
     "output_type": "execute_result"
    }
   ],
   "source": [
    "pv1 = multipletests(df.loc[:, 'TWAS.P'], method='fdr_bh')\n",
    "pv2 = multipletests(df.loc[:, 'TWAS.P'], method='bonferroni')\n",
    "df['FDR'] = pv1[1]\n",
    "df['Bonferroni'] = pv2[1]\n",
    "df.head()"
   ]
  },
  {
   "cell_type": "code",
   "execution_count": 5,
   "metadata": {},
   "outputs": [
    {
     "name": "stderr",
     "output_type": "stream",
     "text": [
      "/home/jbenja13/.local/lib/python3.6/site-packages/statsmodels/stats/multitest.py:147: RuntimeWarning: invalid value encountered in less_equal\n",
      "  reject = pvals <= alphacBonf\n",
      "/home/jbenja13/.local/lib/python3.6/site-packages/statsmodels/stats/multitest.py:251: RuntimeWarning: invalid value encountered in greater\n",
      "  pvals_corrected[pvals_corrected>1] = 1\n"
     ]
    }
   ],
   "source": [
    "df.to_csv(\"fusion_associations.txt\", sep=\"\\t\", index=False)"
   ]
  },
  {
   "cell_type": "code",
   "execution_count": 23,
   "metadata": {},
   "outputs": [
    {
     "name": "stdout",
     "output_type": "stream",
     "text": [
      "There are 905 transcripts with significant p-values.\n",
      "There are 389 transcripts with significant FDR.\n",
      "There are 101 transcripts with significant Bonferroni.\n"
     ]
    }
   ],
   "source": [
    "print(\"There are %d transcripts with significant p-values.\" % np.sum(df['TWAS.P'] <= 0.05))\n",
    "print(\"There are %d transcripts with significant FDR.\" % np.sum(df['FDR'] <= 0.05))\n",
    "print(\"There are %d transcripts with significant Bonferroni.\" % np.sum(df['Bonferroni'] <= 0.05))"
   ]
  },
  {
   "cell_type": "code",
   "execution_count": 15,
   "metadata": {},
   "outputs": [
    {
     "data": {
      "text/plain": [
       "(4103, 46)"
      ]
     },
     "execution_count": 15,
     "metadata": {},
     "output_type": "execute_result"
    }
   ],
   "source": [
    "dft = pd.merge(df, pgc2_df, left_on='BEST.GWAS.ID', right_on='our_snp_id', suffixes=['_TWAS', '_PGC2'])\n",
    "dft.shape"
   ]
  },
  {
   "cell_type": "code",
   "execution_count": 16,
   "metadata": {},
   "outputs": [
    {
     "name": "stdout",
     "output_type": "stream",
     "text": [
      "[[189, 168], [716, 3030]]\n"
     ]
    },
    {
     "data": {
      "text/plain": [
       "(4.760824022346369, 5.120710830232514e-41)"
      ]
     },
     "execution_count": 16,
     "metadata": {},
     "output_type": "execute_result"
    }
   ],
   "source": [
    "table =  [[np.sum((dft['P']<5e-8) & ((dft['TWAS.P']<.05))),\n",
    "           np.sum((dft['P']<5e-8) & ((dft['TWAS.P']>=.05)))],\n",
    "          [np.sum((dft['P']>=5e-8) & ((dft['TWAS.P']<.05))),\n",
    "           np.sum((dft['P']>=5e-8) & ((dft['TWAS.P']>=.05)))]]\n",
    "print(table)\n",
    "fisher_exact(table)"
   ]
  },
  {
   "cell_type": "code",
   "execution_count": 17,
   "metadata": {},
   "outputs": [
    {
     "name": "stdout",
     "output_type": "stream",
     "text": [
      "[[140, 217], [249, 3497]]\n"
     ]
    },
    {
     "data": {
      "text/plain": [
       "(9.060759165695039, 3.666137567103334e-59)"
      ]
     },
     "execution_count": 17,
     "metadata": {},
     "output_type": "execute_result"
    }
   ],
   "source": [
    "table =  [[np.sum((dft['P']<5e-8) & ((dft['FDR']<.05))),\n",
    "           np.sum((dft['P']<5e-8) & ((dft['FDR']>=.05)))],\n",
    "          [np.sum((dft['P']>=5e-8) & ((dft['FDR']<.05))),\n",
    "           np.sum((dft['P']>=5e-8) & ((dft['FDR']>=.05)))]]\n",
    "print(table)\n",
    "fisher_exact(table)"
   ]
  },
  {
   "cell_type": "code",
   "execution_count": 18,
   "metadata": {},
   "outputs": [
    {
     "name": "stdout",
     "output_type": "stream",
     "text": [
      "[[85, 272], [16, 3730]]\n"
     ]
    },
    {
     "data": {
      "text/plain": [
       "(72.8515625, 1.7079536902471683e-77)"
      ]
     },
     "execution_count": 18,
     "metadata": {},
     "output_type": "execute_result"
    }
   ],
   "source": [
    "table =  [[np.sum((dft['P']<5e-8) & ((dft['Bonferroni']<.05))),\n",
    "           np.sum((dft['P']<5e-8) & ((dft['Bonferroni']>=.05)))],\n",
    "          [np.sum((dft['P']>=5e-8) & ((dft['Bonferroni']<.05))),\n",
    "           np.sum((dft['P']>=5e-8) & ((dft['Bonferroni']>=.05)))]]\n",
    "print(table)\n",
    "fisher_exact(table)"
   ]
  },
  {
   "cell_type": "code",
   "execution_count": 19,
   "metadata": {},
   "outputs": [
    {
     "name": "stdout",
     "output_type": "stream",
     "text": [
      "There are 100.00% overlap between PGC2 and TWAS.\n",
      "There are 11.90% overlap between significant PGC2 and TWAS.\n",
      "There are 459 novel unique SNPs associations with SZ.\n"
     ]
    }
   ],
   "source": [
    "twas = df[(df['TWAS.P'] <= 0.05)].copy()\n",
    "\n",
    "snps_twas = set(pgc2_df['our_snp_id']) & set(twas['BEST.GWAS.ID'])\n",
    "snps_pgc2 = set(pgc2_df[(pgc2_df['P']<5e-8)].loc[:,'our_snp_id']) & set(twas['BEST.GWAS.ID'])\n",
    "overlap = len(snps_twas)\n",
    "overlap_sig = len(snps_pgc2)\n",
    "\n",
    "print('There are %0.2f%% overlap between PGC2 and TWAS.' % \n",
    "      (overlap/len(twas.loc[:, 'BEST.GWAS.ID'].unique()) * 100))\n",
    "print('There are %0.2f%% overlap between significant PGC2 and TWAS.' % \n",
    "      (overlap_sig/len(twas.loc[:, 'BEST.GWAS.ID'].unique())* 100))\n",
    "print(\"There are %d novel unique SNPs associations with SZ.\" % \n",
    "      (overlap - overlap_sig))"
   ]
  },
  {
   "cell_type": "code",
   "execution_count": 20,
   "metadata": {},
   "outputs": [
    {
     "data": {
      "text/html": [
       "<div>\n",
       "<style scoped>\n",
       "    .dataframe tbody tr th:only-of-type {\n",
       "        vertical-align: middle;\n",
       "    }\n",
       "\n",
       "    .dataframe tbody tr th {\n",
       "        vertical-align: top;\n",
       "    }\n",
       "\n",
       "    .dataframe thead th {\n",
       "        text-align: right;\n",
       "    }\n",
       "</style>\n",
       "<table border=\"1\" class=\"dataframe\">\n",
       "  <thead>\n",
       "    <tr style=\"text-align: right;\">\n",
       "      <th></th>\n",
       "      <th>BEST.GWAS.ID</th>\n",
       "      <th>ID</th>\n",
       "      <th>FILE</th>\n",
       "      <th>CHR</th>\n",
       "      <th>TWAS.Z</th>\n",
       "      <th>TWAS.P</th>\n",
       "      <th>FDR</th>\n",
       "      <th>Bonferroni</th>\n",
       "    </tr>\n",
       "  </thead>\n",
       "  <tbody>\n",
       "    <tr>\n",
       "      <th>0</th>\n",
       "      <td>rs2106246</td>\n",
       "      <td>EARS2</td>\n",
       "      <td>ENSG00000103356</td>\n",
       "      <td>16</td>\n",
       "      <td>2.024992</td>\n",
       "      <td>0.042868</td>\n",
       "      <td>0.208152</td>\n",
       "      <td>1.000000</td>\n",
       "    </tr>\n",
       "    <tr>\n",
       "      <th>1</th>\n",
       "      <td>rs2106246</td>\n",
       "      <td>NaN</td>\n",
       "      <td>ENSG00000260136</td>\n",
       "      <td>16</td>\n",
       "      <td>-2.463370</td>\n",
       "      <td>0.013764</td>\n",
       "      <td>0.101387</td>\n",
       "      <td>1.000000</td>\n",
       "    </tr>\n",
       "    <tr>\n",
       "      <th>2</th>\n",
       "      <td>rs8072032</td>\n",
       "      <td>DHX33</td>\n",
       "      <td>ENSG00000005100</td>\n",
       "      <td>17</td>\n",
       "      <td>-2.843833</td>\n",
       "      <td>0.004457</td>\n",
       "      <td>0.047752</td>\n",
       "      <td>1.000000</td>\n",
       "    </tr>\n",
       "    <tr>\n",
       "      <th>3</th>\n",
       "      <td>rs8072032</td>\n",
       "      <td>RABEP1</td>\n",
       "      <td>ENSG00000029725</td>\n",
       "      <td>17</td>\n",
       "      <td>-3.798113</td>\n",
       "      <td>0.000146</td>\n",
       "      <td>0.003670</td>\n",
       "      <td>0.598224</td>\n",
       "    </tr>\n",
       "    <tr>\n",
       "      <th>4</th>\n",
       "      <td>rs8072032</td>\n",
       "      <td>ENO3</td>\n",
       "      <td>ENSG00000108515</td>\n",
       "      <td>17</td>\n",
       "      <td>-2.421235</td>\n",
       "      <td>0.015468</td>\n",
       "      <td>0.109800</td>\n",
       "      <td>1.000000</td>\n",
       "    </tr>\n",
       "  </tbody>\n",
       "</table>\n",
       "</div>"
      ],
      "text/plain": [
       "  BEST.GWAS.ID      ID             FILE  CHR    TWAS.Z    TWAS.P       FDR  \\\n",
       "0    rs2106246   EARS2  ENSG00000103356   16  2.024992  0.042868  0.208152   \n",
       "1    rs2106246     NaN  ENSG00000260136   16 -2.463370  0.013764  0.101387   \n",
       "2    rs8072032   DHX33  ENSG00000005100   17 -2.843833  0.004457  0.047752   \n",
       "3    rs8072032  RABEP1  ENSG00000029725   17 -3.798113  0.000146  0.003670   \n",
       "4    rs8072032    ENO3  ENSG00000108515   17 -2.421235  0.015468  0.109800   \n",
       "\n",
       "   Bonferroni  \n",
       "0    1.000000  \n",
       "1    1.000000  \n",
       "2    1.000000  \n",
       "3    0.598224  \n",
       "4    1.000000  "
      ]
     },
     "execution_count": 20,
     "metadata": {},
     "output_type": "execute_result"
    }
   ],
   "source": [
    "new_df = twas.set_index('BEST.GWAS.ID').loc[snps_twas - snps_pgc2, ['ID', 'FILE', 'CHR', 'TWAS.Z', 'TWAS.P', 'FDR', 'Bonferroni']].reset_index()\n",
    "new_df.head()"
   ]
  },
  {
   "cell_type": "code",
   "execution_count": 21,
   "metadata": {},
   "outputs": [
    {
     "data": {
      "text/html": [
       "<div>\n",
       "<style scoped>\n",
       "    .dataframe tbody tr th:only-of-type {\n",
       "        vertical-align: middle;\n",
       "    }\n",
       "\n",
       "    .dataframe tbody tr th {\n",
       "        vertical-align: top;\n",
       "    }\n",
       "\n",
       "    .dataframe thead th {\n",
       "        text-align: right;\n",
       "    }\n",
       "</style>\n",
       "<table border=\"1\" class=\"dataframe\">\n",
       "  <thead>\n",
       "    <tr style=\"text-align: right;\">\n",
       "      <th></th>\n",
       "      <th>BEST.GWAS.ID</th>\n",
       "      <th>ID</th>\n",
       "      <th>FILE</th>\n",
       "      <th>CHR</th>\n",
       "      <th>TWAS.Z</th>\n",
       "      <th>TWAS.P</th>\n",
       "      <th>FDR</th>\n",
       "      <th>Bonferroni</th>\n",
       "    </tr>\n",
       "  </thead>\n",
       "  <tbody>\n",
       "    <tr>\n",
       "      <th>8</th>\n",
       "      <td>rs4888256</td>\n",
       "      <td>GLG1</td>\n",
       "      <td>ENSG00000090863</td>\n",
       "      <td>16</td>\n",
       "      <td>4.403143</td>\n",
       "      <td>1.066939e-05</td>\n",
       "      <td>0.000447</td>\n",
       "      <td>0.043777</td>\n",
       "    </tr>\n",
       "    <tr>\n",
       "      <th>40</th>\n",
       "      <td>rs1428122</td>\n",
       "      <td>FAM114A2</td>\n",
       "      <td>ENSG00000055147</td>\n",
       "      <td>5</td>\n",
       "      <td>-5.218479</td>\n",
       "      <td>1.803981e-07</td>\n",
       "      <td>0.000012</td>\n",
       "      <td>0.000740</td>\n",
       "    </tr>\n",
       "    <tr>\n",
       "      <th>52</th>\n",
       "      <td>rs6695327</td>\n",
       "      <td>ANKRD45</td>\n",
       "      <td>ENSG00000183831</td>\n",
       "      <td>1</td>\n",
       "      <td>4.803447</td>\n",
       "      <td>1.559575e-06</td>\n",
       "      <td>0.000086</td>\n",
       "      <td>0.006399</td>\n",
       "    </tr>\n",
       "    <tr>\n",
       "      <th>252</th>\n",
       "      <td>rs200448</td>\n",
       "      <td>DNAJC11</td>\n",
       "      <td>ENSG00000007923</td>\n",
       "      <td>1</td>\n",
       "      <td>-5.084607</td>\n",
       "      <td>3.683884e-07</td>\n",
       "      <td>0.000024</td>\n",
       "      <td>0.001511</td>\n",
       "    </tr>\n",
       "    <tr>\n",
       "      <th>253</th>\n",
       "      <td>rs200448</td>\n",
       "      <td>KLHL21</td>\n",
       "      <td>ENSG00000162413</td>\n",
       "      <td>1</td>\n",
       "      <td>4.597465</td>\n",
       "      <td>4.276621e-06</td>\n",
       "      <td>0.000206</td>\n",
       "      <td>0.017547</td>\n",
       "    </tr>\n",
       "  </tbody>\n",
       "</table>\n",
       "</div>"
      ],
      "text/plain": [
       "    BEST.GWAS.ID        ID             FILE  CHR    TWAS.Z        TWAS.P  \\\n",
       "8      rs4888256      GLG1  ENSG00000090863   16  4.403143  1.066939e-05   \n",
       "40     rs1428122  FAM114A2  ENSG00000055147    5 -5.218479  1.803981e-07   \n",
       "52     rs6695327   ANKRD45  ENSG00000183831    1  4.803447  1.559575e-06   \n",
       "252     rs200448   DNAJC11  ENSG00000007923    1 -5.084607  3.683884e-07   \n",
       "253     rs200448    KLHL21  ENSG00000162413    1  4.597465  4.276621e-06   \n",
       "\n",
       "          FDR  Bonferroni  \n",
       "8    0.000447    0.043777  \n",
       "40   0.000012    0.000740  \n",
       "52   0.000086    0.006399  \n",
       "252  0.000024    0.001511  \n",
       "253  0.000206    0.017547  "
      ]
     },
     "execution_count": 21,
     "metadata": {},
     "output_type": "execute_result"
    }
   ],
   "source": [
    "new_df[(new_df['Bonferroni'] <= 0.05)].head()"
   ]
  },
  {
   "cell_type": "markdown",
   "metadata": {},
   "source": [
    "## Joint analysis"
   ]
  },
  {
   "cell_type": "code",
   "execution_count": 22,
   "metadata": {},
   "outputs": [
    {
     "data": {
      "text/plain": [
       "(93, 8)"
      ]
     },
     "execution_count": 22,
     "metadata": {},
     "output_type": "execute_result"
    }
   ],
   "source": [
    "li = []\n",
    "\n",
    "for filename in iglob(\"../../_m/sig_analysis/*included.dat\"):\n",
    "    li.append(pd.read_csv(filename, sep='\\t'))\n",
    "    \n",
    "df2 = pd.concat(li, axis=0, ignore_index=True)\n",
    "df2['FILE'] = df2.FILE.str.replace('../../_m/WEIGHTS/twas_gene_expression.', '')\n",
    "df2['FILE'] = df2.FILE.str.replace('\\\\..*', '')\n",
    "df2.shape"
   ]
  },
  {
   "cell_type": "code",
   "execution_count": 24,
   "metadata": {},
   "outputs": [
    {
     "name": "stdout",
     "output_type": "stream",
     "text": [
      "There are 93 transcripts with TWAS associations.\n"
     ]
    }
   ],
   "source": [
    "print(\"There are %d transcripts with TWAS associations.\" % np.sum(df2['JOINT.P'] <= 0.05))"
   ]
  },
  {
   "cell_type": "code",
   "execution_count": 15,
   "metadata": {},
   "outputs": [
    {
     "data": {
      "text/html": [
       "<div>\n",
       "<style scoped>\n",
       "    .dataframe tbody tr th:only-of-type {\n",
       "        vertical-align: middle;\n",
       "    }\n",
       "\n",
       "    .dataframe tbody tr th {\n",
       "        vertical-align: top;\n",
       "    }\n",
       "\n",
       "    .dataframe thead th {\n",
       "        text-align: right;\n",
       "    }\n",
       "</style>\n",
       "<table border=\"1\" class=\"dataframe\">\n",
       "  <thead>\n",
       "    <tr style=\"text-align: right;\">\n",
       "      <th></th>\n",
       "      <th>FILE</th>\n",
       "      <th>ID</th>\n",
       "      <th>TWAS.Z</th>\n",
       "      <th>TWAS.P</th>\n",
       "      <th>JOINT.BETA</th>\n",
       "      <th>JOINT.BETA.SE</th>\n",
       "      <th>JOINT.Z</th>\n",
       "      <th>JOINT.P</th>\n",
       "    </tr>\n",
       "  </thead>\n",
       "  <tbody>\n",
       "    <tr>\n",
       "      <th>0</th>\n",
       "      <td>ENST00000262096</td>\n",
       "      <td>ZDHHC2</td>\n",
       "      <td>-3.6</td>\n",
       "      <td>3.200000e-04</td>\n",
       "      <td>-3.6</td>\n",
       "      <td>1</td>\n",
       "      <td>-3.6</td>\n",
       "      <td>3.200000e-04</td>\n",
       "    </tr>\n",
       "    <tr>\n",
       "      <th>1</th>\n",
       "      <td>ENST00000519476</td>\n",
       "      <td>LETM2</td>\n",
       "      <td>-6.1</td>\n",
       "      <td>1.100000e-09</td>\n",
       "      <td>-6.1</td>\n",
       "      <td>1</td>\n",
       "      <td>-6.1</td>\n",
       "      <td>1.100000e-09</td>\n",
       "    </tr>\n",
       "  </tbody>\n",
       "</table>\n",
       "</div>"
      ],
      "text/plain": [
       "              FILE      ID  TWAS.Z        TWAS.P  JOINT.BETA  JOINT.BETA.SE  \\\n",
       "0  ENST00000262096  ZDHHC2    -3.6  3.200000e-04        -3.6              1   \n",
       "1  ENST00000519476   LETM2    -6.1  1.100000e-09        -6.1              1   \n",
       "\n",
       "   JOINT.Z       JOINT.P  \n",
       "0     -3.6  3.200000e-04  \n",
       "1     -6.1  1.100000e-09  "
      ]
     },
     "execution_count": 15,
     "metadata": {},
     "output_type": "execute_result"
    }
   ],
   "source": [
    "df2.to_csv(\"fusion_twas_significant_assoc.txt\", sep=\"\\t\", index=False)\n",
    "df2.head(2)"
   ]
  },
  {
   "cell_type": "code",
   "execution_count": 25,
   "metadata": {},
   "outputs": [
    {
     "data": {
      "text/plain": [
       "(4103, 50)"
      ]
     },
     "execution_count": 25,
     "metadata": {},
     "output_type": "execute_result"
    }
   ],
   "source": [
    "df2.drop(['TWAS.Z', 'TWAS.P'], axis=1, inplace=True)\n",
    "\n",
    "dft2 = pd.merge(df2, dft, on=['FILE', 'ID'], how='right').fillna(1)\n",
    "dft2.shape"
   ]
  },
  {
   "cell_type": "code",
   "execution_count": 26,
   "metadata": {},
   "outputs": [
    {
     "name": "stdout",
     "output_type": "stream",
     "text": [
      "[[30, 327], [63, 3683]]\n"
     ]
    },
    {
     "data": {
      "text/plain": [
       "(5.363331877093345, 6.43110777830765e-11)"
      ]
     },
     "execution_count": 26,
     "metadata": {},
     "output_type": "execute_result"
    }
   ],
   "source": [
    "table =  [[np.sum((dft2['P']<5e-8) & ((dft2['JOINT.P']<.05))),\n",
    "           np.sum((dft2['P']<5e-8) & ((dft2['JOINT.P']>=.05)))],\n",
    "          [np.sum((dft2['P']>=5e-8) & ((dft2['JOINT.P']<.05))),\n",
    "           np.sum((dft2['P']>=5e-8) & ((dft2['JOINT.P']>=.05)))]]\n",
    "print(table)\n",
    "fisher_exact(table)"
   ]
  },
  {
   "cell_type": "code",
   "execution_count": 27,
   "metadata": {},
   "outputs": [
    {
     "name": "stdout",
     "output_type": "stream",
     "text": [
      "There are 100.00% overlap between PGC2 and TWAS.\n",
      "There are 30.23% overlap between significant PGC2 and TWAS.\n",
      "There are 60 novel unique SNPs associations with SZ.\n"
     ]
    }
   ],
   "source": [
    "twas2 = pd.merge(df2, df, on=['FILE', 'ID'])\n",
    "\n",
    "snps_twas = set(pgc2_df['our_snp_id']) & set(twas2['BEST.GWAS.ID'])\n",
    "snps_pgc2 = set(pgc2_df[(pgc2_df['P']<5e-8)].loc[:,'our_snp_id']) & set(twas2['BEST.GWAS.ID'])\n",
    "overlap = len(snps_twas)\n",
    "overlap_sig = len(snps_pgc2)\n",
    "\n",
    "print('There are %0.2f%% overlap between PGC2 and TWAS.' % \n",
    "      (overlap/len(twas2.loc[:, 'BEST.GWAS.ID'].unique()) * 100))\n",
    "print('There are %0.2f%% overlap between significant PGC2 and TWAS.' % \n",
    "      (overlap_sig/len(twas2.loc[:, 'BEST.GWAS.ID'].unique())* 100))\n",
    "print(\"There are %d novel unique SNPs associations with SZ.\" % \n",
    "      (overlap - overlap_sig))"
   ]
  },
  {
   "cell_type": "code",
   "execution_count": 29,
   "metadata": {},
   "outputs": [
    {
     "data": {
      "text/html": [
       "<div>\n",
       "<style scoped>\n",
       "    .dataframe tbody tr th:only-of-type {\n",
       "        vertical-align: middle;\n",
       "    }\n",
       "\n",
       "    .dataframe tbody tr th {\n",
       "        vertical-align: top;\n",
       "    }\n",
       "\n",
       "    .dataframe thead th {\n",
       "        text-align: right;\n",
       "    }\n",
       "</style>\n",
       "<table border=\"1\" class=\"dataframe\">\n",
       "  <thead>\n",
       "    <tr style=\"text-align: right;\">\n",
       "      <th></th>\n",
       "      <th>our_snp_id</th>\n",
       "      <th>CHR</th>\n",
       "      <th>BP</th>\n",
       "      <th>A1</th>\n",
       "      <th>A2</th>\n",
       "      <th>OR</th>\n",
       "      <th>P</th>\n",
       "      <th>is_index_snp</th>\n",
       "    </tr>\n",
       "  </thead>\n",
       "  <tbody>\n",
       "    <tr>\n",
       "      <th>0</th>\n",
       "      <td>rs6656:44606098:C:T</td>\n",
       "      <td>7</td>\n",
       "      <td>44606098</td>\n",
       "      <td>C</td>\n",
       "      <td>T</td>\n",
       "      <td>0.95243</td>\n",
       "      <td>6.960000e-07</td>\n",
       "      <td>False</td>\n",
       "    </tr>\n",
       "    <tr>\n",
       "      <th>1</th>\n",
       "      <td>rs8137258</td>\n",
       "      <td>22</td>\n",
       "      <td>20135961</td>\n",
       "      <td>T</td>\n",
       "      <td>C</td>\n",
       "      <td>0.94503</td>\n",
       "      <td>9.870000e-07</td>\n",
       "      <td>False</td>\n",
       "    </tr>\n",
       "    <tr>\n",
       "      <th>2</th>\n",
       "      <td>rs2242000</td>\n",
       "      <td>1</td>\n",
       "      <td>205031769</td>\n",
       "      <td>G</td>\n",
       "      <td>A</td>\n",
       "      <td>0.94441</td>\n",
       "      <td>2.800000e-06</td>\n",
       "      <td>False</td>\n",
       "    </tr>\n",
       "    <tr>\n",
       "      <th>3</th>\n",
       "      <td>rs41468646:21622246:C:T</td>\n",
       "      <td>16</td>\n",
       "      <td>21622246</td>\n",
       "      <td>C</td>\n",
       "      <td>T</td>\n",
       "      <td>1.06180</td>\n",
       "      <td>1.380000e-06</td>\n",
       "      <td>False</td>\n",
       "    </tr>\n",
       "    <tr>\n",
       "      <th>4</th>\n",
       "      <td>rs8072032</td>\n",
       "      <td>17</td>\n",
       "      <td>4955206</td>\n",
       "      <td>G</td>\n",
       "      <td>T</td>\n",
       "      <td>0.92748</td>\n",
       "      <td>2.540000e-05</td>\n",
       "      <td>False</td>\n",
       "    </tr>\n",
       "  </tbody>\n",
       "</table>\n",
       "</div>"
      ],
      "text/plain": [
       "                our_snp_id  CHR         BP A1 A2       OR             P  \\\n",
       "0      rs6656:44606098:C:T    7   44606098  C  T  0.95243  6.960000e-07   \n",
       "1                rs8137258   22   20135961  T  C  0.94503  9.870000e-07   \n",
       "2                rs2242000    1  205031769  G  A  0.94441  2.800000e-06   \n",
       "3  rs41468646:21622246:C:T   16   21622246  C  T  1.06180  1.380000e-06   \n",
       "4                rs8072032   17    4955206  G  T  0.92748  2.540000e-05   \n",
       "\n",
       "   is_index_snp  \n",
       "0         False  \n",
       "1         False  \n",
       "2         False  \n",
       "3         False  \n",
       "4         False  "
      ]
     },
     "execution_count": 29,
     "metadata": {},
     "output_type": "execute_result"
    }
   ],
   "source": [
    "new_df2 = pgc2_df.set_index('our_snp_id').loc[snps_twas - snps_pgc2, :].reset_index()\n",
    "new_df2 = new_df2[['our_snp_id', 'CHR', 'BP', 'A1', 'A2', 'OR', 'P', 'is_index_snp']]\n",
    "new_df2.head()"
   ]
  },
  {
   "cell_type": "code",
   "execution_count": null,
   "metadata": {},
   "outputs": [],
   "source": [
    "new_df2.to_csv('pgc2_clozuk_twas_significant_snps.txt', sep='\\t', index=False)"
   ]
  },
  {
   "cell_type": "markdown",
   "metadata": {},
   "source": []
  }
 ],
 "metadata": {
  "kernelspec": {
   "display_name": "Python 3",
   "language": "python",
   "name": "python3"
  },
  "language_info": {
   "codemirror_mode": {
    "name": "ipython",
    "version": 3
   },
   "file_extension": ".py",
   "mimetype": "text/x-python",
   "name": "python",
   "nbconvert_exporter": "python",
   "pygments_lexer": "ipython3",
   "version": "3.6.5"
  }
 },
 "nbformat": 4,
 "nbformat_minor": 2
}
