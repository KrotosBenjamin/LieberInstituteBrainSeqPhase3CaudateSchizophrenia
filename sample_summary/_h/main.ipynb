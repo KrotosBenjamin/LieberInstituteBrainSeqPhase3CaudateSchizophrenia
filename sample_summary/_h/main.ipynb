{
 "cells": [
  {
   "cell_type": "markdown",
   "metadata": {},
   "source": [
    "# Sample Summary"
   ]
  },
  {
   "cell_type": "code",
   "execution_count": 1,
   "metadata": {},
   "outputs": [],
   "source": [
    "suppressMessages({library(dplyr)\n",
    "                  library(SummarizedExperiment)})"
   ]
  },
  {
   "cell_type": "markdown",
   "metadata": {},
   "source": [
    "## Functions"
   ]
  },
  {
   "cell_type": "code",
   "execution_count": 2,
   "metadata": {},
   "outputs": [],
   "source": [
    "get_mds <- function(){\n",
    "    mds_file = \"/ceph/projects/v4_phase3_paper/inputs/genotypes/mds/_m/LIBD_Brain_TopMed.mds\"\n",
    "    mds = data.table::fread(mds_file) %>%\n",
    "        rename_at(.vars = vars(starts_with(\"C\")),\n",
    "                  function(x){sub(\"C\", \"snpPC\", x)}) %>%\n",
    "        mutate_if(is.character, as.factor)\n",
    "    return(mds)\n",
    "}\n",
    "\n",
    "memMDS <- memoise::memoise(get_mds)\n",
    "\n",
    "get_pheno <- function(){\n",
    "    counts_lt = \"/ceph/projects/v4_phase3_paper/inputs/counts/_m/caudate_brainseq_phase3_hg38_rseGene_merged_n464.rda\"\n",
    "    load(counts_lt)\n",
    "    rse_df = rse_gene\n",
    "    keepIndex = which(rse_df$Age > 13 & rse_df$Race %in% c(\"AA\", \"CAUC\"))\n",
    "    rse_df = rse_df[, keepIndex]\n",
    "    rse_df$Sex <- factor(rse_df$Sex)\n",
    "    rse_df <- jaffelab::merge_rse_metrics(rse_df)\n",
    "    colData(rse_df)$RIN = sapply(colData(rse_df)$RIN,\"[\",1)\n",
    "    rownames(colData(rse_df)) <- sapply(strsplit(rownames(colData(rse_df)), \"_\"), \"[\", 1)\n",
    "    pheno = colData(rse_df) %>% as.data.frame %>% \n",
    "        inner_join(memMDS(), by=c(\"BrNum\"=\"FID\")) %>% \n",
    "        distinct(RNum, .keep_all = TRUE) \n",
    "    return(pheno)\n",
    "}\n",
    "\n",
    "memPHENO <- memoise::memoise(get_pheno)"
   ]
  },
  {
   "cell_type": "markdown",
   "metadata": {},
   "source": [
    "## Sample breakdown"
   ]
  },
  {
   "cell_type": "markdown",
   "metadata": {},
   "source": [
    "### eQTL analysis"
   ]
  },
  {
   "cell_type": "code",
   "execution_count": 3,
   "metadata": {},
   "outputs": [
    {
     "data": {
      "text/html": [
       "<style>\n",
       ".list-inline {list-style: none; margin:0; padding: 0}\n",
       ".list-inline>li {display: inline-block}\n",
       ".list-inline>li:not(:last-child)::after {content: \"\\00b7\"; padding: 0 .5ex}\n",
       "</style>\n",
       "<ol class=list-inline><li>443</li><li>16</li></ol>\n"
      ],
      "text/latex": [
       "\\begin{enumerate*}\n",
       "\\item 443\n",
       "\\item 16\n",
       "\\end{enumerate*}\n"
      ],
      "text/markdown": [
       "1. 443\n",
       "2. 16\n",
       "\n",
       "\n"
      ],
      "text/plain": [
       "[1] 443  16"
      ]
     },
     "metadata": {},
     "output_type": "display_data"
    }
   ],
   "source": [
    "cols = c('BrNum','RNum','Region','RIN','Age','Sex','Race','Dx', \n",
    "         'ERCCsumLogErr', 'overallMapRate', 'totalAssignedGene', \n",
    "         'mitoRate', 'rRNA_rate', 'snpPC1', 'snpPC2', 'snpPC3')\n",
    "\n",
    "df = memPHENO() %>% select(all_of(cols))\n",
    "df %>% dim"
   ]
  },
  {
   "cell_type": "code",
   "execution_count": 4,
   "metadata": {},
   "outputs": [
    {
     "name": "stdout",
     "output_type": "stream",
     "text": [
      "[1] \"There are 443 unique BrNum.\"\n"
     ]
    }
   ],
   "source": [
    "print(paste(\"There are\",df$BrNum %>% unique %>% length, \"unique BrNum.\"))"
   ]
  },
  {
   "cell_type": "code",
   "execution_count": 5,
   "metadata": {},
   "outputs": [
    {
     "data": {
      "text/plain": [
       "\n",
       "Bipolar Control  Schizo \n",
       "     44     245     154 "
      ]
     },
     "metadata": {},
     "output_type": "display_data"
    }
   ],
   "source": [
    "table(df$Dx)"
   ]
  },
  {
   "cell_type": "code",
   "execution_count": 7,
   "metadata": {},
   "outputs": [
    {
     "data": {
      "text/plain": [
       "         \n",
       "            F   M\n",
       "  Bipolar  16  28\n",
       "  Control  76 169\n",
       "  Schizo   50 104"
      ]
     },
     "metadata": {},
     "output_type": "display_data"
    }
   ],
   "source": [
    "table(df$Dx, df$Sex)"
   ]
  },
  {
   "cell_type": "code",
   "execution_count": 8,
   "metadata": {},
   "outputs": [
    {
     "data": {
      "text/plain": [
       "         \n",
       "           AA CAUC\n",
       "  Bipolar   4   40\n",
       "  Control 123  122\n",
       "  Schizo   83   71"
      ]
     },
     "metadata": {},
     "output_type": "display_data"
    }
   ],
   "source": [
    "table(df$Dx, df$Race)"
   ]
  },
  {
   "cell_type": "code",
   "execution_count": 6,
   "metadata": {},
   "outputs": [
    {
     "data": {
      "text/plain": [
       "\n",
       "  F   M \n",
       "142 301 "
      ]
     },
     "metadata": {},
     "output_type": "display_data"
    }
   ],
   "source": [
    "table(df$Sex)"
   ]
  },
  {
   "cell_type": "code",
   "execution_count": 6,
   "metadata": {},
   "outputs": [
    {
     "data": {
      "text/plain": [
       "\n",
       "  F   M \n",
       "142 301 "
      ]
     },
     "metadata": {},
     "output_type": "display_data"
    }
   ],
   "source": [
    "table(df$Race)"
   ]
  },
  {
   "cell_type": "markdown",
   "metadata": {},
   "source": [
    "#### Mean"
   ]
  },
  {
   "cell_type": "code",
   "execution_count": 11,
   "metadata": {},
   "outputs": [
    {
     "data": {
      "text/html": [
       "<table class=\"dataframe\">\n",
       "<caption>A tibble: 3 × 3</caption>\n",
       "<thead>\n",
       "\t<tr><th scope=col>Dx</th><th scope=col>RIN</th><th scope=col>Age</th></tr>\n",
       "\t<tr><th scope=col>&lt;chr&gt;</th><th scope=col>&lt;dbl&gt;</th><th scope=col>&lt;dbl&gt;</th></tr>\n",
       "</thead>\n",
       "<tbody>\n",
       "\t<tr><td>Bipolar</td><td>7.822727</td><td>43.21182</td></tr>\n",
       "\t<tr><td>Control</td><td>7.857143</td><td>47.46478</td></tr>\n",
       "\t<tr><td>Schizo </td><td>7.875974</td><td>51.74896</td></tr>\n",
       "</tbody>\n",
       "</table>\n"
      ],
      "text/latex": [
       "A tibble: 3 × 3\n",
       "\\begin{tabular}{lll}\n",
       " Dx & RIN & Age\\\\\n",
       " <chr> & <dbl> & <dbl>\\\\\n",
       "\\hline\n",
       "\t Bipolar & 7.822727 & 43.21182\\\\\n",
       "\t Control & 7.857143 & 47.46478\\\\\n",
       "\t Schizo  & 7.875974 & 51.74896\\\\\n",
       "\\end{tabular}\n"
      ],
      "text/markdown": [
       "\n",
       "A tibble: 3 × 3\n",
       "\n",
       "| Dx &lt;chr&gt; | RIN &lt;dbl&gt; | Age &lt;dbl&gt; |\n",
       "|---|---|---|\n",
       "| Bipolar | 7.822727 | 43.21182 |\n",
       "| Control | 7.857143 | 47.46478 |\n",
       "| Schizo  | 7.875974 | 51.74896 |\n",
       "\n"
      ],
      "text/plain": [
       "  Dx      RIN      Age     \n",
       "1 Bipolar 7.822727 43.21182\n",
       "2 Control 7.857143 47.46478\n",
       "3 Schizo  7.875974 51.74896"
      ]
     },
     "metadata": {},
     "output_type": "display_data"
    }
   ],
   "source": [
    "df %>% group_by(Dx) %>%\n",
    "    summarise(across(c(\"RIN\", \"Age\"), ~ mean(.x, na.rm = TRUE)))"
   ]
  },
  {
   "cell_type": "markdown",
   "metadata": {},
   "source": [
    "#### Median"
   ]
  },
  {
   "cell_type": "code",
   "execution_count": 11,
   "metadata": {},
   "outputs": [
    {
     "data": {
      "text/html": [
       "<table class=\"dataframe\">\n",
       "<caption>A tibble: 3 × 5</caption>\n",
       "<thead>\n",
       "\t<tr><th scope=col>Region</th><th scope=col>RIN</th><th scope=col>Age</th><th scope=col>rRNA_rate</th><th scope=col>mitoRate</th></tr>\n",
       "\t<tr><th scope=col>&lt;chr&gt;</th><th scope=col>&lt;dbl&gt;</th><th scope=col>&lt;dbl&gt;</th><th scope=col>&lt;dbl&gt;</th><th scope=col>&lt;dbl&gt;</th></tr>\n",
       "</thead>\n",
       "<tbody>\n",
       "\t<tr><td>Caudate</td><td>7.8</td><td>49.650</td><td>4.523605e-05</td><td>0.03439737</td></tr>\n",
       "\t<tr><td>DLPFC  </td><td>7.8</td><td>48.100</td><td>4.060600e-05</td><td>0.02063706</td></tr>\n",
       "\t<tr><td>HIPPO  </td><td>7.8</td><td>47.515</td><td>1.991029e-05</td><td>0.23442298</td></tr>\n",
       "</tbody>\n",
       "</table>\n"
      ],
      "text/latex": [
       "A tibble: 3 × 5\n",
       "\\begin{tabular}{lllll}\n",
       " Region & RIN & Age & rRNA\\_rate & mitoRate\\\\\n",
       " <chr> & <dbl> & <dbl> & <dbl> & <dbl>\\\\\n",
       "\\hline\n",
       "\t Caudate & 7.8 & 49.650 & 4.523605e-05 & 0.03439737\\\\\n",
       "\t DLPFC   & 7.8 & 48.100 & 4.060600e-05 & 0.02063706\\\\\n",
       "\t HIPPO   & 7.8 & 47.515 & 1.991029e-05 & 0.23442298\\\\\n",
       "\\end{tabular}\n"
      ],
      "text/markdown": [
       "\n",
       "A tibble: 3 × 5\n",
       "\n",
       "| Region &lt;chr&gt; | RIN &lt;dbl&gt; | Age &lt;dbl&gt; | rRNA_rate &lt;dbl&gt; | mitoRate &lt;dbl&gt; |\n",
       "|---|---|---|---|---|\n",
       "| Caudate | 7.8 | 49.650 | 4.523605e-05 | 0.03439737 |\n",
       "| DLPFC   | 7.8 | 48.100 | 4.060600e-05 | 0.02063706 |\n",
       "| HIPPO   | 7.8 | 47.515 | 1.991029e-05 | 0.23442298 |\n",
       "\n"
      ],
      "text/plain": [
       "  Region  RIN Age    rRNA_rate    mitoRate  \n",
       "1 Caudate 7.8 49.650 4.523605e-05 0.03439737\n",
       "2 DLPFC   7.8 48.100 4.060600e-05 0.02063706\n",
       "3 HIPPO   7.8 47.515 1.991029e-05 0.23442298"
      ]
     },
     "metadata": {},
     "output_type": "display_data"
    }
   ],
   "source": [
    "df %>% group_by(Dx) %>%\n",
    "    summarise(across(c(\"RIN\", \"Age\"), ~ median(.x, na.rm = TRUE)))"
   ]
  },
  {
   "cell_type": "markdown",
   "metadata": {},
   "source": [
    "#### Standard deviation"
   ]
  },
  {
   "cell_type": "code",
   "execution_count": 12,
   "metadata": {},
   "outputs": [
    {
     "data": {
      "text/html": [
       "<table class=\"dataframe\">\n",
       "<caption>A tibble: 3 × 5</caption>\n",
       "<thead>\n",
       "\t<tr><th scope=col>Region</th><th scope=col>RIN</th><th scope=col>Age</th><th scope=col>rRNA_rate</th><th scope=col>mitoRate</th></tr>\n",
       "\t<tr><th scope=col>&lt;chr&gt;</th><th scope=col>&lt;dbl&gt;</th><th scope=col>&lt;dbl&gt;</th><th scope=col>&lt;dbl&gt;</th><th scope=col>&lt;dbl&gt;</th></tr>\n",
       "</thead>\n",
       "<tbody>\n",
       "\t<tr><td>Caudate</td><td>0.8632861</td><td>16.07355</td><td>3.630981e-05</td><td>0.01664994</td></tr>\n",
       "\t<tr><td>DLPFC  </td><td>0.9352001</td><td>16.51391</td><td>3.180953e-05</td><td>0.00773969</td></tr>\n",
       "\t<tr><td>HIPPO  </td><td>1.0323633</td><td>16.43348</td><td>2.769952e-05</td><td>0.09132075</td></tr>\n",
       "</tbody>\n",
       "</table>\n"
      ],
      "text/latex": [
       "A tibble: 3 × 5\n",
       "\\begin{tabular}{lllll}\n",
       " Region & RIN & Age & rRNA\\_rate & mitoRate\\\\\n",
       " <chr> & <dbl> & <dbl> & <dbl> & <dbl>\\\\\n",
       "\\hline\n",
       "\t Caudate & 0.8632861 & 16.07355 & 3.630981e-05 & 0.01664994\\\\\n",
       "\t DLPFC   & 0.9352001 & 16.51391 & 3.180953e-05 & 0.00773969\\\\\n",
       "\t HIPPO   & 1.0323633 & 16.43348 & 2.769952e-05 & 0.09132075\\\\\n",
       "\\end{tabular}\n"
      ],
      "text/markdown": [
       "\n",
       "A tibble: 3 × 5\n",
       "\n",
       "| Region &lt;chr&gt; | RIN &lt;dbl&gt; | Age &lt;dbl&gt; | rRNA_rate &lt;dbl&gt; | mitoRate &lt;dbl&gt; |\n",
       "|---|---|---|---|---|\n",
       "| Caudate | 0.8632861 | 16.07355 | 3.630981e-05 | 0.01664994 |\n",
       "| DLPFC   | 0.9352001 | 16.51391 | 3.180953e-05 | 0.00773969 |\n",
       "| HIPPO   | 1.0323633 | 16.43348 | 2.769952e-05 | 0.09132075 |\n",
       "\n"
      ],
      "text/plain": [
       "  Region  RIN       Age      rRNA_rate    mitoRate  \n",
       "1 Caudate 0.8632861 16.07355 3.630981e-05 0.01664994\n",
       "2 DLPFC   0.9352001 16.51391 3.180953e-05 0.00773969\n",
       "3 HIPPO   1.0323633 16.43348 2.769952e-05 0.09132075"
      ]
     },
     "metadata": {},
     "output_type": "display_data"
    }
   ],
   "source": [
    "df %>% group_by(Dx) %>%\n",
    "    summarise(across(c(\"RIN\", \"Age\"), ~ sd(.x, na.rm = TRUE)))"
   ]
  },
  {
   "cell_type": "markdown",
   "metadata": {},
   "source": [
    "### Expression analysis"
   ]
  },
  {
   "cell_type": "code",
   "execution_count": 13,
   "metadata": {},
   "outputs": [
    {
     "data": {
      "text/html": [
       "<style>\n",
       ".list-inline {list-style: none; margin:0; padding: 0}\n",
       ".list-inline>li {display: inline-block}\n",
       ".list-inline>li:not(:last-child)::after {content: \"\\00b7\"; padding: 0 .5ex}\n",
       "</style>\n",
       "<ol class=list-inline><li>1127</li><li>16</li></ol>\n"
      ],
      "text/latex": [
       "\\begin{enumerate*}\n",
       "\\item 1127\n",
       "\\item 16\n",
       "\\end{enumerate*}\n"
      ],
      "text/markdown": [
       "1. 1127\n",
       "2. 16\n",
       "\n",
       "\n"
      ],
      "text/plain": [
       "[1] 1127   16"
      ]
     },
     "metadata": {},
     "output_type": "display_data"
    }
   ],
   "source": [
    "df2 = df %>% filter(Age > 17)\n",
    "df2 %>% dim"
   ]
  },
  {
   "cell_type": "code",
   "execution_count": 14,
   "metadata": {},
   "outputs": [
    {
     "name": "stdout",
     "output_type": "stream",
     "text": [
      "[1] \"There are 480 unique BrNum.\"\n"
     ]
    }
   ],
   "source": [
    "print(paste(\"There are\",df2$BrNum %>% unique %>% length, \"unique BrNum.\"))"
   ]
  },
  {
   "cell_type": "code",
   "execution_count": 15,
   "metadata": {},
   "outputs": [
    {
     "data": {
      "text/plain": [
       "\n",
       "Caudate   DLPFC   HIPPO \n",
       "    393     359     375 "
      ]
     },
     "metadata": {},
     "output_type": "display_data"
    }
   ],
   "source": [
    "table(df2$Dx)"
   ]
  },
  {
   "cell_type": "code",
   "execution_count": 17,
   "metadata": {},
   "outputs": [
    {
     "data": {
      "text/plain": [
       "         \n",
       "          Control Schizo\n",
       "  Caudate     239    154\n",
       "  DLPFC       211    148\n",
       "  HIPPO       242    133"
      ]
     },
     "metadata": {},
     "output_type": "display_data"
    }
   ],
   "source": [
    "table(df2$Dx, df2$Sex)"
   ]
  },
  {
   "cell_type": "code",
   "execution_count": 18,
   "metadata": {},
   "outputs": [
    {
     "data": {
      "text/plain": [
       "         \n",
       "            F   M\n",
       "  Caudate 121 272\n",
       "  DLPFC   114 245\n",
       "  HIPPO   121 254"
      ]
     },
     "metadata": {},
     "output_type": "display_data"
    }
   ],
   "source": [
    "table(df2$Sex, df2$Race)"
   ]
  },
  {
   "cell_type": "code",
   "execution_count": 19,
   "metadata": {},
   "outputs": [
    {
     "data": {
      "text/plain": [
       "         \n",
       "           AA CAUC\n",
       "  Caudate 205  188\n",
       "  DLPFC   200  159\n",
       "  HIPPO   207  168"
      ]
     },
     "metadata": {},
     "output_type": "display_data"
    }
   ],
   "source": [
    "table(df2$Race)"
   ]
  },
  {
   "cell_type": "code",
   "execution_count": 19,
   "metadata": {},
   "outputs": [
    {
     "data": {
      "text/plain": [
       "         \n",
       "           AA CAUC\n",
       "  Caudate 205  188\n",
       "  DLPFC   200  159\n",
       "  HIPPO   207  168"
      ]
     },
     "metadata": {},
     "output_type": "display_data"
    }
   ],
   "source": [
    "table(df2$Sex)"
   ]
  },
  {
   "cell_type": "markdown",
   "metadata": {},
   "source": [
    "#### Mean"
   ]
  },
  {
   "cell_type": "code",
   "execution_count": 20,
   "metadata": {},
   "outputs": [
    {
     "data": {
      "text/html": [
       "<table class=\"dataframe\">\n",
       "<caption>A tibble: 3 × 5</caption>\n",
       "<thead>\n",
       "\t<tr><th scope=col>Region</th><th scope=col>RIN</th><th scope=col>Age</th><th scope=col>rRNA_rate</th><th scope=col>mitoRate</th></tr>\n",
       "\t<tr><th scope=col>&lt;chr&gt;</th><th scope=col>&lt;dbl&gt;</th><th scope=col>&lt;dbl&gt;</th><th scope=col>&lt;dbl&gt;</th><th scope=col>&lt;dbl&gt;</th></tr>\n",
       "</thead>\n",
       "<tbody>\n",
       "\t<tr><td>Caudate</td><td>7.863613</td><td>49.65076</td><td>5.658740e-05</td><td>0.03639159</td></tr>\n",
       "\t<tr><td>DLPFC  </td><td>7.666295</td><td>47.35662</td><td>5.149245e-05</td><td>0.02148476</td></tr>\n",
       "\t<tr><td>HIPPO  </td><td>7.598667</td><td>47.02501</td><td>3.026710e-05</td><td>0.22567167</td></tr>\n",
       "</tbody>\n",
       "</table>\n"
      ],
      "text/latex": [
       "A tibble: 3 × 5\n",
       "\\begin{tabular}{lllll}\n",
       " Region & RIN & Age & rRNA\\_rate & mitoRate\\\\\n",
       " <chr> & <dbl> & <dbl> & <dbl> & <dbl>\\\\\n",
       "\\hline\n",
       "\t Caudate & 7.863613 & 49.65076 & 5.658740e-05 & 0.03639159\\\\\n",
       "\t DLPFC   & 7.666295 & 47.35662 & 5.149245e-05 & 0.02148476\\\\\n",
       "\t HIPPO   & 7.598667 & 47.02501 & 3.026710e-05 & 0.22567167\\\\\n",
       "\\end{tabular}\n"
      ],
      "text/markdown": [
       "\n",
       "A tibble: 3 × 5\n",
       "\n",
       "| Region &lt;chr&gt; | RIN &lt;dbl&gt; | Age &lt;dbl&gt; | rRNA_rate &lt;dbl&gt; | mitoRate &lt;dbl&gt; |\n",
       "|---|---|---|---|---|\n",
       "| Caudate | 7.863613 | 49.65076 | 5.658740e-05 | 0.03639159 |\n",
       "| DLPFC   | 7.666295 | 47.35662 | 5.149245e-05 | 0.02148476 |\n",
       "| HIPPO   | 7.598667 | 47.02501 | 3.026710e-05 | 0.22567167 |\n",
       "\n"
      ],
      "text/plain": [
       "  Region  RIN      Age      rRNA_rate    mitoRate  \n",
       "1 Caudate 7.863613 49.65076 5.658740e-05 0.03639159\n",
       "2 DLPFC   7.666295 47.35662 5.149245e-05 0.02148476\n",
       "3 HIPPO   7.598667 47.02501 3.026710e-05 0.22567167"
      ]
     },
     "metadata": {},
     "output_type": "display_data"
    }
   ],
   "source": [
    "df2 %>% group_by(Dx) %>%\n",
    "    summarise(across(c(\"RIN\", \"Age\"), ~ mean(.x, na.rm = TRUE)))"
   ]
  },
  {
   "cell_type": "markdown",
   "metadata": {},
   "source": [
    "#### Median"
   ]
  },
  {
   "cell_type": "code",
   "execution_count": 21,
   "metadata": {},
   "outputs": [
    {
     "data": {
      "text/html": [
       "<table class=\"dataframe\">\n",
       "<caption>A tibble: 3 × 5</caption>\n",
       "<thead>\n",
       "\t<tr><th scope=col>Region</th><th scope=col>RIN</th><th scope=col>Age</th><th scope=col>rRNA_rate</th><th scope=col>mitoRate</th></tr>\n",
       "\t<tr><th scope=col>&lt;chr&gt;</th><th scope=col>&lt;dbl&gt;</th><th scope=col>&lt;dbl&gt;</th><th scope=col>&lt;dbl&gt;</th><th scope=col>&lt;dbl&gt;</th></tr>\n",
       "</thead>\n",
       "<tbody>\n",
       "\t<tr><td>Caudate</td><td>7.8</td><td>50.00</td><td>4.447903e-05</td><td>0.03439737</td></tr>\n",
       "\t<tr><td>DLPFC  </td><td>7.8</td><td>48.66</td><td>4.175559e-05</td><td>0.02044370</td></tr>\n",
       "\t<tr><td>HIPPO  </td><td>7.8</td><td>48.34</td><td>1.997499e-05</td><td>0.23428324</td></tr>\n",
       "</tbody>\n",
       "</table>\n"
      ],
      "text/latex": [
       "A tibble: 3 × 5\n",
       "\\begin{tabular}{lllll}\n",
       " Region & RIN & Age & rRNA\\_rate & mitoRate\\\\\n",
       " <chr> & <dbl> & <dbl> & <dbl> & <dbl>\\\\\n",
       "\\hline\n",
       "\t Caudate & 7.8 & 50.00 & 4.447903e-05 & 0.03439737\\\\\n",
       "\t DLPFC   & 7.8 & 48.66 & 4.175559e-05 & 0.02044370\\\\\n",
       "\t HIPPO   & 7.8 & 48.34 & 1.997499e-05 & 0.23428324\\\\\n",
       "\\end{tabular}\n"
      ],
      "text/markdown": [
       "\n",
       "A tibble: 3 × 5\n",
       "\n",
       "| Region &lt;chr&gt; | RIN &lt;dbl&gt; | Age &lt;dbl&gt; | rRNA_rate &lt;dbl&gt; | mitoRate &lt;dbl&gt; |\n",
       "|---|---|---|---|---|\n",
       "| Caudate | 7.8 | 50.00 | 4.447903e-05 | 0.03439737 |\n",
       "| DLPFC   | 7.8 | 48.66 | 4.175559e-05 | 0.02044370 |\n",
       "| HIPPO   | 7.8 | 48.34 | 1.997499e-05 | 0.23428324 |\n",
       "\n"
      ],
      "text/plain": [
       "  Region  RIN Age   rRNA_rate    mitoRate  \n",
       "1 Caudate 7.8 50.00 4.447903e-05 0.03439737\n",
       "2 DLPFC   7.8 48.66 4.175559e-05 0.02044370\n",
       "3 HIPPO   7.8 48.34 1.997499e-05 0.23428324"
      ]
     },
     "metadata": {},
     "output_type": "display_data"
    }
   ],
   "source": [
    "df2 %>% group_by(Dx) %>%\n",
    "    summarise(across(c(\"RIN\", \"Age\"), ~ median(.x, na.rm = TRUE)))"
   ]
  },
  {
   "cell_type": "markdown",
   "metadata": {},
   "source": [
    "#### Standard deviation"
   ]
  },
  {
   "cell_type": "code",
   "execution_count": 22,
   "metadata": {},
   "outputs": [
    {
     "data": {
      "text/html": [
       "<table class=\"dataframe\">\n",
       "<caption>A tibble: 3 × 5</caption>\n",
       "<thead>\n",
       "\t<tr><th scope=col>Region</th><th scope=col>RIN</th><th scope=col>Age</th><th scope=col>rRNA_rate</th><th scope=col>mitoRate</th></tr>\n",
       "\t<tr><th scope=col>&lt;chr&gt;</th><th scope=col>&lt;dbl&gt;</th><th scope=col>&lt;dbl&gt;</th><th scope=col>&lt;dbl&gt;</th><th scope=col>&lt;dbl&gt;</th></tr>\n",
       "</thead>\n",
       "<tbody>\n",
       "\t<tr><td>Caudate</td><td>0.8649491</td><td>15.60086</td><td>3.634418e-05</td><td>0.016609313</td></tr>\n",
       "\t<tr><td>DLPFC  </td><td>0.9221092</td><td>15.38859</td><td>3.224609e-05</td><td>0.007513765</td></tr>\n",
       "\t<tr><td>HIPPO  </td><td>1.0321689</td><td>15.29984</td><td>2.823267e-05</td><td>0.092901235</td></tr>\n",
       "</tbody>\n",
       "</table>\n"
      ],
      "text/latex": [
       "A tibble: 3 × 5\n",
       "\\begin{tabular}{lllll}\n",
       " Region & RIN & Age & rRNA\\_rate & mitoRate\\\\\n",
       " <chr> & <dbl> & <dbl> & <dbl> & <dbl>\\\\\n",
       "\\hline\n",
       "\t Caudate & 0.8649491 & 15.60086 & 3.634418e-05 & 0.016609313\\\\\n",
       "\t DLPFC   & 0.9221092 & 15.38859 & 3.224609e-05 & 0.007513765\\\\\n",
       "\t HIPPO   & 1.0321689 & 15.29984 & 2.823267e-05 & 0.092901235\\\\\n",
       "\\end{tabular}\n"
      ],
      "text/markdown": [
       "\n",
       "A tibble: 3 × 5\n",
       "\n",
       "| Region &lt;chr&gt; | RIN &lt;dbl&gt; | Age &lt;dbl&gt; | rRNA_rate &lt;dbl&gt; | mitoRate &lt;dbl&gt; |\n",
       "|---|---|---|---|---|\n",
       "| Caudate | 0.8649491 | 15.60086 | 3.634418e-05 | 0.016609313 |\n",
       "| DLPFC   | 0.9221092 | 15.38859 | 3.224609e-05 | 0.007513765 |\n",
       "| HIPPO   | 1.0321689 | 15.29984 | 2.823267e-05 | 0.092901235 |\n",
       "\n"
      ],
      "text/plain": [
       "  Region  RIN       Age      rRNA_rate    mitoRate   \n",
       "1 Caudate 0.8649491 15.60086 3.634418e-05 0.016609313\n",
       "2 DLPFC   0.9221092 15.38859 3.224609e-05 0.007513765\n",
       "3 HIPPO   1.0321689 15.29984 2.823267e-05 0.092901235"
      ]
     },
     "metadata": {},
     "output_type": "display_data"
    }
   ],
   "source": [
    "df2 %>% group_by(Dx) %>%\n",
    "    summarise(across(c(\"RIN\", \"Age\"), ~ sd(.x, na.rm = TRUE)))"
   ]
  },
  {
   "cell_type": "markdown",
   "metadata": {},
   "source": [
    "## Reproducibility Information"
   ]
  },
  {
   "cell_type": "code",
   "execution_count": null,
   "metadata": {},
   "outputs": [],
   "source": [
    "Sys.time()\n",
    "proc.time()\n",
    "options(width = 120)\n",
    "sessioninfo::session_info()"
   ]
  }
 ],
 "metadata": {
  "kernelspec": {
   "display_name": "R",
   "language": "R",
   "name": "ir"
  },
  "language_info": {
   "codemirror_mode": "r",
   "file_extension": ".r",
   "mimetype": "text/x-r-source",
   "name": "R",
   "pygments_lexer": "r",
   "version": "4.0.3"
  }
 },
 "nbformat": 4,
 "nbformat_minor": 4
}
