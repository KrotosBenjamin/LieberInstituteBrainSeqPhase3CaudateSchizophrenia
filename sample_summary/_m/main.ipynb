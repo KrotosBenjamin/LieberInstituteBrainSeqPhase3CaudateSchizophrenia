{
 "cells": [
  {
   "cell_type": "markdown",
   "metadata": {},
   "source": [
    "# Sample Summary"
   ]
  },
  {
   "cell_type": "code",
   "execution_count": 1,
   "metadata": {
    "execution": {
     "iopub.execute_input": "2021-08-05T16:09:58.231332Z",
     "iopub.status.busy": "2021-08-05T16:09:58.228768Z",
     "iopub.status.idle": "2021-08-05T16:10:04.071126Z",
     "shell.execute_reply": "2021-08-05T16:10:04.069573Z"
    }
   },
   "outputs": [],
   "source": [
    "suppressMessages({library(dplyr)\n",
    "                  library(SummarizedExperiment)})"
   ]
  },
  {
   "cell_type": "markdown",
   "metadata": {},
   "source": [
    "## Functions"
   ]
  },
  {
   "cell_type": "code",
   "execution_count": 2,
   "metadata": {
    "execution": {
     "iopub.execute_input": "2021-08-05T16:10:04.113385Z",
     "iopub.status.busy": "2021-08-05T16:10:04.076700Z",
     "iopub.status.idle": "2021-08-05T16:10:04.149814Z",
     "shell.execute_reply": "2021-08-05T16:10:04.148514Z"
    }
   },
   "outputs": [],
   "source": [
    "get_mds <- function(){\n",
    "    mds_file = \"/ceph/projects/v4_phase3_paper/inputs/genotypes/mds/_m/LIBD_Brain_TopMed.mds\"\n",
    "    mds = data.table::fread(mds_file) %>%\n",
    "        rename_at(.vars = vars(starts_with(\"C\")),\n",
    "                  function(x){sub(\"C\", \"snpPC\", x)}) %>%\n",
    "        mutate_if(is.character, as.factor)\n",
    "    return(mds)\n",
    "}\n",
    "\n",
    "memMDS <- memoise::memoise(get_mds)\n",
    "\n",
    "get_pheno <- function(){\n",
    "    counts_lt = \"/ceph/projects/v4_phase3_paper/inputs/counts/_m/caudate_brainseq_phase3_hg38_rseGene_merged_n464.rda\"\n",
    "    load(counts_lt)\n",
    "    rse_df = rse_gene\n",
    "    keepIndex = which(rse_df$Age > 13 & rse_df$Race %in% c(\"AA\", \"CAUC\"))\n",
    "    rse_df = rse_df[, keepIndex]\n",
    "    rse_df$Sex <- factor(rse_df$Sex)\n",
    "    rse_df <- jaffelab::merge_rse_metrics(rse_df)\n",
    "    colData(rse_df)$RIN = sapply(colData(rse_df)$RIN,\"[\",1)\n",
    "    rownames(colData(rse_df)) <- sapply(strsplit(rownames(colData(rse_df)), \"_\"), \"[\", 1)\n",
    "    pheno = colData(rse_df) %>% as.data.frame %>% \n",
    "        inner_join(memMDS(), by=c(\"BrNum\"=\"FID\")) %>% \n",
    "        distinct(RNum, .keep_all = TRUE) \n",
    "    return(pheno)\n",
    "}\n",
    "\n",
    "memPHENO <- memoise::memoise(get_pheno)"
   ]
  },
  {
   "cell_type": "markdown",
   "metadata": {},
   "source": [
    "## Sample breakdown"
   ]
  },
  {
   "cell_type": "markdown",
   "metadata": {},
   "source": [
    "### eQTL analysis"
   ]
  },
  {
   "cell_type": "code",
   "execution_count": 3,
   "metadata": {
    "execution": {
     "iopub.execute_input": "2021-08-05T16:10:04.156545Z",
     "iopub.status.busy": "2021-08-05T16:10:04.155022Z",
     "iopub.status.idle": "2021-08-05T16:10:10.046563Z",
     "shell.execute_reply": "2021-08-05T16:10:10.045256Z"
    }
   },
   "outputs": [
    {
     "data": {
      "text/html": [
       "<style>\n",
       ".list-inline {list-style: none; margin:0; padding: 0}\n",
       ".list-inline>li {display: inline-block}\n",
       ".list-inline>li:not(:last-child)::after {content: \"\\00b7\"; padding: 0 .5ex}\n",
       "</style>\n",
       "<ol class=list-inline><li>443</li><li>16</li></ol>\n"
      ],
      "text/latex": [
       "\\begin{enumerate*}\n",
       "\\item 443\n",
       "\\item 16\n",
       "\\end{enumerate*}\n"
      ],
      "text/markdown": [
       "1. 443\n",
       "2. 16\n",
       "\n",
       "\n"
      ],
      "text/plain": [
       "[1] 443  16"
      ]
     },
     "metadata": {},
     "output_type": "display_data"
    }
   ],
   "source": [
    "cols = c('BrNum','RNum','Region','RIN','Age','Sex','Race','Dx', \n",
    "         'ERCCsumLogErr', 'overallMapRate', 'totalAssignedGene', \n",
    "         'mitoRate', 'rRNA_rate', 'snpPC1', 'snpPC2', 'snpPC3')\n",
    "\n",
    "df = memPHENO() %>% select(all_of(cols))\n",
    "df %>% dim"
   ]
  },
  {
   "cell_type": "code",
   "execution_count": 4,
   "metadata": {
    "execution": {
     "iopub.execute_input": "2021-08-05T16:10:10.053512Z",
     "iopub.status.busy": "2021-08-05T16:10:10.051855Z",
     "iopub.status.idle": "2021-08-05T16:10:10.067299Z",
     "shell.execute_reply": "2021-08-05T16:10:10.066006Z"
    }
   },
   "outputs": [
    {
     "name": "stdout",
     "output_type": "stream",
     "text": [
      "[1] \"There are 443 unique BrNum.\"\n"
     ]
    }
   ],
   "source": [
    "print(paste(\"There are\",df$BrNum %>% unique %>% length, \"unique BrNum.\"))"
   ]
  },
  {
   "cell_type": "code",
   "execution_count": 5,
   "metadata": {
    "execution": {
     "iopub.execute_input": "2021-08-05T16:10:10.073271Z",
     "iopub.status.busy": "2021-08-05T16:10:10.072015Z",
     "iopub.status.idle": "2021-08-05T16:10:10.089348Z",
     "shell.execute_reply": "2021-08-05T16:10:10.088024Z"
    }
   },
   "outputs": [
    {
     "data": {
      "text/plain": [
       "\n",
       "Bipolar Control  Schizo \n",
       "     44     245     154 "
      ]
     },
     "metadata": {},
     "output_type": "display_data"
    }
   ],
   "source": [
    "table(df$Dx)"
   ]
  },
  {
   "cell_type": "code",
   "execution_count": 6,
   "metadata": {
    "execution": {
     "iopub.execute_input": "2021-08-05T16:10:10.095662Z",
     "iopub.status.busy": "2021-08-05T16:10:10.094399Z",
     "iopub.status.idle": "2021-08-05T16:10:10.109926Z",
     "shell.execute_reply": "2021-08-05T16:10:10.108649Z"
    }
   },
   "outputs": [
    {
     "data": {
      "text/plain": [
       "         \n",
       "            F   M\n",
       "  Bipolar  16  28\n",
       "  Control  76 169\n",
       "  Schizo   50 104"
      ]
     },
     "metadata": {},
     "output_type": "display_data"
    }
   ],
   "source": [
    "table(df$Dx, df$Sex)"
   ]
  },
  {
   "cell_type": "code",
   "execution_count": 7,
   "metadata": {
    "execution": {
     "iopub.execute_input": "2021-08-05T16:10:10.115764Z",
     "iopub.status.busy": "2021-08-05T16:10:10.114503Z",
     "iopub.status.idle": "2021-08-05T16:10:10.130167Z",
     "shell.execute_reply": "2021-08-05T16:10:10.128628Z"
    }
   },
   "outputs": [
    {
     "data": {
      "text/plain": [
       "         \n",
       "           AA CAUC\n",
       "  Bipolar   4   40\n",
       "  Control 123  122\n",
       "  Schizo   83   71"
      ]
     },
     "metadata": {},
     "output_type": "display_data"
    }
   ],
   "source": [
    "table(df$Dx, df$Race)"
   ]
  },
  {
   "cell_type": "code",
   "execution_count": 8,
   "metadata": {
    "execution": {
     "iopub.execute_input": "2021-08-05T16:10:10.136123Z",
     "iopub.status.busy": "2021-08-05T16:10:10.134881Z",
     "iopub.status.idle": "2021-08-05T16:10:10.150233Z",
     "shell.execute_reply": "2021-08-05T16:10:10.148924Z"
    }
   },
   "outputs": [
    {
     "data": {
      "text/plain": [
       "\n",
       "  F   M \n",
       "142 301 "
      ]
     },
     "metadata": {},
     "output_type": "display_data"
    }
   ],
   "source": [
    "table(df$Sex)"
   ]
  },
  {
   "cell_type": "code",
   "execution_count": 9,
   "metadata": {
    "execution": {
     "iopub.execute_input": "2021-08-05T16:10:10.156267Z",
     "iopub.status.busy": "2021-08-05T16:10:10.155035Z",
     "iopub.status.idle": "2021-08-05T16:10:10.170552Z",
     "shell.execute_reply": "2021-08-05T16:10:10.169209Z"
    }
   },
   "outputs": [
    {
     "data": {
      "text/plain": [
       "\n",
       "  AA CAUC \n",
       " 210  233 "
      ]
     },
     "metadata": {},
     "output_type": "display_data"
    }
   ],
   "source": [
    "table(df$Race)"
   ]
  },
  {
   "cell_type": "markdown",
   "metadata": {},
   "source": [
    "#### Mean"
   ]
  },
  {
   "cell_type": "code",
   "execution_count": 10,
   "metadata": {
    "execution": {
     "iopub.execute_input": "2021-08-05T16:10:10.176559Z",
     "iopub.status.busy": "2021-08-05T16:10:10.175314Z",
     "iopub.status.idle": "2021-08-05T16:10:10.212078Z",
     "shell.execute_reply": "2021-08-05T16:10:10.210757Z"
    }
   },
   "outputs": [
    {
     "data": {
      "text/html": [
       "<table class=\"dataframe\">\n",
       "<caption>A tibble: 3 × 3</caption>\n",
       "<thead>\n",
       "\t<tr><th scope=col>Dx</th><th scope=col>RIN</th><th scope=col>Age</th></tr>\n",
       "\t<tr><th scope=col>&lt;chr&gt;</th><th scope=col>&lt;dbl&gt;</th><th scope=col>&lt;dbl&gt;</th></tr>\n",
       "</thead>\n",
       "<tbody>\n",
       "\t<tr><td>Bipolar</td><td>7.822727</td><td>43.21182</td></tr>\n",
       "\t<tr><td>Control</td><td>7.857143</td><td>47.46478</td></tr>\n",
       "\t<tr><td>Schizo </td><td>7.875974</td><td>51.74896</td></tr>\n",
       "</tbody>\n",
       "</table>\n"
      ],
      "text/latex": [
       "A tibble: 3 × 3\n",
       "\\begin{tabular}{lll}\n",
       " Dx & RIN & Age\\\\\n",
       " <chr> & <dbl> & <dbl>\\\\\n",
       "\\hline\n",
       "\t Bipolar & 7.822727 & 43.21182\\\\\n",
       "\t Control & 7.857143 & 47.46478\\\\\n",
       "\t Schizo  & 7.875974 & 51.74896\\\\\n",
       "\\end{tabular}\n"
      ],
      "text/markdown": [
       "\n",
       "A tibble: 3 × 3\n",
       "\n",
       "| Dx &lt;chr&gt; | RIN &lt;dbl&gt; | Age &lt;dbl&gt; |\n",
       "|---|---|---|\n",
       "| Bipolar | 7.822727 | 43.21182 |\n",
       "| Control | 7.857143 | 47.46478 |\n",
       "| Schizo  | 7.875974 | 51.74896 |\n",
       "\n"
      ],
      "text/plain": [
       "  Dx      RIN      Age     \n",
       "1 Bipolar 7.822727 43.21182\n",
       "2 Control 7.857143 47.46478\n",
       "3 Schizo  7.875974 51.74896"
      ]
     },
     "metadata": {},
     "output_type": "display_data"
    }
   ],
   "source": [
    "df %>% group_by(Dx) %>%\n",
    "    summarise(across(c(\"RIN\", \"Age\"), ~ mean(.x, na.rm = TRUE)))"
   ]
  },
  {
   "cell_type": "markdown",
   "metadata": {},
   "source": [
    "#### Median"
   ]
  },
  {
   "cell_type": "code",
   "execution_count": 11,
   "metadata": {
    "execution": {
     "iopub.execute_input": "2021-08-05T16:10:10.218860Z",
     "iopub.status.busy": "2021-08-05T16:10:10.217473Z",
     "iopub.status.idle": "2021-08-05T16:10:10.245568Z",
     "shell.execute_reply": "2021-08-05T16:10:10.244250Z"
    }
   },
   "outputs": [
    {
     "data": {
      "text/html": [
       "<table class=\"dataframe\">\n",
       "<caption>A tibble: 3 × 3</caption>\n",
       "<thead>\n",
       "\t<tr><th scope=col>Dx</th><th scope=col>RIN</th><th scope=col>Age</th></tr>\n",
       "\t<tr><th scope=col>&lt;chr&gt;</th><th scope=col>&lt;dbl&gt;</th><th scope=col>&lt;dbl&gt;</th></tr>\n",
       "</thead>\n",
       "<tbody>\n",
       "\t<tr><td>Bipolar</td><td>7.65</td><td>44.785</td></tr>\n",
       "\t<tr><td>Control</td><td>7.80</td><td>48.690</td></tr>\n",
       "\t<tr><td>Schizo </td><td>7.90</td><td>51.970</td></tr>\n",
       "</tbody>\n",
       "</table>\n"
      ],
      "text/latex": [
       "A tibble: 3 × 3\n",
       "\\begin{tabular}{lll}\n",
       " Dx & RIN & Age\\\\\n",
       " <chr> & <dbl> & <dbl>\\\\\n",
       "\\hline\n",
       "\t Bipolar & 7.65 & 44.785\\\\\n",
       "\t Control & 7.80 & 48.690\\\\\n",
       "\t Schizo  & 7.90 & 51.970\\\\\n",
       "\\end{tabular}\n"
      ],
      "text/markdown": [
       "\n",
       "A tibble: 3 × 3\n",
       "\n",
       "| Dx &lt;chr&gt; | RIN &lt;dbl&gt; | Age &lt;dbl&gt; |\n",
       "|---|---|---|\n",
       "| Bipolar | 7.65 | 44.785 |\n",
       "| Control | 7.80 | 48.690 |\n",
       "| Schizo  | 7.90 | 51.970 |\n",
       "\n"
      ],
      "text/plain": [
       "  Dx      RIN  Age   \n",
       "1 Bipolar 7.65 44.785\n",
       "2 Control 7.80 48.690\n",
       "3 Schizo  7.90 51.970"
      ]
     },
     "metadata": {},
     "output_type": "display_data"
    }
   ],
   "source": [
    "df %>% group_by(Dx) %>%\n",
    "    summarise(across(c(\"RIN\", \"Age\"), ~ median(.x, na.rm = TRUE)))"
   ]
  },
  {
   "cell_type": "markdown",
   "metadata": {},
   "source": [
    "#### Standard deviation"
   ]
  },
  {
   "cell_type": "code",
   "execution_count": 12,
   "metadata": {
    "execution": {
     "iopub.execute_input": "2021-08-05T16:10:10.256926Z",
     "iopub.status.busy": "2021-08-05T16:10:10.255265Z",
     "iopub.status.idle": "2021-08-05T16:10:10.286781Z",
     "shell.execute_reply": "2021-08-05T16:10:10.285238Z"
    }
   },
   "outputs": [
    {
     "data": {
      "text/html": [
       "<table class=\"dataframe\">\n",
       "<caption>A tibble: 3 × 3</caption>\n",
       "<thead>\n",
       "\t<tr><th scope=col>Dx</th><th scope=col>RIN</th><th scope=col>Age</th></tr>\n",
       "\t<tr><th scope=col>&lt;chr&gt;</th><th scope=col>&lt;dbl&gt;</th><th scope=col>&lt;dbl&gt;</th></tr>\n",
       "</thead>\n",
       "<tbody>\n",
       "\t<tr><td>Bipolar</td><td>0.8066190</td><td>12.51277</td></tr>\n",
       "\t<tr><td>Control</td><td>0.7914502</td><td>16.54702</td></tr>\n",
       "\t<tr><td>Schizo </td><td>0.9692700</td><td>14.96908</td></tr>\n",
       "</tbody>\n",
       "</table>\n"
      ],
      "text/latex": [
       "A tibble: 3 × 3\n",
       "\\begin{tabular}{lll}\n",
       " Dx & RIN & Age\\\\\n",
       " <chr> & <dbl> & <dbl>\\\\\n",
       "\\hline\n",
       "\t Bipolar & 0.8066190 & 12.51277\\\\\n",
       "\t Control & 0.7914502 & 16.54702\\\\\n",
       "\t Schizo  & 0.9692700 & 14.96908\\\\\n",
       "\\end{tabular}\n"
      ],
      "text/markdown": [
       "\n",
       "A tibble: 3 × 3\n",
       "\n",
       "| Dx &lt;chr&gt; | RIN &lt;dbl&gt; | Age &lt;dbl&gt; |\n",
       "|---|---|---|\n",
       "| Bipolar | 0.8066190 | 12.51277 |\n",
       "| Control | 0.7914502 | 16.54702 |\n",
       "| Schizo  | 0.9692700 | 14.96908 |\n",
       "\n"
      ],
      "text/plain": [
       "  Dx      RIN       Age     \n",
       "1 Bipolar 0.8066190 12.51277\n",
       "2 Control 0.7914502 16.54702\n",
       "3 Schizo  0.9692700 14.96908"
      ]
     },
     "metadata": {},
     "output_type": "display_data"
    }
   ],
   "source": [
    "df %>% group_by(Dx) %>%\n",
    "    summarise(across(c(\"RIN\", \"Age\"), ~ sd(.x, na.rm = TRUE)))"
   ]
  },
  {
   "cell_type": "markdown",
   "metadata": {},
   "source": [
    "### Expression analysis"
   ]
  },
  {
   "cell_type": "code",
   "execution_count": 13,
   "metadata": {
    "execution": {
     "iopub.execute_input": "2021-08-05T16:10:10.293029Z",
     "iopub.status.busy": "2021-08-05T16:10:10.291783Z",
     "iopub.status.idle": "2021-08-05T16:10:10.312333Z",
     "shell.execute_reply": "2021-08-05T16:10:10.311007Z"
    }
   },
   "outputs": [
    {
     "data": {
      "text/html": [
       "<style>\n",
       ".list-inline {list-style: none; margin:0; padding: 0}\n",
       ".list-inline>li {display: inline-block}\n",
       ".list-inline>li:not(:last-child)::after {content: \"\\00b7\"; padding: 0 .5ex}\n",
       "</style>\n",
       "<ol class=list-inline><li>437</li><li>16</li></ol>\n"
      ],
      "text/latex": [
       "\\begin{enumerate*}\n",
       "\\item 437\n",
       "\\item 16\n",
       "\\end{enumerate*}\n"
      ],
      "text/markdown": [
       "1. 437\n",
       "2. 16\n",
       "\n",
       "\n"
      ],
      "text/plain": [
       "[1] 437  16"
      ]
     },
     "metadata": {},
     "output_type": "display_data"
    }
   ],
   "source": [
    "df2 = df %>% filter(Age > 17)\n",
    "df2 %>% dim"
   ]
  },
  {
   "cell_type": "code",
   "execution_count": 14,
   "metadata": {
    "execution": {
     "iopub.execute_input": "2021-08-05T16:10:10.318479Z",
     "iopub.status.busy": "2021-08-05T16:10:10.317070Z",
     "iopub.status.idle": "2021-08-05T16:10:10.332955Z",
     "shell.execute_reply": "2021-08-05T16:10:10.334050Z"
    }
   },
   "outputs": [
    {
     "name": "stdout",
     "output_type": "stream",
     "text": [
      "[1] \"There are 437 unique BrNum.\"\n"
     ]
    }
   ],
   "source": [
    "print(paste(\"There are\",df2$BrNum %>% unique %>% length, \"unique BrNum.\"))"
   ]
  },
  {
   "cell_type": "code",
   "execution_count": 15,
   "metadata": {
    "execution": {
     "iopub.execute_input": "2021-08-05T16:10:10.340549Z",
     "iopub.status.busy": "2021-08-05T16:10:10.339137Z",
     "iopub.status.idle": "2021-08-05T16:10:10.356215Z",
     "shell.execute_reply": "2021-08-05T16:10:10.354683Z"
    }
   },
   "outputs": [
    {
     "data": {
      "text/plain": [
       "\n",
       "Bipolar Control  Schizo \n",
       "     44     239     154 "
      ]
     },
     "metadata": {},
     "output_type": "display_data"
    }
   ],
   "source": [
    "table(df2$Dx)"
   ]
  },
  {
   "cell_type": "code",
   "execution_count": 16,
   "metadata": {
    "execution": {
     "iopub.execute_input": "2021-08-05T16:10:10.362915Z",
     "iopub.status.busy": "2021-08-05T16:10:10.361520Z",
     "iopub.status.idle": "2021-08-05T16:10:10.377401Z",
     "shell.execute_reply": "2021-08-05T16:10:10.376119Z"
    }
   },
   "outputs": [
    {
     "data": {
      "text/plain": [
       "         \n",
       "            F   M\n",
       "  Bipolar  16  28\n",
       "  Control  71 168\n",
       "  Schizo   50 104"
      ]
     },
     "metadata": {},
     "output_type": "display_data"
    }
   ],
   "source": [
    "table(df2$Dx, df2$Sex)"
   ]
  },
  {
   "cell_type": "code",
   "execution_count": 17,
   "metadata": {
    "execution": {
     "iopub.execute_input": "2021-08-05T16:10:10.383337Z",
     "iopub.status.busy": "2021-08-05T16:10:10.382014Z",
     "iopub.status.idle": "2021-08-05T16:10:10.397811Z",
     "shell.execute_reply": "2021-08-05T16:10:10.396524Z"
    }
   },
   "outputs": [
    {
     "data": {
      "text/plain": [
       "   \n",
       "     AA CAUC\n",
       "  F  78   59\n",
       "  M 131  169"
      ]
     },
     "metadata": {},
     "output_type": "display_data"
    }
   ],
   "source": [
    "table(df2$Sex, df2$Race)"
   ]
  },
  {
   "cell_type": "code",
   "execution_count": 18,
   "metadata": {
    "execution": {
     "iopub.execute_input": "2021-08-05T16:10:10.403838Z",
     "iopub.status.busy": "2021-08-05T16:10:10.402523Z",
     "iopub.status.idle": "2021-08-05T16:10:10.418295Z",
     "shell.execute_reply": "2021-08-05T16:10:10.416978Z"
    }
   },
   "outputs": [
    {
     "data": {
      "text/plain": [
       "\n",
       "  AA CAUC \n",
       " 209  228 "
      ]
     },
     "metadata": {},
     "output_type": "display_data"
    }
   ],
   "source": [
    "table(df2$Race)"
   ]
  },
  {
   "cell_type": "code",
   "execution_count": 19,
   "metadata": {
    "execution": {
     "iopub.execute_input": "2021-08-05T16:10:10.424439Z",
     "iopub.status.busy": "2021-08-05T16:10:10.423195Z",
     "iopub.status.idle": "2021-08-05T16:10:10.439077Z",
     "shell.execute_reply": "2021-08-05T16:10:10.437413Z"
    }
   },
   "outputs": [
    {
     "data": {
      "text/plain": [
       "\n",
       "  F   M \n",
       "137 300 "
      ]
     },
     "metadata": {},
     "output_type": "display_data"
    }
   ],
   "source": [
    "table(df2$Sex)"
   ]
  },
  {
   "cell_type": "markdown",
   "metadata": {},
   "source": [
    "#### Mean"
   ]
  },
  {
   "cell_type": "code",
   "execution_count": 20,
   "metadata": {
    "execution": {
     "iopub.execute_input": "2021-08-05T16:10:10.445288Z",
     "iopub.status.busy": "2021-08-05T16:10:10.444013Z",
     "iopub.status.idle": "2021-08-05T16:10:10.472702Z",
     "shell.execute_reply": "2021-08-05T16:10:10.471407Z"
    }
   },
   "outputs": [
    {
     "data": {
      "text/html": [
       "<table class=\"dataframe\">\n",
       "<caption>A tibble: 3 × 3</caption>\n",
       "<thead>\n",
       "\t<tr><th scope=col>Dx</th><th scope=col>RIN</th><th scope=col>Age</th></tr>\n",
       "\t<tr><th scope=col>&lt;chr&gt;</th><th scope=col>&lt;dbl&gt;</th><th scope=col>&lt;dbl&gt;</th></tr>\n",
       "</thead>\n",
       "<tbody>\n",
       "\t<tr><td>Bipolar</td><td>7.822727</td><td>43.21182</td></tr>\n",
       "\t<tr><td>Control</td><td>7.855649</td><td>48.29879</td></tr>\n",
       "\t<tr><td>Schizo </td><td>7.875974</td><td>51.74896</td></tr>\n",
       "</tbody>\n",
       "</table>\n"
      ],
      "text/latex": [
       "A tibble: 3 × 3\n",
       "\\begin{tabular}{lll}\n",
       " Dx & RIN & Age\\\\\n",
       " <chr> & <dbl> & <dbl>\\\\\n",
       "\\hline\n",
       "\t Bipolar & 7.822727 & 43.21182\\\\\n",
       "\t Control & 7.855649 & 48.29879\\\\\n",
       "\t Schizo  & 7.875974 & 51.74896\\\\\n",
       "\\end{tabular}\n"
      ],
      "text/markdown": [
       "\n",
       "A tibble: 3 × 3\n",
       "\n",
       "| Dx &lt;chr&gt; | RIN &lt;dbl&gt; | Age &lt;dbl&gt; |\n",
       "|---|---|---|\n",
       "| Bipolar | 7.822727 | 43.21182 |\n",
       "| Control | 7.855649 | 48.29879 |\n",
       "| Schizo  | 7.875974 | 51.74896 |\n",
       "\n"
      ],
      "text/plain": [
       "  Dx      RIN      Age     \n",
       "1 Bipolar 7.822727 43.21182\n",
       "2 Control 7.855649 48.29879\n",
       "3 Schizo  7.875974 51.74896"
      ]
     },
     "metadata": {},
     "output_type": "display_data"
    }
   ],
   "source": [
    "df2 %>% group_by(Dx) %>%\n",
    "    summarise(across(c(\"RIN\", \"Age\"), ~ mean(.x, na.rm = TRUE)))"
   ]
  },
  {
   "cell_type": "markdown",
   "metadata": {},
   "source": [
    "#### Median"
   ]
  },
  {
   "cell_type": "code",
   "execution_count": 21,
   "metadata": {
    "execution": {
     "iopub.execute_input": "2021-08-05T16:10:10.478859Z",
     "iopub.status.busy": "2021-08-05T16:10:10.477535Z",
     "iopub.status.idle": "2021-08-05T16:10:10.506107Z",
     "shell.execute_reply": "2021-08-05T16:10:10.504809Z"
    }
   },
   "outputs": [
    {
     "data": {
      "text/html": [
       "<table class=\"dataframe\">\n",
       "<caption>A tibble: 3 × 3</caption>\n",
       "<thead>\n",
       "\t<tr><th scope=col>Dx</th><th scope=col>RIN</th><th scope=col>Age</th></tr>\n",
       "\t<tr><th scope=col>&lt;chr&gt;</th><th scope=col>&lt;dbl&gt;</th><th scope=col>&lt;dbl&gt;</th></tr>\n",
       "</thead>\n",
       "<tbody>\n",
       "\t<tr><td>Bipolar</td><td>7.65</td><td>44.785</td></tr>\n",
       "\t<tr><td>Control</td><td>7.80</td><td>48.770</td></tr>\n",
       "\t<tr><td>Schizo </td><td>7.90</td><td>51.970</td></tr>\n",
       "</tbody>\n",
       "</table>\n"
      ],
      "text/latex": [
       "A tibble: 3 × 3\n",
       "\\begin{tabular}{lll}\n",
       " Dx & RIN & Age\\\\\n",
       " <chr> & <dbl> & <dbl>\\\\\n",
       "\\hline\n",
       "\t Bipolar & 7.65 & 44.785\\\\\n",
       "\t Control & 7.80 & 48.770\\\\\n",
       "\t Schizo  & 7.90 & 51.970\\\\\n",
       "\\end{tabular}\n"
      ],
      "text/markdown": [
       "\n",
       "A tibble: 3 × 3\n",
       "\n",
       "| Dx &lt;chr&gt; | RIN &lt;dbl&gt; | Age &lt;dbl&gt; |\n",
       "|---|---|---|\n",
       "| Bipolar | 7.65 | 44.785 |\n",
       "| Control | 7.80 | 48.770 |\n",
       "| Schizo  | 7.90 | 51.970 |\n",
       "\n"
      ],
      "text/plain": [
       "  Dx      RIN  Age   \n",
       "1 Bipolar 7.65 44.785\n",
       "2 Control 7.80 48.770\n",
       "3 Schizo  7.90 51.970"
      ]
     },
     "metadata": {},
     "output_type": "display_data"
    }
   ],
   "source": [
    "df2 %>% group_by(Dx) %>%\n",
    "    summarise(across(c(\"RIN\", \"Age\"), ~ median(.x, na.rm = TRUE)))"
   ]
  },
  {
   "cell_type": "markdown",
   "metadata": {},
   "source": [
    "#### Standard deviation"
   ]
  },
  {
   "cell_type": "code",
   "execution_count": 22,
   "metadata": {
    "execution": {
     "iopub.execute_input": "2021-08-05T16:10:10.512210Z",
     "iopub.status.busy": "2021-08-05T16:10:10.510880Z",
     "iopub.status.idle": "2021-08-05T16:10:10.538961Z",
     "shell.execute_reply": "2021-08-05T16:10:10.537653Z"
    }
   },
   "outputs": [
    {
     "data": {
      "text/html": [
       "<table class=\"dataframe\">\n",
       "<caption>A tibble: 3 × 3</caption>\n",
       "<thead>\n",
       "\t<tr><th scope=col>Dx</th><th scope=col>RIN</th><th scope=col>Age</th></tr>\n",
       "\t<tr><th scope=col>&lt;chr&gt;</th><th scope=col>&lt;dbl&gt;</th><th scope=col>&lt;dbl&gt;</th></tr>\n",
       "</thead>\n",
       "<tbody>\n",
       "\t<tr><td>Bipolar</td><td>0.8066190</td><td>12.51277</td></tr>\n",
       "\t<tr><td>Control</td><td>0.7925331</td><td>15.87895</td></tr>\n",
       "\t<tr><td>Schizo </td><td>0.9692700</td><td>14.96908</td></tr>\n",
       "</tbody>\n",
       "</table>\n"
      ],
      "text/latex": [
       "A tibble: 3 × 3\n",
       "\\begin{tabular}{lll}\n",
       " Dx & RIN & Age\\\\\n",
       " <chr> & <dbl> & <dbl>\\\\\n",
       "\\hline\n",
       "\t Bipolar & 0.8066190 & 12.51277\\\\\n",
       "\t Control & 0.7925331 & 15.87895\\\\\n",
       "\t Schizo  & 0.9692700 & 14.96908\\\\\n",
       "\\end{tabular}\n"
      ],
      "text/markdown": [
       "\n",
       "A tibble: 3 × 3\n",
       "\n",
       "| Dx &lt;chr&gt; | RIN &lt;dbl&gt; | Age &lt;dbl&gt; |\n",
       "|---|---|---|\n",
       "| Bipolar | 0.8066190 | 12.51277 |\n",
       "| Control | 0.7925331 | 15.87895 |\n",
       "| Schizo  | 0.9692700 | 14.96908 |\n",
       "\n"
      ],
      "text/plain": [
       "  Dx      RIN       Age     \n",
       "1 Bipolar 0.8066190 12.51277\n",
       "2 Control 0.7925331 15.87895\n",
       "3 Schizo  0.9692700 14.96908"
      ]
     },
     "metadata": {},
     "output_type": "display_data"
    }
   ],
   "source": [
    "df2 %>% group_by(Dx) %>%\n",
    "    summarise(across(c(\"RIN\", \"Age\"), ~ sd(.x, na.rm = TRUE)))"
   ]
  },
  {
   "cell_type": "markdown",
   "metadata": {},
   "source": [
    "## Reproducibility Information"
   ]
  },
  {
   "cell_type": "code",
   "execution_count": 23,
   "metadata": {
    "execution": {
     "iopub.execute_input": "2021-08-05T16:10:10.545121Z",
     "iopub.status.busy": "2021-08-05T16:10:10.543775Z",
     "iopub.status.idle": "2021-08-05T16:10:10.888716Z",
     "shell.execute_reply": "2021-08-05T16:10:10.887405Z"
    }
   },
   "outputs": [
    {
     "data": {
      "text/plain": [
       "[1] \"2021-08-05 12:10:10 EDT\""
      ]
     },
     "metadata": {},
     "output_type": "display_data"
    },
    {
     "data": {
      "text/plain": [
       "   user  system elapsed \n",
       " 12.346   0.617  13.288 "
      ]
     },
     "metadata": {},
     "output_type": "display_data"
    },
    {
     "data": {
      "text/plain": [
       "─ Session info ───────────────────────────────────────────────────────────────────────────────────────────────────────\n",
       " setting  value                       \n",
       " version  R version 4.0.3 (2020-10-10)\n",
       " os       Arch Linux                  \n",
       " system   x86_64, linux-gnu           \n",
       " ui       X11                         \n",
       " language (EN)                        \n",
       " collate  en_US.UTF-8                 \n",
       " ctype    en_US.UTF-8                 \n",
       " tz       America/New_York            \n",
       " date     2021-08-05                  \n",
       "\n",
       "─ Packages ───────────────────────────────────────────────────────────────────────────────────────────────────────────\n",
       " package              * version  date       lib source                                   \n",
       " assertthat             0.2.1    2019-03-21 [1] CRAN (R 4.0.2)                           \n",
       " base64enc              0.1-3    2015-07-28 [1] CRAN (R 4.0.2)                           \n",
       " Biobase              * 2.50.0   2020-10-27 [1] Bioconductor                             \n",
       " BiocGenerics         * 0.36.1   2021-04-16 [1] Bioconductor                             \n",
       " bitops                 1.0-7    2021-04-24 [1] CRAN (R 4.0.3)                           \n",
       " cachem                 1.0.5    2021-05-15 [1] CRAN (R 4.0.3)                           \n",
       " cli                    3.0.0    2021-06-30 [1] CRAN (R 4.0.3)                           \n",
       " crayon                 1.4.1    2021-02-08 [1] CRAN (R 4.0.3)                           \n",
       " data.table             1.14.0   2021-02-21 [1] CRAN (R 4.0.3)                           \n",
       " DBI                    1.1.1    2021-01-15 [1] CRAN (R 4.0.2)                           \n",
       " DelayedArray           0.16.3   2021-03-24 [1] Bioconductor                             \n",
       " digest                 0.6.27   2020-10-24 [1] CRAN (R 4.0.2)                           \n",
       " dplyr                * 1.0.7    2021-06-18 [1] CRAN (R 4.0.3)                           \n",
       " ellipsis               0.3.2    2021-04-29 [1] CRAN (R 4.0.3)                           \n",
       " evaluate               0.14     2019-05-28 [1] CRAN (R 4.0.2)                           \n",
       " fansi                  0.5.0    2021-05-25 [1] CRAN (R 4.0.3)                           \n",
       " fastmap                1.1.0    2021-01-25 [1] CRAN (R 4.0.2)                           \n",
       " fs                     1.5.0    2020-07-31 [1] CRAN (R 4.0.2)                           \n",
       " gargle                 1.2.0    2021-07-02 [1] CRAN (R 4.0.3)                           \n",
       " generics               0.1.0    2020-10-31 [1] CRAN (R 4.0.2)                           \n",
       " GenomeInfoDb         * 1.26.7   2021-04-08 [1] Bioconductor                             \n",
       " GenomeInfoDbData       1.2.4    2021-02-02 [1] Bioconductor                             \n",
       " GenomicRanges        * 1.42.0   2020-10-27 [1] Bioconductor                             \n",
       " glue                   1.4.2    2020-08-27 [1] CRAN (R 4.0.2)                           \n",
       " googledrive            2.0.0    2021-07-08 [1] CRAN (R 4.0.3)                           \n",
       " htmltools              0.5.1.1  2021-01-22 [1] CRAN (R 4.0.2)                           \n",
       " IRanges              * 2.24.1   2020-12-12 [1] Bioconductor                             \n",
       " IRdisplay              1.0      2021-01-20 [1] CRAN (R 4.0.2)                           \n",
       " IRkernel               1.2      2021-05-11 [1] CRAN (R 4.0.3)                           \n",
       " jaffelab               0.99.30  2021-02-02 [1] Github (LieberInstitute/jaffelab@42637ff)\n",
       " jsonlite               1.7.2    2020-12-09 [1] CRAN (R 4.0.2)                           \n",
       " lattice                0.20-41  2020-04-02 [2] CRAN (R 4.0.3)                           \n",
       " lifecycle              1.0.0    2021-02-15 [1] CRAN (R 4.0.3)                           \n",
       " limma                  3.46.0   2020-10-27 [1] Bioconductor                             \n",
       " magrittr               2.0.1    2020-11-17 [1] CRAN (R 4.0.2)                           \n",
       " Matrix                 1.3-4    2021-06-01 [1] CRAN (R 4.0.3)                           \n",
       " MatrixGenerics       * 1.2.1    2021-01-30 [1] Bioconductor                             \n",
       " matrixStats          * 0.59.0   2021-06-01 [1] CRAN (R 4.0.3)                           \n",
       " memoise                2.0.0    2021-01-26 [1] CRAN (R 4.0.2)                           \n",
       " pbdZMQ                 0.3-5    2021-02-10 [1] CRAN (R 4.0.3)                           \n",
       " pillar                 1.6.1    2021-05-16 [1] CRAN (R 4.0.3)                           \n",
       " pkgconfig              2.0.3    2019-09-22 [1] CRAN (R 4.0.2)                           \n",
       " purrr                  0.3.4    2020-04-17 [1] CRAN (R 4.0.2)                           \n",
       " R6                     2.5.0    2020-10-28 [1] CRAN (R 4.0.2)                           \n",
       " rafalib                1.0.2    2021-04-26 [1] Github (ririzarr/rafalib@2580666)        \n",
       " RColorBrewer           1.1-2    2014-12-07 [1] CRAN (R 4.0.2)                           \n",
       " RCurl                  1.98-1.3 2021-03-16 [1] CRAN (R 4.0.3)                           \n",
       " repr                   1.1.3    2021-01-21 [1] CRAN (R 4.0.2)                           \n",
       " rlang                  0.4.11   2021-04-30 [1] CRAN (R 4.0.3)                           \n",
       " S4Vectors            * 0.28.1   2020-12-09 [1] Bioconductor                             \n",
       " segmented              1.3-4    2021-04-22 [1] CRAN (R 4.0.3)                           \n",
       " sessioninfo            1.1.1    2018-11-05 [1] CRAN (R 4.0.2)                           \n",
       " SummarizedExperiment * 1.20.0   2020-10-27 [1] Bioconductor                             \n",
       " tibble                 3.1.2    2021-05-16 [1] CRAN (R 4.0.3)                           \n",
       " tidyselect             1.1.1    2021-04-30 [1] CRAN (R 4.0.3)                           \n",
       " utf8                   1.2.1    2021-03-12 [1] CRAN (R 4.0.3)                           \n",
       " uuid                   0.1-4    2020-02-26 [1] CRAN (R 4.0.2)                           \n",
       " vctrs                  0.3.8    2021-04-29 [1] CRAN (R 4.0.3)                           \n",
       " withr                  2.4.2    2021-04-18 [1] CRAN (R 4.0.3)                           \n",
       " XVector                0.30.0   2020-10-27 [1] Bioconductor                             \n",
       " zlibbioc               1.36.0   2020-10-27 [1] Bioconductor                             \n",
       "\n",
       "[1] /home/jbenja13/R/x86_64-pc-linux-gnu-library/4.0\n",
       "[2] /usr/lib/R/library"
      ]
     },
     "metadata": {},
     "output_type": "display_data"
    }
   ],
   "source": [
    "Sys.time()\n",
    "proc.time()\n",
    "options(width = 120)\n",
    "sessioninfo::session_info()"
   ]
  }
 ],
 "metadata": {
  "kernelspec": {
   "display_name": "R",
   "language": "R",
   "name": "ir"
  },
  "language_info": {
   "codemirror_mode": "r",
   "file_extension": ".r",
   "mimetype": "text/x-r-source",
   "name": "R",
   "pygments_lexer": "r",
   "version": "4.0.3"
  }
 },
 "nbformat": 4,
 "nbformat_minor": 4
}
